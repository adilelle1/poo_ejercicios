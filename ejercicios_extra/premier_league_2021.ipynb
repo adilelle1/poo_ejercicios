{
 "cells": [
  {
   "cell_type": "code",
   "execution_count": 3,
   "outputs": [
    {
     "data": {
      "text/plain": "'C:\\\\Users\\\\alejo\\\\UCEMA\\\\poo_teorica\\\\poo_ejercicios\\\\ejercicios_extra'"
     },
     "execution_count": 3,
     "metadata": {},
     "output_type": "execute_result"
    }
   ],
   "source": [
    "%pwd"
   ],
   "metadata": {
    "collapsed": false,
    "pycharm": {
     "name": "#%%\n"
    }
   }
  },
  {
   "cell_type": "code",
   "execution_count": 2,
   "metadata": {
    "collapsed": true,
    "pycharm": {
     "name": "#%%\n"
    }
   },
   "outputs": [],
   "source": [
    "import pandas as pd\n",
    "import matplotlib as plt\n",
    "import numpy as np"
   ]
  },
  {
   "cell_type": "code",
   "execution_count": 3,
   "outputs": [
    {
     "data": {
      "text/plain": "                 Player                     Team   Nation    Pos   Age  MP  \\\n0           Bukayo Saka                  Arsenal  eng ENG  FW,MF  19.0  38   \n1    Gabriel Dos Santos                  Arsenal   br BRA     DF  23.0  35   \n2        Aaron Ramsdale                  Arsenal  eng ENG     GK  23.0  34   \n3             Ben White                  Arsenal  eng ENG     DF  23.0  32   \n4       Martin Ødegaard                  Arsenal   no NOR     MF  22.0  36   \n..                  ...                      ...      ...    ...   ...  ..   \n686   Christian Marques  Wolverhampton Wanderers   ch SUI     DF  18.0   0   \n687     Yerson Mosquera  Wolverhampton Wanderers   co COL     DF  20.0   0   \n688       Louie Moulden  Wolverhampton Wanderers  eng ENG     GK  19.0   0   \n689      Dion Sanderson  Wolverhampton Wanderers  eng ENG     DF  21.0   0   \n690        James Storer  Wolverhampton Wanderers      NaN     GK   NaN   0   \n\n     Starts    Min   90s   Gls  ...  G+A-PK   xG  npxG   xA  npxG+xA  xG.1  \\\n0        36  2,978  33.1  11.0  ...    0.48  9.7   8.2  6.9     15.2  0.29   \n1        35  3,063  34.0   5.0  ...    0.15  2.7   2.7  0.8      3.5  0.08   \n2        34  3,060  34.0   0.0  ...    0.00  0.0   0.0  0.0      0.0  0.00   \n3        32  2,880  32.0   0.0  ...    0.00  1.0   1.0  0.6      1.6  0.03   \n4        32  2,785  30.9   7.0  ...    0.36  4.8   4.8  6.8     11.6  0.16   \n..      ...    ...   ...   ...  ...     ...  ...   ...  ...      ...   ...   \n686       0    NaN   NaN   NaN  ...     NaN  NaN   NaN  NaN      NaN   NaN   \n687       0    NaN   NaN   NaN  ...     NaN  NaN   NaN  NaN      NaN   NaN   \n688       0    NaN   NaN   NaN  ...     NaN  NaN   NaN  NaN      NaN   NaN   \n689       0    NaN   NaN   NaN  ...     NaN  NaN   NaN  NaN      NaN   NaN   \n690       0    NaN   NaN   NaN  ...     NaN  NaN   NaN  NaN      NaN   NaN   \n\n     xA.1  xG+xA  npxG.1  npxG+xA.1  \n0    0.21   0.50    0.25       0.46  \n1    0.02   0.10    0.08       0.10  \n2    0.00   0.00    0.00       0.00  \n3    0.02   0.05    0.03       0.05  \n4    0.22   0.38    0.16       0.38  \n..    ...    ...     ...        ...  \n686   NaN    NaN     NaN        NaN  \n687   NaN    NaN     NaN        NaN  \n688   NaN    NaN     NaN        NaN  \n689   NaN    NaN     NaN        NaN  \n690   NaN    NaN     NaN        NaN  \n\n[691 rows x 30 columns]",
      "text/html": "<div>\n<style scoped>\n    .dataframe tbody tr th:only-of-type {\n        vertical-align: middle;\n    }\n\n    .dataframe tbody tr th {\n        vertical-align: top;\n    }\n\n    .dataframe thead th {\n        text-align: right;\n    }\n</style>\n<table border=\"1\" class=\"dataframe\">\n  <thead>\n    <tr style=\"text-align: right;\">\n      <th></th>\n      <th>Player</th>\n      <th>Team</th>\n      <th>Nation</th>\n      <th>Pos</th>\n      <th>Age</th>\n      <th>MP</th>\n      <th>Starts</th>\n      <th>Min</th>\n      <th>90s</th>\n      <th>Gls</th>\n      <th>...</th>\n      <th>G+A-PK</th>\n      <th>xG</th>\n      <th>npxG</th>\n      <th>xA</th>\n      <th>npxG+xA</th>\n      <th>xG.1</th>\n      <th>xA.1</th>\n      <th>xG+xA</th>\n      <th>npxG.1</th>\n      <th>npxG+xA.1</th>\n    </tr>\n  </thead>\n  <tbody>\n    <tr>\n      <th>0</th>\n      <td>Bukayo Saka</td>\n      <td>Arsenal</td>\n      <td>eng ENG</td>\n      <td>FW,MF</td>\n      <td>19.0</td>\n      <td>38</td>\n      <td>36</td>\n      <td>2,978</td>\n      <td>33.1</td>\n      <td>11.0</td>\n      <td>...</td>\n      <td>0.48</td>\n      <td>9.7</td>\n      <td>8.2</td>\n      <td>6.9</td>\n      <td>15.2</td>\n      <td>0.29</td>\n      <td>0.21</td>\n      <td>0.50</td>\n      <td>0.25</td>\n      <td>0.46</td>\n    </tr>\n    <tr>\n      <th>1</th>\n      <td>Gabriel Dos Santos</td>\n      <td>Arsenal</td>\n      <td>br BRA</td>\n      <td>DF</td>\n      <td>23.0</td>\n      <td>35</td>\n      <td>35</td>\n      <td>3,063</td>\n      <td>34.0</td>\n      <td>5.0</td>\n      <td>...</td>\n      <td>0.15</td>\n      <td>2.7</td>\n      <td>2.7</td>\n      <td>0.8</td>\n      <td>3.5</td>\n      <td>0.08</td>\n      <td>0.02</td>\n      <td>0.10</td>\n      <td>0.08</td>\n      <td>0.10</td>\n    </tr>\n    <tr>\n      <th>2</th>\n      <td>Aaron Ramsdale</td>\n      <td>Arsenal</td>\n      <td>eng ENG</td>\n      <td>GK</td>\n      <td>23.0</td>\n      <td>34</td>\n      <td>34</td>\n      <td>3,060</td>\n      <td>34.0</td>\n      <td>0.0</td>\n      <td>...</td>\n      <td>0.00</td>\n      <td>0.0</td>\n      <td>0.0</td>\n      <td>0.0</td>\n      <td>0.0</td>\n      <td>0.00</td>\n      <td>0.00</td>\n      <td>0.00</td>\n      <td>0.00</td>\n      <td>0.00</td>\n    </tr>\n    <tr>\n      <th>3</th>\n      <td>Ben White</td>\n      <td>Arsenal</td>\n      <td>eng ENG</td>\n      <td>DF</td>\n      <td>23.0</td>\n      <td>32</td>\n      <td>32</td>\n      <td>2,880</td>\n      <td>32.0</td>\n      <td>0.0</td>\n      <td>...</td>\n      <td>0.00</td>\n      <td>1.0</td>\n      <td>1.0</td>\n      <td>0.6</td>\n      <td>1.6</td>\n      <td>0.03</td>\n      <td>0.02</td>\n      <td>0.05</td>\n      <td>0.03</td>\n      <td>0.05</td>\n    </tr>\n    <tr>\n      <th>4</th>\n      <td>Martin Ødegaard</td>\n      <td>Arsenal</td>\n      <td>no NOR</td>\n      <td>MF</td>\n      <td>22.0</td>\n      <td>36</td>\n      <td>32</td>\n      <td>2,785</td>\n      <td>30.9</td>\n      <td>7.0</td>\n      <td>...</td>\n      <td>0.36</td>\n      <td>4.8</td>\n      <td>4.8</td>\n      <td>6.8</td>\n      <td>11.6</td>\n      <td>0.16</td>\n      <td>0.22</td>\n      <td>0.38</td>\n      <td>0.16</td>\n      <td>0.38</td>\n    </tr>\n    <tr>\n      <th>...</th>\n      <td>...</td>\n      <td>...</td>\n      <td>...</td>\n      <td>...</td>\n      <td>...</td>\n      <td>...</td>\n      <td>...</td>\n      <td>...</td>\n      <td>...</td>\n      <td>...</td>\n      <td>...</td>\n      <td>...</td>\n      <td>...</td>\n      <td>...</td>\n      <td>...</td>\n      <td>...</td>\n      <td>...</td>\n      <td>...</td>\n      <td>...</td>\n      <td>...</td>\n      <td>...</td>\n    </tr>\n    <tr>\n      <th>686</th>\n      <td>Christian Marques</td>\n      <td>Wolverhampton Wanderers</td>\n      <td>ch SUI</td>\n      <td>DF</td>\n      <td>18.0</td>\n      <td>0</td>\n      <td>0</td>\n      <td>NaN</td>\n      <td>NaN</td>\n      <td>NaN</td>\n      <td>...</td>\n      <td>NaN</td>\n      <td>NaN</td>\n      <td>NaN</td>\n      <td>NaN</td>\n      <td>NaN</td>\n      <td>NaN</td>\n      <td>NaN</td>\n      <td>NaN</td>\n      <td>NaN</td>\n      <td>NaN</td>\n    </tr>\n    <tr>\n      <th>687</th>\n      <td>Yerson Mosquera</td>\n      <td>Wolverhampton Wanderers</td>\n      <td>co COL</td>\n      <td>DF</td>\n      <td>20.0</td>\n      <td>0</td>\n      <td>0</td>\n      <td>NaN</td>\n      <td>NaN</td>\n      <td>NaN</td>\n      <td>...</td>\n      <td>NaN</td>\n      <td>NaN</td>\n      <td>NaN</td>\n      <td>NaN</td>\n      <td>NaN</td>\n      <td>NaN</td>\n      <td>NaN</td>\n      <td>NaN</td>\n      <td>NaN</td>\n      <td>NaN</td>\n    </tr>\n    <tr>\n      <th>688</th>\n      <td>Louie Moulden</td>\n      <td>Wolverhampton Wanderers</td>\n      <td>eng ENG</td>\n      <td>GK</td>\n      <td>19.0</td>\n      <td>0</td>\n      <td>0</td>\n      <td>NaN</td>\n      <td>NaN</td>\n      <td>NaN</td>\n      <td>...</td>\n      <td>NaN</td>\n      <td>NaN</td>\n      <td>NaN</td>\n      <td>NaN</td>\n      <td>NaN</td>\n      <td>NaN</td>\n      <td>NaN</td>\n      <td>NaN</td>\n      <td>NaN</td>\n      <td>NaN</td>\n    </tr>\n    <tr>\n      <th>689</th>\n      <td>Dion Sanderson</td>\n      <td>Wolverhampton Wanderers</td>\n      <td>eng ENG</td>\n      <td>DF</td>\n      <td>21.0</td>\n      <td>0</td>\n      <td>0</td>\n      <td>NaN</td>\n      <td>NaN</td>\n      <td>NaN</td>\n      <td>...</td>\n      <td>NaN</td>\n      <td>NaN</td>\n      <td>NaN</td>\n      <td>NaN</td>\n      <td>NaN</td>\n      <td>NaN</td>\n      <td>NaN</td>\n      <td>NaN</td>\n      <td>NaN</td>\n      <td>NaN</td>\n    </tr>\n    <tr>\n      <th>690</th>\n      <td>James Storer</td>\n      <td>Wolverhampton Wanderers</td>\n      <td>NaN</td>\n      <td>GK</td>\n      <td>NaN</td>\n      <td>0</td>\n      <td>0</td>\n      <td>NaN</td>\n      <td>NaN</td>\n      <td>NaN</td>\n      <td>...</td>\n      <td>NaN</td>\n      <td>NaN</td>\n      <td>NaN</td>\n      <td>NaN</td>\n      <td>NaN</td>\n      <td>NaN</td>\n      <td>NaN</td>\n      <td>NaN</td>\n      <td>NaN</td>\n      <td>NaN</td>\n    </tr>\n  </tbody>\n</table>\n<p>691 rows × 30 columns</p>\n</div>"
     },
     "execution_count": 3,
     "metadata": {},
     "output_type": "execute_result"
    }
   ],
   "source": [
    "df= pd.read_csv('../data_extra/../data_extra/Football Players Stats (Premier League 2021-2022).csv', delimiter= ',', encoding='ISO-8859-1')\n",
    "df"
   ],
   "metadata": {
    "collapsed": false,
    "pycharm": {
     "name": "#%%\n"
    }
   }
  },
  {
   "cell_type": "code",
   "execution_count": 4,
   "outputs": [
    {
     "name": "stdout",
     "output_type": "stream",
     "text": [
      "SHAPE:\n",
      "\n",
      "(691, 30)\n",
      "------------------\n",
      "\n",
      "COLUMNS:\n",
      "\n",
      "Index(['Player', 'Team', 'Nation', 'Pos', 'Age', 'MP', 'Starts', 'Min', '90s',\n",
      "       'Gls', 'Ast', 'G-PK', 'PK', 'PKatt', 'CrdY', 'CrdR', 'Gls.1', 'Ast.1',\n",
      "       'G+A', 'G-PK.1', 'G+A-PK', 'xG', 'npxG', 'xA', 'npxG+xA', 'xG.1',\n",
      "       'xA.1', 'xG+xA', 'npxG.1', 'npxG+xA.1'],\n",
      "      dtype='object')\n",
      "------------------\n",
      "\n",
      "COLUMNS DATA TYPE:\n",
      "\n",
      "Player        object\n",
      "Team          object\n",
      "Nation        object\n",
      "Pos           object\n",
      "Age          float64\n",
      "MP             int64\n",
      "Starts         int64\n",
      "Min           object\n",
      "90s          float64\n",
      "Gls          float64\n",
      "Ast          float64\n",
      "G-PK         float64\n",
      "PK           float64\n",
      "PKatt        float64\n",
      "CrdY         float64\n",
      "CrdR         float64\n",
      "Gls.1        float64\n",
      "Ast.1        float64\n",
      "G+A          float64\n",
      "G-PK.1       float64\n",
      "G+A-PK       float64\n",
      "xG           float64\n",
      "npxG         float64\n",
      "xA           float64\n",
      "npxG+xA      float64\n",
      "xG.1         float64\n",
      "xA.1         float64\n",
      "xG+xA        float64\n",
      "npxG.1       float64\n",
      "npxG+xA.1    float64\n",
      "dtype: object\n",
      "------------------\n",
      "\n",
      "DESCRIBE:\n",
      "\n",
      "          Age      MP  Starts     90s     Gls     Ast    G-PK      PK   PKatt  \\\n",
      "count  687.00  691.00  691.00  547.00  547.00  547.00  547.00  547.00  547.00   \n",
      "mean    24.49   15.17   12.10   15.26    1.90    1.36    1.74    0.15    0.19   \n",
      "std      4.90   12.95   12.06   11.26    3.26    2.04    2.93    0.68    0.79   \n",
      "min     15.00    0.00    0.00    0.00    0.00    0.00    0.00    0.00    0.00   \n",
      "25%     20.00    1.00    0.00    4.35    0.00    0.00    0.00    0.00    0.00   \n",
      "50%     24.00   14.00    9.00   14.70    1.00    1.00    1.00    0.00    0.00   \n",
      "75%     28.00   28.00   22.00   23.90    2.00    2.00    2.00    0.00    0.00   \n",
      "max     39.00   38.00   38.00   38.00   23.00   13.00   23.00    6.00    7.00   \n",
      "\n",
      "         CrdY  ...  G+A-PK      xG    npxG      xA  npxG+xA    xG.1    xA.1  \\\n",
      "count  547.00  ...  546.00  546.00  546.00  546.00   546.00  546.00  546.00   \n",
      "mean     2.45  ...    0.20    1.93    1.78    1.30     3.09    0.14    0.09   \n",
      "std      2.56  ...    0.54    2.98    2.67    1.71     4.06    0.26    0.30   \n",
      "min      0.00  ...    0.00    0.00    0.00    0.00     0.00    0.00    0.00   \n",
      "25%      0.00  ...    0.00    0.10    0.10    0.10     0.30    0.02    0.01   \n",
      "50%      2.00  ...    0.10    0.80    0.75    0.65     1.60    0.06    0.06   \n",
      "75%      4.00  ...    0.28    2.50    2.40    1.90     4.30    0.17    0.12   \n",
      "max     11.00  ...   11.25   21.80   17.10   11.20    27.40    4.48    6.50   \n",
      "\n",
      "        xG+xA  npxG.1  npxG+xA.1  \n",
      "count  546.00  546.00     546.00  \n",
      "mean     0.23    0.13       0.22  \n",
      "std      0.41    0.25       0.40  \n",
      "min      0.00    0.00       0.00  \n",
      "25%      0.05    0.01       0.05  \n",
      "50%      0.13    0.06       0.13  \n",
      "75%      0.33    0.16       0.31  \n",
      "max      6.50    4.48       6.50  \n",
      "\n",
      "[8 rows x 25 columns]\n",
      "------------------\n",
      "\n",
      "COUNT:\n",
      "\n",
      "Player       691\n",
      "Team         691\n",
      "Nation       688\n",
      "Pos          691\n",
      "Age          687\n",
      "MP           691\n",
      "Starts       691\n",
      "Min          546\n",
      "90s          547\n",
      "Gls          547\n",
      "Ast          547\n",
      "G-PK         547\n",
      "PK           547\n",
      "PKatt        547\n",
      "CrdY         547\n",
      "CrdR         547\n",
      "Gls.1        546\n",
      "Ast.1        546\n",
      "G+A          546\n",
      "G-PK.1       546\n",
      "G+A-PK       546\n",
      "xG           546\n",
      "npxG         546\n",
      "xA           546\n",
      "npxG+xA      546\n",
      "xG.1         546\n",
      "xA.1         546\n",
      "xG+xA        546\n",
      "npxG.1       546\n",
      "npxG+xA.1    546\n",
      "dtype: int64\n",
      "------------------\n",
      "\n",
      "2 ROW SAMPLE:\n",
      "\n",
      "                Player               Team  Nation Pos   Age  MP  Starts  \\\n",
      "560    Cristian Romero  Tottenham Hotspur  ar ARG  DF  23.0  22      21   \n",
      "97   Christian Eriksen          Brentford  dk DEN  MF  29.0  11      10   \n",
      "\n",
      "       Min   90s  Gls  ...  G+A-PK   xG  npxG   xA  npxG+xA  xG.1  xA.1  \\\n",
      "560  1,844  20.5  1.0  ...    0.05  0.7   0.7  0.5      1.1  0.03  0.02   \n",
      "97     939  10.4  1.0  ...    0.48  1.4   1.4  3.6      5.0  0.14  0.34   \n",
      "\n",
      "     xG+xA  npxG.1  npxG+xA.1  \n",
      "560   0.05    0.03       0.05  \n",
      "97    0.48    0.14       0.48  \n",
      "\n",
      "[2 rows x 30 columns]\n",
      "------------------\n",
      "\n"
     ]
    }
   ],
   "source": [
    "print(f'SHAPE:\\n\\n{df.shape}')\n",
    "print(f'------------------\\n')\n",
    "print(f'COLUMNS:\\n\\n{df.columns}')\n",
    "print(f'------------------\\n')\n",
    "print(f'COLUMNS DATA TYPE:\\n\\n{df.dtypes}')\n",
    "print(f'------------------\\n')\n",
    "print(f'DESCRIBE:\\n\\n{df.describe().round(2)}')\n",
    "print(f'------------------\\n')\n",
    "print(f'COUNT:\\n\\n{df.count()}')\n",
    "print(f'------------------\\n')\n",
    "print(f'2 ROW SAMPLE:\\n\\n{df.sample(2)}')\n",
    "print(f'------------------\\n')"
   ],
   "metadata": {
    "collapsed": false,
    "pycharm": {
     "name": "#%%\n"
    }
   }
  },
  {
   "cell_type": "code",
   "execution_count": 5,
   "outputs": [
    {
     "data": {
      "text/plain": "Int64Index([ 27,  28,  29,  30,  31,  32,  33,  34,  35,  36,\n            ...\n            655, 656, 683, 684, 685, 686, 687, 688, 689, 690],\n           dtype='int64', length=145)"
     },
     "execution_count": 5,
     "metadata": {},
     "output_type": "execute_result"
    }
   ],
   "source": [
    "df[df.Min.isna()].index"
   ],
   "metadata": {
    "collapsed": false,
    "pycharm": {
     "name": "#%%\n"
    }
   }
  },
  {
   "cell_type": "code",
   "execution_count": 6,
   "outputs": [],
   "source": [
    "df.drop(index=df[df.Min.isna()].index,inplace=True)"
   ],
   "metadata": {
    "collapsed": false,
    "pycharm": {
     "name": "#%%\n"
    }
   }
  },
  {
   "cell_type": "code",
   "execution_count": 7,
   "outputs": [
    {
     "data": {
      "text/plain": "Empty DataFrame\nColumns: [Player, Team, Nation, Pos, Age, MP, Starts, Min, 90s, Gls, Ast, G-PK, PK, PKatt, CrdY, CrdR, Gls.1, Ast.1, G+A, G-PK.1, G+A-PK, xG, npxG, xA, npxG+xA, xG.1, xA.1, xG+xA, npxG.1, npxG+xA.1]\nIndex: []\n\n[0 rows x 30 columns]",
      "text/html": "<div>\n<style scoped>\n    .dataframe tbody tr th:only-of-type {\n        vertical-align: middle;\n    }\n\n    .dataframe tbody tr th {\n        vertical-align: top;\n    }\n\n    .dataframe thead th {\n        text-align: right;\n    }\n</style>\n<table border=\"1\" class=\"dataframe\">\n  <thead>\n    <tr style=\"text-align: right;\">\n      <th></th>\n      <th>Player</th>\n      <th>Team</th>\n      <th>Nation</th>\n      <th>Pos</th>\n      <th>Age</th>\n      <th>MP</th>\n      <th>Starts</th>\n      <th>Min</th>\n      <th>90s</th>\n      <th>Gls</th>\n      <th>...</th>\n      <th>G+A-PK</th>\n      <th>xG</th>\n      <th>npxG</th>\n      <th>xA</th>\n      <th>npxG+xA</th>\n      <th>xG.1</th>\n      <th>xA.1</th>\n      <th>xG+xA</th>\n      <th>npxG.1</th>\n      <th>npxG+xA.1</th>\n    </tr>\n  </thead>\n  <tbody>\n  </tbody>\n</table>\n<p>0 rows × 30 columns</p>\n</div>"
     },
     "execution_count": 7,
     "metadata": {},
     "output_type": "execute_result"
    }
   ],
   "source": [
    "df[df.Min.isna()]"
   ],
   "metadata": {
    "collapsed": false,
    "pycharm": {
     "name": "#%%\n"
    }
   }
  },
  {
   "cell_type": "code",
   "execution_count": 8,
   "outputs": [
    {
     "data": {
      "text/plain": "                       Player     Team   Nation    Pos   Age  MP  Starts  \\\n0                 Bukayo Saka  Arsenal  eng ENG  FW,MF  19.0  38      36   \n1          Gabriel Dos Santos  Arsenal   br BRA     DF  23.0  35      35   \n2              Aaron Ramsdale  Arsenal  eng ENG     GK  23.0  34      34   \n3                   Ben White  Arsenal  eng ENG     DF  23.0  32      32   \n4             Martin Ødegaard  Arsenal   no NOR     MF  22.0  36      32   \n5                Granit Xhaka  Arsenal   ch SUI  MF,DF  28.0  27      27   \n6               Thomas Partey  Arsenal   gh GHA     MF  28.0  24      23   \n7              Kieran Tierney  Arsenal  sct SCO     DF  24.0  22      22   \n8            Emile Smith Rowe  Arsenal  eng ENG  MF,FW  21.0  33      21   \n9                  Martinelli  Arsenal   br BRA  FW,MF  20.0  29      21   \n10        Alexandre Lacazette  Arsenal   fr FRA  FW,MF  30.0  30      20   \n11          Takehiro Tomiyasu  Arsenal   jp JPN     DF  22.0  21      20   \n12              Cédric Soares  Arsenal   pt POR     DF  29.0  21      16   \n13               Nuno Tavares  Arsenal   pt POR     DF  21.0  22      13   \n14       Albert Sambi Lokonga  Arsenal   be BEL     MF  21.0  19      12   \n15  Pierre-Emerick Aubameyang  Arsenal   ga GAB     FW  32.0  14      12   \n16                Rob Holding  Arsenal  eng ENG     DF  25.0  15       9   \n17              Eddie Nketiah  Arsenal  eng ENG     FW  22.0  21       8   \n18             Mohamed Elneny  Arsenal   eg EGY     MF  29.0  14       8   \n19               Nicolas Pépé  Arsenal   ci CIV  FW,MF  26.0  20       5   \n20                 Bernd Leno  Arsenal   de GER     GK  29.0   4       4   \n21     Ainsley Maitland-Niles  Arsenal  eng ENG     MF  23.0   8       2   \n22                 Pablo Marí  Arsenal   es ESP     DF  27.0   2       2   \n23             Calum Chambers  Arsenal  eng ENG     DF  26.0   2       2   \n24             Sead Kolainac  Arsenal   ba BIH     DF  28.0   2       1   \n25            Folarin Balogun  Arsenal  eng ENG     FW  20.0   2       1   \n26               Reiss Nelson  Arsenal  eng ENG     FW  21.0   1       0   \n\n      Min   90s   Gls  ...  G+A-PK   xG  npxG   xA  npxG+xA  xG.1  xA.1  \\\n0   2,978  33.1  11.0  ...    0.48  9.7   8.2  6.9     15.2  0.29  0.21   \n1   3,063  34.0   5.0  ...    0.15  2.7   2.7  0.8      3.5  0.08  0.02   \n2   3,060  34.0   0.0  ...    0.00  0.0   0.0  0.0      0.0  0.00  0.00   \n3   2,880  32.0   0.0  ...    0.00  1.0   1.0  0.6      1.6  0.03  0.02   \n4   2,785  30.9   7.0  ...    0.36  4.8   4.8  6.8     11.6  0.16  0.22   \n5   2,327  25.9   1.0  ...    0.12  1.2   1.2  2.3      3.5  0.05  0.09   \n6   2,028  22.5   2.0  ...    0.13  2.5   2.5  1.3      3.8  0.11  0.06   \n7   1,915  21.3   1.0  ...    0.19  0.7   0.7  1.9      2.6  0.03  0.09   \n8   1,921  21.3  10.0  ...    0.56  5.8   5.8  2.2      8.0  0.27  0.10   \n9   1,860  20.7   6.0  ...    0.53  7.2   6.5  3.3      9.8  0.35  0.16   \n10  1,782  19.8   4.0  ...    0.45  7.9   5.6  1.9      7.6  0.40  0.10   \n11  1,679  18.7   0.0  ...    0.05  0.8   0.8  0.6      1.4  0.04  0.03   \n12  1,486  16.5   1.0  ...    0.12  0.5   0.5  1.4      2.0  0.03  0.09   \n13  1,176  13.1   1.0  ...    0.15  1.5   1.5  1.0      2.5  0.11  0.08   \n14  1,134  12.6   0.0  ...    0.00  0.6   0.6  0.8      1.4  0.05  0.06   \n15  1,037  11.5   4.0  ...    0.43  5.8   4.1  0.8      5.0  0.50  0.07   \n16    845   9.4   1.0  ...    0.11  0.3   0.3  0.0      0.3  0.03  0.00   \n17    835   9.3   5.0  ...    0.65  4.6   4.6  1.4      6.1  0.50  0.16   \n18    806   9.0   0.0  ...    0.22  0.2   0.2  0.6      0.7  0.02  0.06   \n19    696   7.7   1.0  ...    0.39  2.9   2.9  1.7      4.6  0.38  0.22   \n20    360   4.0   0.0  ...    0.00  0.0   0.0  0.0      0.0  0.00  0.00   \n21    268   3.0   0.0  ...    0.00  0.0   0.0  0.3      0.4  0.01  0.12   \n22    180   2.0   0.0  ...    0.00  0.3   0.3  0.1      0.4  0.15  0.05   \n23    170   1.9   0.0  ...    0.00  0.1   0.1  0.1      0.1  0.05  0.03   \n24     91   1.0   0.0  ...    0.00  0.0   0.0  0.0      0.0  0.00  0.00   \n25     70   0.8   0.0  ...    0.00  0.3   0.3  0.0      0.3  0.35  0.00   \n26     20   0.2   0.0  ...    0.00  0.0   0.0  0.0      0.1  0.16  0.18   \n\n    xG+xA  npxG.1  npxG+xA.1  \n0    0.50    0.25       0.46  \n1    0.10    0.08       0.10  \n2    0.00    0.00       0.00  \n3    0.05    0.03       0.05  \n4    0.38    0.16       0.38  \n5    0.14    0.05       0.14  \n6    0.17    0.11       0.17  \n7    0.12    0.03       0.12  \n8    0.37    0.27       0.37  \n9    0.51    0.31       0.47  \n10   0.50    0.28       0.38  \n11   0.08    0.04       0.08  \n12   0.12    0.03       0.12  \n13   0.19    0.11       0.19  \n14   0.11    0.05       0.11  \n15   0.57    0.36       0.43  \n16   0.03    0.03       0.03  \n17   0.65    0.50       0.65  \n18   0.08    0.02       0.08  \n19   0.60    0.38       0.60  \n20   0.00    0.00       0.00  \n21   0.13    0.01       0.13  \n22   0.21    0.15       0.21  \n23   0.07    0.05       0.07  \n24   0.00    0.00       0.00  \n25   0.35    0.35       0.35  \n26   0.35    0.16       0.35  \n\n[27 rows x 30 columns]",
      "text/html": "<div>\n<style scoped>\n    .dataframe tbody tr th:only-of-type {\n        vertical-align: middle;\n    }\n\n    .dataframe tbody tr th {\n        vertical-align: top;\n    }\n\n    .dataframe thead th {\n        text-align: right;\n    }\n</style>\n<table border=\"1\" class=\"dataframe\">\n  <thead>\n    <tr style=\"text-align: right;\">\n      <th></th>\n      <th>Player</th>\n      <th>Team</th>\n      <th>Nation</th>\n      <th>Pos</th>\n      <th>Age</th>\n      <th>MP</th>\n      <th>Starts</th>\n      <th>Min</th>\n      <th>90s</th>\n      <th>Gls</th>\n      <th>...</th>\n      <th>G+A-PK</th>\n      <th>xG</th>\n      <th>npxG</th>\n      <th>xA</th>\n      <th>npxG+xA</th>\n      <th>xG.1</th>\n      <th>xA.1</th>\n      <th>xG+xA</th>\n      <th>npxG.1</th>\n      <th>npxG+xA.1</th>\n    </tr>\n  </thead>\n  <tbody>\n    <tr>\n      <th>0</th>\n      <td>Bukayo Saka</td>\n      <td>Arsenal</td>\n      <td>eng ENG</td>\n      <td>FW,MF</td>\n      <td>19.0</td>\n      <td>38</td>\n      <td>36</td>\n      <td>2,978</td>\n      <td>33.1</td>\n      <td>11.0</td>\n      <td>...</td>\n      <td>0.48</td>\n      <td>9.7</td>\n      <td>8.2</td>\n      <td>6.9</td>\n      <td>15.2</td>\n      <td>0.29</td>\n      <td>0.21</td>\n      <td>0.50</td>\n      <td>0.25</td>\n      <td>0.46</td>\n    </tr>\n    <tr>\n      <th>1</th>\n      <td>Gabriel Dos Santos</td>\n      <td>Arsenal</td>\n      <td>br BRA</td>\n      <td>DF</td>\n      <td>23.0</td>\n      <td>35</td>\n      <td>35</td>\n      <td>3,063</td>\n      <td>34.0</td>\n      <td>5.0</td>\n      <td>...</td>\n      <td>0.15</td>\n      <td>2.7</td>\n      <td>2.7</td>\n      <td>0.8</td>\n      <td>3.5</td>\n      <td>0.08</td>\n      <td>0.02</td>\n      <td>0.10</td>\n      <td>0.08</td>\n      <td>0.10</td>\n    </tr>\n    <tr>\n      <th>2</th>\n      <td>Aaron Ramsdale</td>\n      <td>Arsenal</td>\n      <td>eng ENG</td>\n      <td>GK</td>\n      <td>23.0</td>\n      <td>34</td>\n      <td>34</td>\n      <td>3,060</td>\n      <td>34.0</td>\n      <td>0.0</td>\n      <td>...</td>\n      <td>0.00</td>\n      <td>0.0</td>\n      <td>0.0</td>\n      <td>0.0</td>\n      <td>0.0</td>\n      <td>0.00</td>\n      <td>0.00</td>\n      <td>0.00</td>\n      <td>0.00</td>\n      <td>0.00</td>\n    </tr>\n    <tr>\n      <th>3</th>\n      <td>Ben White</td>\n      <td>Arsenal</td>\n      <td>eng ENG</td>\n      <td>DF</td>\n      <td>23.0</td>\n      <td>32</td>\n      <td>32</td>\n      <td>2,880</td>\n      <td>32.0</td>\n      <td>0.0</td>\n      <td>...</td>\n      <td>0.00</td>\n      <td>1.0</td>\n      <td>1.0</td>\n      <td>0.6</td>\n      <td>1.6</td>\n      <td>0.03</td>\n      <td>0.02</td>\n      <td>0.05</td>\n      <td>0.03</td>\n      <td>0.05</td>\n    </tr>\n    <tr>\n      <th>4</th>\n      <td>Martin Ødegaard</td>\n      <td>Arsenal</td>\n      <td>no NOR</td>\n      <td>MF</td>\n      <td>22.0</td>\n      <td>36</td>\n      <td>32</td>\n      <td>2,785</td>\n      <td>30.9</td>\n      <td>7.0</td>\n      <td>...</td>\n      <td>0.36</td>\n      <td>4.8</td>\n      <td>4.8</td>\n      <td>6.8</td>\n      <td>11.6</td>\n      <td>0.16</td>\n      <td>0.22</td>\n      <td>0.38</td>\n      <td>0.16</td>\n      <td>0.38</td>\n    </tr>\n    <tr>\n      <th>5</th>\n      <td>Granit Xhaka</td>\n      <td>Arsenal</td>\n      <td>ch SUI</td>\n      <td>MF,DF</td>\n      <td>28.0</td>\n      <td>27</td>\n      <td>27</td>\n      <td>2,327</td>\n      <td>25.9</td>\n      <td>1.0</td>\n      <td>...</td>\n      <td>0.12</td>\n      <td>1.2</td>\n      <td>1.2</td>\n      <td>2.3</td>\n      <td>3.5</td>\n      <td>0.05</td>\n      <td>0.09</td>\n      <td>0.14</td>\n      <td>0.05</td>\n      <td>0.14</td>\n    </tr>\n    <tr>\n      <th>6</th>\n      <td>Thomas Partey</td>\n      <td>Arsenal</td>\n      <td>gh GHA</td>\n      <td>MF</td>\n      <td>28.0</td>\n      <td>24</td>\n      <td>23</td>\n      <td>2,028</td>\n      <td>22.5</td>\n      <td>2.0</td>\n      <td>...</td>\n      <td>0.13</td>\n      <td>2.5</td>\n      <td>2.5</td>\n      <td>1.3</td>\n      <td>3.8</td>\n      <td>0.11</td>\n      <td>0.06</td>\n      <td>0.17</td>\n      <td>0.11</td>\n      <td>0.17</td>\n    </tr>\n    <tr>\n      <th>7</th>\n      <td>Kieran Tierney</td>\n      <td>Arsenal</td>\n      <td>sct SCO</td>\n      <td>DF</td>\n      <td>24.0</td>\n      <td>22</td>\n      <td>22</td>\n      <td>1,915</td>\n      <td>21.3</td>\n      <td>1.0</td>\n      <td>...</td>\n      <td>0.19</td>\n      <td>0.7</td>\n      <td>0.7</td>\n      <td>1.9</td>\n      <td>2.6</td>\n      <td>0.03</td>\n      <td>0.09</td>\n      <td>0.12</td>\n      <td>0.03</td>\n      <td>0.12</td>\n    </tr>\n    <tr>\n      <th>8</th>\n      <td>Emile Smith Rowe</td>\n      <td>Arsenal</td>\n      <td>eng ENG</td>\n      <td>MF,FW</td>\n      <td>21.0</td>\n      <td>33</td>\n      <td>21</td>\n      <td>1,921</td>\n      <td>21.3</td>\n      <td>10.0</td>\n      <td>...</td>\n      <td>0.56</td>\n      <td>5.8</td>\n      <td>5.8</td>\n      <td>2.2</td>\n      <td>8.0</td>\n      <td>0.27</td>\n      <td>0.10</td>\n      <td>0.37</td>\n      <td>0.27</td>\n      <td>0.37</td>\n    </tr>\n    <tr>\n      <th>9</th>\n      <td>Martinelli</td>\n      <td>Arsenal</td>\n      <td>br BRA</td>\n      <td>FW,MF</td>\n      <td>20.0</td>\n      <td>29</td>\n      <td>21</td>\n      <td>1,860</td>\n      <td>20.7</td>\n      <td>6.0</td>\n      <td>...</td>\n      <td>0.53</td>\n      <td>7.2</td>\n      <td>6.5</td>\n      <td>3.3</td>\n      <td>9.8</td>\n      <td>0.35</td>\n      <td>0.16</td>\n      <td>0.51</td>\n      <td>0.31</td>\n      <td>0.47</td>\n    </tr>\n    <tr>\n      <th>10</th>\n      <td>Alexandre Lacazette</td>\n      <td>Arsenal</td>\n      <td>fr FRA</td>\n      <td>FW,MF</td>\n      <td>30.0</td>\n      <td>30</td>\n      <td>20</td>\n      <td>1,782</td>\n      <td>19.8</td>\n      <td>4.0</td>\n      <td>...</td>\n      <td>0.45</td>\n      <td>7.9</td>\n      <td>5.6</td>\n      <td>1.9</td>\n      <td>7.6</td>\n      <td>0.40</td>\n      <td>0.10</td>\n      <td>0.50</td>\n      <td>0.28</td>\n      <td>0.38</td>\n    </tr>\n    <tr>\n      <th>11</th>\n      <td>Takehiro Tomiyasu</td>\n      <td>Arsenal</td>\n      <td>jp JPN</td>\n      <td>DF</td>\n      <td>22.0</td>\n      <td>21</td>\n      <td>20</td>\n      <td>1,679</td>\n      <td>18.7</td>\n      <td>0.0</td>\n      <td>...</td>\n      <td>0.05</td>\n      <td>0.8</td>\n      <td>0.8</td>\n      <td>0.6</td>\n      <td>1.4</td>\n      <td>0.04</td>\n      <td>0.03</td>\n      <td>0.08</td>\n      <td>0.04</td>\n      <td>0.08</td>\n    </tr>\n    <tr>\n      <th>12</th>\n      <td>Cédric Soares</td>\n      <td>Arsenal</td>\n      <td>pt POR</td>\n      <td>DF</td>\n      <td>29.0</td>\n      <td>21</td>\n      <td>16</td>\n      <td>1,486</td>\n      <td>16.5</td>\n      <td>1.0</td>\n      <td>...</td>\n      <td>0.12</td>\n      <td>0.5</td>\n      <td>0.5</td>\n      <td>1.4</td>\n      <td>2.0</td>\n      <td>0.03</td>\n      <td>0.09</td>\n      <td>0.12</td>\n      <td>0.03</td>\n      <td>0.12</td>\n    </tr>\n    <tr>\n      <th>13</th>\n      <td>Nuno Tavares</td>\n      <td>Arsenal</td>\n      <td>pt POR</td>\n      <td>DF</td>\n      <td>21.0</td>\n      <td>22</td>\n      <td>13</td>\n      <td>1,176</td>\n      <td>13.1</td>\n      <td>1.0</td>\n      <td>...</td>\n      <td>0.15</td>\n      <td>1.5</td>\n      <td>1.5</td>\n      <td>1.0</td>\n      <td>2.5</td>\n      <td>0.11</td>\n      <td>0.08</td>\n      <td>0.19</td>\n      <td>0.11</td>\n      <td>0.19</td>\n    </tr>\n    <tr>\n      <th>14</th>\n      <td>Albert Sambi Lokonga</td>\n      <td>Arsenal</td>\n      <td>be BEL</td>\n      <td>MF</td>\n      <td>21.0</td>\n      <td>19</td>\n      <td>12</td>\n      <td>1,134</td>\n      <td>12.6</td>\n      <td>0.0</td>\n      <td>...</td>\n      <td>0.00</td>\n      <td>0.6</td>\n      <td>0.6</td>\n      <td>0.8</td>\n      <td>1.4</td>\n      <td>0.05</td>\n      <td>0.06</td>\n      <td>0.11</td>\n      <td>0.05</td>\n      <td>0.11</td>\n    </tr>\n    <tr>\n      <th>15</th>\n      <td>Pierre-Emerick Aubameyang</td>\n      <td>Arsenal</td>\n      <td>ga GAB</td>\n      <td>FW</td>\n      <td>32.0</td>\n      <td>14</td>\n      <td>12</td>\n      <td>1,037</td>\n      <td>11.5</td>\n      <td>4.0</td>\n      <td>...</td>\n      <td>0.43</td>\n      <td>5.8</td>\n      <td>4.1</td>\n      <td>0.8</td>\n      <td>5.0</td>\n      <td>0.50</td>\n      <td>0.07</td>\n      <td>0.57</td>\n      <td>0.36</td>\n      <td>0.43</td>\n    </tr>\n    <tr>\n      <th>16</th>\n      <td>Rob Holding</td>\n      <td>Arsenal</td>\n      <td>eng ENG</td>\n      <td>DF</td>\n      <td>25.0</td>\n      <td>15</td>\n      <td>9</td>\n      <td>845</td>\n      <td>9.4</td>\n      <td>1.0</td>\n      <td>...</td>\n      <td>0.11</td>\n      <td>0.3</td>\n      <td>0.3</td>\n      <td>0.0</td>\n      <td>0.3</td>\n      <td>0.03</td>\n      <td>0.00</td>\n      <td>0.03</td>\n      <td>0.03</td>\n      <td>0.03</td>\n    </tr>\n    <tr>\n      <th>17</th>\n      <td>Eddie Nketiah</td>\n      <td>Arsenal</td>\n      <td>eng ENG</td>\n      <td>FW</td>\n      <td>22.0</td>\n      <td>21</td>\n      <td>8</td>\n      <td>835</td>\n      <td>9.3</td>\n      <td>5.0</td>\n      <td>...</td>\n      <td>0.65</td>\n      <td>4.6</td>\n      <td>4.6</td>\n      <td>1.4</td>\n      <td>6.1</td>\n      <td>0.50</td>\n      <td>0.16</td>\n      <td>0.65</td>\n      <td>0.50</td>\n      <td>0.65</td>\n    </tr>\n    <tr>\n      <th>18</th>\n      <td>Mohamed Elneny</td>\n      <td>Arsenal</td>\n      <td>eg EGY</td>\n      <td>MF</td>\n      <td>29.0</td>\n      <td>14</td>\n      <td>8</td>\n      <td>806</td>\n      <td>9.0</td>\n      <td>0.0</td>\n      <td>...</td>\n      <td>0.22</td>\n      <td>0.2</td>\n      <td>0.2</td>\n      <td>0.6</td>\n      <td>0.7</td>\n      <td>0.02</td>\n      <td>0.06</td>\n      <td>0.08</td>\n      <td>0.02</td>\n      <td>0.08</td>\n    </tr>\n    <tr>\n      <th>19</th>\n      <td>Nicolas Pépé</td>\n      <td>Arsenal</td>\n      <td>ci CIV</td>\n      <td>FW,MF</td>\n      <td>26.0</td>\n      <td>20</td>\n      <td>5</td>\n      <td>696</td>\n      <td>7.7</td>\n      <td>1.0</td>\n      <td>...</td>\n      <td>0.39</td>\n      <td>2.9</td>\n      <td>2.9</td>\n      <td>1.7</td>\n      <td>4.6</td>\n      <td>0.38</td>\n      <td>0.22</td>\n      <td>0.60</td>\n      <td>0.38</td>\n      <td>0.60</td>\n    </tr>\n    <tr>\n      <th>20</th>\n      <td>Bernd Leno</td>\n      <td>Arsenal</td>\n      <td>de GER</td>\n      <td>GK</td>\n      <td>29.0</td>\n      <td>4</td>\n      <td>4</td>\n      <td>360</td>\n      <td>4.0</td>\n      <td>0.0</td>\n      <td>...</td>\n      <td>0.00</td>\n      <td>0.0</td>\n      <td>0.0</td>\n      <td>0.0</td>\n      <td>0.0</td>\n      <td>0.00</td>\n      <td>0.00</td>\n      <td>0.00</td>\n      <td>0.00</td>\n      <td>0.00</td>\n    </tr>\n    <tr>\n      <th>21</th>\n      <td>Ainsley Maitland-Niles</td>\n      <td>Arsenal</td>\n      <td>eng ENG</td>\n      <td>MF</td>\n      <td>23.0</td>\n      <td>8</td>\n      <td>2</td>\n      <td>268</td>\n      <td>3.0</td>\n      <td>0.0</td>\n      <td>...</td>\n      <td>0.00</td>\n      <td>0.0</td>\n      <td>0.0</td>\n      <td>0.3</td>\n      <td>0.4</td>\n      <td>0.01</td>\n      <td>0.12</td>\n      <td>0.13</td>\n      <td>0.01</td>\n      <td>0.13</td>\n    </tr>\n    <tr>\n      <th>22</th>\n      <td>Pablo Marí</td>\n      <td>Arsenal</td>\n      <td>es ESP</td>\n      <td>DF</td>\n      <td>27.0</td>\n      <td>2</td>\n      <td>2</td>\n      <td>180</td>\n      <td>2.0</td>\n      <td>0.0</td>\n      <td>...</td>\n      <td>0.00</td>\n      <td>0.3</td>\n      <td>0.3</td>\n      <td>0.1</td>\n      <td>0.4</td>\n      <td>0.15</td>\n      <td>0.05</td>\n      <td>0.21</td>\n      <td>0.15</td>\n      <td>0.21</td>\n    </tr>\n    <tr>\n      <th>23</th>\n      <td>Calum Chambers</td>\n      <td>Arsenal</td>\n      <td>eng ENG</td>\n      <td>DF</td>\n      <td>26.0</td>\n      <td>2</td>\n      <td>2</td>\n      <td>170</td>\n      <td>1.9</td>\n      <td>0.0</td>\n      <td>...</td>\n      <td>0.00</td>\n      <td>0.1</td>\n      <td>0.1</td>\n      <td>0.1</td>\n      <td>0.1</td>\n      <td>0.05</td>\n      <td>0.03</td>\n      <td>0.07</td>\n      <td>0.05</td>\n      <td>0.07</td>\n    </tr>\n    <tr>\n      <th>24</th>\n      <td>Sead Kolainac</td>\n      <td>Arsenal</td>\n      <td>ba BIH</td>\n      <td>DF</td>\n      <td>28.0</td>\n      <td>2</td>\n      <td>1</td>\n      <td>91</td>\n      <td>1.0</td>\n      <td>0.0</td>\n      <td>...</td>\n      <td>0.00</td>\n      <td>0.0</td>\n      <td>0.0</td>\n      <td>0.0</td>\n      <td>0.0</td>\n      <td>0.00</td>\n      <td>0.00</td>\n      <td>0.00</td>\n      <td>0.00</td>\n      <td>0.00</td>\n    </tr>\n    <tr>\n      <th>25</th>\n      <td>Folarin Balogun</td>\n      <td>Arsenal</td>\n      <td>eng ENG</td>\n      <td>FW</td>\n      <td>20.0</td>\n      <td>2</td>\n      <td>1</td>\n      <td>70</td>\n      <td>0.8</td>\n      <td>0.0</td>\n      <td>...</td>\n      <td>0.00</td>\n      <td>0.3</td>\n      <td>0.3</td>\n      <td>0.0</td>\n      <td>0.3</td>\n      <td>0.35</td>\n      <td>0.00</td>\n      <td>0.35</td>\n      <td>0.35</td>\n      <td>0.35</td>\n    </tr>\n    <tr>\n      <th>26</th>\n      <td>Reiss Nelson</td>\n      <td>Arsenal</td>\n      <td>eng ENG</td>\n      <td>FW</td>\n      <td>21.0</td>\n      <td>1</td>\n      <td>0</td>\n      <td>20</td>\n      <td>0.2</td>\n      <td>0.0</td>\n      <td>...</td>\n      <td>0.00</td>\n      <td>0.0</td>\n      <td>0.0</td>\n      <td>0.0</td>\n      <td>0.1</td>\n      <td>0.16</td>\n      <td>0.18</td>\n      <td>0.35</td>\n      <td>0.16</td>\n      <td>0.35</td>\n    </tr>\n  </tbody>\n</table>\n<p>27 rows × 30 columns</p>\n</div>"
     },
     "execution_count": 8,
     "metadata": {},
     "output_type": "execute_result"
    }
   ],
   "source": [
    "df[df['Team'] == 'Arsenal']"
   ],
   "metadata": {
    "collapsed": false,
    "pycharm": {
     "name": "#%%\n"
    }
   }
  },
  {
   "cell_type": "code",
   "execution_count": 9,
   "outputs": [
    {
     "data": {
      "text/plain": "                          Gls\nTeam                         \nManchester City          96.0\nLiverpool                94.0\nChelsea                  75.0\nTottenham Hotspur        63.0\nLeicester City           62.0\nArsenal                  60.0\nWest Ham United          58.0\nManchester United        56.0\nCrystal Palace           50.0\nAston Villa              50.0\nBrentford                46.0\nEverton                  42.0\nLeeds United             42.0\nNewcastle United         41.0\nSouthampton              41.0\nBrighton & Hove Albion   40.0\nWolverhampton Wanderers  35.0\nWatford                  33.0\nBurnley                  32.0\nNorwich City             21.0",
      "text/html": "<div>\n<style scoped>\n    .dataframe tbody tr th:only-of-type {\n        vertical-align: middle;\n    }\n\n    .dataframe tbody tr th {\n        vertical-align: top;\n    }\n\n    .dataframe thead th {\n        text-align: right;\n    }\n</style>\n<table border=\"1\" class=\"dataframe\">\n  <thead>\n    <tr style=\"text-align: right;\">\n      <th></th>\n      <th>Gls</th>\n    </tr>\n    <tr>\n      <th>Team</th>\n      <th></th>\n    </tr>\n  </thead>\n  <tbody>\n    <tr>\n      <th>Manchester City</th>\n      <td>96.0</td>\n    </tr>\n    <tr>\n      <th>Liverpool</th>\n      <td>94.0</td>\n    </tr>\n    <tr>\n      <th>Chelsea</th>\n      <td>75.0</td>\n    </tr>\n    <tr>\n      <th>Tottenham Hotspur</th>\n      <td>63.0</td>\n    </tr>\n    <tr>\n      <th>Leicester City</th>\n      <td>62.0</td>\n    </tr>\n    <tr>\n      <th>Arsenal</th>\n      <td>60.0</td>\n    </tr>\n    <tr>\n      <th>West Ham United</th>\n      <td>58.0</td>\n    </tr>\n    <tr>\n      <th>Manchester United</th>\n      <td>56.0</td>\n    </tr>\n    <tr>\n      <th>Crystal Palace</th>\n      <td>50.0</td>\n    </tr>\n    <tr>\n      <th>Aston Villa</th>\n      <td>50.0</td>\n    </tr>\n    <tr>\n      <th>Brentford</th>\n      <td>46.0</td>\n    </tr>\n    <tr>\n      <th>Everton</th>\n      <td>42.0</td>\n    </tr>\n    <tr>\n      <th>Leeds United</th>\n      <td>42.0</td>\n    </tr>\n    <tr>\n      <th>Newcastle United</th>\n      <td>41.0</td>\n    </tr>\n    <tr>\n      <th>Southampton</th>\n      <td>41.0</td>\n    </tr>\n    <tr>\n      <th>Brighton &amp; Hove Albion</th>\n      <td>40.0</td>\n    </tr>\n    <tr>\n      <th>Wolverhampton Wanderers</th>\n      <td>35.0</td>\n    </tr>\n    <tr>\n      <th>Watford</th>\n      <td>33.0</td>\n    </tr>\n    <tr>\n      <th>Burnley</th>\n      <td>32.0</td>\n    </tr>\n    <tr>\n      <th>Norwich City</th>\n      <td>21.0</td>\n    </tr>\n  </tbody>\n</table>\n</div>"
     },
     "execution_count": 9,
     "metadata": {},
     "output_type": "execute_result"
    }
   ],
   "source": [
    "seasongoals_by_team =df.groupby('Team').sum()['Gls'].to_frame()\n",
    "#seasongoals_by_team\n",
    "seasongoals_by_team.sort_values(axis=0,ascending=False,by=['Gls'])"
   ],
   "metadata": {
    "collapsed": false,
    "pycharm": {
     "name": "#%%\n"
    }
   }
  },
  {
   "cell_type": "code",
   "execution_count": 10,
   "outputs": [
    {
     "data": {
      "text/plain": "<AxesSubplot:xlabel='Team'>"
     },
     "execution_count": 10,
     "metadata": {},
     "output_type": "execute_result"
    },
    {
     "data": {
      "text/plain": "<Figure size 640x480 with 1 Axes>",
      "image/png": "[encoded data removed]"
     },
     "metadata": {},
     "output_type": "display_data"
    }
   ],
   "source": [
    "seasongoals_by_team.plot(kind='bar')"
   ],
   "metadata": {
    "collapsed": false,
    "pycharm": {
     "name": "#%%\n"
    }
   }
  },
  {
   "cell_type": "code",
   "execution_count": 11,
   "outputs": [
    {
     "data": {
      "text/plain": "Player        object\nTeam          object\nNation        object\nPos           object\nAge          float64\nMP             int64\nStarts         int64\nMin           object\n90s          float64\nGls          float64\nAst          float64\nG-PK         float64\nPK           float64\nPKatt        float64\nCrdY         float64\nCrdR         float64\nGls.1        float64\nAst.1        float64\nG+A          float64\nG-PK.1       float64\nG+A-PK       float64\nxG           float64\nnpxG         float64\nxA           float64\nnpxG+xA      float64\nxG.1         float64\nxA.1         float64\nxG+xA        float64\nnpxG.1       float64\nnpxG+xA.1    float64\ndtype: object"
     },
     "execution_count": 11,
     "metadata": {},
     "output_type": "execute_result"
    }
   ],
   "source": [
    "df.dtypes"
   ],
   "metadata": {
    "collapsed": false,
    "pycharm": {
     "name": "#%%\n"
    }
   }
  },
  {
   "cell_type": "markdown",
   "source": [
    "No me sirve hacer el sort por minutos porque esta en string, no pude cambiarlo a float ni a int\n"
   ],
   "metadata": {
    "collapsed": false,
    "pycharm": {
     "name": "#%% md\n"
    }
   }
  },
  {
   "cell_type": "code",
   "execution_count": 12,
   "outputs": [
    {
     "data": {
      "text/plain": "              Player    Min\n338     James Justin    998\n135      Enock Mwepu    996\n334  Ricardo Pereira    991\n365  Roberto Firmino    990\n363  Ibrahima Konaté    990\n..               ...    ...\n474     Isaac Hayden  1,002\n278       Moise Kean      1\n650        Alex Král      1\n649  Daniel Chesters      1\n71     Wesley Moraes      1\n\n[546 rows x 2 columns]",
      "text/html": "<div>\n<style scoped>\n    .dataframe tbody tr th:only-of-type {\n        vertical-align: middle;\n    }\n\n    .dataframe tbody tr th {\n        vertical-align: top;\n    }\n\n    .dataframe thead th {\n        text-align: right;\n    }\n</style>\n<table border=\"1\" class=\"dataframe\">\n  <thead>\n    <tr style=\"text-align: right;\">\n      <th></th>\n      <th>Player</th>\n      <th>Min</th>\n    </tr>\n  </thead>\n  <tbody>\n    <tr>\n      <th>338</th>\n      <td>James Justin</td>\n      <td>998</td>\n    </tr>\n    <tr>\n      <th>135</th>\n      <td>Enock Mwepu</td>\n      <td>996</td>\n    </tr>\n    <tr>\n      <th>334</th>\n      <td>Ricardo Pereira</td>\n      <td>991</td>\n    </tr>\n    <tr>\n      <th>365</th>\n      <td>Roberto Firmino</td>\n      <td>990</td>\n    </tr>\n    <tr>\n      <th>363</th>\n      <td>Ibrahima Konaté</td>\n      <td>990</td>\n    </tr>\n    <tr>\n      <th>...</th>\n      <td>...</td>\n      <td>...</td>\n    </tr>\n    <tr>\n      <th>474</th>\n      <td>Isaac Hayden</td>\n      <td>1,002</td>\n    </tr>\n    <tr>\n      <th>278</th>\n      <td>Moise Kean</td>\n      <td>1</td>\n    </tr>\n    <tr>\n      <th>650</th>\n      <td>Alex Král</td>\n      <td>1</td>\n    </tr>\n    <tr>\n      <th>649</th>\n      <td>Daniel Chesters</td>\n      <td>1</td>\n    </tr>\n    <tr>\n      <th>71</th>\n      <td>Wesley Moraes</td>\n      <td>1</td>\n    </tr>\n  </tbody>\n</table>\n<p>546 rows × 2 columns</p>\n</div>"
     },
     "execution_count": 12,
     "metadata": {},
     "output_type": "execute_result"
    }
   ],
   "source": [
    "minutes_played_by_player = df[['Player','Min']].sort_values(by=['Min'],ascending=False)\n",
    "minutes_played_by_player"
   ],
   "metadata": {
    "collapsed": false,
    "pycharm": {
     "name": "#%%\n"
    }
   }
  },
  {
   "cell_type": "code",
   "execution_count": 13,
   "outputs": [
    {
     "data": {
      "text/plain": "                     Player   Gls   Ast\n353  Trent Alexander-Arnold   2.0  12.0\n356           Mohamed Salah  23.0  13.0",
      "text/html": "<div>\n<style scoped>\n    .dataframe tbody tr th:only-of-type {\n        vertical-align: middle;\n    }\n\n    .dataframe tbody tr th {\n        vertical-align: top;\n    }\n\n    .dataframe thead th {\n        text-align: right;\n    }\n</style>\n<table border=\"1\" class=\"dataframe\">\n  <thead>\n    <tr style=\"text-align: right;\">\n      <th></th>\n      <th>Player</th>\n      <th>Gls</th>\n      <th>Ast</th>\n    </tr>\n  </thead>\n  <tbody>\n    <tr>\n      <th>353</th>\n      <td>Trent Alexander-Arnold</td>\n      <td>2.0</td>\n      <td>12.0</td>\n    </tr>\n    <tr>\n      <th>356</th>\n      <td>Mohamed Salah</td>\n      <td>23.0</td>\n      <td>13.0</td>\n    </tr>\n  </tbody>\n</table>\n</div>"
     },
     "execution_count": 13,
     "metadata": {},
     "output_type": "execute_result"
    }
   ],
   "source": [
    "goals_mask = df['Gls'] >20\n",
    "assists_mask = df['Ast'] >10\n",
    "df[assists_mask ][['Player','Gls','Ast']]"
   ],
   "metadata": {
    "collapsed": false,
    "pycharm": {
     "name": "#%%\n"
    }
   }
  },
  {
   "cell_type": "code",
   "execution_count": 14,
   "outputs": [],
   "source": [
    "by_team= df.groupby('Team')\n",
    "\n",
    "yellow_card= by_team.sum()['CrdY'].to_frame(name='Yellow')\n",
    "red_card= by_team.sum()['CrdR'].to_frame(name='Red')\n",
    "count_players= by_team.count()['Player']\n",
    "averages = by_team.mean()[['Age']]"
   ],
   "metadata": {
    "collapsed": false,
    "pycharm": {
     "name": "#%%\n"
    }
   }
  },
  {
   "cell_type": "code",
   "execution_count": 15,
   "outputs": [
    {
     "data": {
      "text/plain": "                               Age\nTeam                              \nArsenal                  24.518519\nAston Villa              24.967742\nBrentford                24.206897\nBrighton & Hove Albion   24.730769\nBurnley                  28.956522\nChelsea                  26.000000\nCrystal Palace           26.208333\nEverton                  25.151515\nLeeds United             23.310345\nLeicester City           25.428571\nLiverpool                25.333333\nManchester City          25.038462\nManchester United        25.620690\nNewcastle United         27.310345\nNorwich City             23.964286\nSouthampton              25.880000\nTottenham Hotspur        24.480000\nWatford                  27.200000\nWest Ham United          26.400000\nWolverhampton Wanderers  25.038462",
      "text/html": "<div>\n<style scoped>\n    .dataframe tbody tr th:only-of-type {\n        vertical-align: middle;\n    }\n\n    .dataframe tbody tr th {\n        vertical-align: top;\n    }\n\n    .dataframe thead th {\n        text-align: right;\n    }\n</style>\n<table border=\"1\" class=\"dataframe\">\n  <thead>\n    <tr style=\"text-align: right;\">\n      <th></th>\n      <th>Age</th>\n    </tr>\n    <tr>\n      <th>Team</th>\n      <th></th>\n    </tr>\n  </thead>\n  <tbody>\n    <tr>\n      <th>Arsenal</th>\n      <td>24.518519</td>\n    </tr>\n    <tr>\n      <th>Aston Villa</th>\n      <td>24.967742</td>\n    </tr>\n    <tr>\n      <th>Brentford</th>\n      <td>24.206897</td>\n    </tr>\n    <tr>\n      <th>Brighton &amp; Hove Albion</th>\n      <td>24.730769</td>\n    </tr>\n    <tr>\n      <th>Burnley</th>\n      <td>28.956522</td>\n    </tr>\n    <tr>\n      <th>Chelsea</th>\n      <td>26.000000</td>\n    </tr>\n    <tr>\n      <th>Crystal Palace</th>\n      <td>26.208333</td>\n    </tr>\n    <tr>\n      <th>Everton</th>\n      <td>25.151515</td>\n    </tr>\n    <tr>\n      <th>Leeds United</th>\n      <td>23.310345</td>\n    </tr>\n    <tr>\n      <th>Leicester City</th>\n      <td>25.428571</td>\n    </tr>\n    <tr>\n      <th>Liverpool</th>\n      <td>25.333333</td>\n    </tr>\n    <tr>\n      <th>Manchester City</th>\n      <td>25.038462</td>\n    </tr>\n    <tr>\n      <th>Manchester United</th>\n      <td>25.620690</td>\n    </tr>\n    <tr>\n      <th>Newcastle United</th>\n      <td>27.310345</td>\n    </tr>\n    <tr>\n      <th>Norwich City</th>\n      <td>23.964286</td>\n    </tr>\n    <tr>\n      <th>Southampton</th>\n      <td>25.880000</td>\n    </tr>\n    <tr>\n      <th>Tottenham Hotspur</th>\n      <td>24.480000</td>\n    </tr>\n    <tr>\n      <th>Watford</th>\n      <td>27.200000</td>\n    </tr>\n    <tr>\n      <th>West Ham United</th>\n      <td>26.400000</td>\n    </tr>\n    <tr>\n      <th>Wolverhampton Wanderers</th>\n      <td>25.038462</td>\n    </tr>\n  </tbody>\n</table>\n</div>"
     },
     "execution_count": 15,
     "metadata": {},
     "output_type": "execute_result"
    }
   ],
   "source": [
    "averages"
   ],
   "metadata": {
    "collapsed": false,
    "pycharm": {
     "name": "#%%\n"
    }
   }
  },
  {
   "cell_type": "code",
   "execution_count": 16,
   "outputs": [],
   "source": [
    "sum_goals= by_team.sum()['Gls']\n",
    "sum_assists= by_team.sum()['Ast']\n"
   ],
   "metadata": {
    "collapsed": false,
    "pycharm": {
     "name": "#%%\n"
    }
   }
  },
  {
   "cell_type": "code",
   "execution_count": 20,
   "outputs": [
    {
     "data": {
      "text/plain": "Player    27\ndtype: int64"
     },
     "execution_count": 20,
     "metadata": {},
     "output_type": "execute_result"
    }
   ],
   "source": [
    "mask = df['Team'] == 'Liverpool'\n",
    "\n",
    "df.loc[mask,['Player']].count()"
   ],
   "metadata": {
    "collapsed": false,
    "pycharm": {
     "name": "#%%\n"
    }
   }
  },
  {
   "cell_type": "code",
   "execution_count": null,
   "outputs": [],
   "source": [],
   "metadata": {
    "collapsed": false,
    "pycharm": {
     "name": "#%%\n"
    }
   }
  }
 ],
 "metadata": {
  "kernelspec": {
   "display_name": "Python 3",
   "language": "python",
   "name": "python3"
  },
  "language_info": {
   "codemirror_mode": {
    "name": "ipython",
    "version": 2
   },
   "file_extension": ".py",
   "mimetype": "text/x-python",
   "name": "python",
   "nbconvert_exporter": "python",
   "pygments_lexer": "ipython2",
   "version": "2.7.6"
  }
 },
 "nbformat": 4,
 "nbformat_minor": 0
}