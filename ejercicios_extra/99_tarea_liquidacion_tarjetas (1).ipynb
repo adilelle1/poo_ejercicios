{
 "cells": [
  {
   "cell_type": "markdown",
   "metadata": {
    "pycharm": {
     "name": "#%% md\n"
    }
   },
   "source": [
    "# Tarjetas\n",
    "\n",
    "dataset: https://docs.google.com/spreadsheets/d/1E2QvH18DyNDw1eGqU40D_KHSEfSzbipV/edit?usp=sharing&ouid=115931210603772521641&rtpof=true&sd=true\n"
   ]
  },
  {
   "cell_type": "code",
   "execution_count": 1,
   "metadata": {
    "id": "49BJJVhVYin4",
    "pycharm": {
     "name": "#%%\n"
    }
   },
   "outputs": [],
   "source": [
    "import pandas as pd\n",
    "import numpy\n",
    "#!pip install openpyxl"
   ]
  },
  {
   "cell_type": "code",
   "execution_count": 2,
   "metadata": {
    "collapsed": false,
    "jupyter": {
     "outputs_hidden": false
    },
    "pycharm": {
     "name": "#%%\n"
    }
   },
   "outputs": [
    {
     "data": {
      "text/plain": "'C:\\\\Users\\\\alejo\\\\UCEMA\\\\poo_teorica\\\\poo_ejercicios\\\\ejercicios_extra'"
     },
     "execution_count": 2,
     "metadata": {},
     "output_type": "execute_result"
    }
   ],
   "source": [
    "%pwd"
   ]
  },
  {
   "cell_type": "code",
   "execution_count": 3,
   "metadata": {
    "collapsed": false,
    "jupyter": {
     "outputs_hidden": false
    },
    "pycharm": {
     "name": "#%%\n"
    }
   },
   "outputs": [],
   "source": [
    "tarjetas = pd.read_csv('../04-transformaciones/data/tarjetas.xlsx - Sheet1.csv', delimiter=',', index_col='Unnamed: 0')"
   ]
  },
  {
   "cell_type": "code",
   "execution_count": 4,
   "metadata": {
    "collapsed": false,
    "jupyter": {
     "outputs_hidden": false
    },
    "pycharm": {
     "name": "#%%\n"
    }
   },
   "outputs": [
    {
     "data": {
      "text/plain": "     PreseTaciOn_Fecha        FeCha_de_Pago  cod_clearing  \\\n0  2022-06-15 00:00:00  2022-07-01 00:00:00          1009   \n1  2022-06-15 00:00:00  2022-07-01 00:00:00          1011   \n2  2022-06-15 00:00:00  2022-07-01 00:00:00          2031   \n3  2022-06-15 00:00:00  2022-07-01 00:00:00          2040   \n4  2022-06-15 00:00:00  2022-07-01 00:00:00          2800   \n\n                                   desc_creaing  NRo_Liquidacion  \\\n0  VENTAS C/DESCUENTO CONTADO                              27822   \n1  VENTAS C/DTO CUOTAS FINANC. OTORG.                      27822   \n2  ARANCEL                                                 27822   \n3                      PROMO CUOTAS AHORA 12/18            27822   \n4  TOTAL DEDUCCIONES                                       27822   \n\n   cod_sucursal  Cod_comercio  Cod_pagadora Cod_marca_producto  \\\n0           716      25107406           156       VISA CREDITO   \n1           716      25107406           156       VISA CREDITO   \n2           716      25107406           156       VISA CREDITO   \n3           716      25107406           156       VISA CREDITO   \n4           716      25107406           156       VISA CREDITO   \n\n   importe_concepto  \n0           5096.00  \n1         413500.60  \n2           7534.70  \n3          18416.85  \n4          49585.43  ",
      "text/html": "<div>\n<style scoped>\n    .dataframe tbody tr th:only-of-type {\n        vertical-align: middle;\n    }\n\n    .dataframe tbody tr th {\n        vertical-align: top;\n    }\n\n    .dataframe thead th {\n        text-align: right;\n    }\n</style>\n<table border=\"1\" class=\"dataframe\">\n  <thead>\n    <tr style=\"text-align: right;\">\n      <th></th>\n      <th>PreseTaciOn_Fecha</th>\n      <th>FeCha_de_Pago</th>\n      <th>cod_clearing</th>\n      <th>desc_creaing</th>\n      <th>NRo_Liquidacion</th>\n      <th>cod_sucursal</th>\n      <th>Cod_comercio</th>\n      <th>Cod_pagadora</th>\n      <th>Cod_marca_producto</th>\n      <th>importe_concepto</th>\n    </tr>\n  </thead>\n  <tbody>\n    <tr>\n      <th>0</th>\n      <td>2022-06-15 00:00:00</td>\n      <td>2022-07-01 00:00:00</td>\n      <td>1009</td>\n      <td>VENTAS C/DESCUENTO CONTADO</td>\n      <td>27822</td>\n      <td>716</td>\n      <td>25107406</td>\n      <td>156</td>\n      <td>VISA CREDITO</td>\n      <td>5096.00</td>\n    </tr>\n    <tr>\n      <th>1</th>\n      <td>2022-06-15 00:00:00</td>\n      <td>2022-07-01 00:00:00</td>\n      <td>1011</td>\n      <td>VENTAS C/DTO CUOTAS FINANC. OTORG.</td>\n      <td>27822</td>\n      <td>716</td>\n      <td>25107406</td>\n      <td>156</td>\n      <td>VISA CREDITO</td>\n      <td>413500.60</td>\n    </tr>\n    <tr>\n      <th>2</th>\n      <td>2022-06-15 00:00:00</td>\n      <td>2022-07-01 00:00:00</td>\n      <td>2031</td>\n      <td>ARANCEL</td>\n      <td>27822</td>\n      <td>716</td>\n      <td>25107406</td>\n      <td>156</td>\n      <td>VISA CREDITO</td>\n      <td>7534.70</td>\n    </tr>\n    <tr>\n      <th>3</th>\n      <td>2022-06-15 00:00:00</td>\n      <td>2022-07-01 00:00:00</td>\n      <td>2040</td>\n      <td>PROMO CUOTAS AHORA 12/18</td>\n      <td>27822</td>\n      <td>716</td>\n      <td>25107406</td>\n      <td>156</td>\n      <td>VISA CREDITO</td>\n      <td>18416.85</td>\n    </tr>\n    <tr>\n      <th>4</th>\n      <td>2022-06-15 00:00:00</td>\n      <td>2022-07-01 00:00:00</td>\n      <td>2800</td>\n      <td>TOTAL DEDUCCIONES</td>\n      <td>27822</td>\n      <td>716</td>\n      <td>25107406</td>\n      <td>156</td>\n      <td>VISA CREDITO</td>\n      <td>49585.43</td>\n    </tr>\n  </tbody>\n</table>\n</div>"
     },
     "execution_count": 4,
     "metadata": {},
     "output_type": "execute_result"
    }
   ],
   "source": [
    "tarjetas.head()"
   ]
  },
  {
   "cell_type": "markdown",
   "metadata": {
    "pycharm": {
     "name": "#%% md\n"
    }
   },
   "source": [
    "### 1- Pasar todos los nombres de las columnas a minusculas"
   ]
  },
  {
   "cell_type": "code",
   "execution_count": 5,
   "metadata": {
    "collapsed": false,
    "jupyter": {
     "outputs_hidden": false
    },
    "pycharm": {
     "name": "#%%\n"
    }
   },
   "outputs": [],
   "source": [
    "#cambio el nombre de las columnas y lo guardo en la columna original\n",
    "tarjetas.columns= tarjetas.columns.str.lower()"
   ]
  },
  {
   "cell_type": "code",
   "execution_count": 6,
   "metadata": {
    "collapsed": false,
    "jupyter": {
     "outputs_hidden": false
    },
    "pycharm": {
     "name": "#%%\n"
    }
   },
   "outputs": [
    {
     "data": {
      "text/plain": "Index(['presetacion_fecha', 'fecha_de_pago', 'cod_clearing', 'desc_creaing',\n       'nro_liquidacion', 'cod_sucursal', 'cod_comercio', 'cod_pagadora',\n       'cod_marca_producto', 'importe_concepto'],\n      dtype='object')"
     },
     "execution_count": 6,
     "metadata": {},
     "output_type": "execute_result"
    }
   ],
   "source": [
    "tarjetas.columns"
   ]
  },
  {
   "cell_type": "markdown",
   "metadata": {
    "pycharm": {
     "name": "#%% md\n"
    }
   },
   "source": [
    "### 2-Cuantas sucursales únicas hay? ¿Cuáles?"
   ]
  },
  {
   "cell_type": "code",
   "execution_count": 7,
   "metadata": {
    "collapsed": false,
    "jupyter": {
     "outputs_hidden": false
    },
    "pycharm": {
     "name": "#%%\n"
    }
   },
   "outputs": [
    {
     "data": {
      "text/plain": "array([716,  98, 671, 519, 241], dtype=int64)"
     },
     "execution_count": 7,
     "metadata": {},
     "output_type": "execute_result"
    }
   ],
   "source": [
    "# metodo unique para obtener los elementos de la columna sucursales sin repeticion\n",
    "tarjetas.cod_sucursal.unique()"
   ]
  },
  {
   "cell_type": "markdown",
   "metadata": {
    "pycharm": {
     "name": "#%% md\n"
    }
   },
   "source": [
    "### 3- Cuantas tarjetas de crédito distitas hay? ¿Cuáles?\n",
    "¿Se te ocurre un nombre mejor para esa columna?"
   ]
  },
  {
   "cell_type": "code",
   "execution_count": 8,
   "metadata": {
    "collapsed": false,
    "jupyter": {
     "outputs_hidden": false
    },
    "pycharm": {
     "name": "#%%\n"
    }
   },
   "outputs": [],
   "source": [
    "# metodo rename para renombrar, uso el parametro columns para renombrar la columna que se pasa por diccionario, y lo guardo en un nuevo DF\n",
    "df = tarjetas.rename(columns={'cod_marca_producto':'procesador_de_pago'})"
   ]
  },
  {
   "cell_type": "code",
   "execution_count": 11,
   "metadata": {
    "collapsed": false,
    "jupyter": {
     "outputs_hidden": false
    },
    "pycharm": {
     "name": "#%%\n"
    }
   },
   "outputs": [
    {
     "name": "stdout",
     "output_type": "stream",
     "text": [
      "VISA CREDITO\n",
      "VISA DEBITO\n",
      "MASTERCARD\n",
      "MASTERCARD DEBIT\n",
      "MAESTRO\n",
      "ARGENCARD\n"
     ]
    },
    {
     "data": {
      "text/plain": "[None, None, None, None, None, None]"
     },
     "execution_count": 11,
     "metadata": {},
     "output_type": "execute_result"
    }
   ],
   "source": [
    "# uso el metodo unique de nuevo para ver todas las procesadoras de pago, luego uso un ciclo for para imprimir por pantalla los elementos unicos de la columna\n",
    "procesador = df.procesador_de_pago.unique()\n",
    "[print(i) for i in procesador]"
   ]
  },
  {
   "cell_type": "code",
   "execution_count": 12,
   "metadata": {
    "collapsed": false,
    "jupyter": {
     "outputs_hidden": false
    },
    "pycharm": {
     "name": "#%%\n"
    }
   },
   "outputs": [
    {
     "data": {
      "text/plain": "array(['VISA CREDITO'], dtype=object)"
     },
     "execution_count": 12,
     "metadata": {},
     "output_type": "execute_result"
    }
   ],
   "source": [
    "# uso el metodo contains para traer de la columna procesador_de_pago todos los elementos que contengan 'CREDITO'\n",
    "mask_credit_card = df['procesador_de_pago'].str.contains(pat= ' CREDITO')\n",
    "df.procesador_de_pago[mask_credit_card].unique()\n"
   ]
  },
  {
   "cell_type": "markdown",
   "metadata": {
    "pycharm": {
     "name": "#%% md\n"
    }
   },
   "source": [
    "### 4- Cuants filas y columnas hay?\n"
   ]
  },
  {
   "cell_type": "code",
   "execution_count": 11,
   "metadata": {
    "collapsed": false,
    "jupyter": {
     "outputs_hidden": false
    },
    "pycharm": {
     "name": "#%%\n"
    }
   },
   "outputs": [
    {
     "data": {
      "text/plain": [
       "(47280, 10)"
      ]
     },
     "execution_count": 11,
     "metadata": {},
     "output_type": "execute_result"
    }
   ],
   "source": [
    "df.shape"
   ]
  },
  {
   "cell_type": "markdown",
   "metadata": {
    "pycharm": {
     "name": "#%% md\n"
    }
   },
   "source": [
    "### 5- ¿Cuanto suma el total de importe_concepto?\n"
   ]
  },
  {
   "cell_type": "code",
   "execution_count": 13,
   "metadata": {
    "collapsed": false,
    "jupyter": {
     "outputs_hidden": false
    },
    "pycharm": {
     "name": "#%%\n"
    }
   },
   "outputs": [
    {
     "name": "stdout",
     "output_type": "stream",
     "text": [
      "Suma total de importe_concepto: 4,145,618,332.503\n"
     ]
    }
   ],
   "source": [
    "total_importe= df.importe_concepto.sum()\n",
    "\n",
    "print(f'Suma total de importe_concepto: {\"{:,}\".format(total_importe)}')"
   ]
  },
  {
   "cell_type": "markdown",
   "metadata": {
    "pycharm": {
     "name": "#%% md\n"
    }
   },
   "source": [
    "### 6- ¿Cuanto dinero se cobro por mes? Cree un lineplot para gráficarlo\n"
   ]
  },
  {
   "cell_type": "code",
   "execution_count": 14,
   "metadata": {
    "collapsed": false,
    "jupyter": {
     "outputs_hidden": false
    },
    "pycharm": {
     "name": "#%%\n"
    }
   },
   "outputs": [],
   "source": [
    "#convierto la columna a datetime, infer_datetime_format te reconoce el formato en que viene la fecha\n",
    "df['fecha_de_pago'] =  pd.to_datetime(df['fecha_de_pago'], infer_datetime_format=True)"
   ]
  },
  {
   "cell_type": "code",
   "execution_count": 18,
   "metadata": {
    "collapsed": false,
    "jupyter": {
     "outputs_hidden": false
    },
    "pycharm": {
     "name": "#%%\n"
    }
   },
   "outputs": [
    {
     "data": {
      "text/html": [
       "<div>\n",
       "<style scoped>\n",
       "    .dataframe tbody tr th:only-of-type {\n",
       "        vertical-align: middle;\n",
       "    }\n",
       "\n",
       "    .dataframe tbody tr th {\n",
       "        vertical-align: top;\n",
       "    }\n",
       "\n",
       "    .dataframe thead th {\n",
       "        text-align: right;\n",
       "    }\n",
       "</style>\n",
       "<table border=\"1\" class=\"dataframe\">\n",
       "  <thead>\n",
       "    <tr style=\"text-align: right;\">\n",
       "      <th></th>\n",
       "      <th>suma mes</th>\n",
       "    </tr>\n",
       "    <tr>\n",
       "      <th>fecha_de_pago</th>\n",
       "      <th></th>\n",
       "    </tr>\n",
       "  </thead>\n",
       "  <tbody>\n",
       "    <tr>\n",
       "      <th>7</th>\n",
       "      <td>4.145618e+09</td>\n",
       "    </tr>\n",
       "  </tbody>\n",
       "</table>\n",
       "</div>"
      ],
      "text/plain": [
       "                   suma mes\n",
       "fecha_de_pago              \n",
       "7              4.145618e+09"
      ]
     },
     "execution_count": 18,
     "metadata": {},
     "output_type": "execute_result"
    }
   ],
   "source": [
    "#hago la suma por mes usando groupby, pero todos los registros son del mismo mes\n",
    "by_month = df.groupby(df.fecha_de_pago.dt.month)\n",
    "\n",
    "suma_importe_mes= by_month.sum()['importe_concepto'].to_frame(name='suma mes')\n",
    "suma_importe_mes"
   ]
  },
  {
   "cell_type": "code",
   "execution_count": 20,
   "metadata": {
    "collapsed": false,
    "jupyter": {
     "outputs_hidden": false
    },
    "pycharm": {
     "name": "#%%\n"
    }
   },
   "outputs": [
    {
     "data": {
      "text/plain": [
       "<AxesSubplot:xlabel='fecha_de_pago'>"
      ]
     },
     "execution_count": 20,
     "metadata": {},
     "output_type": "execute_result"
    },
    {
     "data": {
      "image/png": "[encoded data removed]",
      "text/plain": [
       "<Figure size 432x288 with 1 Axes>"
      ]
     },
     "metadata": {
      "needs_background": "light"
     },
     "output_type": "display_data"
    }
   ],
   "source": [
    "#creo un grafico de linea con el importe por mes, pero al ser un solo mes no va a devuelve un grafico vacio\n",
    "suma_importe_mes.plot(kind=\"line\")\n"
   ]
  },
  {
   "cell_type": "code",
   "execution_count": 21,
   "metadata": {
    "collapsed": false,
    "jupyter": {
     "outputs_hidden": false
    },
    "pycharm": {
     "name": "#%%\n"
    }
   },
   "outputs": [
    {
     "data": {
      "text/html": [
       "<div>\n",
       "<style scoped>\n",
       "    .dataframe tbody tr th:only-of-type {\n",
       "        vertical-align: middle;\n",
       "    }\n",
       "\n",
       "    .dataframe tbody tr th {\n",
       "        vertical-align: top;\n",
       "    }\n",
       "\n",
       "    .dataframe thead th {\n",
       "        text-align: right;\n",
       "    }\n",
       "</style>\n",
       "<table border=\"1\" class=\"dataframe\">\n",
       "  <thead>\n",
       "    <tr style=\"text-align: right;\">\n",
       "      <th></th>\n",
       "      <th>suma dia</th>\n",
       "    </tr>\n",
       "    <tr>\n",
       "      <th>fecha_de_pago</th>\n",
       "      <th></th>\n",
       "    </tr>\n",
       "  </thead>\n",
       "  <tbody>\n",
       "    <tr>\n",
       "      <th>1</th>\n",
       "      <td>1.473177e+08</td>\n",
       "    </tr>\n",
       "    <tr>\n",
       "      <th>4</th>\n",
       "      <td>1.976693e+08</td>\n",
       "    </tr>\n",
       "    <tr>\n",
       "      <th>5</th>\n",
       "      <td>7.024681e+08</td>\n",
       "    </tr>\n",
       "    <tr>\n",
       "      <th>6</th>\n",
       "      <td>1.002753e+08</td>\n",
       "    </tr>\n",
       "    <tr>\n",
       "      <th>7</th>\n",
       "      <td>1.116222e+08</td>\n",
       "    </tr>\n",
       "    <tr>\n",
       "      <th>8</th>\n",
       "      <td>1.465996e+08</td>\n",
       "    </tr>\n",
       "    <tr>\n",
       "      <th>11</th>\n",
       "      <td>2.870652e+08</td>\n",
       "    </tr>\n",
       "    <tr>\n",
       "      <th>12</th>\n",
       "      <td>2.403649e+08</td>\n",
       "    </tr>\n",
       "    <tr>\n",
       "      <th>13</th>\n",
       "      <td>1.227566e+08</td>\n",
       "    </tr>\n",
       "    <tr>\n",
       "      <th>14</th>\n",
       "      <td>1.293021e+08</td>\n",
       "    </tr>\n",
       "    <tr>\n",
       "      <th>15</th>\n",
       "      <td>1.469553e+08</td>\n",
       "    </tr>\n",
       "    <tr>\n",
       "      <th>18</th>\n",
       "      <td>2.730872e+08</td>\n",
       "    </tr>\n",
       "    <tr>\n",
       "      <th>19</th>\n",
       "      <td>2.219563e+08</td>\n",
       "    </tr>\n",
       "    <tr>\n",
       "      <th>20</th>\n",
       "      <td>1.363231e+08</td>\n",
       "    </tr>\n",
       "    <tr>\n",
       "      <th>21</th>\n",
       "      <td>1.431265e+08</td>\n",
       "    </tr>\n",
       "    <tr>\n",
       "      <th>22</th>\n",
       "      <td>1.531738e+08</td>\n",
       "    </tr>\n",
       "    <tr>\n",
       "      <th>25</th>\n",
       "      <td>2.727540e+08</td>\n",
       "    </tr>\n",
       "    <tr>\n",
       "      <th>26</th>\n",
       "      <td>2.242873e+08</td>\n",
       "    </tr>\n",
       "    <tr>\n",
       "      <th>27</th>\n",
       "      <td>1.235888e+08</td>\n",
       "    </tr>\n",
       "    <tr>\n",
       "      <th>28</th>\n",
       "      <td>1.294521e+08</td>\n",
       "    </tr>\n",
       "    <tr>\n",
       "      <th>29</th>\n",
       "      <td>1.354729e+08</td>\n",
       "    </tr>\n",
       "  </tbody>\n",
       "</table>\n",
       "</div>"
      ],
      "text/plain": [
       "                   suma dia\n",
       "fecha_de_pago              \n",
       "1              1.473177e+08\n",
       "4              1.976693e+08\n",
       "5              7.024681e+08\n",
       "6              1.002753e+08\n",
       "7              1.116222e+08\n",
       "8              1.465996e+08\n",
       "11             2.870652e+08\n",
       "12             2.403649e+08\n",
       "13             1.227566e+08\n",
       "14             1.293021e+08\n",
       "15             1.469553e+08\n",
       "18             2.730872e+08\n",
       "19             2.219563e+08\n",
       "20             1.363231e+08\n",
       "21             1.431265e+08\n",
       "22             1.531738e+08\n",
       "25             2.727540e+08\n",
       "26             2.242873e+08\n",
       "27             1.235888e+08\n",
       "28             1.294521e+08\n",
       "29             1.354729e+08"
      ]
     },
     "execution_count": 21,
     "metadata": {},
     "output_type": "execute_result"
    }
   ],
   "source": [
    "#al ser todos los registros de un mismo mes me parece mas interesante ver el importe por dia\n",
    "by_day = df.groupby(df.fecha_de_pago.dt.day)\n",
    "\n",
    "suma_importe_dia= by_day.sum()['importe_concepto'].to_frame(name='suma dia')\n",
    "suma_importe_dia"
   ]
  },
  {
   "cell_type": "code",
   "execution_count": 22,
   "metadata": {
    "collapsed": false,
    "jupyter": {
     "outputs_hidden": false
    },
    "pycharm": {
     "name": "#%%\n"
    }
   },
   "outputs": [
    {
     "data": {
      "image/png": "[encoded data removed]",
      "text/plain": [
       "<Figure size 432x288 with 1 Axes>"
      ]
     },
     "metadata": {
      "needs_background": "light"
     },
     "output_type": "display_data"
    }
   ],
   "source": [
    "#creo el mismo grafico de linea pero con el importe por dia\n",
    "plot_importe_dia = suma_importe_dia.plot(kind=\"line\")\n"
   ]
  },
  {
   "cell_type": "markdown",
   "metadata": {
    "pycharm": {
     "name": "#%% md\n"
    }
   },
   "source": [
    "### 7- Cuanto dinero se cobro por sucursal?\n"
   ]
  },
  {
   "cell_type": "code",
   "execution_count": 23,
   "metadata": {
    "collapsed": false,
    "jupyter": {
     "outputs_hidden": false
    },
    "pycharm": {
     "name": "#%%\n"
    }
   },
   "outputs": [
    {
     "data": {
      "text/plain": [
       "array([716,  98, 671, 519, 241], dtype=int64)"
      ]
     },
     "execution_count": 23,
     "metadata": {},
     "output_type": "execute_result"
    }
   ],
   "source": [
    "# chequeo cuantas sucursales hay\n",
    "df.cod_sucursal.unique()\n"
   ]
  },
  {
   "cell_type": "code",
   "execution_count": 24,
   "metadata": {
    "collapsed": false,
    "jupyter": {
     "outputs_hidden": false
    },
    "pycharm": {
     "name": "#%%\n"
    }
   },
   "outputs": [
    {
     "data": {
      "text/html": [
       "<div>\n",
       "<style scoped>\n",
       "    .dataframe tbody tr th:only-of-type {\n",
       "        vertical-align: middle;\n",
       "    }\n",
       "\n",
       "    .dataframe tbody tr th {\n",
       "        vertical-align: top;\n",
       "    }\n",
       "\n",
       "    .dataframe thead th {\n",
       "        text-align: right;\n",
       "    }\n",
       "</style>\n",
       "<table border=\"1\" class=\"dataframe\">\n",
       "  <thead>\n",
       "    <tr style=\"text-align: right;\">\n",
       "      <th></th>\n",
       "      <th>importe total</th>\n",
       "    </tr>\n",
       "    <tr>\n",
       "      <th>cod_sucursal</th>\n",
       "      <th></th>\n",
       "    </tr>\n",
       "  </thead>\n",
       "  <tbody>\n",
       "    <tr>\n",
       "      <th>98</th>\n",
       "      <td>1.401451e+08</td>\n",
       "    </tr>\n",
       "    <tr>\n",
       "      <th>241</th>\n",
       "      <td>9.773019e+05</td>\n",
       "    </tr>\n",
       "    <tr>\n",
       "      <th>519</th>\n",
       "      <td>3.621125e+09</td>\n",
       "    </tr>\n",
       "    <tr>\n",
       "      <th>671</th>\n",
       "      <td>2.418829e+08</td>\n",
       "    </tr>\n",
       "    <tr>\n",
       "      <th>716</th>\n",
       "      <td>1.414878e+08</td>\n",
       "    </tr>\n",
       "  </tbody>\n",
       "</table>\n",
       "</div>"
      ],
      "text/plain": [
       "              importe total\n",
       "cod_sucursal               \n",
       "98             1.401451e+08\n",
       "241            9.773019e+05\n",
       "519            3.621125e+09\n",
       "671            2.418829e+08\n",
       "716            1.414878e+08"
      ]
     },
     "execution_count": 24,
     "metadata": {},
     "output_type": "execute_result"
    }
   ],
   "source": [
    "# agrupo por sucursal y hago la suma de la columna importe_concepto\n",
    "importe_sucursal = df.groupby('cod_sucursal').sum()['importe_concepto'].to_frame(name='importe total')\n",
    "importe_sucursal"
   ]
  },
  {
   "cell_type": "markdown",
   "metadata": {
    "pycharm": {
     "name": "#%% md\n"
    }
   },
   "source": [
    "### 8- Cuanto dinero se cobro por mes por sucursal?\n"
   ]
  },
  {
   "cell_type": "code",
   "execution_count": 25,
   "metadata": {
    "collapsed": false,
    "jupyter": {
     "outputs_hidden": false
    },
    "pycharm": {
     "name": "#%%\n"
    }
   },
   "outputs": [
    {
     "data": {
      "text/plain": [
       "fecha_de_pago  cod_sucursal\n",
       "7              98              1.401451e+08\n",
       "               241             9.773019e+05\n",
       "               519             3.621125e+09\n",
       "               671             2.418829e+08\n",
       "               716             1.414878e+08\n",
       "Name: importe_concepto, dtype: float64"
      ]
     },
     "execution_count": 25,
     "metadata": {},
     "output_type": "execute_result"
    }
   ],
   "source": [
    "#creo variables con las columnas de fecha por mes y la de sucursal para usarlas en el groupby\n",
    "month= df.fecha_de_pago.dt.month\n",
    "sucursal= df.cod_sucursal\n",
    "\n",
    "importe_x_mes_sucursal= df.groupby(by=[month, sucursal]).sum()['importe_concepto']\n",
    "importe_x_mes_sucursal"
   ]
  },
  {
   "cell_type": "code",
   "execution_count": 26,
   "metadata": {
    "collapsed": false,
    "jupyter": {
     "outputs_hidden": false
    },
    "pycharm": {
     "name": "#%%\n"
    }
   },
   "outputs": [
    {
     "data": {
      "text/plain": [
       "fecha_de_pago  cod_sucursal\n",
       "1              98              3.669431e+06\n",
       "               519             1.312675e+08\n",
       "               671             7.608022e+06\n",
       "               716             4.772726e+06\n",
       "4              98              6.478613e+06\n",
       "                                   ...     \n",
       "29             98              4.980121e+06\n",
       "               241             2.472456e+04\n",
       "               519             1.182347e+08\n",
       "               671             6.924635e+06\n",
       "               716             5.308723e+06\n",
       "Name: importe_concepto, Length: 91, dtype: float64"
      ]
     },
     "execution_count": 26,
     "metadata": {},
     "output_type": "execute_result"
    }
   ],
   "source": [
    "#repite el paso anterior pero por dia\n",
    "day= df.fecha_de_pago.dt.day\n",
    "\n",
    "df.groupby(by=[day, sucursal]).sum()['importe_concepto']\n"
   ]
  },
  {
   "cell_type": "markdown",
   "metadata": {
    "pycharm": {
     "name": "#%% md\n"
    }
   },
   "source": [
    "### 9- Cuanto dinero se cobro por mes por sucursal y por descreaing?"
   ]
  },
  {
   "cell_type": "code",
   "execution_count": 27,
   "metadata": {
    "collapsed": false,
    "jupyter": {
     "outputs_hidden": false
    },
    "pycharm": {
     "name": "#%%\n"
    }
   },
   "outputs": [
    {
     "data": {
      "text/plain": [
       "Index(['presetacion_fecha', 'fecha_de_pago', 'cod_clearing', 'desc_creaing',\n",
       "       'nro_liquidacion', 'cod_sucursal', 'cod_comercio', 'cod_pagadora',\n",
       "       'procesador_de_pago', 'importe_concepto'],\n",
       "      dtype='object')"
      ]
     },
     "execution_count": 27,
     "metadata": {},
     "output_type": "execute_result"
    }
   ],
   "source": [
    "df.columns\n"
   ]
  },
  {
   "cell_type": "code",
   "execution_count": 28,
   "metadata": {
    "collapsed": false,
    "jupyter": {
     "outputs_hidden": false
    },
    "pycharm": {
     "name": "#%%\n"
    }
   },
   "outputs": [
    {
     "data": {
      "text/html": [
       "<div>\n",
       "<style scoped>\n",
       "    .dataframe tbody tr th:only-of-type {\n",
       "        vertical-align: middle;\n",
       "    }\n",
       "\n",
       "    .dataframe tbody tr th {\n",
       "        vertical-align: top;\n",
       "    }\n",
       "\n",
       "    .dataframe thead th {\n",
       "        text-align: right;\n",
       "    }\n",
       "</style>\n",
       "<table border=\"1\" class=\"dataframe\">\n",
       "  <thead>\n",
       "    <tr style=\"text-align: right;\">\n",
       "      <th></th>\n",
       "      <th></th>\n",
       "      <th></th>\n",
       "      <th>sum</th>\n",
       "    </tr>\n",
       "    <tr>\n",
       "      <th>fecha_de_pago</th>\n",
       "      <th>cod_sucursal</th>\n",
       "      <th>desc_creaing</th>\n",
       "      <th></th>\n",
       "    </tr>\n",
       "  </thead>\n",
       "  <tbody>\n",
       "    <tr>\n",
       "      <th rowspan=\"11\" valign=\"top\">7</th>\n",
       "      <th rowspan=\"5\" valign=\"top\">98</th>\n",
       "      <th>PERCEPCION IVA R.G. 2408   3,00 %</th>\n",
       "      <td>1.133729e+04</td>\n",
       "    </tr>\n",
       "    <tr>\n",
       "      <th>AJUSTE SIRTAC JUL. 1RA QUINC</th>\n",
       "      <td>1.861809e+04</td>\n",
       "    </tr>\n",
       "    <tr>\n",
       "      <th>ARANCEL</th>\n",
       "      <td>4.826957e+05</td>\n",
       "    </tr>\n",
       "    <tr>\n",
       "      <th>CRED FISCAL AHORA 12/18 VTA EN CUOTAS 10,50%</th>\n",
       "      <td>9.107601e+04</td>\n",
       "    </tr>\n",
       "    <tr>\n",
       "      <th>CRED. FISCAL PAG.S/DTO.FIN.OTORG 21,00%</th>\n",
       "      <td>3.315445e+04</td>\n",
       "    </tr>\n",
       "    <tr>\n",
       "      <th>...</th>\n",
       "      <th>...</th>\n",
       "      <td>...</td>\n",
       "    </tr>\n",
       "    <tr>\n",
       "      <th rowspan=\"5\" valign=\"top\">716</th>\n",
       "      <th>SUBTOTAL NETO DE PAGOS</th>\n",
       "      <td>3.279938e+07</td>\n",
       "    </tr>\n",
       "    <tr>\n",
       "      <th>TOTAL DEDUCCIONES</th>\n",
       "      <td>3.392830e+06</td>\n",
       "    </tr>\n",
       "    <tr>\n",
       "      <th>TOTAL LIQUIDACION</th>\n",
       "      <td>3.277539e+07</td>\n",
       "    </tr>\n",
       "    <tr>\n",
       "      <th>VENTAS C/DESCUENTO CONTADO</th>\n",
       "      <td>1.665725e+07</td>\n",
       "    </tr>\n",
       "    <tr>\n",
       "      <th>VENTAS C/DTO CUOTAS FINANC. OTORG.</th>\n",
       "      <td>1.951097e+07</td>\n",
       "    </tr>\n",
       "  </tbody>\n",
       "</table>\n",
       "<p>135 rows × 1 columns</p>\n",
       "</div>"
      ],
      "text/plain": [
       "                                                                                  sum\n",
       "fecha_de_pago cod_sucursal desc_creaing                                              \n",
       "7             98            PERCEPCION IVA R.G. 2408   3,00 %            1.133729e+04\n",
       "                           AJUSTE SIRTAC JUL. 1RA QUINC                  1.861809e+04\n",
       "                           ARANCEL                                       4.826957e+05\n",
       "                           CRED FISCAL AHORA 12/18 VTA EN CUOTAS 10,50%  9.107601e+04\n",
       "                           CRED. FISCAL PAG.S/DTO.FIN.OTORG 21,00%       3.315445e+04\n",
       "...                                                                               ...\n",
       "              716          SUBTOTAL NETO DE PAGOS                        3.279938e+07\n",
       "                           TOTAL DEDUCCIONES                             3.392830e+06\n",
       "                           TOTAL LIQUIDACION                             3.277539e+07\n",
       "                           VENTAS C/DESCUENTO CONTADO                    1.665725e+07\n",
       "                           VENTAS C/DTO CUOTAS FINANC. OTORG.            1.951097e+07\n",
       "\n",
       "[135 rows x 1 columns]"
      ]
     },
     "execution_count": 28,
     "metadata": {},
     "output_type": "execute_result"
    }
   ],
   "source": [
    "descreaing= df.desc_creaing\n",
    "\n",
    "df.groupby(by=[month, sucursal, descreaing]).sum()['importe_concepto'].to_frame(name='sum')\n"
   ]
  },
  {
   "cell_type": "markdown",
   "metadata": {
    "pycharm": {
     "name": "#%% md\n"
    }
   },
   "source": [
    "### 10- Pase a columnas los valores presentes en desc_creaing y ponga los importes como valores y en el indice la fecha de pago y el codigo de comercio"
   ]
  },
  {
   "cell_type": "code",
   "execution_count": 29,
   "metadata": {
    "collapsed": false,
    "jupyter": {
     "outputs_hidden": false
    },
    "pycharm": {
     "name": "#%%\n"
    }
   },
   "outputs": [
    {
     "data": {
      "text/html": [
       "<div>\n",
       "<style scoped>\n",
       "    .dataframe tbody tr th:only-of-type {\n",
       "        vertical-align: middle;\n",
       "    }\n",
       "\n",
       "    .dataframe tbody tr th {\n",
       "        vertical-align: top;\n",
       "    }\n",
       "\n",
       "    .dataframe thead th {\n",
       "        text-align: right;\n",
       "    }\n",
       "</style>\n",
       "<table border=\"1\" class=\"dataframe\">\n",
       "  <thead>\n",
       "    <tr style=\"text-align: right;\">\n",
       "      <th></th>\n",
       "      <th>desc_creaing</th>\n",
       "      <th>PERCEPCION IVA R.G. 2408   3,00 %</th>\n",
       "      <th>AJUSTE SIRTAC JUL. 1RA QUINC</th>\n",
       "      <th>AJUSTE SIRTAC JUNIO 2DA QUINC</th>\n",
       "      <th>ARANCEL</th>\n",
       "      <th>CARGO  SISTEMA CUOTAS MENS</th>\n",
       "      <th>CARGO LIQUIDACION ELECTR.</th>\n",
       "      <th>CARGO POSNET  FIRSTDATA.COM.AR</th>\n",
       "      <th>CARGOS DE ENTIDAD</th>\n",
       "      <th>CRED FISCAL AHORA 12/18 VTA EN CUOTAS 10,50%</th>\n",
       "      <th>CRED FISCAL AHORA 12/18 VTA EN CUOTAS 21,00%</th>\n",
       "      <th>...</th>\n",
       "      <th>RETENCION ING.BRUTOS</th>\n",
       "      <th>RETENCION ING.BRUTOS SIRTAC</th>\n",
       "      <th>RETENCION IVA</th>\n",
       "      <th>SERVICIO OPER. INTERNAC.</th>\n",
       "      <th>SUBTOTAL NETO DE PAGOS</th>\n",
       "      <th>TOTAL DEDUCCIONES</th>\n",
       "      <th>TOTAL LIQUIDACION</th>\n",
       "      <th>TOTAL PAGOS DE COMERCIOS</th>\n",
       "      <th>VENTAS C/DESCUENTO CONTADO</th>\n",
       "      <th>VENTAS C/DTO CUOTAS FINANC. OTORG.</th>\n",
       "    </tr>\n",
       "    <tr>\n",
       "      <th>fecha_de_pago</th>\n",
       "      <th>cod_comercio</th>\n",
       "      <th></th>\n",
       "      <th></th>\n",
       "      <th></th>\n",
       "      <th></th>\n",
       "      <th></th>\n",
       "      <th></th>\n",
       "      <th></th>\n",
       "      <th></th>\n",
       "      <th></th>\n",
       "      <th></th>\n",
       "      <th></th>\n",
       "      <th></th>\n",
       "      <th></th>\n",
       "      <th></th>\n",
       "      <th></th>\n",
       "      <th></th>\n",
       "      <th></th>\n",
       "      <th></th>\n",
       "      <th></th>\n",
       "      <th></th>\n",
       "      <th></th>\n",
       "    </tr>\n",
       "  </thead>\n",
       "  <tbody>\n",
       "    <tr>\n",
       "      <th rowspan=\"5\" valign=\"top\">2022-07-01</th>\n",
       "      <th>4547438</th>\n",
       "      <td>3517.63</td>\n",
       "      <td>NaN</td>\n",
       "      <td>NaN</td>\n",
       "      <td>136195.74</td>\n",
       "      <td>NaN</td>\n",
       "      <td>NaN</td>\n",
       "      <td>NaN</td>\n",
       "      <td>NaN</td>\n",
       "      <td>21828.430</td>\n",
       "      <td>NaN</td>\n",
       "      <td>...</td>\n",
       "      <td>180436.95</td>\n",
       "      <td>84880.39</td>\n",
       "      <td>185812.88</td>\n",
       "      <td>NaN</td>\n",
       "      <td>8689928.80</td>\n",
       "      <td>951995.14</td>\n",
       "      <td>8689928.80</td>\n",
       "      <td>NaN</td>\n",
       "      <td>5107424.65</td>\n",
       "      <td>4534499.29</td>\n",
       "    </tr>\n",
       "    <tr>\n",
       "      <th>14935528</th>\n",
       "      <td>NaN</td>\n",
       "      <td>NaN</td>\n",
       "      <td>NaN</td>\n",
       "      <td>44.98</td>\n",
       "      <td>NaN</td>\n",
       "      <td>NaN</td>\n",
       "      <td>NaN</td>\n",
       "      <td>NaN</td>\n",
       "      <td>10.653</td>\n",
       "      <td>NaN</td>\n",
       "      <td>...</td>\n",
       "      <td>45.64</td>\n",
       "      <td>24.99</td>\n",
       "      <td>70.58</td>\n",
       "      <td>NaN</td>\n",
       "      <td>2191.25</td>\n",
       "      <td>307.75</td>\n",
       "      <td>2191.25</td>\n",
       "      <td>NaN</td>\n",
       "      <td>NaN</td>\n",
       "      <td>2499.00</td>\n",
       "    </tr>\n",
       "    <tr>\n",
       "      <th>14935556</th>\n",
       "      <td>NaN</td>\n",
       "      <td>NaN</td>\n",
       "      <td>NaN</td>\n",
       "      <td>170.95</td>\n",
       "      <td>NaN</td>\n",
       "      <td>NaN</td>\n",
       "      <td>NaN</td>\n",
       "      <td>NaN</td>\n",
       "      <td>40.485</td>\n",
       "      <td>NaN</td>\n",
       "      <td>...</td>\n",
       "      <td>NaN</td>\n",
       "      <td>94.97</td>\n",
       "      <td>268.21</td>\n",
       "      <td>NaN</td>\n",
       "      <td>8500.90</td>\n",
       "      <td>996.10</td>\n",
       "      <td>8500.90</td>\n",
       "      <td>NaN</td>\n",
       "      <td>NaN</td>\n",
       "      <td>9497.00</td>\n",
       "    </tr>\n",
       "    <tr>\n",
       "      <th>14935569</th>\n",
       "      <td>NaN</td>\n",
       "      <td>NaN</td>\n",
       "      <td>NaN</td>\n",
       "      <td>428.31</td>\n",
       "      <td>NaN</td>\n",
       "      <td>NaN</td>\n",
       "      <td>NaN</td>\n",
       "      <td>NaN</td>\n",
       "      <td>101.438</td>\n",
       "      <td>NaN</td>\n",
       "      <td>...</td>\n",
       "      <td>NaN</td>\n",
       "      <td>237.95</td>\n",
       "      <td>672.02</td>\n",
       "      <td>NaN</td>\n",
       "      <td>21075.24</td>\n",
       "      <td>2719.76</td>\n",
       "      <td>21075.24</td>\n",
       "      <td>NaN</td>\n",
       "      <td>NaN</td>\n",
       "      <td>23795.00</td>\n",
       "    </tr>\n",
       "    <tr>\n",
       "      <th>15537297</th>\n",
       "      <td>80.55</td>\n",
       "      <td>NaN</td>\n",
       "      <td>NaN</td>\n",
       "      <td>2685.16</td>\n",
       "      <td>NaN</td>\n",
       "      <td>NaN</td>\n",
       "      <td>NaN</td>\n",
       "      <td>NaN</td>\n",
       "      <td>703.068</td>\n",
       "      <td>NaN</td>\n",
       "      <td>...</td>\n",
       "      <td>NaN</td>\n",
       "      <td>1491.76</td>\n",
       "      <td>4193.84</td>\n",
       "      <td>NaN</td>\n",
       "      <td>131363.52</td>\n",
       "      <td>17812.10</td>\n",
       "      <td>131363.52</td>\n",
       "      <td>NaN</td>\n",
       "      <td>NaN</td>\n",
       "      <td>149175.62</td>\n",
       "    </tr>\n",
       "    <tr>\n",
       "      <th>...</th>\n",
       "      <th>...</th>\n",
       "      <td>...</td>\n",
       "      <td>...</td>\n",
       "      <td>...</td>\n",
       "      <td>...</td>\n",
       "      <td>...</td>\n",
       "      <td>...</td>\n",
       "      <td>...</td>\n",
       "      <td>...</td>\n",
       "      <td>...</td>\n",
       "      <td>...</td>\n",
       "      <td>...</td>\n",
       "      <td>...</td>\n",
       "      <td>...</td>\n",
       "      <td>...</td>\n",
       "      <td>...</td>\n",
       "      <td>...</td>\n",
       "      <td>...</td>\n",
       "      <td>...</td>\n",
       "      <td>...</td>\n",
       "      <td>...</td>\n",
       "      <td>...</td>\n",
       "    </tr>\n",
       "    <tr>\n",
       "      <th rowspan=\"5\" valign=\"top\">2022-07-29</th>\n",
       "      <th>25108471</th>\n",
       "      <td>94.32</td>\n",
       "      <td>NaN</td>\n",
       "      <td>NaN</td>\n",
       "      <td>3204.65</td>\n",
       "      <td>NaN</td>\n",
       "      <td>NaN</td>\n",
       "      <td>NaN</td>\n",
       "      <td>NaN</td>\n",
       "      <td>926.160</td>\n",
       "      <td>NaN</td>\n",
       "      <td>...</td>\n",
       "      <td>NaN</td>\n",
       "      <td>1275.92</td>\n",
       "      <td>4880.37</td>\n",
       "      <td>NaN</td>\n",
       "      <td>160772.74</td>\n",
       "      <td>21501.76</td>\n",
       "      <td>160772.74</td>\n",
       "      <td>NaN</td>\n",
       "      <td>9660.60</td>\n",
       "      <td>172613.90</td>\n",
       "    </tr>\n",
       "    <tr>\n",
       "      <th>25108573</th>\n",
       "      <td>96.97</td>\n",
       "      <td>NaN</td>\n",
       "      <td>NaN</td>\n",
       "      <td>3838.58</td>\n",
       "      <td>NaN</td>\n",
       "      <td>NaN</td>\n",
       "      <td>NaN</td>\n",
       "      <td>NaN</td>\n",
       "      <td>951.727</td>\n",
       "      <td>NaN</td>\n",
       "      <td>...</td>\n",
       "      <td>4714.19</td>\n",
       "      <td>1787.14</td>\n",
       "      <td>5019.62</td>\n",
       "      <td>NaN</td>\n",
       "      <td>227237.27</td>\n",
       "      <td>28067.73</td>\n",
       "      <td>227237.27</td>\n",
       "      <td>NaN</td>\n",
       "      <td>77926.00</td>\n",
       "      <td>177379.00</td>\n",
       "    </tr>\n",
       "    <tr>\n",
       "      <th>25877861</th>\n",
       "      <td>NaN</td>\n",
       "      <td>NaN</td>\n",
       "      <td>NaN</td>\n",
       "      <td>114.09</td>\n",
       "      <td>NaN</td>\n",
       "      <td>NaN</td>\n",
       "      <td>NaN</td>\n",
       "      <td>NaN</td>\n",
       "      <td>34.007</td>\n",
       "      <td>NaN</td>\n",
       "      <td>...</td>\n",
       "      <td>118.00</td>\n",
       "      <td>44.37</td>\n",
       "      <td>NaN</td>\n",
       "      <td>NaN</td>\n",
       "      <td>5675.95</td>\n",
       "      <td>662.25</td>\n",
       "      <td>5675.95</td>\n",
       "      <td>NaN</td>\n",
       "      <td>NaN</td>\n",
       "      <td>6338.20</td>\n",
       "    </tr>\n",
       "    <tr>\n",
       "      <th>25892842</th>\n",
       "      <td>313.88</td>\n",
       "      <td>NaN</td>\n",
       "      <td>NaN</td>\n",
       "      <td>11774.38</td>\n",
       "      <td>NaN</td>\n",
       "      <td>NaN</td>\n",
       "      <td>NaN</td>\n",
       "      <td>NaN</td>\n",
       "      <td>3338.294</td>\n",
       "      <td>NaN</td>\n",
       "      <td>...</td>\n",
       "      <td>NaN</td>\n",
       "      <td>5216.68</td>\n",
       "      <td>16170.14</td>\n",
       "      <td>NaN</td>\n",
       "      <td>668770.41</td>\n",
       "      <td>76469.32</td>\n",
       "      <td>668770.41</td>\n",
       "      <td>NaN</td>\n",
       "      <td>190580.00</td>\n",
       "      <td>554659.73</td>\n",
       "    </tr>\n",
       "    <tr>\n",
       "      <th>25892918</th>\n",
       "      <td>120.94</td>\n",
       "      <td>NaN</td>\n",
       "      <td>NaN</td>\n",
       "      <td>4823.25</td>\n",
       "      <td>NaN</td>\n",
       "      <td>NaN</td>\n",
       "      <td>NaN</td>\n",
       "      <td>NaN</td>\n",
       "      <td>1268.384</td>\n",
       "      <td>NaN</td>\n",
       "      <td>...</td>\n",
       "      <td>NaN</td>\n",
       "      <td>2260.10</td>\n",
       "      <td>6237.74</td>\n",
       "      <td>NaN</td>\n",
       "      <td>292988.64</td>\n",
       "      <td>29882.40</td>\n",
       "      <td>292988.64</td>\n",
       "      <td>NaN</td>\n",
       "      <td>107660.00</td>\n",
       "      <td>215211.04</td>\n",
       "    </tr>\n",
       "  </tbody>\n",
       "</table>\n",
       "<p>1689 rows × 39 columns</p>\n",
       "</div>"
      ],
      "text/plain": [
       "desc_creaing                 PERCEPCION IVA R.G. 2408   3,00 %  \\\n",
       "fecha_de_pago cod_comercio                                       \n",
       "2022-07-01    4547438                                  3517.63   \n",
       "              14935528                                     NaN   \n",
       "              14935556                                     NaN   \n",
       "              14935569                                     NaN   \n",
       "              15537297                                   80.55   \n",
       "...                                                        ...   \n",
       "2022-07-29    25108471                                   94.32   \n",
       "              25108573                                   96.97   \n",
       "              25877861                                     NaN   \n",
       "              25892842                                  313.88   \n",
       "              25892918                                  120.94   \n",
       "\n",
       "desc_creaing                AJUSTE SIRTAC JUL. 1RA QUINC  \\\n",
       "fecha_de_pago cod_comercio                                 \n",
       "2022-07-01    4547438                                NaN   \n",
       "              14935528                               NaN   \n",
       "              14935556                               NaN   \n",
       "              14935569                               NaN   \n",
       "              15537297                               NaN   \n",
       "...                                                  ...   \n",
       "2022-07-29    25108471                               NaN   \n",
       "              25108573                               NaN   \n",
       "              25877861                               NaN   \n",
       "              25892842                               NaN   \n",
       "              25892918                               NaN   \n",
       "\n",
       "desc_creaing                AJUSTE SIRTAC JUNIO 2DA QUINC  \\\n",
       "fecha_de_pago cod_comercio                                  \n",
       "2022-07-01    4547438                                 NaN   \n",
       "              14935528                                NaN   \n",
       "              14935556                                NaN   \n",
       "              14935569                                NaN   \n",
       "              15537297                                NaN   \n",
       "...                                                   ...   \n",
       "2022-07-29    25108471                                NaN   \n",
       "              25108573                                NaN   \n",
       "              25877861                                NaN   \n",
       "              25892842                                NaN   \n",
       "              25892918                                NaN   \n",
       "\n",
       "desc_creaing                ARANCEL                                       \\\n",
       "fecha_de_pago cod_comercio                                                 \n",
       "2022-07-01    4547438                                          136195.74   \n",
       "              14935528                                             44.98   \n",
       "              14935556                                            170.95   \n",
       "              14935569                                            428.31   \n",
       "              15537297                                           2685.16   \n",
       "...                                                                  ...   \n",
       "2022-07-29    25108471                                           3204.65   \n",
       "              25108573                                           3838.58   \n",
       "              25877861                                            114.09   \n",
       "              25892842                                          11774.38   \n",
       "              25892918                                           4823.25   \n",
       "\n",
       "desc_creaing                CARGO  SISTEMA CUOTAS MENS                    \\\n",
       "fecha_de_pago cod_comercio                                                 \n",
       "2022-07-01    4547438                                                NaN   \n",
       "              14935528                                               NaN   \n",
       "              14935556                                               NaN   \n",
       "              14935569                                               NaN   \n",
       "              15537297                                               NaN   \n",
       "...                                                                  ...   \n",
       "2022-07-29    25108471                                               NaN   \n",
       "              25108573                                               NaN   \n",
       "              25877861                                               NaN   \n",
       "              25892842                                               NaN   \n",
       "              25892918                                               NaN   \n",
       "\n",
       "desc_creaing                CARGO LIQUIDACION ELECTR.  \\\n",
       "fecha_de_pago cod_comercio                              \n",
       "2022-07-01    4547438                             NaN   \n",
       "              14935528                            NaN   \n",
       "              14935556                            NaN   \n",
       "              14935569                            NaN   \n",
       "              15537297                            NaN   \n",
       "...                                               ...   \n",
       "2022-07-29    25108471                            NaN   \n",
       "              25108573                            NaN   \n",
       "              25877861                            NaN   \n",
       "              25892842                            NaN   \n",
       "              25892918                            NaN   \n",
       "\n",
       "desc_creaing                CARGO POSNET  FIRSTDATA.COM.AR  \\\n",
       "fecha_de_pago cod_comercio                                   \n",
       "2022-07-01    4547438                                  NaN   \n",
       "              14935528                                 NaN   \n",
       "              14935556                                 NaN   \n",
       "              14935569                                 NaN   \n",
       "              15537297                                 NaN   \n",
       "...                                                    ...   \n",
       "2022-07-29    25108471                                 NaN   \n",
       "              25108573                                 NaN   \n",
       "              25877861                                 NaN   \n",
       "              25892842                                 NaN   \n",
       "              25892918                                 NaN   \n",
       "\n",
       "desc_creaing                CARGOS DE ENTIDAD                             \\\n",
       "fecha_de_pago cod_comercio                                                 \n",
       "2022-07-01    4547438                                                NaN   \n",
       "              14935528                                               NaN   \n",
       "              14935556                                               NaN   \n",
       "              14935569                                               NaN   \n",
       "              15537297                                               NaN   \n",
       "...                                                                  ...   \n",
       "2022-07-29    25108471                                               NaN   \n",
       "              25108573                                               NaN   \n",
       "              25877861                                               NaN   \n",
       "              25892842                                               NaN   \n",
       "              25892918                                               NaN   \n",
       "\n",
       "desc_creaing                CRED FISCAL AHORA 12/18 VTA EN CUOTAS 10,50%  \\\n",
       "fecha_de_pago cod_comercio                                                 \n",
       "2022-07-01    4547438                                          21828.430   \n",
       "              14935528                                            10.653   \n",
       "              14935556                                            40.485   \n",
       "              14935569                                           101.438   \n",
       "              15537297                                           703.068   \n",
       "...                                                                  ...   \n",
       "2022-07-29    25108471                                           926.160   \n",
       "              25108573                                           951.727   \n",
       "              25877861                                            34.007   \n",
       "              25892842                                          3338.294   \n",
       "              25892918                                          1268.384   \n",
       "\n",
       "desc_creaing                CRED FISCAL AHORA 12/18 VTA EN CUOTAS 21,00%  ...  \\\n",
       "fecha_de_pago cod_comercio                                                ...   \n",
       "2022-07-01    4547438                                                NaN  ...   \n",
       "              14935528                                               NaN  ...   \n",
       "              14935556                                               NaN  ...   \n",
       "              14935569                                               NaN  ...   \n",
       "              15537297                                               NaN  ...   \n",
       "...                                                                  ...  ...   \n",
       "2022-07-29    25108471                                               NaN  ...   \n",
       "              25108573                                               NaN  ...   \n",
       "              25877861                                               NaN  ...   \n",
       "              25892842                                               NaN  ...   \n",
       "              25892918                                               NaN  ...   \n",
       "\n",
       "desc_creaing                RETENCION ING.BRUTOS                          \\\n",
       "fecha_de_pago cod_comercio                                                 \n",
       "2022-07-01    4547438                                          180436.95   \n",
       "              14935528                                             45.64   \n",
       "              14935556                                               NaN   \n",
       "              14935569                                               NaN   \n",
       "              15537297                                               NaN   \n",
       "...                                                                  ...   \n",
       "2022-07-29    25108471                                               NaN   \n",
       "              25108573                                           4714.19   \n",
       "              25877861                                            118.00   \n",
       "              25892842                                               NaN   \n",
       "              25892918                                               NaN   \n",
       "\n",
       "desc_creaing                RETENCION ING.BRUTOS SIRTAC  \\\n",
       "fecha_de_pago cod_comercio                                \n",
       "2022-07-01    4547438                          84880.39   \n",
       "              14935528                            24.99   \n",
       "              14935556                            94.97   \n",
       "              14935569                           237.95   \n",
       "              15537297                          1491.76   \n",
       "...                                                 ...   \n",
       "2022-07-29    25108471                          1275.92   \n",
       "              25108573                          1787.14   \n",
       "              25877861                            44.37   \n",
       "              25892842                          5216.68   \n",
       "              25892918                          2260.10   \n",
       "\n",
       "desc_creaing                RETENCION IVA                                 \\\n",
       "fecha_de_pago cod_comercio                                                 \n",
       "2022-07-01    4547438                                          185812.88   \n",
       "              14935528                                             70.58   \n",
       "              14935556                                            268.21   \n",
       "              14935569                                            672.02   \n",
       "              15537297                                           4193.84   \n",
       "...                                                                  ...   \n",
       "2022-07-29    25108471                                           4880.37   \n",
       "              25108573                                           5019.62   \n",
       "              25877861                                               NaN   \n",
       "              25892842                                          16170.14   \n",
       "              25892918                                           6237.74   \n",
       "\n",
       "desc_creaing                SERVICIO OPER. INTERNAC.  \\\n",
       "fecha_de_pago cod_comercio                             \n",
       "2022-07-01    4547438                            NaN   \n",
       "              14935528                           NaN   \n",
       "              14935556                           NaN   \n",
       "              14935569                           NaN   \n",
       "              15537297                           NaN   \n",
       "...                                              ...   \n",
       "2022-07-29    25108471                           NaN   \n",
       "              25108573                           NaN   \n",
       "              25877861                           NaN   \n",
       "              25892842                           NaN   \n",
       "              25892918                           NaN   \n",
       "\n",
       "desc_creaing                SUBTOTAL NETO DE PAGOS                        \\\n",
       "fecha_de_pago cod_comercio                                                 \n",
       "2022-07-01    4547438                                         8689928.80   \n",
       "              14935528                                           2191.25   \n",
       "              14935556                                           8500.90   \n",
       "              14935569                                          21075.24   \n",
       "              15537297                                         131363.52   \n",
       "...                                                                  ...   \n",
       "2022-07-29    25108471                                         160772.74   \n",
       "              25108573                                         227237.27   \n",
       "              25877861                                           5675.95   \n",
       "              25892842                                         668770.41   \n",
       "              25892918                                         292988.64   \n",
       "\n",
       "desc_creaing                TOTAL DEDUCCIONES                             \\\n",
       "fecha_de_pago cod_comercio                                                 \n",
       "2022-07-01    4547438                                          951995.14   \n",
       "              14935528                                            307.75   \n",
       "              14935556                                            996.10   \n",
       "              14935569                                           2719.76   \n",
       "              15537297                                          17812.10   \n",
       "...                                                                  ...   \n",
       "2022-07-29    25108471                                          21501.76   \n",
       "              25108573                                          28067.73   \n",
       "              25877861                                            662.25   \n",
       "              25892842                                          76469.32   \n",
       "              25892918                                          29882.40   \n",
       "\n",
       "desc_creaing                TOTAL LIQUIDACION                             \\\n",
       "fecha_de_pago cod_comercio                                                 \n",
       "2022-07-01    4547438                                         8689928.80   \n",
       "              14935528                                           2191.25   \n",
       "              14935556                                           8500.90   \n",
       "              14935569                                          21075.24   \n",
       "              15537297                                         131363.52   \n",
       "...                                                                  ...   \n",
       "2022-07-29    25108471                                         160772.74   \n",
       "              25108573                                         227237.27   \n",
       "              25877861                                           5675.95   \n",
       "              25892842                                         668770.41   \n",
       "              25892918                                         292988.64   \n",
       "\n",
       "desc_creaing                TOTAL PAGOS DE COMERCIOS                      \\\n",
       "fecha_de_pago cod_comercio                                                 \n",
       "2022-07-01    4547438                                                NaN   \n",
       "              14935528                                               NaN   \n",
       "              14935556                                               NaN   \n",
       "              14935569                                               NaN   \n",
       "              15537297                                               NaN   \n",
       "...                                                                  ...   \n",
       "2022-07-29    25108471                                               NaN   \n",
       "              25108573                                               NaN   \n",
       "              25877861                                               NaN   \n",
       "              25892842                                               NaN   \n",
       "              25892918                                               NaN   \n",
       "\n",
       "desc_creaing                VENTAS C/DESCUENTO CONTADO                    \\\n",
       "fecha_de_pago cod_comercio                                                 \n",
       "2022-07-01    4547438                                         5107424.65   \n",
       "              14935528                                               NaN   \n",
       "              14935556                                               NaN   \n",
       "              14935569                                               NaN   \n",
       "              15537297                                               NaN   \n",
       "...                                                                  ...   \n",
       "2022-07-29    25108471                                           9660.60   \n",
       "              25108573                                          77926.00   \n",
       "              25877861                                               NaN   \n",
       "              25892842                                         190580.00   \n",
       "              25892918                                         107660.00   \n",
       "\n",
       "desc_creaing                VENTAS C/DTO CUOTAS FINANC. OTORG.            \n",
       "fecha_de_pago cod_comercio                                                \n",
       "2022-07-01    4547438                                         4534499.29  \n",
       "              14935528                                           2499.00  \n",
       "              14935556                                           9497.00  \n",
       "              14935569                                          23795.00  \n",
       "              15537297                                         149175.62  \n",
       "...                                                                  ...  \n",
       "2022-07-29    25108471                                         172613.90  \n",
       "              25108573                                         177379.00  \n",
       "              25877861                                           6338.20  \n",
       "              25892842                                         554659.73  \n",
       "              25892918                                         215211.04  \n",
       "\n",
       "[1689 rows x 39 columns]"
      ]
     },
     "execution_count": 29,
     "metadata": {},
     "output_type": "execute_result"
    }
   ],
   "source": [
    "#encontre esta manera de hacerlo, usando groupby y unstack a la columna desc_creaing\n",
    "df.groupby(['fecha_de_pago', 'cod_comercio','desc_creaing'])['importe_concepto'].sum().unstack('desc_creaing')"
   ]
  },
  {
   "cell_type": "code",
   "execution_count": 30,
   "metadata": {
    "collapsed": false,
    "jupyter": {
     "outputs_hidden": false
    },
    "pycharm": {
     "name": "#%%\n"
    }
   },
   "outputs": [
    {
     "data": {
      "text/html": [
       "<div>\n",
       "<style scoped>\n",
       "    .dataframe tbody tr th:only-of-type {\n",
       "        vertical-align: middle;\n",
       "    }\n",
       "\n",
       "    .dataframe tbody tr th {\n",
       "        vertical-align: top;\n",
       "    }\n",
       "\n",
       "    .dataframe thead th {\n",
       "        text-align: right;\n",
       "    }\n",
       "</style>\n",
       "<table border=\"1\" class=\"dataframe\">\n",
       "  <thead>\n",
       "    <tr style=\"text-align: right;\">\n",
       "      <th></th>\n",
       "      <th>desc_creaing</th>\n",
       "      <th>PERCEPCION IVA R.G. 2408   3,00 %</th>\n",
       "      <th>AJUSTE SIRTAC JUL. 1RA QUINC</th>\n",
       "      <th>AJUSTE SIRTAC JUNIO 2DA QUINC</th>\n",
       "      <th>ARANCEL</th>\n",
       "      <th>CARGO  SISTEMA CUOTAS MENS</th>\n",
       "      <th>CARGO LIQUIDACION ELECTR.</th>\n",
       "      <th>CARGO POSNET  FIRSTDATA.COM.AR</th>\n",
       "      <th>CARGOS DE ENTIDAD</th>\n",
       "      <th>CRED FISCAL AHORA 12/18 VTA EN CUOTAS 10,50%</th>\n",
       "      <th>CRED FISCAL AHORA 12/18 VTA EN CUOTAS 21,00%</th>\n",
       "      <th>...</th>\n",
       "      <th>RETENCION ING.BRUTOS</th>\n",
       "      <th>RETENCION ING.BRUTOS SIRTAC</th>\n",
       "      <th>RETENCION IVA</th>\n",
       "      <th>SERVICIO OPER. INTERNAC.</th>\n",
       "      <th>SUBTOTAL NETO DE PAGOS</th>\n",
       "      <th>TOTAL DEDUCCIONES</th>\n",
       "      <th>TOTAL LIQUIDACION</th>\n",
       "      <th>TOTAL PAGOS DE COMERCIOS</th>\n",
       "      <th>VENTAS C/DESCUENTO CONTADO</th>\n",
       "      <th>VENTAS C/DTO CUOTAS FINANC. OTORG.</th>\n",
       "    </tr>\n",
       "    <tr>\n",
       "      <th>fecha_de_pago</th>\n",
       "      <th>cod_comercio</th>\n",
       "      <th></th>\n",
       "      <th></th>\n",
       "      <th></th>\n",
       "      <th></th>\n",
       "      <th></th>\n",
       "      <th></th>\n",
       "      <th></th>\n",
       "      <th></th>\n",
       "      <th></th>\n",
       "      <th></th>\n",
       "      <th></th>\n",
       "      <th></th>\n",
       "      <th></th>\n",
       "      <th></th>\n",
       "      <th></th>\n",
       "      <th></th>\n",
       "      <th></th>\n",
       "      <th></th>\n",
       "      <th></th>\n",
       "      <th></th>\n",
       "      <th></th>\n",
       "    </tr>\n",
       "  </thead>\n",
       "  <tbody>\n",
       "    <tr>\n",
       "      <th rowspan=\"5\" valign=\"top\">2022-07-01</th>\n",
       "      <th>4547438</th>\n",
       "      <td>1172.543333</td>\n",
       "      <td>NaN</td>\n",
       "      <td>NaN</td>\n",
       "      <td>27239.148</td>\n",
       "      <td>NaN</td>\n",
       "      <td>NaN</td>\n",
       "      <td>NaN</td>\n",
       "      <td>NaN</td>\n",
       "      <td>21828.430</td>\n",
       "      <td>NaN</td>\n",
       "      <td>...</td>\n",
       "      <td>36087.390</td>\n",
       "      <td>16976.078</td>\n",
       "      <td>37162.576</td>\n",
       "      <td>NaN</td>\n",
       "      <td>1737985.760</td>\n",
       "      <td>190399.028</td>\n",
       "      <td>1737985.760</td>\n",
       "      <td>NaN</td>\n",
       "      <td>1.276856e+06</td>\n",
       "      <td>2267249.645</td>\n",
       "    </tr>\n",
       "    <tr>\n",
       "      <th>14935528</th>\n",
       "      <td>NaN</td>\n",
       "      <td>NaN</td>\n",
       "      <td>NaN</td>\n",
       "      <td>44.980</td>\n",
       "      <td>NaN</td>\n",
       "      <td>NaN</td>\n",
       "      <td>NaN</td>\n",
       "      <td>NaN</td>\n",
       "      <td>10.653</td>\n",
       "      <td>NaN</td>\n",
       "      <td>...</td>\n",
       "      <td>45.640</td>\n",
       "      <td>24.990</td>\n",
       "      <td>70.580</td>\n",
       "      <td>NaN</td>\n",
       "      <td>2191.250</td>\n",
       "      <td>307.750</td>\n",
       "      <td>2191.250</td>\n",
       "      <td>NaN</td>\n",
       "      <td>NaN</td>\n",
       "      <td>2499.000</td>\n",
       "    </tr>\n",
       "    <tr>\n",
       "      <th>14935556</th>\n",
       "      <td>NaN</td>\n",
       "      <td>NaN</td>\n",
       "      <td>NaN</td>\n",
       "      <td>170.950</td>\n",
       "      <td>NaN</td>\n",
       "      <td>NaN</td>\n",
       "      <td>NaN</td>\n",
       "      <td>NaN</td>\n",
       "      <td>40.485</td>\n",
       "      <td>NaN</td>\n",
       "      <td>...</td>\n",
       "      <td>NaN</td>\n",
       "      <td>94.970</td>\n",
       "      <td>268.210</td>\n",
       "      <td>NaN</td>\n",
       "      <td>8500.900</td>\n",
       "      <td>996.100</td>\n",
       "      <td>8500.900</td>\n",
       "      <td>NaN</td>\n",
       "      <td>NaN</td>\n",
       "      <td>9497.000</td>\n",
       "    </tr>\n",
       "    <tr>\n",
       "      <th>14935569</th>\n",
       "      <td>NaN</td>\n",
       "      <td>NaN</td>\n",
       "      <td>NaN</td>\n",
       "      <td>428.310</td>\n",
       "      <td>NaN</td>\n",
       "      <td>NaN</td>\n",
       "      <td>NaN</td>\n",
       "      <td>NaN</td>\n",
       "      <td>101.438</td>\n",
       "      <td>NaN</td>\n",
       "      <td>...</td>\n",
       "      <td>NaN</td>\n",
       "      <td>237.950</td>\n",
       "      <td>672.020</td>\n",
       "      <td>NaN</td>\n",
       "      <td>21075.240</td>\n",
       "      <td>2719.760</td>\n",
       "      <td>21075.240</td>\n",
       "      <td>NaN</td>\n",
       "      <td>NaN</td>\n",
       "      <td>23795.000</td>\n",
       "    </tr>\n",
       "    <tr>\n",
       "      <th>15537297</th>\n",
       "      <td>80.550000</td>\n",
       "      <td>NaN</td>\n",
       "      <td>NaN</td>\n",
       "      <td>2685.160</td>\n",
       "      <td>NaN</td>\n",
       "      <td>NaN</td>\n",
       "      <td>NaN</td>\n",
       "      <td>NaN</td>\n",
       "      <td>703.068</td>\n",
       "      <td>NaN</td>\n",
       "      <td>...</td>\n",
       "      <td>NaN</td>\n",
       "      <td>1491.760</td>\n",
       "      <td>4193.840</td>\n",
       "      <td>NaN</td>\n",
       "      <td>131363.520</td>\n",
       "      <td>17812.100</td>\n",
       "      <td>131363.520</td>\n",
       "      <td>NaN</td>\n",
       "      <td>NaN</td>\n",
       "      <td>149175.620</td>\n",
       "    </tr>\n",
       "    <tr>\n",
       "      <th>...</th>\n",
       "      <th>...</th>\n",
       "      <td>...</td>\n",
       "      <td>...</td>\n",
       "      <td>...</td>\n",
       "      <td>...</td>\n",
       "      <td>...</td>\n",
       "      <td>...</td>\n",
       "      <td>...</td>\n",
       "      <td>...</td>\n",
       "      <td>...</td>\n",
       "      <td>...</td>\n",
       "      <td>...</td>\n",
       "      <td>...</td>\n",
       "      <td>...</td>\n",
       "      <td>...</td>\n",
       "      <td>...</td>\n",
       "      <td>...</td>\n",
       "      <td>...</td>\n",
       "      <td>...</td>\n",
       "      <td>...</td>\n",
       "      <td>...</td>\n",
       "      <td>...</td>\n",
       "    </tr>\n",
       "    <tr>\n",
       "      <th rowspan=\"5\" valign=\"top\">2022-07-29</th>\n",
       "      <th>25108471</th>\n",
       "      <td>94.320000</td>\n",
       "      <td>NaN</td>\n",
       "      <td>NaN</td>\n",
       "      <td>1602.325</td>\n",
       "      <td>NaN</td>\n",
       "      <td>NaN</td>\n",
       "      <td>NaN</td>\n",
       "      <td>NaN</td>\n",
       "      <td>926.160</td>\n",
       "      <td>NaN</td>\n",
       "      <td>...</td>\n",
       "      <td>NaN</td>\n",
       "      <td>637.960</td>\n",
       "      <td>4880.370</td>\n",
       "      <td>NaN</td>\n",
       "      <td>80386.370</td>\n",
       "      <td>10750.880</td>\n",
       "      <td>80386.370</td>\n",
       "      <td>NaN</td>\n",
       "      <td>4.830300e+03</td>\n",
       "      <td>172613.900</td>\n",
       "    </tr>\n",
       "    <tr>\n",
       "      <th>25108573</th>\n",
       "      <td>96.970000</td>\n",
       "      <td>NaN</td>\n",
       "      <td>NaN</td>\n",
       "      <td>1919.290</td>\n",
       "      <td>NaN</td>\n",
       "      <td>NaN</td>\n",
       "      <td>NaN</td>\n",
       "      <td>NaN</td>\n",
       "      <td>951.727</td>\n",
       "      <td>NaN</td>\n",
       "      <td>...</td>\n",
       "      <td>2357.095</td>\n",
       "      <td>893.570</td>\n",
       "      <td>5019.620</td>\n",
       "      <td>NaN</td>\n",
       "      <td>113618.635</td>\n",
       "      <td>14033.865</td>\n",
       "      <td>113618.635</td>\n",
       "      <td>NaN</td>\n",
       "      <td>3.896300e+04</td>\n",
       "      <td>177379.000</td>\n",
       "    </tr>\n",
       "    <tr>\n",
       "      <th>25877861</th>\n",
       "      <td>NaN</td>\n",
       "      <td>NaN</td>\n",
       "      <td>NaN</td>\n",
       "      <td>114.090</td>\n",
       "      <td>NaN</td>\n",
       "      <td>NaN</td>\n",
       "      <td>NaN</td>\n",
       "      <td>NaN</td>\n",
       "      <td>34.007</td>\n",
       "      <td>NaN</td>\n",
       "      <td>...</td>\n",
       "      <td>118.000</td>\n",
       "      <td>44.370</td>\n",
       "      <td>NaN</td>\n",
       "      <td>NaN</td>\n",
       "      <td>5675.950</td>\n",
       "      <td>662.250</td>\n",
       "      <td>5675.950</td>\n",
       "      <td>NaN</td>\n",
       "      <td>NaN</td>\n",
       "      <td>6338.200</td>\n",
       "    </tr>\n",
       "    <tr>\n",
       "      <th>25892842</th>\n",
       "      <td>313.880000</td>\n",
       "      <td>NaN</td>\n",
       "      <td>NaN</td>\n",
       "      <td>5887.190</td>\n",
       "      <td>NaN</td>\n",
       "      <td>NaN</td>\n",
       "      <td>NaN</td>\n",
       "      <td>NaN</td>\n",
       "      <td>3338.294</td>\n",
       "      <td>NaN</td>\n",
       "      <td>...</td>\n",
       "      <td>NaN</td>\n",
       "      <td>2608.340</td>\n",
       "      <td>16170.140</td>\n",
       "      <td>NaN</td>\n",
       "      <td>334385.205</td>\n",
       "      <td>38234.660</td>\n",
       "      <td>334385.205</td>\n",
       "      <td>NaN</td>\n",
       "      <td>9.529000e+04</td>\n",
       "      <td>554659.730</td>\n",
       "    </tr>\n",
       "    <tr>\n",
       "      <th>25892918</th>\n",
       "      <td>120.940000</td>\n",
       "      <td>NaN</td>\n",
       "      <td>NaN</td>\n",
       "      <td>2411.625</td>\n",
       "      <td>NaN</td>\n",
       "      <td>NaN</td>\n",
       "      <td>NaN</td>\n",
       "      <td>NaN</td>\n",
       "      <td>1268.384</td>\n",
       "      <td>NaN</td>\n",
       "      <td>...</td>\n",
       "      <td>NaN</td>\n",
       "      <td>1130.050</td>\n",
       "      <td>6237.740</td>\n",
       "      <td>NaN</td>\n",
       "      <td>146494.320</td>\n",
       "      <td>14941.200</td>\n",
       "      <td>146494.320</td>\n",
       "      <td>NaN</td>\n",
       "      <td>5.383000e+04</td>\n",
       "      <td>215211.040</td>\n",
       "    </tr>\n",
       "  </tbody>\n",
       "</table>\n",
       "<p>1689 rows × 39 columns</p>\n",
       "</div>"
      ],
      "text/plain": [
       "desc_creaing                 PERCEPCION IVA R.G. 2408   3,00 %  \\\n",
       "fecha_de_pago cod_comercio                                       \n",
       "2022-07-01    4547438                              1172.543333   \n",
       "              14935528                                     NaN   \n",
       "              14935556                                     NaN   \n",
       "              14935569                                     NaN   \n",
       "              15537297                               80.550000   \n",
       "...                                                        ...   \n",
       "2022-07-29    25108471                               94.320000   \n",
       "              25108573                               96.970000   \n",
       "              25877861                                     NaN   \n",
       "              25892842                              313.880000   \n",
       "              25892918                              120.940000   \n",
       "\n",
       "desc_creaing                AJUSTE SIRTAC JUL. 1RA QUINC  \\\n",
       "fecha_de_pago cod_comercio                                 \n",
       "2022-07-01    4547438                                NaN   \n",
       "              14935528                               NaN   \n",
       "              14935556                               NaN   \n",
       "              14935569                               NaN   \n",
       "              15537297                               NaN   \n",
       "...                                                  ...   \n",
       "2022-07-29    25108471                               NaN   \n",
       "              25108573                               NaN   \n",
       "              25877861                               NaN   \n",
       "              25892842                               NaN   \n",
       "              25892918                               NaN   \n",
       "\n",
       "desc_creaing                AJUSTE SIRTAC JUNIO 2DA QUINC  \\\n",
       "fecha_de_pago cod_comercio                                  \n",
       "2022-07-01    4547438                                 NaN   \n",
       "              14935528                                NaN   \n",
       "              14935556                                NaN   \n",
       "              14935569                                NaN   \n",
       "              15537297                                NaN   \n",
       "...                                                   ...   \n",
       "2022-07-29    25108471                                NaN   \n",
       "              25108573                                NaN   \n",
       "              25877861                                NaN   \n",
       "              25892842                                NaN   \n",
       "              25892918                                NaN   \n",
       "\n",
       "desc_creaing                ARANCEL                                       \\\n",
       "fecha_de_pago cod_comercio                                                 \n",
       "2022-07-01    4547438                                          27239.148   \n",
       "              14935528                                            44.980   \n",
       "              14935556                                           170.950   \n",
       "              14935569                                           428.310   \n",
       "              15537297                                          2685.160   \n",
       "...                                                                  ...   \n",
       "2022-07-29    25108471                                          1602.325   \n",
       "              25108573                                          1919.290   \n",
       "              25877861                                           114.090   \n",
       "              25892842                                          5887.190   \n",
       "              25892918                                          2411.625   \n",
       "\n",
       "desc_creaing                CARGO  SISTEMA CUOTAS MENS                    \\\n",
       "fecha_de_pago cod_comercio                                                 \n",
       "2022-07-01    4547438                                                NaN   \n",
       "              14935528                                               NaN   \n",
       "              14935556                                               NaN   \n",
       "              14935569                                               NaN   \n",
       "              15537297                                               NaN   \n",
       "...                                                                  ...   \n",
       "2022-07-29    25108471                                               NaN   \n",
       "              25108573                                               NaN   \n",
       "              25877861                                               NaN   \n",
       "              25892842                                               NaN   \n",
       "              25892918                                               NaN   \n",
       "\n",
       "desc_creaing                CARGO LIQUIDACION ELECTR.  \\\n",
       "fecha_de_pago cod_comercio                              \n",
       "2022-07-01    4547438                             NaN   \n",
       "              14935528                            NaN   \n",
       "              14935556                            NaN   \n",
       "              14935569                            NaN   \n",
       "              15537297                            NaN   \n",
       "...                                               ...   \n",
       "2022-07-29    25108471                            NaN   \n",
       "              25108573                            NaN   \n",
       "              25877861                            NaN   \n",
       "              25892842                            NaN   \n",
       "              25892918                            NaN   \n",
       "\n",
       "desc_creaing                CARGO POSNET  FIRSTDATA.COM.AR  \\\n",
       "fecha_de_pago cod_comercio                                   \n",
       "2022-07-01    4547438                                  NaN   \n",
       "              14935528                                 NaN   \n",
       "              14935556                                 NaN   \n",
       "              14935569                                 NaN   \n",
       "              15537297                                 NaN   \n",
       "...                                                    ...   \n",
       "2022-07-29    25108471                                 NaN   \n",
       "              25108573                                 NaN   \n",
       "              25877861                                 NaN   \n",
       "              25892842                                 NaN   \n",
       "              25892918                                 NaN   \n",
       "\n",
       "desc_creaing                CARGOS DE ENTIDAD                             \\\n",
       "fecha_de_pago cod_comercio                                                 \n",
       "2022-07-01    4547438                                                NaN   \n",
       "              14935528                                               NaN   \n",
       "              14935556                                               NaN   \n",
       "              14935569                                               NaN   \n",
       "              15537297                                               NaN   \n",
       "...                                                                  ...   \n",
       "2022-07-29    25108471                                               NaN   \n",
       "              25108573                                               NaN   \n",
       "              25877861                                               NaN   \n",
       "              25892842                                               NaN   \n",
       "              25892918                                               NaN   \n",
       "\n",
       "desc_creaing                CRED FISCAL AHORA 12/18 VTA EN CUOTAS 10,50%  \\\n",
       "fecha_de_pago cod_comercio                                                 \n",
       "2022-07-01    4547438                                          21828.430   \n",
       "              14935528                                            10.653   \n",
       "              14935556                                            40.485   \n",
       "              14935569                                           101.438   \n",
       "              15537297                                           703.068   \n",
       "...                                                                  ...   \n",
       "2022-07-29    25108471                                           926.160   \n",
       "              25108573                                           951.727   \n",
       "              25877861                                            34.007   \n",
       "              25892842                                          3338.294   \n",
       "              25892918                                          1268.384   \n",
       "\n",
       "desc_creaing                CRED FISCAL AHORA 12/18 VTA EN CUOTAS 21,00%  ...  \\\n",
       "fecha_de_pago cod_comercio                                                ...   \n",
       "2022-07-01    4547438                                                NaN  ...   \n",
       "              14935528                                               NaN  ...   \n",
       "              14935556                                               NaN  ...   \n",
       "              14935569                                               NaN  ...   \n",
       "              15537297                                               NaN  ...   \n",
       "...                                                                  ...  ...   \n",
       "2022-07-29    25108471                                               NaN  ...   \n",
       "              25108573                                               NaN  ...   \n",
       "              25877861                                               NaN  ...   \n",
       "              25892842                                               NaN  ...   \n",
       "              25892918                                               NaN  ...   \n",
       "\n",
       "desc_creaing                RETENCION ING.BRUTOS                          \\\n",
       "fecha_de_pago cod_comercio                                                 \n",
       "2022-07-01    4547438                                          36087.390   \n",
       "              14935528                                            45.640   \n",
       "              14935556                                               NaN   \n",
       "              14935569                                               NaN   \n",
       "              15537297                                               NaN   \n",
       "...                                                                  ...   \n",
       "2022-07-29    25108471                                               NaN   \n",
       "              25108573                                          2357.095   \n",
       "              25877861                                           118.000   \n",
       "              25892842                                               NaN   \n",
       "              25892918                                               NaN   \n",
       "\n",
       "desc_creaing                RETENCION ING.BRUTOS SIRTAC  \\\n",
       "fecha_de_pago cod_comercio                                \n",
       "2022-07-01    4547438                         16976.078   \n",
       "              14935528                           24.990   \n",
       "              14935556                           94.970   \n",
       "              14935569                          237.950   \n",
       "              15537297                         1491.760   \n",
       "...                                                 ...   \n",
       "2022-07-29    25108471                          637.960   \n",
       "              25108573                          893.570   \n",
       "              25877861                           44.370   \n",
       "              25892842                         2608.340   \n",
       "              25892918                         1130.050   \n",
       "\n",
       "desc_creaing                RETENCION IVA                                 \\\n",
       "fecha_de_pago cod_comercio                                                 \n",
       "2022-07-01    4547438                                          37162.576   \n",
       "              14935528                                            70.580   \n",
       "              14935556                                           268.210   \n",
       "              14935569                                           672.020   \n",
       "              15537297                                          4193.840   \n",
       "...                                                                  ...   \n",
       "2022-07-29    25108471                                          4880.370   \n",
       "              25108573                                          5019.620   \n",
       "              25877861                                               NaN   \n",
       "              25892842                                         16170.140   \n",
       "              25892918                                          6237.740   \n",
       "\n",
       "desc_creaing                SERVICIO OPER. INTERNAC.  \\\n",
       "fecha_de_pago cod_comercio                             \n",
       "2022-07-01    4547438                            NaN   \n",
       "              14935528                           NaN   \n",
       "              14935556                           NaN   \n",
       "              14935569                           NaN   \n",
       "              15537297                           NaN   \n",
       "...                                              ...   \n",
       "2022-07-29    25108471                           NaN   \n",
       "              25108573                           NaN   \n",
       "              25877861                           NaN   \n",
       "              25892842                           NaN   \n",
       "              25892918                           NaN   \n",
       "\n",
       "desc_creaing                SUBTOTAL NETO DE PAGOS                        \\\n",
       "fecha_de_pago cod_comercio                                                 \n",
       "2022-07-01    4547438                                        1737985.760   \n",
       "              14935528                                          2191.250   \n",
       "              14935556                                          8500.900   \n",
       "              14935569                                         21075.240   \n",
       "              15537297                                        131363.520   \n",
       "...                                                                  ...   \n",
       "2022-07-29    25108471                                         80386.370   \n",
       "              25108573                                        113618.635   \n",
       "              25877861                                          5675.950   \n",
       "              25892842                                        334385.205   \n",
       "              25892918                                        146494.320   \n",
       "\n",
       "desc_creaing                TOTAL DEDUCCIONES                             \\\n",
       "fecha_de_pago cod_comercio                                                 \n",
       "2022-07-01    4547438                                         190399.028   \n",
       "              14935528                                           307.750   \n",
       "              14935556                                           996.100   \n",
       "              14935569                                          2719.760   \n",
       "              15537297                                         17812.100   \n",
       "...                                                                  ...   \n",
       "2022-07-29    25108471                                         10750.880   \n",
       "              25108573                                         14033.865   \n",
       "              25877861                                           662.250   \n",
       "              25892842                                         38234.660   \n",
       "              25892918                                         14941.200   \n",
       "\n",
       "desc_creaing                TOTAL LIQUIDACION                             \\\n",
       "fecha_de_pago cod_comercio                                                 \n",
       "2022-07-01    4547438                                        1737985.760   \n",
       "              14935528                                          2191.250   \n",
       "              14935556                                          8500.900   \n",
       "              14935569                                         21075.240   \n",
       "              15537297                                        131363.520   \n",
       "...                                                                  ...   \n",
       "2022-07-29    25108471                                         80386.370   \n",
       "              25108573                                        113618.635   \n",
       "              25877861                                          5675.950   \n",
       "              25892842                                        334385.205   \n",
       "              25892918                                        146494.320   \n",
       "\n",
       "desc_creaing                TOTAL PAGOS DE COMERCIOS                      \\\n",
       "fecha_de_pago cod_comercio                                                 \n",
       "2022-07-01    4547438                                                NaN   \n",
       "              14935528                                               NaN   \n",
       "              14935556                                               NaN   \n",
       "              14935569                                               NaN   \n",
       "              15537297                                               NaN   \n",
       "...                                                                  ...   \n",
       "2022-07-29    25108471                                               NaN   \n",
       "              25108573                                               NaN   \n",
       "              25877861                                               NaN   \n",
       "              25892842                                               NaN   \n",
       "              25892918                                               NaN   \n",
       "\n",
       "desc_creaing                VENTAS C/DESCUENTO CONTADO                    \\\n",
       "fecha_de_pago cod_comercio                                                 \n",
       "2022-07-01    4547438                                       1.276856e+06   \n",
       "              14935528                                               NaN   \n",
       "              14935556                                               NaN   \n",
       "              14935569                                               NaN   \n",
       "              15537297                                               NaN   \n",
       "...                                                                  ...   \n",
       "2022-07-29    25108471                                      4.830300e+03   \n",
       "              25108573                                      3.896300e+04   \n",
       "              25877861                                               NaN   \n",
       "              25892842                                      9.529000e+04   \n",
       "              25892918                                      5.383000e+04   \n",
       "\n",
       "desc_creaing                VENTAS C/DTO CUOTAS FINANC. OTORG.            \n",
       "fecha_de_pago cod_comercio                                                \n",
       "2022-07-01    4547438                                        2267249.645  \n",
       "              14935528                                          2499.000  \n",
       "              14935556                                          9497.000  \n",
       "              14935569                                         23795.000  \n",
       "              15537297                                        149175.620  \n",
       "...                                                                  ...  \n",
       "2022-07-29    25108471                                        172613.900  \n",
       "              25108573                                        177379.000  \n",
       "              25877861                                          6338.200  \n",
       "              25892842                                        554659.730  \n",
       "              25892918                                        215211.040  \n",
       "\n",
       "[1689 rows x 39 columns]"
      ]
     },
     "execution_count": 30,
     "metadata": {},
     "output_type": "execute_result"
    }
   ],
   "source": [
    "#uso el metodo pivot_table para poner en columnas los valores de desc_creaing, como valores los importes y como infices fecha y comercio\n",
    "pd.pivot_table(df,columns='desc_creaing',values='importe_concepto', index=['fecha_de_pago','cod_comercio'])\n"
   ]
  },
  {
   "cell_type": "markdown",
   "metadata": {
    "id": "qYonU-BsZIiX",
    "pycharm": {
     "name": "#%% md\n"
    }
   },
   "source": [
    "### 11- Quedarse solo con tarjeta visa. Crear una columna que sume 'VENTAS C/DESCUENTO CONTADO' con\n",
    "                                'VENTAS C/DTO CUOTAS FINANC. OTORG.'"
   ]
  },
  {
   "cell_type": "code",
   "execution_count": 31,
   "metadata": {
    "collapsed": false,
    "jupyter": {
     "outputs_hidden": false
    },
    "pycharm": {
     "name": "#%%\n"
    }
   },
   "outputs": [
    {
     "data": {
      "text/plain": [
       "fecha_de_pago  cod_comercio\n",
       "2022-07-01     25098024        466353.970000\n",
       "               25107096        184476.023333\n",
       "               25107105        402094.000000\n",
       "               25107118        498690.760000\n",
       "               25107120        221920.300000\n",
       "                                   ...      \n",
       "2022-07-29     25108471        177444.200000\n",
       "               25108573        216342.000000\n",
       "               25877861                  NaN\n",
       "               25892842        649949.730000\n",
       "               25892918        269041.040000\n",
       "Name: ventas con descuento, Length: 1183, dtype: float64"
      ]
     },
     "execution_count": 31,
     "metadata": {},
     "output_type": "execute_result"
    }
   ],
   "source": [
    "#creo una mascara donde procesador_de_pago sea igual a VISA para filtrar luego en el df\n",
    "mask_visa = df['procesador_de_pago'].str.contains('VISA')\n",
    "\n",
    "#uso el metodo pivot_table como en el ejercicio anterior, usando el df filtrado con la mascara\n",
    "df_solo_visa = pd.pivot_table(df[mask_visa],columns='desc_creaing',values='importe_concepto', index=['fecha_de_pago','cod_comercio'])\n",
    "\n",
    "#creo una nueva columna a partir de la suma de otras dos\n",
    "df_solo_visa['ventas con descuento'] = df_solo_visa['VENTAS C/DESCUENTO CONTADO                  '] + df_solo_visa['VENTAS C/DTO CUOTAS FINANC. OTORG.          ']\n",
    "df_solo_visa['ventas con descuento']"
   ]
  },
  {
   "cell_type": "markdown",
   "metadata": {
    "pycharm": {
     "name": "#%% md\n"
    }
   },
   "source": [
    "### 12- Quedarse solo con la tarjeta mastercard y crear una columna que sea la suma de 'PERCEPCION IVA R.G. 2408   1,50 %' y  'PERCEPCION IVA R.G. 2408   3,00 %'"
   ]
  },
  {
   "cell_type": "code",
   "execution_count": 32,
   "metadata": {
    "collapsed": false,
    "jupyter": {
     "outputs_hidden": false
    },
    "pycharm": {
     "name": "#%%\n"
    }
   },
   "outputs": [
    {
     "data": {
      "text/html": [
       "<div>\n",
       "<style scoped>\n",
       "    .dataframe tbody tr th:only-of-type {\n",
       "        vertical-align: middle;\n",
       "    }\n",
       "\n",
       "    .dataframe tbody tr th {\n",
       "        vertical-align: top;\n",
       "    }\n",
       "\n",
       "    .dataframe thead th {\n",
       "        text-align: right;\n",
       "    }\n",
       "</style>\n",
       "<table border=\"1\" class=\"dataframe\">\n",
       "  <thead>\n",
       "    <tr style=\"text-align: right;\">\n",
       "      <th></th>\n",
       "      <th>desc_creaing</th>\n",
       "      <th>PERCEPCION IVA R.G. 2408   3,00 %</th>\n",
       "      <th>AJUSTE SIRTAC JUL. 1RA QUINC</th>\n",
       "      <th>AJUSTE SIRTAC JUNIO 2DA QUINC</th>\n",
       "      <th>ARANCEL</th>\n",
       "      <th>CARGO  SISTEMA CUOTAS MENS</th>\n",
       "      <th>CARGO LIQUIDACION ELECTR.</th>\n",
       "      <th>CARGO POSNET  FIRSTDATA.COM.AR</th>\n",
       "      <th>CARGOS DE ENTIDAD</th>\n",
       "      <th>CRED FISCAL AHORA 12/18 VTA EN CUOTAS 10,50%</th>\n",
       "      <th>CRED FISCAL AHORA 12/18 VTA EN CUOTAS 21,00%</th>\n",
       "      <th>...</th>\n",
       "      <th>RETENCION ING.BRUTOS SIRTAC</th>\n",
       "      <th>RETENCION IVA</th>\n",
       "      <th>SERVICIO OPER. INTERNAC.</th>\n",
       "      <th>SUBTOTAL NETO DE PAGOS</th>\n",
       "      <th>TOTAL DEDUCCIONES</th>\n",
       "      <th>TOTAL LIQUIDACION</th>\n",
       "      <th>TOTAL PAGOS DE COMERCIOS</th>\n",
       "      <th>VENTAS C/DESCUENTO CONTADO</th>\n",
       "      <th>VENTAS C/DTO CUOTAS FINANC. OTORG.</th>\n",
       "      <th>percepcion iva</th>\n",
       "    </tr>\n",
       "    <tr>\n",
       "      <th>fecha_de_pago</th>\n",
       "      <th>cod_comercio</th>\n",
       "      <th></th>\n",
       "      <th></th>\n",
       "      <th></th>\n",
       "      <th></th>\n",
       "      <th></th>\n",
       "      <th></th>\n",
       "      <th></th>\n",
       "      <th></th>\n",
       "      <th></th>\n",
       "      <th></th>\n",
       "      <th></th>\n",
       "      <th></th>\n",
       "      <th></th>\n",
       "      <th></th>\n",
       "      <th></th>\n",
       "      <th></th>\n",
       "      <th></th>\n",
       "      <th></th>\n",
       "      <th></th>\n",
       "      <th></th>\n",
       "      <th></th>\n",
       "    </tr>\n",
       "  </thead>\n",
       "  <tbody>\n",
       "    <tr>\n",
       "      <th rowspan=\"5\" valign=\"top\">2022-07-01</th>\n",
       "      <th>4547438</th>\n",
       "      <td>1172.543333</td>\n",
       "      <td>NaN</td>\n",
       "      <td>NaN</td>\n",
       "      <td>29733.925</td>\n",
       "      <td>NaN</td>\n",
       "      <td>NaN</td>\n",
       "      <td>NaN</td>\n",
       "      <td>NaN</td>\n",
       "      <td>21828.430</td>\n",
       "      <td>NaN</td>\n",
       "      <td>...</td>\n",
       "      <td>17444.365</td>\n",
       "      <td>43777.8425</td>\n",
       "      <td>NaN</td>\n",
       "      <td>1658141.915</td>\n",
       "      <td>212948.77</td>\n",
       "      <td>1658141.915</td>\n",
       "      <td>NaN</td>\n",
       "      <td>983287.816667</td>\n",
       "      <td>2267249.645</td>\n",
       "      <td>1629.433333</td>\n",
       "    </tr>\n",
       "    <tr>\n",
       "      <th>14935528</th>\n",
       "      <td>NaN</td>\n",
       "      <td>NaN</td>\n",
       "      <td>NaN</td>\n",
       "      <td>44.980</td>\n",
       "      <td>NaN</td>\n",
       "      <td>NaN</td>\n",
       "      <td>NaN</td>\n",
       "      <td>NaN</td>\n",
       "      <td>10.653</td>\n",
       "      <td>NaN</td>\n",
       "      <td>...</td>\n",
       "      <td>24.990</td>\n",
       "      <td>70.5800</td>\n",
       "      <td>NaN</td>\n",
       "      <td>2191.250</td>\n",
       "      <td>307.75</td>\n",
       "      <td>2191.250</td>\n",
       "      <td>NaN</td>\n",
       "      <td>NaN</td>\n",
       "      <td>2499.000</td>\n",
       "      <td>NaN</td>\n",
       "    </tr>\n",
       "    <tr>\n",
       "      <th>14935556</th>\n",
       "      <td>NaN</td>\n",
       "      <td>NaN</td>\n",
       "      <td>NaN</td>\n",
       "      <td>170.950</td>\n",
       "      <td>NaN</td>\n",
       "      <td>NaN</td>\n",
       "      <td>NaN</td>\n",
       "      <td>NaN</td>\n",
       "      <td>40.485</td>\n",
       "      <td>NaN</td>\n",
       "      <td>...</td>\n",
       "      <td>94.970</td>\n",
       "      <td>268.2100</td>\n",
       "      <td>NaN</td>\n",
       "      <td>8500.900</td>\n",
       "      <td>996.10</td>\n",
       "      <td>8500.900</td>\n",
       "      <td>NaN</td>\n",
       "      <td>NaN</td>\n",
       "      <td>9497.000</td>\n",
       "      <td>NaN</td>\n",
       "    </tr>\n",
       "    <tr>\n",
       "      <th>14935569</th>\n",
       "      <td>NaN</td>\n",
       "      <td>NaN</td>\n",
       "      <td>NaN</td>\n",
       "      <td>428.310</td>\n",
       "      <td>NaN</td>\n",
       "      <td>NaN</td>\n",
       "      <td>NaN</td>\n",
       "      <td>NaN</td>\n",
       "      <td>101.438</td>\n",
       "      <td>NaN</td>\n",
       "      <td>...</td>\n",
       "      <td>237.950</td>\n",
       "      <td>672.0200</td>\n",
       "      <td>NaN</td>\n",
       "      <td>21075.240</td>\n",
       "      <td>2719.76</td>\n",
       "      <td>21075.240</td>\n",
       "      <td>NaN</td>\n",
       "      <td>NaN</td>\n",
       "      <td>23795.000</td>\n",
       "      <td>NaN</td>\n",
       "    </tr>\n",
       "    <tr>\n",
       "      <th>15537297</th>\n",
       "      <td>80.550000</td>\n",
       "      <td>NaN</td>\n",
       "      <td>NaN</td>\n",
       "      <td>2685.160</td>\n",
       "      <td>NaN</td>\n",
       "      <td>NaN</td>\n",
       "      <td>NaN</td>\n",
       "      <td>NaN</td>\n",
       "      <td>703.068</td>\n",
       "      <td>NaN</td>\n",
       "      <td>...</td>\n",
       "      <td>1491.760</td>\n",
       "      <td>4193.8400</td>\n",
       "      <td>NaN</td>\n",
       "      <td>131363.520</td>\n",
       "      <td>17812.10</td>\n",
       "      <td>131363.520</td>\n",
       "      <td>NaN</td>\n",
       "      <td>NaN</td>\n",
       "      <td>149175.620</td>\n",
       "      <td>NaN</td>\n",
       "    </tr>\n",
       "    <tr>\n",
       "      <th>...</th>\n",
       "      <th>...</th>\n",
       "      <td>...</td>\n",
       "      <td>...</td>\n",
       "      <td>...</td>\n",
       "      <td>...</td>\n",
       "      <td>...</td>\n",
       "      <td>...</td>\n",
       "      <td>...</td>\n",
       "      <td>...</td>\n",
       "      <td>...</td>\n",
       "      <td>...</td>\n",
       "      <td>...</td>\n",
       "      <td>...</td>\n",
       "      <td>...</td>\n",
       "      <td>...</td>\n",
       "      <td>...</td>\n",
       "      <td>...</td>\n",
       "      <td>...</td>\n",
       "      <td>...</td>\n",
       "      <td>...</td>\n",
       "      <td>...</td>\n",
       "      <td>...</td>\n",
       "    </tr>\n",
       "    <tr>\n",
       "      <th rowspan=\"5\" valign=\"top\">2022-07-29</th>\n",
       "      <th>15589105</th>\n",
       "      <td>NaN</td>\n",
       "      <td>NaN</td>\n",
       "      <td>NaN</td>\n",
       "      <td>800.220</td>\n",
       "      <td>NaN</td>\n",
       "      <td>NaN</td>\n",
       "      <td>NaN</td>\n",
       "      <td>NaN</td>\n",
       "      <td>213.204</td>\n",
       "      <td>NaN</td>\n",
       "      <td>...</td>\n",
       "      <td>311.200</td>\n",
       "      <td>1248.7800</td>\n",
       "      <td>NaN</td>\n",
       "      <td>38084.230</td>\n",
       "      <td>6372.41</td>\n",
       "      <td>38084.230</td>\n",
       "      <td>NaN</td>\n",
       "      <td>14838.200000</td>\n",
       "      <td>29618.440</td>\n",
       "      <td>NaN</td>\n",
       "    </tr>\n",
       "    <tr>\n",
       "      <th>15589118</th>\n",
       "      <td>NaN</td>\n",
       "      <td>NaN</td>\n",
       "      <td>NaN</td>\n",
       "      <td>335.930</td>\n",
       "      <td>NaN</td>\n",
       "      <td>NaN</td>\n",
       "      <td>NaN</td>\n",
       "      <td>NaN</td>\n",
       "      <td>138.868</td>\n",
       "      <td>NaN</td>\n",
       "      <td>...</td>\n",
       "      <td>130.640</td>\n",
       "      <td>NaN</td>\n",
       "      <td>NaN</td>\n",
       "      <td>16664.510</td>\n",
       "      <td>1998.55</td>\n",
       "      <td>16664.510</td>\n",
       "      <td>NaN</td>\n",
       "      <td>NaN</td>\n",
       "      <td>18663.060</td>\n",
       "      <td>NaN</td>\n",
       "    </tr>\n",
       "    <tr>\n",
       "      <th>16378521</th>\n",
       "      <td>NaN</td>\n",
       "      <td>NaN</td>\n",
       "      <td>NaN</td>\n",
       "      <td>93.930</td>\n",
       "      <td>NaN</td>\n",
       "      <td>NaN</td>\n",
       "      <td>NaN</td>\n",
       "      <td>NaN</td>\n",
       "      <td>NaN</td>\n",
       "      <td>55.996</td>\n",
       "      <td>...</td>\n",
       "      <td>36.530</td>\n",
       "      <td>NaN</td>\n",
       "      <td>NaN</td>\n",
       "      <td>4644.280</td>\n",
       "      <td>573.92</td>\n",
       "      <td>4644.280</td>\n",
       "      <td>NaN</td>\n",
       "      <td>NaN</td>\n",
       "      <td>5218.200</td>\n",
       "      <td>NaN</td>\n",
       "    </tr>\n",
       "    <tr>\n",
       "      <th>19265106</th>\n",
       "      <td>NaN</td>\n",
       "      <td>NaN</td>\n",
       "      <td>NaN</td>\n",
       "      <td>115.160</td>\n",
       "      <td>NaN</td>\n",
       "      <td>NaN</td>\n",
       "      <td>NaN</td>\n",
       "      <td>NaN</td>\n",
       "      <td>34.328</td>\n",
       "      <td>NaN</td>\n",
       "      <td>...</td>\n",
       "      <td>44.790</td>\n",
       "      <td>NaN</td>\n",
       "      <td>NaN</td>\n",
       "      <td>5729.500</td>\n",
       "      <td>668.50</td>\n",
       "      <td>5729.500</td>\n",
       "      <td>NaN</td>\n",
       "      <td>NaN</td>\n",
       "      <td>6398.000</td>\n",
       "      <td>NaN</td>\n",
       "    </tr>\n",
       "    <tr>\n",
       "      <th>19273970</th>\n",
       "      <td>NaN</td>\n",
       "      <td>NaN</td>\n",
       "      <td>NaN</td>\n",
       "      <td>576.000</td>\n",
       "      <td>NaN</td>\n",
       "      <td>NaN</td>\n",
       "      <td>NaN</td>\n",
       "      <td>NaN</td>\n",
       "      <td>146.164</td>\n",
       "      <td>NaN</td>\n",
       "      <td>...</td>\n",
       "      <td>224.000</td>\n",
       "      <td>900.9600</td>\n",
       "      <td>NaN</td>\n",
       "      <td>28639.980</td>\n",
       "      <td>3360.12</td>\n",
       "      <td>28639.980</td>\n",
       "      <td>NaN</td>\n",
       "      <td>4758.600000</td>\n",
       "      <td>27241.500</td>\n",
       "      <td>NaN</td>\n",
       "    </tr>\n",
       "  </tbody>\n",
       "</table>\n",
       "<p>506 rows × 38 columns</p>\n",
       "</div>"
      ],
      "text/plain": [
       "desc_creaing                 PERCEPCION IVA R.G. 2408   3,00 %  \\\n",
       "fecha_de_pago cod_comercio                                       \n",
       "2022-07-01    4547438                              1172.543333   \n",
       "              14935528                                     NaN   \n",
       "              14935556                                     NaN   \n",
       "              14935569                                     NaN   \n",
       "              15537297                               80.550000   \n",
       "...                                                        ...   \n",
       "2022-07-29    15589105                                     NaN   \n",
       "              15589118                                     NaN   \n",
       "              16378521                                     NaN   \n",
       "              19265106                                     NaN   \n",
       "              19273970                                     NaN   \n",
       "\n",
       "desc_creaing                AJUSTE SIRTAC JUL. 1RA QUINC  \\\n",
       "fecha_de_pago cod_comercio                                 \n",
       "2022-07-01    4547438                                NaN   \n",
       "              14935528                               NaN   \n",
       "              14935556                               NaN   \n",
       "              14935569                               NaN   \n",
       "              15537297                               NaN   \n",
       "...                                                  ...   \n",
       "2022-07-29    15589105                               NaN   \n",
       "              15589118                               NaN   \n",
       "              16378521                               NaN   \n",
       "              19265106                               NaN   \n",
       "              19273970                               NaN   \n",
       "\n",
       "desc_creaing                AJUSTE SIRTAC JUNIO 2DA QUINC  \\\n",
       "fecha_de_pago cod_comercio                                  \n",
       "2022-07-01    4547438                                 NaN   \n",
       "              14935528                                NaN   \n",
       "              14935556                                NaN   \n",
       "              14935569                                NaN   \n",
       "              15537297                                NaN   \n",
       "...                                                   ...   \n",
       "2022-07-29    15589105                                NaN   \n",
       "              15589118                                NaN   \n",
       "              16378521                                NaN   \n",
       "              19265106                                NaN   \n",
       "              19273970                                NaN   \n",
       "\n",
       "desc_creaing                ARANCEL                                       \\\n",
       "fecha_de_pago cod_comercio                                                 \n",
       "2022-07-01    4547438                                          29733.925   \n",
       "              14935528                                            44.980   \n",
       "              14935556                                           170.950   \n",
       "              14935569                                           428.310   \n",
       "              15537297                                          2685.160   \n",
       "...                                                                  ...   \n",
       "2022-07-29    15589105                                           800.220   \n",
       "              15589118                                           335.930   \n",
       "              16378521                                            93.930   \n",
       "              19265106                                           115.160   \n",
       "              19273970                                           576.000   \n",
       "\n",
       "desc_creaing                CARGO  SISTEMA CUOTAS MENS                    \\\n",
       "fecha_de_pago cod_comercio                                                 \n",
       "2022-07-01    4547438                                                NaN   \n",
       "              14935528                                               NaN   \n",
       "              14935556                                               NaN   \n",
       "              14935569                                               NaN   \n",
       "              15537297                                               NaN   \n",
       "...                                                                  ...   \n",
       "2022-07-29    15589105                                               NaN   \n",
       "              15589118                                               NaN   \n",
       "              16378521                                               NaN   \n",
       "              19265106                                               NaN   \n",
       "              19273970                                               NaN   \n",
       "\n",
       "desc_creaing                CARGO LIQUIDACION ELECTR.  \\\n",
       "fecha_de_pago cod_comercio                              \n",
       "2022-07-01    4547438                             NaN   \n",
       "              14935528                            NaN   \n",
       "              14935556                            NaN   \n",
       "              14935569                            NaN   \n",
       "              15537297                            NaN   \n",
       "...                                               ...   \n",
       "2022-07-29    15589105                            NaN   \n",
       "              15589118                            NaN   \n",
       "              16378521                            NaN   \n",
       "              19265106                            NaN   \n",
       "              19273970                            NaN   \n",
       "\n",
       "desc_creaing                CARGO POSNET  FIRSTDATA.COM.AR  \\\n",
       "fecha_de_pago cod_comercio                                   \n",
       "2022-07-01    4547438                                  NaN   \n",
       "              14935528                                 NaN   \n",
       "              14935556                                 NaN   \n",
       "              14935569                                 NaN   \n",
       "              15537297                                 NaN   \n",
       "...                                                    ...   \n",
       "2022-07-29    15589105                                 NaN   \n",
       "              15589118                                 NaN   \n",
       "              16378521                                 NaN   \n",
       "              19265106                                 NaN   \n",
       "              19273970                                 NaN   \n",
       "\n",
       "desc_creaing                CARGOS DE ENTIDAD                             \\\n",
       "fecha_de_pago cod_comercio                                                 \n",
       "2022-07-01    4547438                                                NaN   \n",
       "              14935528                                               NaN   \n",
       "              14935556                                               NaN   \n",
       "              14935569                                               NaN   \n",
       "              15537297                                               NaN   \n",
       "...                                                                  ...   \n",
       "2022-07-29    15589105                                               NaN   \n",
       "              15589118                                               NaN   \n",
       "              16378521                                               NaN   \n",
       "              19265106                                               NaN   \n",
       "              19273970                                               NaN   \n",
       "\n",
       "desc_creaing                CRED FISCAL AHORA 12/18 VTA EN CUOTAS 10,50%  \\\n",
       "fecha_de_pago cod_comercio                                                 \n",
       "2022-07-01    4547438                                          21828.430   \n",
       "              14935528                                            10.653   \n",
       "              14935556                                            40.485   \n",
       "              14935569                                           101.438   \n",
       "              15537297                                           703.068   \n",
       "...                                                                  ...   \n",
       "2022-07-29    15589105                                           213.204   \n",
       "              15589118                                           138.868   \n",
       "              16378521                                               NaN   \n",
       "              19265106                                            34.328   \n",
       "              19273970                                           146.164   \n",
       "\n",
       "desc_creaing                CRED FISCAL AHORA 12/18 VTA EN CUOTAS 21,00%  ...  \\\n",
       "fecha_de_pago cod_comercio                                                ...   \n",
       "2022-07-01    4547438                                                NaN  ...   \n",
       "              14935528                                               NaN  ...   \n",
       "              14935556                                               NaN  ...   \n",
       "              14935569                                               NaN  ...   \n",
       "              15537297                                               NaN  ...   \n",
       "...                                                                  ...  ...   \n",
       "2022-07-29    15589105                                               NaN  ...   \n",
       "              15589118                                               NaN  ...   \n",
       "              16378521                                            55.996  ...   \n",
       "              19265106                                               NaN  ...   \n",
       "              19273970                                               NaN  ...   \n",
       "\n",
       "desc_creaing                RETENCION ING.BRUTOS SIRTAC  \\\n",
       "fecha_de_pago cod_comercio                                \n",
       "2022-07-01    4547438                         17444.365   \n",
       "              14935528                           24.990   \n",
       "              14935556                           94.970   \n",
       "              14935569                          237.950   \n",
       "              15537297                         1491.760   \n",
       "...                                                 ...   \n",
       "2022-07-29    15589105                          311.200   \n",
       "              15589118                          130.640   \n",
       "              16378521                           36.530   \n",
       "              19265106                           44.790   \n",
       "              19273970                          224.000   \n",
       "\n",
       "desc_creaing                RETENCION IVA                                 \\\n",
       "fecha_de_pago cod_comercio                                                 \n",
       "2022-07-01    4547438                                         43777.8425   \n",
       "              14935528                                           70.5800   \n",
       "              14935556                                          268.2100   \n",
       "              14935569                                          672.0200   \n",
       "              15537297                                         4193.8400   \n",
       "...                                                                  ...   \n",
       "2022-07-29    15589105                                         1248.7800   \n",
       "              15589118                                               NaN   \n",
       "              16378521                                               NaN   \n",
       "              19265106                                               NaN   \n",
       "              19273970                                          900.9600   \n",
       "\n",
       "desc_creaing                SERVICIO OPER. INTERNAC.  \\\n",
       "fecha_de_pago cod_comercio                             \n",
       "2022-07-01    4547438                            NaN   \n",
       "              14935528                           NaN   \n",
       "              14935556                           NaN   \n",
       "              14935569                           NaN   \n",
       "              15537297                           NaN   \n",
       "...                                              ...   \n",
       "2022-07-29    15589105                           NaN   \n",
       "              15589118                           NaN   \n",
       "              16378521                           NaN   \n",
       "              19265106                           NaN   \n",
       "              19273970                           NaN   \n",
       "\n",
       "desc_creaing                SUBTOTAL NETO DE PAGOS                        \\\n",
       "fecha_de_pago cod_comercio                                                 \n",
       "2022-07-01    4547438                                        1658141.915   \n",
       "              14935528                                          2191.250   \n",
       "              14935556                                          8500.900   \n",
       "              14935569                                         21075.240   \n",
       "              15537297                                        131363.520   \n",
       "...                                                                  ...   \n",
       "2022-07-29    15589105                                         38084.230   \n",
       "              15589118                                         16664.510   \n",
       "              16378521                                          4644.280   \n",
       "              19265106                                          5729.500   \n",
       "              19273970                                         28639.980   \n",
       "\n",
       "desc_creaing                TOTAL DEDUCCIONES                             \\\n",
       "fecha_de_pago cod_comercio                                                 \n",
       "2022-07-01    4547438                                          212948.77   \n",
       "              14935528                                            307.75   \n",
       "              14935556                                            996.10   \n",
       "              14935569                                           2719.76   \n",
       "              15537297                                          17812.10   \n",
       "...                                                                  ...   \n",
       "2022-07-29    15589105                                           6372.41   \n",
       "              15589118                                           1998.55   \n",
       "              16378521                                            573.92   \n",
       "              19265106                                            668.50   \n",
       "              19273970                                           3360.12   \n",
       "\n",
       "desc_creaing                TOTAL LIQUIDACION                             \\\n",
       "fecha_de_pago cod_comercio                                                 \n",
       "2022-07-01    4547438                                        1658141.915   \n",
       "              14935528                                          2191.250   \n",
       "              14935556                                          8500.900   \n",
       "              14935569                                         21075.240   \n",
       "              15537297                                        131363.520   \n",
       "...                                                                  ...   \n",
       "2022-07-29    15589105                                         38084.230   \n",
       "              15589118                                         16664.510   \n",
       "              16378521                                          4644.280   \n",
       "              19265106                                          5729.500   \n",
       "              19273970                                         28639.980   \n",
       "\n",
       "desc_creaing                TOTAL PAGOS DE COMERCIOS                      \\\n",
       "fecha_de_pago cod_comercio                                                 \n",
       "2022-07-01    4547438                                                NaN   \n",
       "              14935528                                               NaN   \n",
       "              14935556                                               NaN   \n",
       "              14935569                                               NaN   \n",
       "              15537297                                               NaN   \n",
       "...                                                                  ...   \n",
       "2022-07-29    15589105                                               NaN   \n",
       "              15589118                                               NaN   \n",
       "              16378521                                               NaN   \n",
       "              19265106                                               NaN   \n",
       "              19273970                                               NaN   \n",
       "\n",
       "desc_creaing                VENTAS C/DESCUENTO CONTADO                    \\\n",
       "fecha_de_pago cod_comercio                                                 \n",
       "2022-07-01    4547438                                      983287.816667   \n",
       "              14935528                                               NaN   \n",
       "              14935556                                               NaN   \n",
       "              14935569                                               NaN   \n",
       "              15537297                                               NaN   \n",
       "...                                                                  ...   \n",
       "2022-07-29    15589105                                      14838.200000   \n",
       "              15589118                                               NaN   \n",
       "              16378521                                               NaN   \n",
       "              19265106                                               NaN   \n",
       "              19273970                                       4758.600000   \n",
       "\n",
       "desc_creaing                VENTAS C/DTO CUOTAS FINANC. OTORG.            \\\n",
       "fecha_de_pago cod_comercio                                                 \n",
       "2022-07-01    4547438                                        2267249.645   \n",
       "              14935528                                          2499.000   \n",
       "              14935556                                          9497.000   \n",
       "              14935569                                         23795.000   \n",
       "              15537297                                        149175.620   \n",
       "...                                                                  ...   \n",
       "2022-07-29    15589105                                         29618.440   \n",
       "              15589118                                         18663.060   \n",
       "              16378521                                          5218.200   \n",
       "              19265106                                          6398.000   \n",
       "              19273970                                         27241.500   \n",
       "\n",
       "desc_creaing                percepcion iva  \n",
       "fecha_de_pago cod_comercio                  \n",
       "2022-07-01    4547438          1629.433333  \n",
       "              14935528                 NaN  \n",
       "              14935556                 NaN  \n",
       "              14935569                 NaN  \n",
       "              15537297                 NaN  \n",
       "...                                    ...  \n",
       "2022-07-29    15589105                 NaN  \n",
       "              15589118                 NaN  \n",
       "              16378521                 NaN  \n",
       "              19265106                 NaN  \n",
       "              19273970                 NaN  \n",
       "\n",
       "[506 rows x 38 columns]"
      ]
     },
     "execution_count": 32,
     "metadata": {},
     "output_type": "execute_result"
    }
   ],
   "source": [
    "#repito los pasos del ejercicio anterior pero filtrando 'Mastercard'\n",
    "mask_mastercard = df['procesador_de_pago'].str.contains('MASTERCARD')\n",
    "df_solo_master = pd.pivot_table(df[mask_mastercard],columns='desc_creaing',values='importe_concepto', index=['fecha_de_pago','cod_comercio'])\n",
    "df_solo_master['percepcion iva'] = df_solo_master['PERCEPCION IVA R.G. 2408   1,50 %'] + df_solo_master[' PERCEPCION IVA R.G. 2408   3,00 %']\n",
    "df_solo_master"
   ]
  },
  {
   "cell_type": "markdown",
   "metadata": {
    "pycharm": {
     "name": "#%% md\n"
    }
   },
   "source": [
    "### Guardar como datasets\n",
    "a- el dataset de la tarjeta visa\n",
    "b- el dataset de la tarjeta mastercard\n",
    "c- cuanto dinero se cobra por mes y por sucursal\n",
    "d- cuanto se cobra por mes\n",
    "e- crear un lineplot de cuanto se cobra por mes"
   ]
  },
  {
   "cell_type": "code",
   "execution_count": 33,
   "metadata": {
    "collapsed": false,
    "jupyter": {
     "outputs_hidden": false
    },
    "pycharm": {
     "name": "#%%\n"
    }
   },
   "outputs": [
    {
     "data": {
      "text/plain": [
       "'C:\\\\Users\\\\alejo\\\\UCEMA\\\\poo_teorica\\\\poo_ejercicios\\\\04-transformaciones'"
      ]
     },
     "execution_count": 33,
     "metadata": {},
     "output_type": "execute_result"
    }
   ],
   "source": [
    "%pwd"
   ]
  },
  {
   "cell_type": "code",
   "execution_count": 34,
   "metadata": {
    "collapsed": false,
    "jupyter": {
     "outputs_hidden": false
    },
    "pycharm": {
     "name": "#%%\n"
    }
   },
   "outputs": [],
   "source": [
    "#a\n",
    "df_solo_visa.to_csv('data/only_visa.csv')\n",
    "#b\n",
    "df_solo_master.to_csv('data/only_mastercard.csv')\n"
   ]
  },
  {
   "cell_type": "code",
   "execution_count": 35,
   "metadata": {
    "collapsed": false,
    "jupyter": {
     "outputs_hidden": false
    },
    "pycharm": {
     "name": "#%%\n"
    }
   },
   "outputs": [
    {
     "data": {
      "text/plain": [
       "fecha_de_pago  cod_sucursal\n",
       "7              98              1.401451e+08\n",
       "               241             9.773019e+05\n",
       "               519             3.621125e+09\n",
       "               671             2.418829e+08\n",
       "               716             1.414878e+08\n",
       "Name: importe_concepto, dtype: float64"
      ]
     },
     "execution_count": 35,
     "metadata": {},
     "output_type": "execute_result"
    }
   ],
   "source": [
    "#c - importe por mes y sucursal\n",
    "importe_x_mes_sucursal.to_csv('data/importe_mes_sucursal.csv')\n",
    "importe_x_mes_sucursal"
   ]
  },
  {
   "cell_type": "code",
   "execution_count": 36,
   "metadata": {
    "collapsed": false,
    "jupyter": {
     "outputs_hidden": false
    },
    "pycharm": {
     "name": "#%%\n"
    }
   },
   "outputs": [
    {
     "data": {
      "text/html": [
       "<div>\n",
       "<style scoped>\n",
       "    .dataframe tbody tr th:only-of-type {\n",
       "        vertical-align: middle;\n",
       "    }\n",
       "\n",
       "    .dataframe tbody tr th {\n",
       "        vertical-align: top;\n",
       "    }\n",
       "\n",
       "    .dataframe thead th {\n",
       "        text-align: right;\n",
       "    }\n",
       "</style>\n",
       "<table border=\"1\" class=\"dataframe\">\n",
       "  <thead>\n",
       "    <tr style=\"text-align: right;\">\n",
       "      <th></th>\n",
       "      <th>suma mes</th>\n",
       "    </tr>\n",
       "    <tr>\n",
       "      <th>fecha_de_pago</th>\n",
       "      <th></th>\n",
       "    </tr>\n",
       "  </thead>\n",
       "  <tbody>\n",
       "    <tr>\n",
       "      <th>7</th>\n",
       "      <td>4.145618e+09</td>\n",
       "    </tr>\n",
       "  </tbody>\n",
       "</table>\n",
       "</div>"
      ],
      "text/plain": [
       "                   suma mes\n",
       "fecha_de_pago              \n",
       "7              4.145618e+09"
      ]
     },
     "execution_count": 36,
     "metadata": {},
     "output_type": "execute_result"
    }
   ],
   "source": [
    "#d - importe por mes\n",
    "suma_importe_mes.to_csv('data/importe_mes.csv')\n",
    "suma_importe_mes\n"
   ]
  },
  {
   "cell_type": "code",
   "execution_count": 37,
   "metadata": {
    "collapsed": false,
    "jupyter": {
     "outputs_hidden": false
    },
    "pycharm": {
     "name": "#%%\n"
    }
   },
   "outputs": [],
   "source": [
    "from matplotlib import pyplot as plt"
   ]
  },
  {
   "cell_type": "code",
   "execution_count": 38,
   "metadata": {
    "collapsed": false,
    "jupyter": {
     "outputs_hidden": false
    },
    "pycharm": {
     "name": "#%%\n"
    }
   },
   "outputs": [
    {
     "data": {
      "image/png": "[encoded data removed]",
      "text/plain": [
       "<Figure size 432x288 with 1 Axes>"
      ]
     },
     "metadata": {
      "needs_background": "light"
     },
     "output_type": "display_data"
    }
   ],
   "source": [
    "#e - lineplot importe por mes\n",
    "fig = suma_importe_mes.plot(kind=\"line\")\n",
    "\n",
    "plt.savefig('data/importe_mes.png')"
   ]
  },
  {
   "cell_type": "code",
   "execution_count": 39,
   "metadata": {
    "collapsed": false,
    "jupyter": {
     "outputs_hidden": false
    },
    "pycharm": {
     "name": "#%%\n"
    }
   },
   "outputs": [
    {
     "data": {
      "image/png": "[encoded data removed]",
      "text/plain": [
       "<Figure size 432x288 with 1 Axes>"
      ]
     },
     "metadata": {
      "needs_background": "light"
     },
     "output_type": "display_data"
    }
   ],
   "source": [
    "#e - lineplot importe por dia\n",
    "fig = suma_importe_dia.plot(kind=\"line\")\n",
    "\n",
    "plt.savefig('data/importe_dia.png')"
   ]
  },
  {
   "cell_type": "code",
   "execution_count": null,
   "metadata": {
    "pycharm": {
     "name": "#%%\n"
    }
   },
   "outputs": [],
   "source": []
  },
  {
   "cell_type": "code",
   "execution_count": null,
   "metadata": {
    "pycharm": {
     "name": "#%%\n"
    }
   },
   "outputs": [],
   "source": []
  }
 ],
 "metadata": {
  "colab": {
   "collapsed_sections": [],
   "name": "Liq_tarjetas_07/2022.ipynb",
   "provenance": []
  },
  "kernelspec": {
   "display_name": "Python 3 (ipykernel)",
   "language": "python",
   "name": "python3"
  },
  "language_info": {
   "codemirror_mode": {
    "name": "ipython",
    "version": 3
   },
   "file_extension": ".py",
   "mimetype": "text/x-python",
   "name": "python",
   "nbconvert_exporter": "python",
   "pygments_lexer": "ipython3",
   "version": "3.8.13"
  }
 },
 "nbformat": 4,
 "nbformat_minor": 4
}