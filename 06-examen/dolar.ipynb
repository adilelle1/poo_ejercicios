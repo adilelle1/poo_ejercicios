{
 "cells": [
  {
   "cell_type": "code",
   "execution_count": 1,
   "outputs": [],
   "source": [
    "import pandas as pd"
   ],
   "metadata": {
    "collapsed": false,
    "pycharm": {
     "name": "#%%\n"
    }
   }
  },
  {
   "cell_type": "code",
   "execution_count": 3,
   "outputs": [
    {
     "data": {
      "text/plain": "        Fecha  Compra   Venta\n0  15-07-2022  283,00  293,00\n1  14-07-2022  279,00  289,00\n2  13-07-2022  273,00  283,00\n3  12-07-2022  262,00  272,00\n4  11-07-2022  258,00  268,00",
      "text/html": "<div>\n<style scoped>\n    .dataframe tbody tr th:only-of-type {\n        vertical-align: middle;\n    }\n\n    .dataframe tbody tr th {\n        vertical-align: top;\n    }\n\n    .dataframe thead th {\n        text-align: right;\n    }\n</style>\n<table border=\"1\" class=\"dataframe\">\n  <thead>\n    <tr style=\"text-align: right;\">\n      <th></th>\n      <th>Fecha</th>\n      <th>Compra</th>\n      <th>Venta</th>\n    </tr>\n  </thead>\n  <tbody>\n    <tr>\n      <th>0</th>\n      <td>15-07-2022</td>\n      <td>283,00</td>\n      <td>293,00</td>\n    </tr>\n    <tr>\n      <th>1</th>\n      <td>14-07-2022</td>\n      <td>279,00</td>\n      <td>289,00</td>\n    </tr>\n    <tr>\n      <th>2</th>\n      <td>13-07-2022</td>\n      <td>273,00</td>\n      <td>283,00</td>\n    </tr>\n    <tr>\n      <th>3</th>\n      <td>12-07-2022</td>\n      <td>262,00</td>\n      <td>272,00</td>\n    </tr>\n    <tr>\n      <th>4</th>\n      <td>11-07-2022</td>\n      <td>258,00</td>\n      <td>268,00</td>\n    </tr>\n  </tbody>\n</table>\n</div>"
     },
     "execution_count": 3,
     "metadata": {},
     "output_type": "execute_result"
    }
   ],
   "source": [
    "df = pd.read_csv('data/dolar_blue - Hoja 1.csv', nrows=5)\n",
    "df"
   ],
   "metadata": {
    "collapsed": false,
    "pycharm": {
     "name": "#%%\n"
    }
   }
  }
 ],
 "metadata": {
  "kernelspec": {
   "display_name": "Python 3",
   "language": "python",
   "name": "python3"
  },
  "language_info": {
   "codemirror_mode": {
    "name": "ipython",
    "version": 2
   },
   "file_extension": ".py",
   "mimetype": "text/x-python",
   "name": "python",
   "nbconvert_exporter": "python",
   "pygments_lexer": "ipython2",
   "version": "2.7.6"
  }
 },
 "nbformat": 4,
 "nbformat_minor": 0
}