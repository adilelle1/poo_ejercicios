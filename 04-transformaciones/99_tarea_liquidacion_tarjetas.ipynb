{
 "nbformat": 4,
 "nbformat_minor": 0,
 "metadata": {
  "colab": {
   "name": "Liq_tarjetas_07/2022.ipynb",
   "provenance": [],
   "collapsed_sections": []
  },
  "kernelspec": {
   "name": "python3",
   "display_name": "Python 3"
  },
  "language_info": {
   "name": "python"
  }
 },
 "cells": [
  {
   "cell_type": "markdown",
   "source": [
    "# Tarjetas\n",
    "\n",
    "dataset: https://docs.google.com/spreadsheets/d/1E2QvH18DyNDw1eGqU40D_KHSEfSzbipV/edit?usp=sharing&ouid=115931210603772521641&rtpof=true&sd=true\n"
   ],
   "metadata": {
    "collapsed": false,
    "pycharm": {
     "name": "#%% md\n"
    }
   }
  },
  {
   "cell_type": "code",
   "execution_count": 2,
   "metadata": {
    "id": "49BJJVhVYin4",
    "pycharm": {
     "name": "#%%\n"
    }
   },
   "outputs": [],
   "source": [
    "import pandas as pd\n",
    "import numpy\n",
    "#!pip install openpyxl"
   ]
  },
  {
   "cell_type": "code",
   "execution_count": 3,
   "outputs": [
    {
     "data": {
      "text/plain": "'C:\\\\Users\\\\alejo\\\\UCEMA\\\\poo_teorica\\\\poo_ejercicios\\\\04-transformaciones'"
     },
     "execution_count": 3,
     "metadata": {},
     "output_type": "execute_result"
    }
   ],
   "source": [
    "%pwd"
   ],
   "metadata": {
    "collapsed": false,
    "pycharm": {
     "name": "#%%\n"
    }
   }
  },
  {
   "cell_type": "markdown",
   "source": [],
   "metadata": {
    "collapsed": false,
    "pycharm": {
     "name": "#%% md\n"
    }
   }
  },
  {
   "cell_type": "code",
   "execution_count": 27,
   "outputs": [],
   "source": [
    "tarjetas = pd.read_csv('data/tarjetas.xlsx - Sheet1.csv', delimiter=',', index_col='Unnamed: 0')"
   ],
   "metadata": {
    "collapsed": false,
    "pycharm": {
     "name": "#%%\n"
    }
   }
  },
  {
   "cell_type": "code",
   "execution_count": 28,
   "outputs": [
    {
     "data": {
      "text/plain": "     PreseTaciOn_Fecha        FeCha_de_Pago  cod_clearing  \\\n0  2022-06-15 00:00:00  2022-07-01 00:00:00          1009   \n1  2022-06-15 00:00:00  2022-07-01 00:00:00          1011   \n2  2022-06-15 00:00:00  2022-07-01 00:00:00          2031   \n3  2022-06-15 00:00:00  2022-07-01 00:00:00          2040   \n4  2022-06-15 00:00:00  2022-07-01 00:00:00          2800   \n\n                                   desc_creaing  NRo_Liquidacion  \\\n0  VENTAS C/DESCUENTO CONTADO                              27822   \n1  VENTAS C/DTO CUOTAS FINANC. OTORG.                      27822   \n2  ARANCEL                                                 27822   \n3                      PROMO CUOTAS AHORA 12/18            27822   \n4  TOTAL DEDUCCIONES                                       27822   \n\n   cod_sucursal  Cod_comercio  Cod_pagadora Cod_marca_producto  \\\n0           716      25107406           156       VISA CREDITO   \n1           716      25107406           156       VISA CREDITO   \n2           716      25107406           156       VISA CREDITO   \n3           716      25107406           156       VISA CREDITO   \n4           716      25107406           156       VISA CREDITO   \n\n   importe_concepto  \n0           5096.00  \n1         413500.60  \n2           7534.70  \n3          18416.85  \n4          49585.43  ",
      "text/html": "<div>\n<style scoped>\n    .dataframe tbody tr th:only-of-type {\n        vertical-align: middle;\n    }\n\n    .dataframe tbody tr th {\n        vertical-align: top;\n    }\n\n    .dataframe thead th {\n        text-align: right;\n    }\n</style>\n<table border=\"1\" class=\"dataframe\">\n  <thead>\n    <tr style=\"text-align: right;\">\n      <th></th>\n      <th>PreseTaciOn_Fecha</th>\n      <th>FeCha_de_Pago</th>\n      <th>cod_clearing</th>\n      <th>desc_creaing</th>\n      <th>NRo_Liquidacion</th>\n      <th>cod_sucursal</th>\n      <th>Cod_comercio</th>\n      <th>Cod_pagadora</th>\n      <th>Cod_marca_producto</th>\n      <th>importe_concepto</th>\n    </tr>\n  </thead>\n  <tbody>\n    <tr>\n      <th>0</th>\n      <td>2022-06-15 00:00:00</td>\n      <td>2022-07-01 00:00:00</td>\n      <td>1009</td>\n      <td>VENTAS C/DESCUENTO CONTADO</td>\n      <td>27822</td>\n      <td>716</td>\n      <td>25107406</td>\n      <td>156</td>\n      <td>VISA CREDITO</td>\n      <td>5096.00</td>\n    </tr>\n    <tr>\n      <th>1</th>\n      <td>2022-06-15 00:00:00</td>\n      <td>2022-07-01 00:00:00</td>\n      <td>1011</td>\n      <td>VENTAS C/DTO CUOTAS FINANC. OTORG.</td>\n      <td>27822</td>\n      <td>716</td>\n      <td>25107406</td>\n      <td>156</td>\n      <td>VISA CREDITO</td>\n      <td>413500.60</td>\n    </tr>\n    <tr>\n      <th>2</th>\n      <td>2022-06-15 00:00:00</td>\n      <td>2022-07-01 00:00:00</td>\n      <td>2031</td>\n      <td>ARANCEL</td>\n      <td>27822</td>\n      <td>716</td>\n      <td>25107406</td>\n      <td>156</td>\n      <td>VISA CREDITO</td>\n      <td>7534.70</td>\n    </tr>\n    <tr>\n      <th>3</th>\n      <td>2022-06-15 00:00:00</td>\n      <td>2022-07-01 00:00:00</td>\n      <td>2040</td>\n      <td>PROMO CUOTAS AHORA 12/18</td>\n      <td>27822</td>\n      <td>716</td>\n      <td>25107406</td>\n      <td>156</td>\n      <td>VISA CREDITO</td>\n      <td>18416.85</td>\n    </tr>\n    <tr>\n      <th>4</th>\n      <td>2022-06-15 00:00:00</td>\n      <td>2022-07-01 00:00:00</td>\n      <td>2800</td>\n      <td>TOTAL DEDUCCIONES</td>\n      <td>27822</td>\n      <td>716</td>\n      <td>25107406</td>\n      <td>156</td>\n      <td>VISA CREDITO</td>\n      <td>49585.43</td>\n    </tr>\n  </tbody>\n</table>\n</div>"
     },
     "execution_count": 28,
     "metadata": {},
     "output_type": "execute_result"
    }
   ],
   "source": [
    "tarjetas.head()"
   ],
   "metadata": {
    "collapsed": false,
    "pycharm": {
     "name": "#%%\n"
    }
   }
  },
  {
   "cell_type": "markdown",
   "source": [
    "### 1- Pasar todos los nombres de las columnas a minusculas"
   ],
   "metadata": {
    "collapsed": false,
    "pycharm": {
     "name": "#%% md\n"
    }
   }
  },
  {
   "cell_type": "code",
   "execution_count": 7,
   "outputs": [],
   "source": [
    "#cambio el nombre de las columnas y lo guardo en la columna original\n",
    "tarjetas.columns= tarjetas.columns.str.lower()"
   ],
   "metadata": {
    "collapsed": false,
    "pycharm": {
     "name": "#%%\n"
    }
   }
  },
  {
   "cell_type": "code",
   "execution_count": 8,
   "outputs": [
    {
     "data": {
      "text/plain": "Index(['presetacion_fecha', 'fecha_de_pago', 'cod_clearing', 'desc_creaing',\n       'nro_liquidacion', 'cod_sucursal', 'cod_comercio', 'cod_pagadora',\n       'cod_marca_producto', 'importe_concepto'],\n      dtype='object')"
     },
     "execution_count": 8,
     "metadata": {},
     "output_type": "execute_result"
    }
   ],
   "source": [
    "tarjetas.columns"
   ],
   "metadata": {
    "collapsed": false,
    "pycharm": {
     "name": "#%%\n"
    }
   }
  },
  {
   "cell_type": "markdown",
   "source": [
    "### 2-Cuantas sucursales únicas hay? ¿Cuáles?"
   ],
   "metadata": {
    "collapsed": false,
    "pycharm": {
     "name": "#%% md\n"
    }
   }
  },
  {
   "cell_type": "code",
   "execution_count": 9,
   "outputs": [
    {
     "data": {
      "text/plain": "array([716,  98, 671, 519, 241], dtype=int64)"
     },
     "execution_count": 9,
     "metadata": {},
     "output_type": "execute_result"
    }
   ],
   "source": [
    "# metodo unique para obtener los elementos de la columna sucursales sin repeticion\n",
    "tarjetas.cod_sucursal.unique()"
   ],
   "metadata": {
    "collapsed": false,
    "pycharm": {
     "name": "#%%\n"
    }
   }
  },
  {
   "cell_type": "markdown",
   "source": [
    "### 3- Cuantas tarjetas de crédito distitas hay? ¿Cuáles?\n",
    "¿Se te ocurre un nombre mejor para esa columna?"
   ],
   "metadata": {
    "collapsed": false,
    "pycharm": {
     "name": "#%% md\n"
    }
   }
  },
  {
   "cell_type": "code",
   "execution_count": 10,
   "outputs": [],
   "source": [
    "# metodo rename para renombrar, uso el parametro columns para renombrar la columna que se pasa por diccionario\n",
    "tarjetas2 = tarjetas.rename(columns={'cod_marca_producto':'procesador_de_pago'})"
   ],
   "metadata": {
    "collapsed": false,
    "pycharm": {
     "name": "#%%\n"
    }
   }
  },
  {
   "cell_type": "code",
   "execution_count": 30,
   "outputs": [
    {
     "name": "stdout",
     "output_type": "stream",
     "text": [
      "VISA CREDITO\n",
      "VISA DEBITO\n",
      "MASTERCARD\n",
      "MASTERCARD DEBIT\n",
      "MAESTRO\n",
      "ARGENCARD\n"
     ]
    },
    {
     "data": {
      "text/plain": "[None, None, None, None, None, None]"
     },
     "execution_count": 30,
     "metadata": {},
     "output_type": "execute_result"
    }
   ],
   "source": [
    "# uso el metodo unique de nuevo para ver todas las procesadoras de pago\n",
    "procesador = tarjetas2.procesador_de_pago.unique()\n",
    "[print(i) for i in procesador]"
   ],
   "metadata": {
    "collapsed": false,
    "pycharm": {
     "name": "#%%\n"
    }
   }
  },
  {
   "cell_type": "code",
   "execution_count": 13,
   "outputs": [
    {
     "data": {
      "text/plain": "array(['VISA CREDITO'], dtype=object)"
     },
     "execution_count": 13,
     "metadata": {},
     "output_type": "execute_result"
    }
   ],
   "source": [
    "# uso el metodo contains para traer de la columna procesador_de_pago todos los elementos que contengan 'CREDITO'\n",
    "mask_credit_card = tarjetas2['procesador_de_pago'].str.contains(pat= ' CREDITO')\n",
    "tarjetas2.procesador_de_pago[mask_credit_card].unique()\n"
   ],
   "metadata": {
    "collapsed": false,
    "pycharm": {
     "name": "#%%\n"
    }
   }
  },
  {
   "cell_type": "markdown",
   "source": [
    "### 4- Cuants filas y columnas hay?\n"
   ],
   "metadata": {
    "collapsed": false,
    "pycharm": {
     "name": "#%% md\n"
    }
   }
  },
  {
   "cell_type": "code",
   "execution_count": 36,
   "outputs": [
    {
     "data": {
      "text/plain": "(47280, 10)"
     },
     "execution_count": 36,
     "metadata": {},
     "output_type": "execute_result"
    }
   ],
   "source": [
    "tarjetas2.shape"
   ],
   "metadata": {
    "collapsed": false,
    "pycharm": {
     "name": "#%%\n"
    }
   }
  },
  {
   "cell_type": "markdown",
   "source": [
    "### 5- ¿Cuanto suma el total de importe_concepto?\n"
   ],
   "metadata": {
    "collapsed": false,
    "pycharm": {
     "name": "#%% md\n"
    }
   }
  },
  {
   "cell_type": "code",
   "execution_count": 37,
   "outputs": [
    {
     "name": "stdout",
     "output_type": "stream",
     "text": [
      "Suma total de importe_concepto: 4145618332.503\n"
     ]
    }
   ],
   "source": [
    "total_importe= tarjetas2.importe_concepto.sum()\n",
    "\n",
    "print(f'Suma total de importe_concepto: {total_importe}')"
   ],
   "metadata": {
    "collapsed": false,
    "pycharm": {
     "name": "#%%\n"
    }
   }
  },
  {
   "cell_type": "markdown",
   "source": [
    "### 6- ¿Cuanto dinero se cobro por mes? Cree un lineplot para gráficarlo\n"
   ],
   "metadata": {
    "collapsed": false,
    "pycharm": {
     "name": "#%% md\n"
    }
   }
  },
  {
   "cell_type": "code",
   "execution_count": 38,
   "outputs": [],
   "source": [
    "#convierto la columna a datetime, infer_datetime_format te reconoce el formato en que viene la fecha\n",
    "tarjetas2['fecha_de_pago'] =  pd.to_datetime(tarjetas2['fecha_de_pago'], infer_datetime_format=True)"
   ],
   "metadata": {
    "collapsed": false,
    "pycharm": {
     "name": "#%%\n"
    }
   }
  },
  {
   "cell_type": "code",
   "execution_count": 48,
   "outputs": [
    {
     "data": {
      "text/plain": "                   suma mes\nfecha_de_pago              \n7              4.145618e+09",
      "text/html": "<div>\n<style scoped>\n    .dataframe tbody tr th:only-of-type {\n        vertical-align: middle;\n    }\n\n    .dataframe tbody tr th {\n        vertical-align: top;\n    }\n\n    .dataframe thead th {\n        text-align: right;\n    }\n</style>\n<table border=\"1\" class=\"dataframe\">\n  <thead>\n    <tr style=\"text-align: right;\">\n      <th></th>\n      <th>suma mes</th>\n    </tr>\n    <tr>\n      <th>fecha_de_pago</th>\n      <th></th>\n    </tr>\n  </thead>\n  <tbody>\n    <tr>\n      <th>7</th>\n      <td>4.145618e+09</td>\n    </tr>\n  </tbody>\n</table>\n</div>"
     },
     "execution_count": 48,
     "metadata": {},
     "output_type": "execute_result"
    }
   ],
   "source": [
    "#agrupo por mes y lo guardo en la variable by_month\n",
    "by_month = tarjetas2.groupby(tarjetas2.fecha_de_pago.dt.month)\n",
    "\n",
    "#con la agrupacion hago la suma de la columna importe_concepto y lo muestro en un frame\n",
    "by_month.sum()['importe_concepto'].to_frame(name='suma mes')\n"
   ],
   "metadata": {
    "collapsed": false,
    "pycharm": {
     "name": "#%%\n"
    }
   }
  },
  {
   "cell_type": "code",
   "execution_count": 59,
   "outputs": [
    {
     "data": {
      "text/plain": "                   suma dia\nfecha_de_pago              \n1              1.473177e+08\n4              1.976693e+08\n5              7.024681e+08\n6              1.002753e+08\n7              1.116222e+08\n8              1.465996e+08\n11             2.870652e+08\n12             2.403649e+08\n13             1.227566e+08\n14             1.293021e+08\n15             1.469553e+08\n18             2.730872e+08\n19             2.219563e+08\n20             1.363231e+08\n21             1.431265e+08\n22             1.531738e+08\n25             2.727540e+08\n26             2.242873e+08\n27             1.235888e+08\n28             1.294521e+08\n29             1.354729e+08",
      "text/html": "<div>\n<style scoped>\n    .dataframe tbody tr th:only-of-type {\n        vertical-align: middle;\n    }\n\n    .dataframe tbody tr th {\n        vertical-align: top;\n    }\n\n    .dataframe thead th {\n        text-align: right;\n    }\n</style>\n<table border=\"1\" class=\"dataframe\">\n  <thead>\n    <tr style=\"text-align: right;\">\n      <th></th>\n      <th>suma dia</th>\n    </tr>\n    <tr>\n      <th>fecha_de_pago</th>\n      <th></th>\n    </tr>\n  </thead>\n  <tbody>\n    <tr>\n      <th>1</th>\n      <td>1.473177e+08</td>\n    </tr>\n    <tr>\n      <th>4</th>\n      <td>1.976693e+08</td>\n    </tr>\n    <tr>\n      <th>5</th>\n      <td>7.024681e+08</td>\n    </tr>\n    <tr>\n      <th>6</th>\n      <td>1.002753e+08</td>\n    </tr>\n    <tr>\n      <th>7</th>\n      <td>1.116222e+08</td>\n    </tr>\n    <tr>\n      <th>8</th>\n      <td>1.465996e+08</td>\n    </tr>\n    <tr>\n      <th>11</th>\n      <td>2.870652e+08</td>\n    </tr>\n    <tr>\n      <th>12</th>\n      <td>2.403649e+08</td>\n    </tr>\n    <tr>\n      <th>13</th>\n      <td>1.227566e+08</td>\n    </tr>\n    <tr>\n      <th>14</th>\n      <td>1.293021e+08</td>\n    </tr>\n    <tr>\n      <th>15</th>\n      <td>1.469553e+08</td>\n    </tr>\n    <tr>\n      <th>18</th>\n      <td>2.730872e+08</td>\n    </tr>\n    <tr>\n      <th>19</th>\n      <td>2.219563e+08</td>\n    </tr>\n    <tr>\n      <th>20</th>\n      <td>1.363231e+08</td>\n    </tr>\n    <tr>\n      <th>21</th>\n      <td>1.431265e+08</td>\n    </tr>\n    <tr>\n      <th>22</th>\n      <td>1.531738e+08</td>\n    </tr>\n    <tr>\n      <th>25</th>\n      <td>2.727540e+08</td>\n    </tr>\n    <tr>\n      <th>26</th>\n      <td>2.242873e+08</td>\n    </tr>\n    <tr>\n      <th>27</th>\n      <td>1.235888e+08</td>\n    </tr>\n    <tr>\n      <th>28</th>\n      <td>1.294521e+08</td>\n    </tr>\n    <tr>\n      <th>29</th>\n      <td>1.354729e+08</td>\n    </tr>\n  </tbody>\n</table>\n</div>"
     },
     "execution_count": 59,
     "metadata": {},
     "output_type": "execute_result"
    }
   ],
   "source": [
    "#Suma por dia\n",
    "by_day = tarjetas2.groupby(tarjetas2.fecha_de_pago.dt.day)\n",
    "\n",
    "suma_importe_dia= by_day.sum()['importe_concepto'].to_frame(name='suma dia')\n",
    "suma_importe_dia"
   ],
   "metadata": {
    "collapsed": false,
    "pycharm": {
     "name": "#%%\n"
    }
   }
  },
  {
   "cell_type": "markdown",
   "source": [
    "### 7- Cuanto dinero se cobro por sucursal?\n"
   ],
   "metadata": {
    "collapsed": false,
    "pycharm": {
     "name": "#%% md\n"
    }
   }
  },
  {
   "cell_type": "code",
   "execution_count": 18,
   "outputs": [
    {
     "data": {
      "text/plain": "array([716,  98, 671, 519, 241], dtype=int64)"
     },
     "execution_count": 18,
     "metadata": {},
     "output_type": "execute_result"
    }
   ],
   "source": [
    "# chequeo cuantas sucursales hay\n",
    "tarjetas2.cod_sucursal.unique()\n"
   ],
   "metadata": {
    "collapsed": false,
    "pycharm": {
     "name": "#%%\n"
    }
   }
  },
  {
   "cell_type": "code",
   "execution_count": 46,
   "outputs": [
    {
     "data": {
      "text/plain": "              importe total\ncod_sucursal               \n98             1.401451e+08\n241            9.773019e+05\n519            3.621125e+09\n671            2.418829e+08\n716            1.414878e+08",
      "text/html": "<div>\n<style scoped>\n    .dataframe tbody tr th:only-of-type {\n        vertical-align: middle;\n    }\n\n    .dataframe tbody tr th {\n        vertical-align: top;\n    }\n\n    .dataframe thead th {\n        text-align: right;\n    }\n</style>\n<table border=\"1\" class=\"dataframe\">\n  <thead>\n    <tr style=\"text-align: right;\">\n      <th></th>\n      <th>importe total</th>\n    </tr>\n    <tr>\n      <th>cod_sucursal</th>\n      <th></th>\n    </tr>\n  </thead>\n  <tbody>\n    <tr>\n      <th>98</th>\n      <td>1.401451e+08</td>\n    </tr>\n    <tr>\n      <th>241</th>\n      <td>9.773019e+05</td>\n    </tr>\n    <tr>\n      <th>519</th>\n      <td>3.621125e+09</td>\n    </tr>\n    <tr>\n      <th>671</th>\n      <td>2.418829e+08</td>\n    </tr>\n    <tr>\n      <th>716</th>\n      <td>1.414878e+08</td>\n    </tr>\n  </tbody>\n</table>\n</div>"
     },
     "execution_count": 46,
     "metadata": {},
     "output_type": "execute_result"
    }
   ],
   "source": [
    "# agrupo por sucursal y hago la suma de la columna importe_concepto\n",
    "importe_sucursal = tarjetas2.groupby('cod_sucursal').sum()['importe_concepto'].to_frame(name='importe total')\n",
    "importe_sucursal"
   ],
   "metadata": {
    "collapsed": false,
    "pycharm": {
     "name": "#%%\n"
    }
   }
  },
  {
   "cell_type": "markdown",
   "source": [
    "### 8- Cuanto dinero se cobro por mes por sucursal?\n"
   ],
   "metadata": {
    "collapsed": false,
    "pycharm": {
     "name": "#%% md\n"
    }
   }
  },
  {
   "cell_type": "code",
   "execution_count": 60,
   "outputs": [
    {
     "data": {
      "text/plain": "fecha_de_pago  cod_sucursal\n7              98              1.401451e+08\n               241             9.773019e+05\n               519             3.621125e+09\n               671             2.418829e+08\n               716             1.414878e+08\nName: importe_concepto, dtype: float64"
     },
     "execution_count": 60,
     "metadata": {},
     "output_type": "execute_result"
    }
   ],
   "source": [
    "#creo variables con las columnas de fecha por mes y la de sucursal para usarlas en el groupby\n",
    "month= tarjetas2.fecha_de_pago.dt.month\n",
    "sucursal= tarjetas2.cod_sucursal\n",
    "\n",
    "tarjetas2.groupby(by=[month, sucursal]).sum()['importe_concepto']"
   ],
   "metadata": {
    "collapsed": false,
    "pycharm": {
     "name": "#%%\n"
    }
   }
  },
  {
   "cell_type": "code",
   "execution_count": 61,
   "outputs": [
    {
     "data": {
      "text/plain": "fecha_de_pago  cod_sucursal\n1              98              3.669431e+06\n               519             1.312675e+08\n               671             7.608022e+06\n               716             4.772726e+06\n4              98              6.478613e+06\n                                   ...     \n29             98              4.980121e+06\n               241             2.472456e+04\n               519             1.182347e+08\n               671             6.924635e+06\n               716             5.308723e+06\nName: importe_concepto, Length: 91, dtype: float64"
     },
     "execution_count": 61,
     "metadata": {},
     "output_type": "execute_result"
    }
   ],
   "source": [
    "day= tarjetas2.fecha_de_pago.dt.day\n",
    "\n",
    "tarjetas2.groupby(by=[day, sucursal]).sum()['importe_concepto']\n"
   ],
   "metadata": {
    "collapsed": false,
    "pycharm": {
     "name": "#%%\n"
    }
   }
  },
  {
   "cell_type": "markdown",
   "source": [
    "### 9- Cuanto dinero se cobro por mes por sucursal y por descreaing?"
   ],
   "metadata": {
    "collapsed": false,
    "pycharm": {
     "name": "#%% md\n"
    }
   }
  },
  {
   "cell_type": "code",
   "execution_count": 62,
   "outputs": [
    {
     "data": {
      "text/plain": "Index(['presetacion_fecha', 'fecha_de_pago', 'cod_clearing', 'desc_creaing',\n       'nro_liquidacion', 'cod_sucursal', 'cod_comercio', 'cod_pagadora',\n       'procesador_de_pago', 'importe_concepto'],\n      dtype='object')"
     },
     "execution_count": 62,
     "metadata": {},
     "output_type": "execute_result"
    }
   ],
   "source": [
    "tarjetas2.columns\n"
   ],
   "metadata": {
    "collapsed": false,
    "pycharm": {
     "name": "#%%\n"
    }
   }
  },
  {
   "cell_type": "markdown",
   "source": [],
   "metadata": {
    "collapsed": false,
    "pycharm": {
     "name": "#%% md\n"
    }
   }
  },
  {
   "cell_type": "code",
   "execution_count": 63,
   "outputs": [
    {
     "data": {
      "text/plain": "fecha_de_pago  cod_sucursal  desc_creaing                                \n7              98             PERCEPCION IVA R.G. 2408   3,00 %              1.133729e+04\n                             AJUSTE SIRTAC JUL. 1RA QUINC                    1.861809e+04\n                             ARANCEL                                         4.826957e+05\n                             CRED FISCAL AHORA 12/18 VTA EN CUOTAS 10,50%    9.107601e+04\n                             CRED. FISCAL PAG.S/DTO.FIN.OTORG 21,00%         3.315445e+04\n                                                                                 ...     \n               716           SUBTOTAL NETO DE PAGOS                          3.279938e+07\n                             TOTAL DEDUCCIONES                               3.392830e+06\n                             TOTAL LIQUIDACION                               3.277539e+07\n                             VENTAS C/DESCUENTO CONTADO                      1.665725e+07\n                             VENTAS C/DTO CUOTAS FINANC. OTORG.              1.951097e+07\nName: importe_concepto, Length: 135, dtype: float64"
     },
     "execution_count": 63,
     "metadata": {},
     "output_type": "execute_result"
    }
   ],
   "source": [
    "descreaing= tarjetas2.desc_creaing\n",
    "\n",
    "importe_month_sucursal_descreaing = tarjetas2.groupby(by=[month, sucursal, descreaing]).sum()['importe_concepto']\n"
   ],
   "metadata": {
    "collapsed": false,
    "pycharm": {
     "name": "#%%\n"
    }
   }
  },
  {
   "cell_type": "markdown",
   "source": [
    "### 10- Pase a columnas los valores presentes en desc_creaing y ponga los importes como valores y en el indice la fecha de pago y el codigo de comercio"
   ],
   "metadata": {
    "collapsed": false,
    "pycharm": {
     "name": "#%% md\n"
    }
   }
  },
  {
   "cell_type": "code",
   "execution_count": 23,
   "outputs": [],
   "source": [],
   "metadata": {
    "collapsed": false,
    "pycharm": {
     "name": "#%%\n"
    }
   }
  },
  {
   "cell_type": "markdown",
   "source": [
    "### 11- Quedarse solo con tarjeta visa. Crear una columna que sume 'VENTAS C/DESCUENTO CONTADO' con\n",
    "                                'VENTAS C/DTO CUOTAS FINANC. OTORG.'"
   ],
   "metadata": {
    "id": "qYonU-BsZIiX",
    "pycharm": {
     "name": "#%% md\n"
    }
   }
  },
  {
   "cell_type": "code",
   "execution_count": 23,
   "outputs": [],
   "source": [],
   "metadata": {
    "collapsed": false,
    "pycharm": {
     "name": "#%%\n"
    }
   }
  },
  {
   "cell_type": "markdown",
   "source": [
    "### 12- Quedarse solo con la tarjeta mastercard y crear una columna que sea la suma de 'PERCEPCION IVA R.G. 2408   1,50 %' y  'PERCEPCION IVA R.G. 2408   3,00 %'"
   ],
   "metadata": {
    "collapsed": false,
    "pycharm": {
     "name": "#%% md\n"
    }
   }
  },
  {
   "cell_type": "code",
   "execution_count": 23,
   "outputs": [],
   "source": [],
   "metadata": {
    "collapsed": false,
    "pycharm": {
     "name": "#%%\n"
    }
   }
  },
  {
   "cell_type": "markdown",
   "source": [
    "### Guardar como datasets\n",
    "a- el dataset de la tarjeta visa\n",
    "b- el dataset de la tarjeta mastercard\n",
    "c- cuanto dinero se cobra por mes y por sucursal\n",
    "d- cuanto se cobra por mes\n",
    "e- crear un lineplot de cuanto se cobra por mes"
   ],
   "metadata": {
    "collapsed": false,
    "pycharm": {
     "name": "#%% md\n"
    }
   }
  },
  {
   "cell_type": "code",
   "execution_count": null,
   "outputs": [],
   "source": [],
   "metadata": {
    "collapsed": false,
    "pycharm": {
     "name": "#%%\n"
    }
   }
  }
 ]
}