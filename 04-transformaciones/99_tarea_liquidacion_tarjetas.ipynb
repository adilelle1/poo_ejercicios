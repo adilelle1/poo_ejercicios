{
 "cells": [
  {
   "cell_type": "markdown",
   "metadata": {
    "pycharm": {
     "name": "#%% md\n"
    }
   },
   "source": [
    "# Tarjetas\n",
    "\n",
    "dataset: https://docs.google.com/spreadsheets/d/1E2QvH18DyNDw1eGqU40D_KHSEfSzbipV/edit?usp=sharing&ouid=115931210603772521641&rtpof=true&sd=true\n"
   ]
  },
  {
   "cell_type": "code",
   "execution_count": 1,
   "metadata": {
    "id": "49BJJVhVYin4",
    "pycharm": {
     "name": "#%%\n"
    }
   },
   "outputs": [],
   "source": [
    "import pandas as pd\n",
    "import numpy\n",
    "#!pip install openpyxl"
   ]
  },
  {
   "cell_type": "code",
   "execution_count": 2,
   "metadata": {
    "collapsed": false,
    "jupyter": {
     "outputs_hidden": false
    },
    "pycharm": {
     "name": "#%%\n"
    }
   },
   "outputs": [
    {
     "data": {
      "text/plain": [
       "'C:\\\\Users\\\\alejo\\\\UCEMA\\\\poo_teorica\\\\poo_ejercicios\\\\04-transformaciones'"
      ]
     },
     "execution_count": 2,
     "metadata": {},
     "output_type": "execute_result"
    }
   ],
   "source": [
    "%pwd"
   ]
  },
  {
   "cell_type": "code",
   "execution_count": 3,
   "metadata": {
    "collapsed": false,
    "jupyter": {
     "outputs_hidden": false
    },
    "pycharm": {
     "name": "#%%\n"
    }
   },
   "outputs": [],
   "source": [
    "tarjetas = pd.read_csv('data/tarjetas.xlsx - Sheet1.csv', delimiter=',', index_col='Unnamed: 0')"
   ]
  },
  {
   "cell_type": "code",
   "execution_count": 4,
   "metadata": {
    "collapsed": false,
    "jupyter": {
     "outputs_hidden": false
    },
    "pycharm": {
     "name": "#%%\n"
    }
   },
   "outputs": [
    {
     "data": {
      "text/html": [
       "<div>\n",
       "<style scoped>\n",
       "    .dataframe tbody tr th:only-of-type {\n",
       "        vertical-align: middle;\n",
       "    }\n",
       "\n",
       "    .dataframe tbody tr th {\n",
       "        vertical-align: top;\n",
       "    }\n",
       "\n",
       "    .dataframe thead th {\n",
       "        text-align: right;\n",
       "    }\n",
       "</style>\n",
       "<table border=\"1\" class=\"dataframe\">\n",
       "  <thead>\n",
       "    <tr style=\"text-align: right;\">\n",
       "      <th></th>\n",
       "      <th>PreseTaciOn_Fecha</th>\n",
       "      <th>FeCha_de_Pago</th>\n",
       "      <th>cod_clearing</th>\n",
       "      <th>desc_creaing</th>\n",
       "      <th>NRo_Liquidacion</th>\n",
       "      <th>cod_sucursal</th>\n",
       "      <th>Cod_comercio</th>\n",
       "      <th>Cod_pagadora</th>\n",
       "      <th>Cod_marca_producto</th>\n",
       "      <th>importe_concepto</th>\n",
       "    </tr>\n",
       "  </thead>\n",
       "  <tbody>\n",
       "    <tr>\n",
       "      <th>0</th>\n",
       "      <td>2022-06-15 00:00:00</td>\n",
       "      <td>2022-07-01 00:00:00</td>\n",
       "      <td>1009</td>\n",
       "      <td>VENTAS C/DESCUENTO CONTADO</td>\n",
       "      <td>27822</td>\n",
       "      <td>716</td>\n",
       "      <td>25107406</td>\n",
       "      <td>156</td>\n",
       "      <td>VISA CREDITO</td>\n",
       "      <td>5096.00</td>\n",
       "    </tr>\n",
       "    <tr>\n",
       "      <th>1</th>\n",
       "      <td>2022-06-15 00:00:00</td>\n",
       "      <td>2022-07-01 00:00:00</td>\n",
       "      <td>1011</td>\n",
       "      <td>VENTAS C/DTO CUOTAS FINANC. OTORG.</td>\n",
       "      <td>27822</td>\n",
       "      <td>716</td>\n",
       "      <td>25107406</td>\n",
       "      <td>156</td>\n",
       "      <td>VISA CREDITO</td>\n",
       "      <td>413500.60</td>\n",
       "    </tr>\n",
       "    <tr>\n",
       "      <th>2</th>\n",
       "      <td>2022-06-15 00:00:00</td>\n",
       "      <td>2022-07-01 00:00:00</td>\n",
       "      <td>2031</td>\n",
       "      <td>ARANCEL</td>\n",
       "      <td>27822</td>\n",
       "      <td>716</td>\n",
       "      <td>25107406</td>\n",
       "      <td>156</td>\n",
       "      <td>VISA CREDITO</td>\n",
       "      <td>7534.70</td>\n",
       "    </tr>\n",
       "    <tr>\n",
       "      <th>3</th>\n",
       "      <td>2022-06-15 00:00:00</td>\n",
       "      <td>2022-07-01 00:00:00</td>\n",
       "      <td>2040</td>\n",
       "      <td>PROMO CUOTAS AHORA 12/18</td>\n",
       "      <td>27822</td>\n",
       "      <td>716</td>\n",
       "      <td>25107406</td>\n",
       "      <td>156</td>\n",
       "      <td>VISA CREDITO</td>\n",
       "      <td>18416.85</td>\n",
       "    </tr>\n",
       "    <tr>\n",
       "      <th>4</th>\n",
       "      <td>2022-06-15 00:00:00</td>\n",
       "      <td>2022-07-01 00:00:00</td>\n",
       "      <td>2800</td>\n",
       "      <td>TOTAL DEDUCCIONES</td>\n",
       "      <td>27822</td>\n",
       "      <td>716</td>\n",
       "      <td>25107406</td>\n",
       "      <td>156</td>\n",
       "      <td>VISA CREDITO</td>\n",
       "      <td>49585.43</td>\n",
       "    </tr>\n",
       "  </tbody>\n",
       "</table>\n",
       "</div>"
      ],
      "text/plain": [
       "     PreseTaciOn_Fecha        FeCha_de_Pago  cod_clearing  \\\n",
       "0  2022-06-15 00:00:00  2022-07-01 00:00:00          1009   \n",
       "1  2022-06-15 00:00:00  2022-07-01 00:00:00          1011   \n",
       "2  2022-06-15 00:00:00  2022-07-01 00:00:00          2031   \n",
       "3  2022-06-15 00:00:00  2022-07-01 00:00:00          2040   \n",
       "4  2022-06-15 00:00:00  2022-07-01 00:00:00          2800   \n",
       "\n",
       "                                   desc_creaing  NRo_Liquidacion  \\\n",
       "0  VENTAS C/DESCUENTO CONTADO                              27822   \n",
       "1  VENTAS C/DTO CUOTAS FINANC. OTORG.                      27822   \n",
       "2  ARANCEL                                                 27822   \n",
       "3                      PROMO CUOTAS AHORA 12/18            27822   \n",
       "4  TOTAL DEDUCCIONES                                       27822   \n",
       "\n",
       "   cod_sucursal  Cod_comercio  Cod_pagadora Cod_marca_producto  \\\n",
       "0           716      25107406           156       VISA CREDITO   \n",
       "1           716      25107406           156       VISA CREDITO   \n",
       "2           716      25107406           156       VISA CREDITO   \n",
       "3           716      25107406           156       VISA CREDITO   \n",
       "4           716      25107406           156       VISA CREDITO   \n",
       "\n",
       "   importe_concepto  \n",
       "0           5096.00  \n",
       "1         413500.60  \n",
       "2           7534.70  \n",
       "3          18416.85  \n",
       "4          49585.43  "
      ]
     },
     "execution_count": 4,
     "metadata": {},
     "output_type": "execute_result"
    }
   ],
   "source": [
    "tarjetas.head()"
   ]
  },
  {
   "cell_type": "markdown",
   "metadata": {
    "pycharm": {
     "name": "#%% md\n"
    }
   },
   "source": [
    "### 1- Pasar todos los nombres de las columnas a minusculas"
   ]
  },
  {
   "cell_type": "code",
   "execution_count": 5,
   "metadata": {
    "collapsed": false,
    "jupyter": {
     "outputs_hidden": false
    },
    "pycharm": {
     "name": "#%%\n"
    }
   },
   "outputs": [],
   "source": [
    "#cambio el nombre de las columnas y lo guardo en la columna original\n",
    "tarjetas.columns= tarjetas.columns.str.lower()"
   ]
  },
  {
   "cell_type": "code",
   "execution_count": 6,
   "metadata": {
    "collapsed": false,
    "jupyter": {
     "outputs_hidden": false
    },
    "pycharm": {
     "name": "#%%\n"
    }
   },
   "outputs": [
    {
     "data": {
      "text/plain": [
       "Index(['presetacion_fecha', 'fecha_de_pago', 'cod_clearing', 'desc_creaing',\n",
       "       'nro_liquidacion', 'cod_sucursal', 'cod_comercio', 'cod_pagadora',\n",
       "       'cod_marca_producto', 'importe_concepto'],\n",
       "      dtype='object')"
      ]
     },
     "execution_count": 6,
     "metadata": {},
     "output_type": "execute_result"
    }
   ],
   "source": [
    "tarjetas.columns"
   ]
  },
  {
   "cell_type": "markdown",
   "metadata": {
    "pycharm": {
     "name": "#%% md\n"
    }
   },
   "source": [
    "### 2-Cuantas sucursales únicas hay? ¿Cuáles?"
   ]
  },
  {
   "cell_type": "code",
   "execution_count": 7,
   "metadata": {
    "collapsed": false,
    "jupyter": {
     "outputs_hidden": false
    },
    "pycharm": {
     "name": "#%%\n"
    }
   },
   "outputs": [
    {
     "data": {
      "text/plain": [
       "array([716,  98, 671, 519, 241], dtype=int64)"
      ]
     },
     "execution_count": 7,
     "metadata": {},
     "output_type": "execute_result"
    }
   ],
   "source": [
    "# metodo unique para obtener los elementos de la columna sucursales sin repeticion\n",
    "tarjetas.cod_sucursal.unique()"
   ]
  },
  {
   "cell_type": "markdown",
   "metadata": {
    "pycharm": {
     "name": "#%% md\n"
    }
   },
   "source": [
    "### 3- Cuantas tarjetas de crédito distitas hay? ¿Cuáles?\n",
    "¿Se te ocurre un nombre mejor para esa columna?"
   ]
  },
  {
   "cell_type": "code",
   "execution_count": 8,
   "metadata": {
    "collapsed": false,
    "jupyter": {
     "outputs_hidden": false
    },
    "pycharm": {
     "name": "#%%\n"
    }
   },
   "outputs": [],
   "source": [
    "# metodo rename para renombrar, uso el parametro columns para renombrar la columna que se pasa por diccionario, y lo guardo en un nuevo DF\n",
    "df = tarjetas.rename(columns={'cod_marca_producto':'procesador_de_pago'})"
   ]
  },
  {
   "cell_type": "code",
   "execution_count": null,
   "outputs": [],
   "source": [
    "# uso el metodo unique de nuevo para ver todas las procesadoras de pago, luego uso un ciclo for para imprimir por pantalla los elementos unicos de la columna\n",
    "procesador = df.procesador_de_pago.unique()\n",
    "[print(i) for i in procesador]"
   ],
   "metadata": {
    "collapsed": false,
    "pycharm": {
     "name": "#%%\n"
    }
   }
  },
  {
   "cell_type": "code",
   "execution_count": null,
   "outputs": [],
   "source": [
    "# uso el metodo contains para traer de la columna procesador_de_pago todos los elementos que contengan 'CREDITO'\n",
    "mask_credit_card = df['procesador_de_pago'].str.contains(pat= ' CREDITO')\n",
    "df.procesador_de_pago[mask_credit_card].unique()\n"
   ],
   "metadata": {
    "collapsed": false,
    "pycharm": {
     "name": "#%%\n"
    }
   }
  },
  {
   "cell_type": "markdown",
   "source": [
    "### 4- Cuants filas y columnas hay?\n"
   ],
   "metadata": {
    "collapsed": false,
    "pycharm": {
     "name": "#%% md\n"
    }
   }
  },
  {
   "cell_type": "code",
   "execution_count": null,
   "outputs": [],
   "source": [
    "df.shape"
   ],
   "metadata": {
    "collapsed": false,
    "pycharm": {
     "name": "#%%\n"
    }
   }
  },
  {
   "cell_type": "markdown",
   "source": [
    "### 5- ¿Cuanto suma el total de importe_concepto?\n"
   ],
   "metadata": {
    "collapsed": false,
    "pycharm": {
     "name": "#%% md\n"
    }
   }
  },
  {
   "cell_type": "code",
   "execution_count": null,
   "outputs": [],
   "source": [
    "total_importe= df.importe_concepto.sum()\n",
    "\n",
    "print(f'Suma total de importe_concepto: {\"{:,}\".format(total_importe)}')"
   ],
   "metadata": {
    "collapsed": false,
    "pycharm": {
     "name": "#%%\n"
    }
   }
  },
  {
   "cell_type": "markdown",
   "source": [
    "### 6- ¿Cuanto dinero se cobro por mes? Cree un lineplot para gráficarlo\n"
   ],
   "metadata": {
    "collapsed": false,
    "pycharm": {
     "name": "#%% md\n"
    }
   }
  },
  {
   "cell_type": "code",
   "execution_count": null,
   "outputs": [],
   "source": [
    "#convierto la columna a datetime, infer_datetime_format te reconoce el formato en que viene la fecha\n",
    "df['fecha_de_pago'] =  pd.to_datetime(df['fecha_de_pago'], infer_datetime_format=True)"
   ],
   "metadata": {
    "collapsed": false,
    "pycharm": {
     "name": "#%%\n"
    }
   }
  },
  {
   "cell_type": "code",
   "execution_count": null,
   "outputs": [],
   "source": [
    "#hago la suma por mes usando groupby, pero todos los registros son del mismo mes\n",
    "by_month = df.groupby(df.fecha_de_pago.dt.month)\n",
    "\n",
    "suma_importe_mes= by_month.sum()['importe_concepto'].to_frame(name='suma mes')\n",
    "suma_importe_mes"
   ],
   "metadata": {
    "collapsed": false,
    "pycharm": {
     "name": "#%%\n"
    }
   }
  },
  {
   "cell_type": "code",
   "execution_count": null,
   "outputs": [],
   "source": [
    "#creo un grafico de linea con el importe por mes, pero al ser un solo mes no va a devuelve un grafico vacio\n",
    "suma_importe_mes.plot(kind=\"line\")\n"
   ],
   "metadata": {
    "collapsed": false,
    "pycharm": {
     "name": "#%%\n"
    }
   }
  },
  {
   "cell_type": "code",
   "execution_count": null,
   "outputs": [],
   "source": [
    "#al ser todos los registros de un mismo mes me parece mas interesante ver el importe por dia\n",
    "by_day = df.groupby(df.fecha_de_pago.dt.day)\n",
    "\n",
    "suma_importe_dia= by_day.sum()['importe_concepto'].to_frame(name='suma dia')\n",
    "suma_importe_dia"
   ],
   "metadata": {
    "collapsed": false,
    "pycharm": {
     "name": "#%%\n"
    }
   }
  },
  {
   "cell_type": "code",
   "execution_count": null,
   "outputs": [],
   "source": [
    "#creo el mismo grafico de linea pero con el importe por dia\n",
    "plot_importe_dia = suma_importe_dia.plot(kind=\"line\")\n"
   ],
   "metadata": {
    "collapsed": false,
    "pycharm": {
     "name": "#%%\n"
    }
   }
  },
  {
   "cell_type": "markdown",
   "source": [
    "### 7- Cuanto dinero se cobro por sucursal?\n"
   ],
   "metadata": {
    "collapsed": false,
    "pycharm": {
     "name": "#%% md\n"
    }
   }
  },
  {
   "cell_type": "code",
   "execution_count": null,
   "outputs": [],
   "source": [
    "# chequeo cuantas sucursales hay\n",
    "df.cod_sucursal.unique()\n"
   ],
   "metadata": {
    "collapsed": false,
    "pycharm": {
     "name": "#%%\n"
    }
   }
  },
  {
   "cell_type": "code",
   "execution_count": null,
   "outputs": [],
   "source": [
    "# agrupo por sucursal y hago la suma de la columna importe_concepto\n",
    "importe_sucursal = df.groupby('cod_sucursal').sum()['importe_concepto'].to_frame(name='importe total')\n",
    "importe_sucursal"
   ],
   "metadata": {
    "collapsed": false,
    "pycharm": {
     "name": "#%%\n"
    }
   }
  },
  {
   "cell_type": "markdown",
   "source": [
    "### 8- Cuanto dinero se cobro por mes por sucursal?\n"
   ],
   "metadata": {
    "collapsed": false,
    "pycharm": {
     "name": "#%% md\n"
    }
   }
  },
  {
   "cell_type": "code",
   "execution_count": null,
   "outputs": [],
   "source": [
    "#creo variables con las columnas de fecha por mes y la de sucursal para usarlas en el groupby\n",
    "month= df.fecha_de_pago.dt.month\n",
    "sucursal= df.cod_sucursal\n",
    "\n",
    "importe_x_mes_sucursal= df.groupby(by=[month, sucursal]).sum()['importe_concepto']\n",
    "importe_x_mes_sucursal"
   ],
   "metadata": {
    "collapsed": false,
    "pycharm": {
     "name": "#%%\n"
    }
   }
  },
  {
   "cell_type": "code",
   "execution_count": null,
   "outputs": [],
   "source": [
    "#repite el paso anterior pero por dia\n",
    "day= df.fecha_de_pago.dt.day\n",
    "\n",
    "df.groupby(by=[day, sucursal]).sum()['importe_concepto']\n"
   ],
   "metadata": {
    "collapsed": false,
    "pycharm": {
     "name": "#%%\n"
    }
   }
  },
  {
   "cell_type": "markdown",
   "source": [
    "### 9- Cuanto dinero se cobro por mes por sucursal y por descreaing?"
   ],
   "metadata": {
    "collapsed": false,
    "pycharm": {
     "name": "#%% md\n"
    }
   }
  },
  {
   "cell_type": "code",
   "execution_count": null,
   "outputs": [],
   "source": [
    "df.columns\n"
   ],
   "metadata": {
    "collapsed": false,
    "pycharm": {
     "name": "#%%\n"
    }
   }
  },
  {
   "cell_type": "code",
   "execution_count": null,
   "outputs": [],
   "source": [
    "descreaing= df.desc_creaing\n",
    "\n",
    "df.groupby(by=[month, sucursal, descreaing]).sum()['importe_concepto'].to_frame(name='sum')\n"
   ],
   "metadata": {
    "collapsed": false,
    "pycharm": {
     "name": "#%%\n"
    }
   }
  },
  {
   "cell_type": "markdown",
   "source": [
    "### 10- Pase a columnas los valores presentes en desc_creaing y ponga los importes como valores y en el indice la fecha de pago y el codigo de comercio"
   ],
   "metadata": {
    "collapsed": false,
    "pycharm": {
     "name": "#%% md\n"
    }
   }
  },
  {
   "cell_type": "code",
   "execution_count": null,
   "outputs": [],
   "source": [
    "#encontre esta manera de hacerlo, usando groupby y unstack a la columna desc_creaing\n",
    "df.groupby(['fecha_de_pago', 'cod_comercio','desc_creaing'])['importe_concepto'].sum().unstack('desc_creaing')"
   ],
   "metadata": {
    "collapsed": false,
    "pycharm": {
     "name": "#%%\n"
    }
   }
  },
  {
   "cell_type": "code",
   "execution_count": null,
   "outputs": [],
   "source": [
    "#uso el metodo pivot_table para poner en columnas los valores de desc_creaing, como valores los importes y como infices fecha y comercio\n",
    "pd.pivot_table(df,columns='desc_creaing',values='importe_concepto', index=['fecha_de_pago','cod_comercio'])\n"
   ],
   "metadata": {
    "collapsed": false,
    "pycharm": {
     "name": "#%%\n"
    }
   }
  },
  {
   "cell_type": "markdown",
   "source": [
    "### 11- Quedarse solo con tarjeta visa. Crear una columna que sume 'VENTAS C/DESCUENTO CONTADO' con\n",
    "                                'VENTAS C/DTO CUOTAS FINANC. OTORG.'"
   ],
   "metadata": {
    "collapsed": false,
    "pycharm": {
     "name": "#%% md\n"
    }
   }
  },
  {
   "cell_type": "code",
   "execution_count": null,
   "outputs": [],
   "source": [
    "#creo una mascara donde procesador_de_pago sea igual a VISA para filtrar luego en el df\n",
    "mask_visa = df['procesador_de_pago'].str.contains('VISA')\n",
    "\n",
    "#uso el metodo pivot_table como en el ejercicio anterior, usando el df filtrado con la mascara\n",
    "df_solo_visa = pd.pivot_table(df[mask_visa],columns='desc_creaing',values='importe_concepto', index=['fecha_de_pago','cod_comercio'])\n",
    "\n",
    "#creo una nueva columna a partir de la suma de otras dos\n",
    "df_solo_visa['ventas con descuento'] = df_solo_visa['VENTAS C/DESCUENTO CONTADO                  '] + df_solo_visa['VENTAS C/DTO CUOTAS FINANC. OTORG.          ']\n",
    "df_solo_visa['ventas con descuento']"
   ],
   "metadata": {
    "collapsed": false,
    "pycharm": {
     "name": "#%%\n"
    }
   }
  },
  {
   "cell_type": "markdown",
   "source": [
    "### 12- Quedarse solo con la tarjeta mastercard y crear una columna que sea la suma de 'PERCEPCION IVA R.G. 2408   1,50 %' y  'PERCEPCION IVA R.G. 2408   3,00 %'"
   ],
   "metadata": {
    "collapsed": false,
    "pycharm": {
     "name": "#%% md\n"
    }
   }
  },
  {
   "cell_type": "code",
   "execution_count": null,
   "outputs": [],
   "source": [
    "#repito los pasos del ejercicio anterior pero filtrando 'Mastercard'\n",
    "mask_mastercard = df['procesador_de_pago'].str.contains('MASTERCARD')\n",
    "df_solo_master = pd.pivot_table(df[mask_mastercard],columns='desc_creaing',values='importe_concepto', index=['fecha_de_pago','cod_comercio'])\n",
    "df_solo_master['percepcion iva'] = df_solo_master['PERCEPCION IVA R.G. 2408   1,50 %'] + df_solo_master[' PERCEPCION IVA R.G. 2408   3,00 %']\n",
    "df_solo_master"
   ],
   "metadata": {
    "collapsed": false,
    "pycharm": {
     "name": "#%%\n"
    }
   }
  },
  {
   "cell_type": "markdown",
   "source": [
    "### Guardar como datasets\n",
    "a- el dataset de la tarjeta visa\n",
    "b- el dataset de la tarjeta mastercard\n",
    "c- cuanto dinero se cobra por mes y por sucursal\n",
    "d- cuanto se cobra por mes\n",
    "e- crear un lineplot de cuanto se cobra por mes"
   ],
   "metadata": {
    "collapsed": false,
    "pycharm": {
     "name": "#%% md\n"
    }
   }
  },
  {
   "cell_type": "code",
   "execution_count": null,
   "outputs": [],
   "source": [
    "%pwd"
   ],
   "metadata": {
    "collapsed": false,
    "pycharm": {
     "name": "#%%\n"
    }
   }
  },
  {
   "cell_type": "code",
   "execution_count": null,
   "outputs": [],
   "source": [
    "#a\n",
    "df_solo_visa.to_csv('data/only_visa.csv')\n",
    "#b\n",
    "df_solo_master.to_csv('data/only_mastercard.csv')\n"
   ],
   "metadata": {
    "collapsed": false,
    "pycharm": {
     "name": "#%%\n"
    }
   }
  },
  {
   "cell_type": "code",
   "execution_count": null,
   "outputs": [],
   "source": [
    "#c - importe por mes y sucursal\n",
    "importe_x_mes_sucursal.to_csv('data/importe_mes_sucursal.csv')\n",
    "importe_x_mes_sucursal"
   ],
   "metadata": {
    "collapsed": false,
    "pycharm": {
     "name": "#%%\n"
    }
   }
  },
  {
   "cell_type": "code",
   "execution_count": null,
   "outputs": [],
   "source": [
    "#d - importe por mes\n",
    "suma_importe_mes.to_csv('data/importe_mes.csv')\n",
    "suma_importe_mes\n"
   ],
   "metadata": {
    "collapsed": false,
    "pycharm": {
     "name": "#%%\n"
    }
   }
  },
  {
   "cell_type": "code",
   "execution_count": null,
   "outputs": [],
   "source": [
    "from matplotlib import pyplot as plt"
   ],
   "metadata": {
    "collapsed": false,
    "pycharm": {
     "name": "#%%\n"
    }
   }
  },
  {
   "cell_type": "code",
   "execution_count": null,
   "outputs": [],
   "source": [
    "#e - lineplot importe por mes\n",
    "fig = suma_importe_mes.plot(kind=\"line\")\n",
    "\n",
    "plt.savefig('data/importe_mes.png')"
   ],
   "metadata": {
    "collapsed": false,
    "pycharm": {
     "name": "#%%\n"
    }
   }
  },
  {
   "cell_type": "code",
   "execution_count": null,
   "outputs": [],
   "source": [
    "#e - lineplot importe por dia\n",
    "fig = suma_importe_dia.plot(kind=\"line\")\n",
    "\n",
    "plt.savefig('data/importe_dia.png')"
   ],
   "metadata": {
    "collapsed": false,
    "pycharm": {
     "name": "#%%\n"
    }
   }
  },
  {
   "cell_type": "code",
   "execution_count": null,
   "outputs": [],
   "source": [],
   "metadata": {
    "collapsed": false,
    "pycharm": {
     "name": "#%%\n"
    }
   }
  },
  {
   "cell_type": "code",
   "execution_count": null,
   "outputs": [],
   "source": [],
   "metadata": {
    "collapsed": false,
    "pycharm": {
     "name": "#%%\n"
    }
   }
  },
  {
   "cell_type": "code",
   "execution_count": null,
   "outputs": [],
   "source": [],
   "metadata": {
    "collapsed": false,
    "pycharm": {
     "name": "#%%\n"
    }
   }
  },
  {
   "cell_type": "code",
   "execution_count": null,
   "metadata": {
    "pycharm": {
     "name": "#%%\n"
    }
   },
   "outputs": [],
   "source": []
  }
 ],
 "metadata": {
  "colab": {
   "collapsed_sections": [],
   "name": "Liq_tarjetas_07/2022.ipynb",
   "provenance": []
  },
  "kernelspec": {
   "display_name": "Python 3 (ipykernel)",
   "language": "python",
   "name": "python3"
  },
  "language_info": {
   "codemirror_mode": {
    "name": "ipython",
    "version": 3
   },
   "file_extension": ".py",
   "mimetype": "text/x-python",
   "name": "python",
   "nbconvert_exporter": "python",
   "pygments_lexer": "ipython3",
   "version": "3.8.13"
  }
 },
 "nbformat": 4,
 "nbformat_minor": 4
}