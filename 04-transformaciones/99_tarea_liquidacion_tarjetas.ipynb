{
 "nbformat": 4,
 "nbformat_minor": 0,
 "metadata": {
  "colab": {
   "name": "Liq_tarjetas_07/2022.ipynb",
   "provenance": [],
   "collapsed_sections": []
  },
  "kernelspec": {
   "name": "python3",
   "display_name": "Python 3"
  },
  "language_info": {
   "name": "python"
  }
 },
 "cells": [
  {
   "cell_type": "markdown",
   "source": [
    "# Tarjetas\n",
    "\n",
    "dataset: https://docs.google.com/spreadsheets/d/1E2QvH18DyNDw1eGqU40D_KHSEfSzbipV/edit?usp=sharing&ouid=115931210603772521641&rtpof=true&sd=true\n"
   ],
   "metadata": {
    "collapsed": false,
    "pycharm": {
     "name": "#%% md\n"
    }
   }
  },
  {
   "cell_type": "code",
   "execution_count": 2,
   "metadata": {
    "id": "49BJJVhVYin4",
    "pycharm": {
     "name": "#%%\n"
    }
   },
   "outputs": [
    {
     "data": {
      "text/plain": "'C:\\\\Users\\\\alejo\\\\UCEMA\\\\poo_teorica\\\\poo_ejercicios\\\\04-transformaciones'"
     },
     "execution_count": 2,
     "metadata": {},
     "output_type": "execute_result"
    }
   ],
   "source": [
    "import pandas as pd\n",
    "import numpy\n",
    "#!pip install openpyxl\n",
    "%pwd"
   ]
  },
  {
   "cell_type": "code",
   "execution_count": 4,
   "outputs": [],
   "source": [
    "tarjetas = pd.read_csv('data/tarjetas.xlsx - Sheet1.csv')"
   ],
   "metadata": {
    "collapsed": false,
    "pycharm": {
     "name": "#%%\n"
    }
   }
  },
  {
   "cell_type": "code",
   "execution_count": 5,
   "outputs": [
    {
     "data": {
      "text/plain": "       Unnamed: 0    PreseTaciOn_Fecha        FeCha_de_Pago  cod_clearing  \\\n0               0  2022-06-15 00:00:00  2022-07-01 00:00:00          1009   \n1               1  2022-06-15 00:00:00  2022-07-01 00:00:00          1011   \n2               2  2022-06-15 00:00:00  2022-07-01 00:00:00          2031   \n3               3  2022-06-15 00:00:00  2022-07-01 00:00:00          2040   \n4               4  2022-06-15 00:00:00  2022-07-01 00:00:00          2800   \n...           ...                  ...                  ...           ...   \n47275       47275  2022-07-28 00:00:00  2022-07-29 00:00:00          2900   \n47276       47276  2022-07-28 00:00:00  2022-07-29 00:00:00          5104   \n47277       47277  2022-07-28 00:00:00  2022-07-29 00:00:00          5204   \n47278       47278  2022-07-28 00:00:00  2022-07-29 00:00:00          5900   \n47279       47279  2022-07-28 00:00:00  2022-07-29 00:00:00          6000   \n\n                                       desc_creaing  NRo_Liquidacion  \\\n0      VENTAS C/DESCUENTO CONTADO                              27822   \n1      VENTAS C/DTO CUOTAS FINANC. OTORG.                      27822   \n2      ARANCEL                                                 27822   \n3                          PROMO CUOTAS AHORA 12/18            27822   \n4      TOTAL DEDUCCIONES                                       27822   \n...                                             ...              ...   \n47275  TOTAL LIQUIDACION                                      143176   \n47276  IVA CRED.FISC.COMERCIO S/ARANC 21,00%                  143176   \n47277                   RETENCION ING.BRUTOS SIRTAC           143176   \n47278  SUBTOTAL NETO DE PAGOS                                 143176   \n47279  IMPORTE NETO DE PAGOS                                  143176   \n\n       cod_sucursal  Cod_comercio  Cod_pagadora Cod_marca_producto  \\\n0               716      25107406           156       VISA CREDITO   \n1               716      25107406           156       VISA CREDITO   \n2               716      25107406           156       VISA CREDITO   \n3               716      25107406           156       VISA CREDITO   \n4               716      25107406           156       VISA CREDITO   \n...             ...           ...           ...                ...   \n47275           519      25892918            82        VISA DEBITO   \n47276           519      25892918            82        VISA DEBITO   \n47277           519      25892918            82        VISA DEBITO   \n47278           519      25892918            82        VISA DEBITO   \n47279           519      25892918            82        VISA DEBITO   \n\n       importe_concepto  \n0               5096.00  \n1             413500.60  \n2               7534.70  \n3              18416.85  \n4              49585.43  \n...                 ...  \n47275          97185.50  \n47276            166.03  \n47277            691.84  \n47278          97185.50  \n47279          97185.50  \n\n[47280 rows x 11 columns]",
      "text/html": "<div>\n<style scoped>\n    .dataframe tbody tr th:only-of-type {\n        vertical-align: middle;\n    }\n\n    .dataframe tbody tr th {\n        vertical-align: top;\n    }\n\n    .dataframe thead th {\n        text-align: right;\n    }\n</style>\n<table border=\"1\" class=\"dataframe\">\n  <thead>\n    <tr style=\"text-align: right;\">\n      <th></th>\n      <th>Unnamed: 0</th>\n      <th>PreseTaciOn_Fecha</th>\n      <th>FeCha_de_Pago</th>\n      <th>cod_clearing</th>\n      <th>desc_creaing</th>\n      <th>NRo_Liquidacion</th>\n      <th>cod_sucursal</th>\n      <th>Cod_comercio</th>\n      <th>Cod_pagadora</th>\n      <th>Cod_marca_producto</th>\n      <th>importe_concepto</th>\n    </tr>\n  </thead>\n  <tbody>\n    <tr>\n      <th>0</th>\n      <td>0</td>\n      <td>2022-06-15 00:00:00</td>\n      <td>2022-07-01 00:00:00</td>\n      <td>1009</td>\n      <td>VENTAS C/DESCUENTO CONTADO</td>\n      <td>27822</td>\n      <td>716</td>\n      <td>25107406</td>\n      <td>156</td>\n      <td>VISA CREDITO</td>\n      <td>5096.00</td>\n    </tr>\n    <tr>\n      <th>1</th>\n      <td>1</td>\n      <td>2022-06-15 00:00:00</td>\n      <td>2022-07-01 00:00:00</td>\n      <td>1011</td>\n      <td>VENTAS C/DTO CUOTAS FINANC. OTORG.</td>\n      <td>27822</td>\n      <td>716</td>\n      <td>25107406</td>\n      <td>156</td>\n      <td>VISA CREDITO</td>\n      <td>413500.60</td>\n    </tr>\n    <tr>\n      <th>2</th>\n      <td>2</td>\n      <td>2022-06-15 00:00:00</td>\n      <td>2022-07-01 00:00:00</td>\n      <td>2031</td>\n      <td>ARANCEL</td>\n      <td>27822</td>\n      <td>716</td>\n      <td>25107406</td>\n      <td>156</td>\n      <td>VISA CREDITO</td>\n      <td>7534.70</td>\n    </tr>\n    <tr>\n      <th>3</th>\n      <td>3</td>\n      <td>2022-06-15 00:00:00</td>\n      <td>2022-07-01 00:00:00</td>\n      <td>2040</td>\n      <td>PROMO CUOTAS AHORA 12/18</td>\n      <td>27822</td>\n      <td>716</td>\n      <td>25107406</td>\n      <td>156</td>\n      <td>VISA CREDITO</td>\n      <td>18416.85</td>\n    </tr>\n    <tr>\n      <th>4</th>\n      <td>4</td>\n      <td>2022-06-15 00:00:00</td>\n      <td>2022-07-01 00:00:00</td>\n      <td>2800</td>\n      <td>TOTAL DEDUCCIONES</td>\n      <td>27822</td>\n      <td>716</td>\n      <td>25107406</td>\n      <td>156</td>\n      <td>VISA CREDITO</td>\n      <td>49585.43</td>\n    </tr>\n    <tr>\n      <th>...</th>\n      <td>...</td>\n      <td>...</td>\n      <td>...</td>\n      <td>...</td>\n      <td>...</td>\n      <td>...</td>\n      <td>...</td>\n      <td>...</td>\n      <td>...</td>\n      <td>...</td>\n      <td>...</td>\n    </tr>\n    <tr>\n      <th>47275</th>\n      <td>47275</td>\n      <td>2022-07-28 00:00:00</td>\n      <td>2022-07-29 00:00:00</td>\n      <td>2900</td>\n      <td>TOTAL LIQUIDACION</td>\n      <td>143176</td>\n      <td>519</td>\n      <td>25892918</td>\n      <td>82</td>\n      <td>VISA DEBITO</td>\n      <td>97185.50</td>\n    </tr>\n    <tr>\n      <th>47276</th>\n      <td>47276</td>\n      <td>2022-07-28 00:00:00</td>\n      <td>2022-07-29 00:00:00</td>\n      <td>5104</td>\n      <td>IVA CRED.FISC.COMERCIO S/ARANC 21,00%</td>\n      <td>143176</td>\n      <td>519</td>\n      <td>25892918</td>\n      <td>82</td>\n      <td>VISA DEBITO</td>\n      <td>166.03</td>\n    </tr>\n    <tr>\n      <th>47277</th>\n      <td>47277</td>\n      <td>2022-07-28 00:00:00</td>\n      <td>2022-07-29 00:00:00</td>\n      <td>5204</td>\n      <td>RETENCION ING.BRUTOS SIRTAC</td>\n      <td>143176</td>\n      <td>519</td>\n      <td>25892918</td>\n      <td>82</td>\n      <td>VISA DEBITO</td>\n      <td>691.84</td>\n    </tr>\n    <tr>\n      <th>47278</th>\n      <td>47278</td>\n      <td>2022-07-28 00:00:00</td>\n      <td>2022-07-29 00:00:00</td>\n      <td>5900</td>\n      <td>SUBTOTAL NETO DE PAGOS</td>\n      <td>143176</td>\n      <td>519</td>\n      <td>25892918</td>\n      <td>82</td>\n      <td>VISA DEBITO</td>\n      <td>97185.50</td>\n    </tr>\n    <tr>\n      <th>47279</th>\n      <td>47279</td>\n      <td>2022-07-28 00:00:00</td>\n      <td>2022-07-29 00:00:00</td>\n      <td>6000</td>\n      <td>IMPORTE NETO DE PAGOS</td>\n      <td>143176</td>\n      <td>519</td>\n      <td>25892918</td>\n      <td>82</td>\n      <td>VISA DEBITO</td>\n      <td>97185.50</td>\n    </tr>\n  </tbody>\n</table>\n<p>47280 rows × 11 columns</p>\n</div>"
     },
     "execution_count": 5,
     "metadata": {},
     "output_type": "execute_result"
    }
   ],
   "source": [
    "tarjetas"
   ],
   "metadata": {
    "collapsed": false,
    "pycharm": {
     "name": "#%%\n"
    }
   }
  },
  {
   "cell_type": "code",
   "execution_count": 19,
   "outputs": [
    {
     "data": {
      "text/plain": "   unnamed: 0    presetacion_fecha        fecha_de_pago  cod_clearing  \\\n0           0  2022-06-15 00:00:00  2022-07-01 00:00:00          1009   \n1           1  2022-06-15 00:00:00  2022-07-01 00:00:00          1011   \n2           2  2022-06-15 00:00:00  2022-07-01 00:00:00          2031   \n3           3  2022-06-15 00:00:00  2022-07-01 00:00:00          2040   \n4           4  2022-06-15 00:00:00  2022-07-01 00:00:00          2800   \n\n                                   desc_creaing  nro_liquidacion  \\\n0  VENTAS C/DESCUENTO CONTADO                              27822   \n1  VENTAS C/DTO CUOTAS FINANC. OTORG.                      27822   \n2  ARANCEL                                                 27822   \n3                      PROMO CUOTAS AHORA 12/18            27822   \n4  TOTAL DEDUCCIONES                                       27822   \n\n   cod_sucursal  cod_comercio  cod_pagadora cod_marca_producto  \\\n0           716      25107406           156       VISA CREDITO   \n1           716      25107406           156       VISA CREDITO   \n2           716      25107406           156       VISA CREDITO   \n3           716      25107406           156       VISA CREDITO   \n4           716      25107406           156       VISA CREDITO   \n\n   importe_concepto  \n0           5096.00  \n1         413500.60  \n2           7534.70  \n3          18416.85  \n4          49585.43  ",
      "text/html": "<div>\n<style scoped>\n    .dataframe tbody tr th:only-of-type {\n        vertical-align: middle;\n    }\n\n    .dataframe tbody tr th {\n        vertical-align: top;\n    }\n\n    .dataframe thead th {\n        text-align: right;\n    }\n</style>\n<table border=\"1\" class=\"dataframe\">\n  <thead>\n    <tr style=\"text-align: right;\">\n      <th></th>\n      <th>unnamed: 0</th>\n      <th>presetacion_fecha</th>\n      <th>fecha_de_pago</th>\n      <th>cod_clearing</th>\n      <th>desc_creaing</th>\n      <th>nro_liquidacion</th>\n      <th>cod_sucursal</th>\n      <th>cod_comercio</th>\n      <th>cod_pagadora</th>\n      <th>cod_marca_producto</th>\n      <th>importe_concepto</th>\n    </tr>\n  </thead>\n  <tbody>\n    <tr>\n      <th>0</th>\n      <td>0</td>\n      <td>2022-06-15 00:00:00</td>\n      <td>2022-07-01 00:00:00</td>\n      <td>1009</td>\n      <td>VENTAS C/DESCUENTO CONTADO</td>\n      <td>27822</td>\n      <td>716</td>\n      <td>25107406</td>\n      <td>156</td>\n      <td>VISA CREDITO</td>\n      <td>5096.00</td>\n    </tr>\n    <tr>\n      <th>1</th>\n      <td>1</td>\n      <td>2022-06-15 00:00:00</td>\n      <td>2022-07-01 00:00:00</td>\n      <td>1011</td>\n      <td>VENTAS C/DTO CUOTAS FINANC. OTORG.</td>\n      <td>27822</td>\n      <td>716</td>\n      <td>25107406</td>\n      <td>156</td>\n      <td>VISA CREDITO</td>\n      <td>413500.60</td>\n    </tr>\n    <tr>\n      <th>2</th>\n      <td>2</td>\n      <td>2022-06-15 00:00:00</td>\n      <td>2022-07-01 00:00:00</td>\n      <td>2031</td>\n      <td>ARANCEL</td>\n      <td>27822</td>\n      <td>716</td>\n      <td>25107406</td>\n      <td>156</td>\n      <td>VISA CREDITO</td>\n      <td>7534.70</td>\n    </tr>\n    <tr>\n      <th>3</th>\n      <td>3</td>\n      <td>2022-06-15 00:00:00</td>\n      <td>2022-07-01 00:00:00</td>\n      <td>2040</td>\n      <td>PROMO CUOTAS AHORA 12/18</td>\n      <td>27822</td>\n      <td>716</td>\n      <td>25107406</td>\n      <td>156</td>\n      <td>VISA CREDITO</td>\n      <td>18416.85</td>\n    </tr>\n    <tr>\n      <th>4</th>\n      <td>4</td>\n      <td>2022-06-15 00:00:00</td>\n      <td>2022-07-01 00:00:00</td>\n      <td>2800</td>\n      <td>TOTAL DEDUCCIONES</td>\n      <td>27822</td>\n      <td>716</td>\n      <td>25107406</td>\n      <td>156</td>\n      <td>VISA CREDITO</td>\n      <td>49585.43</td>\n    </tr>\n  </tbody>\n</table>\n</div>"
     },
     "execution_count": 19,
     "metadata": {},
     "output_type": "execute_result"
    }
   ],
   "source": [
    "tarjetas.head()"
   ],
   "metadata": {
    "collapsed": false,
    "pycharm": {
     "name": "#%%\n"
    }
   }
  },
  {
   "cell_type": "code",
   "execution_count": 21,
   "outputs": [
    {
     "data": {
      "text/plain": "unnamed: 0              int64\npresetacion_fecha      object\nfecha_de_pago          object\ncod_clearing            int64\ndesc_creaing           object\nnro_liquidacion         int64\ncod_sucursal            int64\ncod_comercio            int64\ncod_pagadora            int64\ncod_marca_producto     object\nimporte_concepto      float64\ndtype: object"
     },
     "execution_count": 21,
     "metadata": {},
     "output_type": "execute_result"
    }
   ],
   "source": [
    "tarjetas.dtypes"
   ],
   "metadata": {
    "collapsed": false,
    "pycharm": {
     "name": "#%%\n"
    }
   }
  },
  {
   "cell_type": "markdown",
   "source": [
    "### 1- Pasar todos los nombres de las columnas a minusculas"
   ],
   "metadata": {
    "collapsed": false,
    "pycharm": {
     "name": "#%% md\n"
    }
   }
  },
  {
   "cell_type": "code",
   "execution_count": 6,
   "outputs": [
    {
     "data": {
      "text/plain": "Index(['unnamed: 0', 'presetacion_fecha', 'fecha_de_pago', 'cod_clearing',\n       'desc_creaing', 'nro_liquidacion', 'cod_sucursal', 'cod_comercio',\n       'cod_pagadora', 'cod_marca_producto', 'importe_concepto'],\n      dtype='object')"
     },
     "execution_count": 6,
     "metadata": {},
     "output_type": "execute_result"
    }
   ],
   "source": [
    "tarjetas.columns = tarjetas.columns.str.lower()\n",
    "tarjetas.columns"
   ],
   "metadata": {
    "collapsed": false,
    "pycharm": {
     "name": "#%%\n"
    }
   }
  },
  {
   "cell_type": "markdown",
   "source": [
    "### 2-Cuantas sucursales únicas hay? ¿Cuáles?"
   ],
   "metadata": {
    "collapsed": false,
    "pycharm": {
     "name": "#%% md\n"
    }
   }
  },
  {
   "cell_type": "code",
   "execution_count": 7,
   "outputs": [
    {
     "data": {
      "text/plain": "array([716,  98, 671, 519, 241], dtype=int64)"
     },
     "execution_count": 7,
     "metadata": {},
     "output_type": "execute_result"
    }
   ],
   "source": [
    "tarjetas.cod_sucursal.unique()"
   ],
   "metadata": {
    "collapsed": false,
    "pycharm": {
     "name": "#%%\n"
    }
   }
  },
  {
   "cell_type": "markdown",
   "source": [
    "### 3- Cuantas tarjetas de crédito distitas hay? ¿Cuáles?\n",
    "¿Se te ocurre un nombre mejor para esa columna?"
   ],
   "metadata": {
    "collapsed": false,
    "pycharm": {
     "name": "#%% md\n"
    }
   }
  },
  {
   "cell_type": "code",
   "execution_count": 9,
   "outputs": [
    {
     "data": {
      "text/plain": "array(['VISA CREDITO', 'VISA DEBITO', 'MASTERCARD', 'MASTERCARD DEBIT',\n       'MAESTRO', 'ARGENCARD'], dtype=object)"
     },
     "execution_count": 9,
     "metadata": {},
     "output_type": "execute_result"
    }
   ],
   "source": [
    "tarjetas.cod_marca_producto.unique()"
   ],
   "metadata": {
    "collapsed": false,
    "pycharm": {
     "name": "#%%\n"
    }
   }
  },
  {
   "cell_type": "code",
   "execution_count": 14,
   "outputs": [
    {
     "data": {
      "text/plain": "array(['VISA CREDITO'], dtype=object)"
     },
     "execution_count": 14,
     "metadata": {},
     "output_type": "execute_result"
    }
   ],
   "source": [
    "tarjetas[tarjetas.cod_marca_producto.str.contains('CREDITO')].cod_marca_producto.unique()\n"
   ],
   "metadata": {
    "collapsed": false,
    "pycharm": {
     "name": "#%%\n"
    }
   }
  },
  {
   "cell_type": "markdown",
   "source": [
    "### 4- Cuants filas y columnas hay?\n"
   ],
   "metadata": {
    "collapsed": false,
    "pycharm": {
     "name": "#%% md\n"
    }
   }
  },
  {
   "cell_type": "code",
   "execution_count": 16,
   "outputs": [
    {
     "data": {
      "text/plain": "(47280, 11)"
     },
     "execution_count": 16,
     "metadata": {},
     "output_type": "execute_result"
    }
   ],
   "source": [
    "tarjetas.shape"
   ],
   "metadata": {
    "collapsed": false,
    "pycharm": {
     "name": "#%%\n"
    }
   }
  },
  {
   "cell_type": "markdown",
   "source": [
    "### 5- ¿Cuanto suma el total de importe_concepto?\n"
   ],
   "metadata": {
    "collapsed": false,
    "pycharm": {
     "name": "#%% md\n"
    }
   }
  },
  {
   "cell_type": "code",
   "execution_count": 17,
   "outputs": [
    {
     "data": {
      "text/plain": "4145618332.503"
     },
     "execution_count": 17,
     "metadata": {},
     "output_type": "execute_result"
    }
   ],
   "source": [
    "tarjetas.importe_concepto.sum()"
   ],
   "metadata": {
    "collapsed": false,
    "pycharm": {
     "name": "#%%\n"
    }
   }
  },
  {
   "cell_type": "markdown",
   "source": [
    "### 6- ¿Cuanto dinero se cobro por mes? Cree un lineplot para gráficarlo\n"
   ],
   "metadata": {
    "collapsed": false,
    "pycharm": {
     "name": "#%% md\n"
    }
   }
  },
  {
   "cell_type": "code",
   "execution_count": 25,
   "outputs": [],
   "source": [
    "tarjetas['fecha_de_pago'] = pd.to_datetime(tarjetas['fecha_de_pago'], infer_datetime_format=True)\n"
   ],
   "metadata": {
    "collapsed": false,
    "pycharm": {
     "name": "#%%\n"
    }
   }
  },
  {
   "cell_type": "code",
   "execution_count": 28,
   "outputs": [],
   "source": [
    "importe_diario = tarjetas.groupby(tarjetas.fecha_de_pago.dt.day).sum()['importe_concepto']"
   ],
   "metadata": {
    "collapsed": false,
    "pycharm": {
     "name": "#%%\n"
    }
   }
  },
  {
   "cell_type": "code",
   "execution_count": 32,
   "outputs": [
    {
     "data": {
      "text/plain": "<Figure size 640x480 with 1 Axes>",
      "image/png": "[encoded data removed]"
     },
     "metadata": {},
     "output_type": "display_data"
    }
   ],
   "source": [
    "import matplotlib.pyplot as plt\n",
    "\n",
    "plt.plot(importe_diario,c='r')\n",
    "plt.title('Importe concepto por dia')\n",
    "plt.xlabel('dia')\n",
    "plt.ylabel('suma importe')\n",
    "plt.show()"
   ],
   "metadata": {
    "collapsed": false,
    "pycharm": {
     "name": "#%%\n"
    }
   }
  },
  {
   "cell_type": "markdown",
   "source": [
    "### 7- Cuanto dinero se cobro por sucursal?\n"
   ],
   "metadata": {
    "collapsed": false,
    "pycharm": {
     "name": "#%% md\n"
    }
   }
  },
  {
   "cell_type": "code",
   "execution_count": 33,
   "outputs": [
    {
     "data": {
      "text/plain": "cod_sucursal\n98     1.401451e+08\n241    9.773019e+05\n519    3.621125e+09\n671    2.418829e+08\n716    1.414878e+08\nName: importe_concepto, dtype: float64"
     },
     "execution_count": 33,
     "metadata": {},
     "output_type": "execute_result"
    }
   ],
   "source": [
    "tarjetas.groupby('cod_sucursal').sum()['importe_concepto']"
   ],
   "metadata": {
    "collapsed": false,
    "pycharm": {
     "name": "#%%\n"
    }
   }
  },
  {
   "cell_type": "markdown",
   "source": [
    "### 8- Cuanto dinero se cobro por mes por sucursal?\n"
   ],
   "metadata": {
    "collapsed": false,
    "pycharm": {
     "name": "#%% md\n"
    }
   }
  },
  {
   "cell_type": "code",
   "execution_count": 34,
   "outputs": [
    {
     "data": {
      "text/plain": "fecha_de_pago  cod_sucursal\n1              98              3.669431e+06\n               519             1.312675e+08\n               671             7.608022e+06\n               716             4.772726e+06\n4              98              6.478613e+06\n                                   ...     \n29             98              4.980121e+06\n               241             2.472456e+04\n               519             1.182347e+08\n               671             6.924635e+06\n               716             5.308723e+06\nName: importe_concepto, Length: 91, dtype: float64"
     },
     "execution_count": 34,
     "metadata": {},
     "output_type": "execute_result"
    }
   ],
   "source": [
    "tarjetas.groupby([tarjetas.fecha_de_pago.dt.day,'cod_sucursal']).sum()['importe_concepto']"
   ],
   "metadata": {
    "collapsed": false,
    "pycharm": {
     "name": "#%%\n"
    }
   }
  },
  {
   "cell_type": "markdown",
   "source": [
    "### 9- Cuanto dinero se cobro por mes por sucursal y por descreaing?"
   ],
   "metadata": {
    "collapsed": false,
    "pycharm": {
     "name": "#%% md\n"
    }
   }
  },
  {
   "cell_type": "code",
   "execution_count": 35,
   "outputs": [
    {
     "data": {
      "text/plain": "fecha_de_pago  cod_sucursal  desc_creaing                                \n1              98             PERCEPCION IVA R.G. 2408   3,00 %                  246.590\n                             ARANCEL                                           13283.600\n                             CRED FISCAL AHORA 12/18 VTA EN CUOTAS 10,50%       2536.308\n                             CRED. FISCAL PAG.S/DTO.FIN.OTORG 21,00%             444.920\n                             DESCUENTO FINANC.OTORG. CUOTAS                     2118.730\n                                                                                ...     \n29             716           SUBTOTAL NETO DE PAGOS                          1216257.030\n                             TOTAL DEDUCCIONES                                146099.260\n                             TOTAL LIQUIDACION                               1216257.030\n                             VENTAS C/DESCUENTO CONTADO                       433551.900\n                             VENTAS C/DTO CUOTAS FINANC. OTORG.               928804.390\nName: importe_concepto, Length: 1907, dtype: float64"
     },
     "execution_count": 35,
     "metadata": {},
     "output_type": "execute_result"
    }
   ],
   "source": [
    "tarjetas.groupby([tarjetas.fecha_de_pago.dt.day,'cod_sucursal', 'desc_creaing']).sum()['importe_concepto']"
   ],
   "metadata": {
    "collapsed": false,
    "pycharm": {
     "name": "#%%\n"
    }
   }
  },
  {
   "cell_type": "markdown",
   "source": [],
   "metadata": {
    "collapsed": false,
    "pycharm": {
     "name": "#%% md\n"
    }
   }
  },
  {
   "cell_type": "markdown",
   "source": [
    "### 10- Pase a columnas los valores presentes en desc_creaing y ponga los importes como valores y en el indice la fecha de pago y el codigo de comercio"
   ],
   "metadata": {
    "collapsed": false,
    "pycharm": {
     "name": "#%% md\n"
    }
   }
  },
  {
   "cell_type": "code",
   "execution_count": 37,
   "outputs": [
    {
     "data": {
      "text/plain": "desc_creaing                 PERCEPCION IVA R.G. 2408   3,00 %  \\\nfecha_de_pago cod_comercio                                       \n2022-07-01    4547438                                  3517.63   \n              14935528                                     NaN   \n              14935556                                     NaN   \n              14935569                                     NaN   \n              15537297                                   80.55   \n...                                                        ...   \n2022-07-29    25108471                                   94.32   \n              25108573                                   96.97   \n              25877861                                     NaN   \n              25892842                                  313.88   \n              25892918                                  120.94   \n\ndesc_creaing                AJUSTE SIRTAC JUL. 1RA QUINC  \\\nfecha_de_pago cod_comercio                                 \n2022-07-01    4547438                                NaN   \n              14935528                               NaN   \n              14935556                               NaN   \n              14935569                               NaN   \n              15537297                               NaN   \n...                                                  ...   \n2022-07-29    25108471                               NaN   \n              25108573                               NaN   \n              25877861                               NaN   \n              25892842                               NaN   \n              25892918                               NaN   \n\ndesc_creaing                AJUSTE SIRTAC JUNIO 2DA QUINC  \\\nfecha_de_pago cod_comercio                                  \n2022-07-01    4547438                                 NaN   \n              14935528                                NaN   \n              14935556                                NaN   \n              14935569                                NaN   \n              15537297                                NaN   \n...                                                   ...   \n2022-07-29    25108471                                NaN   \n              25108573                                NaN   \n              25877861                                NaN   \n              25892842                                NaN   \n              25892918                                NaN   \n\ndesc_creaing                ARANCEL                                       \\\nfecha_de_pago cod_comercio                                                 \n2022-07-01    4547438                                          136195.74   \n              14935528                                             44.98   \n              14935556                                            170.95   \n              14935569                                            428.31   \n              15537297                                           2685.16   \n...                                                                  ...   \n2022-07-29    25108471                                           3204.65   \n              25108573                                           3838.58   \n              25877861                                            114.09   \n              25892842                                          11774.38   \n              25892918                                           4823.25   \n\ndesc_creaing                CARGO  SISTEMA CUOTAS MENS                    \\\nfecha_de_pago cod_comercio                                                 \n2022-07-01    4547438                                                NaN   \n              14935528                                               NaN   \n              14935556                                               NaN   \n              14935569                                               NaN   \n              15537297                                               NaN   \n...                                                                  ...   \n2022-07-29    25108471                                               NaN   \n              25108573                                               NaN   \n              25877861                                               NaN   \n              25892842                                               NaN   \n              25892918                                               NaN   \n\ndesc_creaing                CARGO LIQUIDACION ELECTR.  \\\nfecha_de_pago cod_comercio                              \n2022-07-01    4547438                             NaN   \n              14935528                            NaN   \n              14935556                            NaN   \n              14935569                            NaN   \n              15537297                            NaN   \n...                                               ...   \n2022-07-29    25108471                            NaN   \n              25108573                            NaN   \n              25877861                            NaN   \n              25892842                            NaN   \n              25892918                            NaN   \n\ndesc_creaing                CARGO POSNET  FIRSTDATA.COM.AR  \\\nfecha_de_pago cod_comercio                                   \n2022-07-01    4547438                                  NaN   \n              14935528                                 NaN   \n              14935556                                 NaN   \n              14935569                                 NaN   \n              15537297                                 NaN   \n...                                                    ...   \n2022-07-29    25108471                                 NaN   \n              25108573                                 NaN   \n              25877861                                 NaN   \n              25892842                                 NaN   \n              25892918                                 NaN   \n\ndesc_creaing                CARGOS DE ENTIDAD                             \\\nfecha_de_pago cod_comercio                                                 \n2022-07-01    4547438                                                NaN   \n              14935528                                               NaN   \n              14935556                                               NaN   \n              14935569                                               NaN   \n              15537297                                               NaN   \n...                                                                  ...   \n2022-07-29    25108471                                               NaN   \n              25108573                                               NaN   \n              25877861                                               NaN   \n              25892842                                               NaN   \n              25892918                                               NaN   \n\ndesc_creaing                CRED FISCAL AHORA 12/18 VTA EN CUOTAS 10,50%  \\\nfecha_de_pago cod_comercio                                                 \n2022-07-01    4547438                                          21828.430   \n              14935528                                            10.653   \n              14935556                                            40.485   \n              14935569                                           101.438   \n              15537297                                           703.068   \n...                                                                  ...   \n2022-07-29    25108471                                           926.160   \n              25108573                                           951.727   \n              25877861                                            34.007   \n              25892842                                          3338.294   \n              25892918                                          1268.384   \n\ndesc_creaing                CRED FISCAL AHORA 12/18 VTA EN CUOTAS 21,00%  ...  \\\nfecha_de_pago cod_comercio                                                ...   \n2022-07-01    4547438                                                NaN  ...   \n              14935528                                               NaN  ...   \n              14935556                                               NaN  ...   \n              14935569                                               NaN  ...   \n              15537297                                               NaN  ...   \n...                                                                  ...  ...   \n2022-07-29    25108471                                               NaN  ...   \n              25108573                                               NaN  ...   \n              25877861                                               NaN  ...   \n              25892842                                               NaN  ...   \n              25892918                                               NaN  ...   \n\ndesc_creaing                RETENCION ING.BRUTOS                          \\\nfecha_de_pago cod_comercio                                                 \n2022-07-01    4547438                                          180436.95   \n              14935528                                             45.64   \n              14935556                                               NaN   \n              14935569                                               NaN   \n              15537297                                               NaN   \n...                                                                  ...   \n2022-07-29    25108471                                               NaN   \n              25108573                                           4714.19   \n              25877861                                            118.00   \n              25892842                                               NaN   \n              25892918                                               NaN   \n\ndesc_creaing                RETENCION ING.BRUTOS SIRTAC  \\\nfecha_de_pago cod_comercio                                \n2022-07-01    4547438                          84880.39   \n              14935528                            24.99   \n              14935556                            94.97   \n              14935569                           237.95   \n              15537297                          1491.76   \n...                                                 ...   \n2022-07-29    25108471                          1275.92   \n              25108573                          1787.14   \n              25877861                            44.37   \n              25892842                          5216.68   \n              25892918                          2260.10   \n\ndesc_creaing                RETENCION IVA                                 \\\nfecha_de_pago cod_comercio                                                 \n2022-07-01    4547438                                          185812.88   \n              14935528                                             70.58   \n              14935556                                            268.21   \n              14935569                                            672.02   \n              15537297                                           4193.84   \n...                                                                  ...   \n2022-07-29    25108471                                           4880.37   \n              25108573                                           5019.62   \n              25877861                                               NaN   \n              25892842                                          16170.14   \n              25892918                                           6237.74   \n\ndesc_creaing                SERVICIO OPER. INTERNAC.  \\\nfecha_de_pago cod_comercio                             \n2022-07-01    4547438                            NaN   \n              14935528                           NaN   \n              14935556                           NaN   \n              14935569                           NaN   \n              15537297                           NaN   \n...                                              ...   \n2022-07-29    25108471                           NaN   \n              25108573                           NaN   \n              25877861                           NaN   \n              25892842                           NaN   \n              25892918                           NaN   \n\ndesc_creaing                SUBTOTAL NETO DE PAGOS                        \\\nfecha_de_pago cod_comercio                                                 \n2022-07-01    4547438                                         8689928.80   \n              14935528                                           2191.25   \n              14935556                                           8500.90   \n              14935569                                          21075.24   \n              15537297                                         131363.52   \n...                                                                  ...   \n2022-07-29    25108471                                         160772.74   \n              25108573                                         227237.27   \n              25877861                                           5675.95   \n              25892842                                         668770.41   \n              25892918                                         292988.64   \n\ndesc_creaing                TOTAL DEDUCCIONES                             \\\nfecha_de_pago cod_comercio                                                 \n2022-07-01    4547438                                          951995.14   \n              14935528                                            307.75   \n              14935556                                            996.10   \n              14935569                                           2719.76   \n              15537297                                          17812.10   \n...                                                                  ...   \n2022-07-29    25108471                                          21501.76   \n              25108573                                          28067.73   \n              25877861                                            662.25   \n              25892842                                          76469.32   \n              25892918                                          29882.40   \n\ndesc_creaing                TOTAL LIQUIDACION                             \\\nfecha_de_pago cod_comercio                                                 \n2022-07-01    4547438                                         8689928.80   \n              14935528                                           2191.25   \n              14935556                                           8500.90   \n              14935569                                          21075.24   \n              15537297                                         131363.52   \n...                                                                  ...   \n2022-07-29    25108471                                         160772.74   \n              25108573                                         227237.27   \n              25877861                                           5675.95   \n              25892842                                         668770.41   \n              25892918                                         292988.64   \n\ndesc_creaing                TOTAL PAGOS DE COMERCIOS                      \\\nfecha_de_pago cod_comercio                                                 \n2022-07-01    4547438                                                NaN   \n              14935528                                               NaN   \n              14935556                                               NaN   \n              14935569                                               NaN   \n              15537297                                               NaN   \n...                                                                  ...   \n2022-07-29    25108471                                               NaN   \n              25108573                                               NaN   \n              25877861                                               NaN   \n              25892842                                               NaN   \n              25892918                                               NaN   \n\ndesc_creaing                VENTAS C/DESCUENTO CONTADO                    \\\nfecha_de_pago cod_comercio                                                 \n2022-07-01    4547438                                         5107424.65   \n              14935528                                               NaN   \n              14935556                                               NaN   \n              14935569                                               NaN   \n              15537297                                               NaN   \n...                                                                  ...   \n2022-07-29    25108471                                           9660.60   \n              25108573                                          77926.00   \n              25877861                                               NaN   \n              25892842                                         190580.00   \n              25892918                                         107660.00   \n\ndesc_creaing                VENTAS C/DTO CUOTAS FINANC. OTORG.            \nfecha_de_pago cod_comercio                                                \n2022-07-01    4547438                                         4534499.29  \n              14935528                                           2499.00  \n              14935556                                           9497.00  \n              14935569                                          23795.00  \n              15537297                                         149175.62  \n...                                                                  ...  \n2022-07-29    25108471                                         172613.90  \n              25108573                                         177379.00  \n              25877861                                           6338.20  \n              25892842                                         554659.73  \n              25892918                                         215211.04  \n\n[1689 rows x 39 columns]",
      "text/html": "<div>\n<style scoped>\n    .dataframe tbody tr th:only-of-type {\n        vertical-align: middle;\n    }\n\n    .dataframe tbody tr th {\n        vertical-align: top;\n    }\n\n    .dataframe thead th {\n        text-align: right;\n    }\n</style>\n<table border=\"1\" class=\"dataframe\">\n  <thead>\n    <tr style=\"text-align: right;\">\n      <th></th>\n      <th>desc_creaing</th>\n      <th>PERCEPCION IVA R.G. 2408   3,00 %</th>\n      <th>AJUSTE SIRTAC JUL. 1RA QUINC</th>\n      <th>AJUSTE SIRTAC JUNIO 2DA QUINC</th>\n      <th>ARANCEL</th>\n      <th>CARGO  SISTEMA CUOTAS MENS</th>\n      <th>CARGO LIQUIDACION ELECTR.</th>\n      <th>CARGO POSNET  FIRSTDATA.COM.AR</th>\n      <th>CARGOS DE ENTIDAD</th>\n      <th>CRED FISCAL AHORA 12/18 VTA EN CUOTAS 10,50%</th>\n      <th>CRED FISCAL AHORA 12/18 VTA EN CUOTAS 21,00%</th>\n      <th>...</th>\n      <th>RETENCION ING.BRUTOS</th>\n      <th>RETENCION ING.BRUTOS SIRTAC</th>\n      <th>RETENCION IVA</th>\n      <th>SERVICIO OPER. INTERNAC.</th>\n      <th>SUBTOTAL NETO DE PAGOS</th>\n      <th>TOTAL DEDUCCIONES</th>\n      <th>TOTAL LIQUIDACION</th>\n      <th>TOTAL PAGOS DE COMERCIOS</th>\n      <th>VENTAS C/DESCUENTO CONTADO</th>\n      <th>VENTAS C/DTO CUOTAS FINANC. OTORG.</th>\n    </tr>\n    <tr>\n      <th>fecha_de_pago</th>\n      <th>cod_comercio</th>\n      <th></th>\n      <th></th>\n      <th></th>\n      <th></th>\n      <th></th>\n      <th></th>\n      <th></th>\n      <th></th>\n      <th></th>\n      <th></th>\n      <th></th>\n      <th></th>\n      <th></th>\n      <th></th>\n      <th></th>\n      <th></th>\n      <th></th>\n      <th></th>\n      <th></th>\n      <th></th>\n      <th></th>\n    </tr>\n  </thead>\n  <tbody>\n    <tr>\n      <th rowspan=\"5\" valign=\"top\">2022-07-01</th>\n      <th>4547438</th>\n      <td>3517.63</td>\n      <td>NaN</td>\n      <td>NaN</td>\n      <td>136195.74</td>\n      <td>NaN</td>\n      <td>NaN</td>\n      <td>NaN</td>\n      <td>NaN</td>\n      <td>21828.430</td>\n      <td>NaN</td>\n      <td>...</td>\n      <td>180436.95</td>\n      <td>84880.39</td>\n      <td>185812.88</td>\n      <td>NaN</td>\n      <td>8689928.80</td>\n      <td>951995.14</td>\n      <td>8689928.80</td>\n      <td>NaN</td>\n      <td>5107424.65</td>\n      <td>4534499.29</td>\n    </tr>\n    <tr>\n      <th>14935528</th>\n      <td>NaN</td>\n      <td>NaN</td>\n      <td>NaN</td>\n      <td>44.98</td>\n      <td>NaN</td>\n      <td>NaN</td>\n      <td>NaN</td>\n      <td>NaN</td>\n      <td>10.653</td>\n      <td>NaN</td>\n      <td>...</td>\n      <td>45.64</td>\n      <td>24.99</td>\n      <td>70.58</td>\n      <td>NaN</td>\n      <td>2191.25</td>\n      <td>307.75</td>\n      <td>2191.25</td>\n      <td>NaN</td>\n      <td>NaN</td>\n      <td>2499.00</td>\n    </tr>\n    <tr>\n      <th>14935556</th>\n      <td>NaN</td>\n      <td>NaN</td>\n      <td>NaN</td>\n      <td>170.95</td>\n      <td>NaN</td>\n      <td>NaN</td>\n      <td>NaN</td>\n      <td>NaN</td>\n      <td>40.485</td>\n      <td>NaN</td>\n      <td>...</td>\n      <td>NaN</td>\n      <td>94.97</td>\n      <td>268.21</td>\n      <td>NaN</td>\n      <td>8500.90</td>\n      <td>996.10</td>\n      <td>8500.90</td>\n      <td>NaN</td>\n      <td>NaN</td>\n      <td>9497.00</td>\n    </tr>\n    <tr>\n      <th>14935569</th>\n      <td>NaN</td>\n      <td>NaN</td>\n      <td>NaN</td>\n      <td>428.31</td>\n      <td>NaN</td>\n      <td>NaN</td>\n      <td>NaN</td>\n      <td>NaN</td>\n      <td>101.438</td>\n      <td>NaN</td>\n      <td>...</td>\n      <td>NaN</td>\n      <td>237.95</td>\n      <td>672.02</td>\n      <td>NaN</td>\n      <td>21075.24</td>\n      <td>2719.76</td>\n      <td>21075.24</td>\n      <td>NaN</td>\n      <td>NaN</td>\n      <td>23795.00</td>\n    </tr>\n    <tr>\n      <th>15537297</th>\n      <td>80.55</td>\n      <td>NaN</td>\n      <td>NaN</td>\n      <td>2685.16</td>\n      <td>NaN</td>\n      <td>NaN</td>\n      <td>NaN</td>\n      <td>NaN</td>\n      <td>703.068</td>\n      <td>NaN</td>\n      <td>...</td>\n      <td>NaN</td>\n      <td>1491.76</td>\n      <td>4193.84</td>\n      <td>NaN</td>\n      <td>131363.52</td>\n      <td>17812.10</td>\n      <td>131363.52</td>\n      <td>NaN</td>\n      <td>NaN</td>\n      <td>149175.62</td>\n    </tr>\n    <tr>\n      <th>...</th>\n      <th>...</th>\n      <td>...</td>\n      <td>...</td>\n      <td>...</td>\n      <td>...</td>\n      <td>...</td>\n      <td>...</td>\n      <td>...</td>\n      <td>...</td>\n      <td>...</td>\n      <td>...</td>\n      <td>...</td>\n      <td>...</td>\n      <td>...</td>\n      <td>...</td>\n      <td>...</td>\n      <td>...</td>\n      <td>...</td>\n      <td>...</td>\n      <td>...</td>\n      <td>...</td>\n      <td>...</td>\n    </tr>\n    <tr>\n      <th rowspan=\"5\" valign=\"top\">2022-07-29</th>\n      <th>25108471</th>\n      <td>94.32</td>\n      <td>NaN</td>\n      <td>NaN</td>\n      <td>3204.65</td>\n      <td>NaN</td>\n      <td>NaN</td>\n      <td>NaN</td>\n      <td>NaN</td>\n      <td>926.160</td>\n      <td>NaN</td>\n      <td>...</td>\n      <td>NaN</td>\n      <td>1275.92</td>\n      <td>4880.37</td>\n      <td>NaN</td>\n      <td>160772.74</td>\n      <td>21501.76</td>\n      <td>160772.74</td>\n      <td>NaN</td>\n      <td>9660.60</td>\n      <td>172613.90</td>\n    </tr>\n    <tr>\n      <th>25108573</th>\n      <td>96.97</td>\n      <td>NaN</td>\n      <td>NaN</td>\n      <td>3838.58</td>\n      <td>NaN</td>\n      <td>NaN</td>\n      <td>NaN</td>\n      <td>NaN</td>\n      <td>951.727</td>\n      <td>NaN</td>\n      <td>...</td>\n      <td>4714.19</td>\n      <td>1787.14</td>\n      <td>5019.62</td>\n      <td>NaN</td>\n      <td>227237.27</td>\n      <td>28067.73</td>\n      <td>227237.27</td>\n      <td>NaN</td>\n      <td>77926.00</td>\n      <td>177379.00</td>\n    </tr>\n    <tr>\n      <th>25877861</th>\n      <td>NaN</td>\n      <td>NaN</td>\n      <td>NaN</td>\n      <td>114.09</td>\n      <td>NaN</td>\n      <td>NaN</td>\n      <td>NaN</td>\n      <td>NaN</td>\n      <td>34.007</td>\n      <td>NaN</td>\n      <td>...</td>\n      <td>118.00</td>\n      <td>44.37</td>\n      <td>NaN</td>\n      <td>NaN</td>\n      <td>5675.95</td>\n      <td>662.25</td>\n      <td>5675.95</td>\n      <td>NaN</td>\n      <td>NaN</td>\n      <td>6338.20</td>\n    </tr>\n    <tr>\n      <th>25892842</th>\n      <td>313.88</td>\n      <td>NaN</td>\n      <td>NaN</td>\n      <td>11774.38</td>\n      <td>NaN</td>\n      <td>NaN</td>\n      <td>NaN</td>\n      <td>NaN</td>\n      <td>3338.294</td>\n      <td>NaN</td>\n      <td>...</td>\n      <td>NaN</td>\n      <td>5216.68</td>\n      <td>16170.14</td>\n      <td>NaN</td>\n      <td>668770.41</td>\n      <td>76469.32</td>\n      <td>668770.41</td>\n      <td>NaN</td>\n      <td>190580.00</td>\n      <td>554659.73</td>\n    </tr>\n    <tr>\n      <th>25892918</th>\n      <td>120.94</td>\n      <td>NaN</td>\n      <td>NaN</td>\n      <td>4823.25</td>\n      <td>NaN</td>\n      <td>NaN</td>\n      <td>NaN</td>\n      <td>NaN</td>\n      <td>1268.384</td>\n      <td>NaN</td>\n      <td>...</td>\n      <td>NaN</td>\n      <td>2260.10</td>\n      <td>6237.74</td>\n      <td>NaN</td>\n      <td>292988.64</td>\n      <td>29882.40</td>\n      <td>292988.64</td>\n      <td>NaN</td>\n      <td>107660.00</td>\n      <td>215211.04</td>\n    </tr>\n  </tbody>\n</table>\n<p>1689 rows × 39 columns</p>\n</div>"
     },
     "execution_count": 37,
     "metadata": {},
     "output_type": "execute_result"
    }
   ],
   "source": [
    "tarjetas.groupby(['fecha_de_pago', 'cod_comercio','desc_creaing'])['importe_concepto'].sum().unstack('desc_creaing')"
   ],
   "metadata": {
    "collapsed": false,
    "pycharm": {
     "name": "#%%\n"
    }
   }
  },
  {
   "cell_type": "markdown",
   "source": [
    "### 11- Quedarse solo con tarjeta visa. Crear una columna que sume 'VENTAS C/DESCUENTO CONTADO' con\n",
    "                                'VENTAS C/DTO CUOTAS FINANC. OTORG.'"
   ],
   "metadata": {
    "id": "qYonU-BsZIiX",
    "pycharm": {
     "name": "#%% md\n"
    }
   }
  },
  {
   "cell_type": "code",
   "execution_count": 48,
   "outputs": [
    {
     "data": {
      "text/plain": "fecha_de_pago  cod_comercio\n2022-07-01     25098024        466353.970000\n               25107096        184476.023333\n               25107105        402094.000000\n               25107118        498690.760000\n               25107120        221920.300000\n                                   ...      \n2022-07-29     25108471        177444.200000\n               25108573        216342.000000\n               25877861                  NaN\n               25892842        649949.730000\n               25892918        269041.040000\nName: ventas con descuento, Length: 1183, dtype: float64"
     },
     "execution_count": 48,
     "metadata": {},
     "output_type": "execute_result"
    }
   ],
   "source": [
    "#creo una mascara donde procesador_de_pago sea igual a VISA para filtrar luego en el df\n",
    "mask_visa = tarjetas['cod_marca_producto'].str.contains('VISA')\n",
    "\n",
    "#uso el metodo pivot_table como en el ejercicio anterior, usando el df filtrado con la mascara\n",
    "df_solo_visa = pd.pivot_table(tarjetas[mask_visa],columns='desc_creaing',values='importe_concepto', index=['fecha_de_pago','cod_comercio'])\n",
    "\n",
    "#creo una nueva columna a partir de la suma de otras dos\n",
    "df_solo_visa['ventas con descuento'] = df_solo_visa['VENTAS C/DESCUENTO CONTADO                  '] + df_solo_visa['VENTAS C/DTO CUOTAS FINANC. OTORG.          ']\n",
    "df_solo_visa['ventas con descuento']"
   ],
   "metadata": {
    "collapsed": false,
    "pycharm": {
     "name": "#%%\n"
    }
   }
  },
  {
   "cell_type": "markdown",
   "source": [
    "### 12- Quedarse solo con la tarjeta mastercard y crear una columna que sea la suma de 'PERCEPCION IVA R.G. 2408   1,50 %' y  'PERCEPCION IVA R.G. 2408   3,00 %'"
   ],
   "metadata": {
    "collapsed": false,
    "pycharm": {
     "name": "#%% md\n"
    }
   }
  },
  {
   "cell_type": "code",
   "execution_count": 49,
   "outputs": [
    {
     "data": {
      "text/plain": "fecha_de_pago  cod_comercio\n2022-07-01     4547438         1629.433333\n               14935528                NaN\n               14935556                NaN\n               14935569                NaN\n               15537297                NaN\n                                  ...     \n2022-07-29     15589105                NaN\n               15589118                NaN\n               16378521                NaN\n               19265106                NaN\n               19273970                NaN\nName: percepcion iva, Length: 506, dtype: float64"
     },
     "execution_count": 49,
     "metadata": {},
     "output_type": "execute_result"
    }
   ],
   "source": [
    "#repito los pasos del ejercicio anterior pero filtrando 'Mastercard'\n",
    "mask_mastercard = tarjetas['cod_marca_producto'].str.contains('MASTERCARD')\n",
    "df_solo_master = pd.pivot_table(tarjetas[mask_mastercard],columns='desc_creaing',values='importe_concepto', index=['fecha_de_pago','cod_comercio'])\n",
    "df_solo_master['percepcion iva'] = df_solo_master['PERCEPCION IVA R.G. 2408   1,50 %'] + df_solo_master[' PERCEPCION IVA R.G. 2408   3,00 %']\n",
    "df_solo_master['percepcion iva']"
   ],
   "metadata": {
    "collapsed": false,
    "pycharm": {
     "name": "#%%\n"
    }
   }
  },
  {
   "cell_type": "markdown",
   "source": [
    "### Guardar como datasets\n",
    "a- el dataset de la tarjeta visa\n",
    "b- el dataset de la tarjeta mastercard\n",
    "c- cuanto dinero se cobra por mes y por sucursal\n",
    "d- cuanto se cobra por mes\n",
    "e- crear un lineplot de cuanto se cobra por mes"
   ],
   "metadata": {
    "collapsed": false,
    "pycharm": {
     "name": "#%% md\n"
    }
   }
  },
  {
   "cell_type": "code",
   "execution_count": null,
   "outputs": [],
   "source": [],
   "metadata": {
    "collapsed": false,
    "pycharm": {
     "name": "#%%\n"
    }
   }
  }
 ]
}