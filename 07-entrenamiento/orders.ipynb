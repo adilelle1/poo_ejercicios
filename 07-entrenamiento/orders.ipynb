{
 "cells": [
  {
   "cell_type": "markdown",
   "metadata": {
    "pycharm": {
     "name": "#%% md\n"
    }
   },
   "source": [
    "# Orders"
   ]
  },
  {
   "cell_type": "markdown",
   "source": [
    "Gran parte de nuestra tarea es crear \"Features\", variables en los datos que representan un aspecto del fenómeno que estudiamos y nos ayudan a explicarlo."
   ],
   "metadata": {
    "collapsed": false,
    "pycharm": {
     "name": "#%% md\n"
    }
   }
  },
  {
   "cell_type": "markdown",
   "metadata": {
    "pycharm": {
     "name": "#%% md\n"
    }
   },
   "source": [
    "**Ejercicio**\n",
    "\n",
    "Vamos a investigar la relación entre orders y el score.\n",
    "\n",
    "La idea es crear un dataframe con las siguientes features:\n",
    "\n",
    "| feature_name \t                | type \t| description \t                                                                                                                                         |\n",
    "|:------------------------------|:---:\t|:------------------------------------------------------------------------------------------------------------------------------------------------------|\n",
    "| `order_id` \t                  | str \t| the id of the order \t                                                                                                                                 |\n",
    "| `tiempo_de_espera` \t          | float \t| numero de días entre order_date y delivered_date \t                                                                                                    |\n",
    "| `tiempo_de_espera_previsto` \t | float \t| numero de días entre order_date y estimated_delivery_date \t                                                                                           |\n",
    "| `real_vas_esperado` \t         | float \t| si la fecha de entrega real es posterior a la fecha de entrega estimada, devuelve el número de días entre las dos fechas; de lo contrario, devuelve 0 |\n",
    "| `order_status` \t              | str \t| statusde la orden\t                                                                                                                                    |\n",
    "| `es_es_cinco_estrellas` \t     | int \t| 1 si tuvo cinco estrellas en la  review, 0 caso contrario \t                                                                                           |\n",
    "| `es_una_estrella` \t           | int \t| 1 si tuvo una estrella, 0 caso contrario \t                                                                                                            |\n",
    "| `review_score` \t              | int \t| from 1 to 5 \t                                                                                                                                         |\n",
    "| `numero_de_productos` \t       | int \t| numero de productos que contiene una orden\t                                                                                                           |\n",
    "| `numero_de_vendedores` \t      | int \t| numero de vendedores unicos                                                                                                                           |\n",
    "| `precio` \t                    | float \t| total del precio pagado por el cliente                                                                                                                |\n",
    "| `valor_transporte` \t          | float \t| el valor del freight pagado por el cliente \t                                                                                                          |\n",
    "| `distancia_al_cliente` \t      | float \t| distancia en km entre cliente y vendedor \t                                                                                                  |\n",
    "  \n",
    "Queremos filtrar las ordenes no entregadas"
   ]
  },
  {
   "cell_type": "markdown",
   "metadata": {
    "pycharm": {
     "name": "#%% md\n"
    }
   },
   "source": [
    "## Metodología:\n",
    "\n",
    "Vamos a crear dos notebooks una de testeo y otra para importar nuestro paquete preprocess.orders_data y de ahí ir elavorando los métodos.\n",
    "\n",
    "1er Método: Load_data: Trae el dataset sin nulos de una ubicación ya prefijada."
   ]
  },
  {
   "cell_type": "markdown",
   "metadata": {
    "pycharm": {
     "name": "#%% md\n"
    }
   },
   "source": [
    "###  Buenas Pracitcas\n",
    "\n",
    "\n",
    "Las notebooks se pueden hacer muy largas y desordenadas.\n",
    "- Codifique su lógica para que siempre se pueda ejecutar de arriba a abajo sin fallar (Celda --> Ejecutar todo)\n",
    "- Nombre sus variables con lo que significa y para que otra persona pueda entenderlo.\n",
    "- Use nombres como `tmp` o `_` para pasos intermedios si sabe que no va a usarlos mucho tiempo\n",
    "- Borre su código y combine celdas cuando sea relevante para minimizar el tamaño del Notebook (`Shift-M`)\n",
    "- Oculte la salida de su celda si ya no necesita verla (haga doble clic en la sección roja `Out[]:` a la izquierda de su celda).\n",
    "- Utilice la Structure de pycharm o Juypter lab para organizarse\n",
    "- Shortcuts\n",
    "    - `a` para insertar una celda arriba\n",
    "    - `b` para insertar una celda debajo\n",
    "    - `dd` para borrar una celda\n",
    "    - `esc` y `flechas` para moverse entre celdas\n",
    "    - `Shift-Enter` para ejecutar la celda y mover el foco a la siguiente\n",
    "    - `Shift + Tab` cuando entre paréntesis de método, p. ¡`groupby()` para obtener los documentos! Repita varias veces para abrirlo permanentemente"
   ]
  },
  {
   "cell_type": "code",
   "execution_count": 1,
   "metadata": {
    "pycharm": {
     "name": "#%%\n"
    }
   },
   "outputs": [],
   "source": [
    "%load_ext autoreload\n",
    "%autoreload 2"
   ]
  },
  {
   "cell_type": "code",
   "execution_count": 2,
   "metadata": {
    "pycharm": {
     "name": "#%%\n"
    }
   },
   "outputs": [],
   "source": [
    "import pandas as pd\n",
    "import numpy as np\n",
    "import seaborn as sns\n",
    "import matplotlib.pyplot as plt"
   ]
  },
  {
   "cell_type": "code",
   "execution_count": 3,
   "metadata": {
    "pycharm": {
     "name": "#%%\n"
    }
   },
   "outputs": [],
   "source": [
    "# Import olist data\n",
    "from olist.load_data import load_all_data\n",
    "data = load_all_data(\"data/\")"
   ]
  },
  {
   "cell_type": "code",
   "execution_count": 4,
   "outputs": [
    {
     "data": {
      "text/plain": "dict_keys(['geolocation', 'orders', 'order_items', 'order_payments', 'order_reviews', 'products', 'sellers', 'product_category_name_translation'])"
     },
     "execution_count": 4,
     "metadata": {},
     "output_type": "execute_result"
    }
   ],
   "source": [
    "data.keys()"
   ],
   "metadata": {
    "collapsed": false,
    "pycharm": {
     "name": "#%%\n"
    }
   }
  },
  {
   "cell_type": "code",
   "execution_count": 5,
   "metadata": {
    "pycharm": {
     "name": "#%%\n"
    }
   },
   "outputs": [],
   "source": [
    "orders = data['orders'].copy() # buena practica para estar seguro que no modificas tu dataset original"
   ]
  },
  {
   "cell_type": "markdown",
   "metadata": {
    "pycharm": {
     "name": "#%% md\n"
    }
   },
   "source": [
    "## 1. Crear orders.py"
   ]
  },
  {
   "cell_type": "markdown",
   "metadata": {
    "pycharm": {
     "name": "#%% md\n"
    }
   },
   "source": [
    "### a) `tiempo_de_espera`\n",
    "    Armar un dataframe que tenga\n",
    "           order_id, tiempo_de_espera, tiempo_de_espera_previsto, real_vs_esperado, status_de_la_orden\n"
   ]
  },
  {
   "cell_type": "code",
   "execution_count": 6,
   "outputs": [
    {
     "data": {
      "text/plain": "                               order_id                       customer_id  \\\n0      e481f51cbdc54678b7cc49136f2d6af7  9ef432eb6251297304e76186b10a928d   \n1      53cdb2fc8bc7dce0b6741e2150273451  b0830fb4747a6c6d20dea0b8c802d7ef   \n2      47770eb9100c2d0c44946d9cf07ec65d  41ce2a54c0b03bf3443c3d931a367089   \n3      949d5b44dbf5de918fe9c16f97b45f8a  f88197465ea7920adcdbec7375364d82   \n4      ad21c59c0840e6cb83a9ceb5573f8159  8ab97904e6daea8866dbdbc4fb7aad2c   \n...                                 ...                               ...   \n99436  9c5dedf39a927c1b2549525ed64a053c  39bd1228ee8140590ac3aca26f2dfe00   \n99437  63943bddc261676b46f01ca7ac2f7bd8  1fca14ff2861355f6e5f14306ff977a7   \n99438  83c1379a015df1e13d02aae0204711ab  1aa71eb042121263aafbe80c1b562c9c   \n99439  11c177c8e97725db2631073c19f07b62  b331b74b18dc79bcdf6532d51e1637c1   \n99440  66dea50a8b16d9b4dee7af250b4be1a5  edb027a75a1449115f6b43211ae02a24   \n\n      order_status order_purchase_timestamp    order_approved_at  \\\n0        delivered      2017-10-02 10:56:33  2017-10-02 11:07:15   \n1        delivered      2018-07-24 20:41:37  2018-07-26 03:24:27   \n2        delivered      2018-08-08 08:38:49  2018-08-08 08:55:23   \n3        delivered      2017-11-18 19:28:06  2017-11-18 19:45:59   \n4        delivered      2018-02-13 21:18:39  2018-02-13 22:20:29   \n...            ...                      ...                  ...   \n99436    delivered      2017-03-09 09:54:05  2017-03-09 09:54:05   \n99437    delivered      2018-02-06 12:58:58  2018-02-06 13:10:37   \n99438    delivered      2017-08-27 14:46:43  2017-08-27 15:04:16   \n99439    delivered      2018-01-08 21:28:27  2018-01-08 21:36:21   \n99440    delivered      2018-03-08 20:57:30  2018-03-09 11:20:28   \n\n      order_delivered_carrier_date order_delivered_customer_date  \\\n0              2017-10-04 19:55:00           2017-10-10 21:25:13   \n1              2018-07-26 14:31:00           2018-08-07 15:27:45   \n2              2018-08-08 13:50:00           2018-08-17 18:06:29   \n3              2017-11-22 13:39:59           2017-12-02 00:28:42   \n4              2018-02-14 19:46:34           2018-02-16 18:17:02   \n...                            ...                           ...   \n99436          2017-03-10 11:18:03           2017-03-17 15:08:01   \n99437          2018-02-07 23:22:42           2018-02-28 17:37:56   \n99438          2017-08-28 20:52:26           2017-09-21 11:24:17   \n99439          2018-01-12 15:35:03           2018-01-25 23:32:54   \n99440          2018-03-09 22:11:59           2018-03-16 13:08:30   \n\n      order_estimated_delivery_date  \n0               2017-10-18 00:00:00  \n1               2018-08-13 00:00:00  \n2               2018-09-04 00:00:00  \n3               2017-12-15 00:00:00  \n4               2018-02-26 00:00:00  \n...                             ...  \n99436           2017-03-28 00:00:00  \n99437           2018-03-02 00:00:00  \n99438           2017-09-27 00:00:00  \n99439           2018-02-15 00:00:00  \n99440           2018-04-03 00:00:00  \n\n[99441 rows x 8 columns]",
      "text/html": "<div>\n<style scoped>\n    .dataframe tbody tr th:only-of-type {\n        vertical-align: middle;\n    }\n\n    .dataframe tbody tr th {\n        vertical-align: top;\n    }\n\n    .dataframe thead th {\n        text-align: right;\n    }\n</style>\n<table border=\"1\" class=\"dataframe\">\n  <thead>\n    <tr style=\"text-align: right;\">\n      <th></th>\n      <th>order_id</th>\n      <th>customer_id</th>\n      <th>order_status</th>\n      <th>order_purchase_timestamp</th>\n      <th>order_approved_at</th>\n      <th>order_delivered_carrier_date</th>\n      <th>order_delivered_customer_date</th>\n      <th>order_estimated_delivery_date</th>\n    </tr>\n  </thead>\n  <tbody>\n    <tr>\n      <th>0</th>\n      <td>e481f51cbdc54678b7cc49136f2d6af7</td>\n      <td>9ef432eb6251297304e76186b10a928d</td>\n      <td>delivered</td>\n      <td>2017-10-02 10:56:33</td>\n      <td>2017-10-02 11:07:15</td>\n      <td>2017-10-04 19:55:00</td>\n      <td>2017-10-10 21:25:13</td>\n      <td>2017-10-18 00:00:00</td>\n    </tr>\n    <tr>\n      <th>1</th>\n      <td>53cdb2fc8bc7dce0b6741e2150273451</td>\n      <td>b0830fb4747a6c6d20dea0b8c802d7ef</td>\n      <td>delivered</td>\n      <td>2018-07-24 20:41:37</td>\n      <td>2018-07-26 03:24:27</td>\n      <td>2018-07-26 14:31:00</td>\n      <td>2018-08-07 15:27:45</td>\n      <td>2018-08-13 00:00:00</td>\n    </tr>\n    <tr>\n      <th>2</th>\n      <td>47770eb9100c2d0c44946d9cf07ec65d</td>\n      <td>41ce2a54c0b03bf3443c3d931a367089</td>\n      <td>delivered</td>\n      <td>2018-08-08 08:38:49</td>\n      <td>2018-08-08 08:55:23</td>\n      <td>2018-08-08 13:50:00</td>\n      <td>2018-08-17 18:06:29</td>\n      <td>2018-09-04 00:00:00</td>\n    </tr>\n    <tr>\n      <th>3</th>\n      <td>949d5b44dbf5de918fe9c16f97b45f8a</td>\n      <td>f88197465ea7920adcdbec7375364d82</td>\n      <td>delivered</td>\n      <td>2017-11-18 19:28:06</td>\n      <td>2017-11-18 19:45:59</td>\n      <td>2017-11-22 13:39:59</td>\n      <td>2017-12-02 00:28:42</td>\n      <td>2017-12-15 00:00:00</td>\n    </tr>\n    <tr>\n      <th>4</th>\n      <td>ad21c59c0840e6cb83a9ceb5573f8159</td>\n      <td>8ab97904e6daea8866dbdbc4fb7aad2c</td>\n      <td>delivered</td>\n      <td>2018-02-13 21:18:39</td>\n      <td>2018-02-13 22:20:29</td>\n      <td>2018-02-14 19:46:34</td>\n      <td>2018-02-16 18:17:02</td>\n      <td>2018-02-26 00:00:00</td>\n    </tr>\n    <tr>\n      <th>...</th>\n      <td>...</td>\n      <td>...</td>\n      <td>...</td>\n      <td>...</td>\n      <td>...</td>\n      <td>...</td>\n      <td>...</td>\n      <td>...</td>\n    </tr>\n    <tr>\n      <th>99436</th>\n      <td>9c5dedf39a927c1b2549525ed64a053c</td>\n      <td>39bd1228ee8140590ac3aca26f2dfe00</td>\n      <td>delivered</td>\n      <td>2017-03-09 09:54:05</td>\n      <td>2017-03-09 09:54:05</td>\n      <td>2017-03-10 11:18:03</td>\n      <td>2017-03-17 15:08:01</td>\n      <td>2017-03-28 00:00:00</td>\n    </tr>\n    <tr>\n      <th>99437</th>\n      <td>63943bddc261676b46f01ca7ac2f7bd8</td>\n      <td>1fca14ff2861355f6e5f14306ff977a7</td>\n      <td>delivered</td>\n      <td>2018-02-06 12:58:58</td>\n      <td>2018-02-06 13:10:37</td>\n      <td>2018-02-07 23:22:42</td>\n      <td>2018-02-28 17:37:56</td>\n      <td>2018-03-02 00:00:00</td>\n    </tr>\n    <tr>\n      <th>99438</th>\n      <td>83c1379a015df1e13d02aae0204711ab</td>\n      <td>1aa71eb042121263aafbe80c1b562c9c</td>\n      <td>delivered</td>\n      <td>2017-08-27 14:46:43</td>\n      <td>2017-08-27 15:04:16</td>\n      <td>2017-08-28 20:52:26</td>\n      <td>2017-09-21 11:24:17</td>\n      <td>2017-09-27 00:00:00</td>\n    </tr>\n    <tr>\n      <th>99439</th>\n      <td>11c177c8e97725db2631073c19f07b62</td>\n      <td>b331b74b18dc79bcdf6532d51e1637c1</td>\n      <td>delivered</td>\n      <td>2018-01-08 21:28:27</td>\n      <td>2018-01-08 21:36:21</td>\n      <td>2018-01-12 15:35:03</td>\n      <td>2018-01-25 23:32:54</td>\n      <td>2018-02-15 00:00:00</td>\n    </tr>\n    <tr>\n      <th>99440</th>\n      <td>66dea50a8b16d9b4dee7af250b4be1a5</td>\n      <td>edb027a75a1449115f6b43211ae02a24</td>\n      <td>delivered</td>\n      <td>2018-03-08 20:57:30</td>\n      <td>2018-03-09 11:20:28</td>\n      <td>2018-03-09 22:11:59</td>\n      <td>2018-03-16 13:08:30</td>\n      <td>2018-04-03 00:00:00</td>\n    </tr>\n  </tbody>\n</table>\n<p>99441 rows × 8 columns</p>\n</div>"
     },
     "execution_count": 6,
     "metadata": {},
     "output_type": "execute_result"
    }
   ],
   "source": [
    "orders"
   ],
   "metadata": {
    "collapsed": false,
    "pycharm": {
     "name": "#%%\n"
    }
   }
  },
  {
   "cell_type": "markdown",
   "metadata": {
    "pycharm": {
     "name": "#%% md\n"
    }
   },
   "source": [
    "# Pasos a seguir\n",
    "\n",
    "> 1. Explora el dataframe `orders`\n",
    "2. Filtra por `delivered orders`\n",
    "3. Manipulá correctamente `datetime` (recordá el examen)\n",
    "    - Repasá[`datetime`](https://docs.python.org/3/library/datetime.html)\n",
    "    - Métodos para pasar \"string\" type a \"pandas.datetime'  [`pandas.to_datetime()`](https://pandas.pydata.org/pandas-docs/stable/reference/api/pandas.to_datetime.html)\n",
    "4. Crea la columna `tiempo_de_espera`\n",
    "5. Crea la columna  `tiempo_de_espera_previsto`\n",
    "6. Crea la columna  `real_vs_esperado`\n",
    "7. Chequea el nuevo dataset\n",
    "8. Una vez terminado el código pasalo a tu librería `order.py`\n",
    "\n",
    "Tanto para `tiempo_de_espera` como para `tiempo_de_espera_previsto`, debe restar las fechas/marcas de tiempo relevantes para obtener la diferencia horaria entre los objetos `pandas.datetime`. Luego, puede usar [`datetime.timedelta()`](https://docs.python.org/3/library/datetime.html#timedelta-objects) o [`np.timedelta64()`](https ://numpy.org/doc/stable/reference/arrays.datetime.html#datetime-and-timedelta-arithmetic) para averiguar cuántos días representa esa resta.\n"
   ]
  },
  {
   "cell_type": "code",
   "execution_count": 8,
   "metadata": {
    "tags": [
     "challengify"
    ],
    "pycharm": {
     "name": "#%%\n"
    }
   },
   "outputs": [
    {
     "data": {
      "text/plain": "                           order_id                       customer_id  \\\n0  e481f51cbdc54678b7cc49136f2d6af7  9ef432eb6251297304e76186b10a928d   \n1  53cdb2fc8bc7dce0b6741e2150273451  b0830fb4747a6c6d20dea0b8c802d7ef   \n\n  order_status order_purchase_timestamp    order_approved_at  \\\n0    delivered      2017-10-02 10:56:33  2017-10-02 11:07:15   \n1    delivered      2018-07-24 20:41:37  2018-07-26 03:24:27   \n\n  order_delivered_carrier_date order_delivered_customer_date  \\\n0          2017-10-04 19:55:00           2017-10-10 21:25:13   \n1          2018-07-26 14:31:00           2018-08-07 15:27:45   \n\n  order_estimated_delivery_date  \n0           2017-10-18 00:00:00  \n1           2018-08-13 00:00:00  ",
      "text/html": "<div>\n<style scoped>\n    .dataframe tbody tr th:only-of-type {\n        vertical-align: middle;\n    }\n\n    .dataframe tbody tr th {\n        vertical-align: top;\n    }\n\n    .dataframe thead th {\n        text-align: right;\n    }\n</style>\n<table border=\"1\" class=\"dataframe\">\n  <thead>\n    <tr style=\"text-align: right;\">\n      <th></th>\n      <th>order_id</th>\n      <th>customer_id</th>\n      <th>order_status</th>\n      <th>order_purchase_timestamp</th>\n      <th>order_approved_at</th>\n      <th>order_delivered_carrier_date</th>\n      <th>order_delivered_customer_date</th>\n      <th>order_estimated_delivery_date</th>\n    </tr>\n  </thead>\n  <tbody>\n    <tr>\n      <th>0</th>\n      <td>e481f51cbdc54678b7cc49136f2d6af7</td>\n      <td>9ef432eb6251297304e76186b10a928d</td>\n      <td>delivered</td>\n      <td>2017-10-02 10:56:33</td>\n      <td>2017-10-02 11:07:15</td>\n      <td>2017-10-04 19:55:00</td>\n      <td>2017-10-10 21:25:13</td>\n      <td>2017-10-18 00:00:00</td>\n    </tr>\n    <tr>\n      <th>1</th>\n      <td>53cdb2fc8bc7dce0b6741e2150273451</td>\n      <td>b0830fb4747a6c6d20dea0b8c802d7ef</td>\n      <td>delivered</td>\n      <td>2018-07-24 20:41:37</td>\n      <td>2018-07-26 03:24:27</td>\n      <td>2018-07-26 14:31:00</td>\n      <td>2018-08-07 15:27:45</td>\n      <td>2018-08-13 00:00:00</td>\n    </tr>\n  </tbody>\n</table>\n</div>"
     },
     "execution_count": 8,
     "metadata": {},
     "output_type": "execute_result"
    }
   ],
   "source": [
    "orders.head(2)"
   ]
  },
  {
   "cell_type": "code",
   "execution_count": 9,
   "metadata": {
    "tags": [
     "delete_begin"
    ],
    "pycharm": {
     "name": "#%%\n"
    }
   },
   "outputs": [
    {
     "data": {
      "text/plain": "order_id                            0\ncustomer_id                         0\norder_status                        0\norder_purchase_timestamp            0\norder_approved_at                 160\norder_delivered_carrier_date     1783\norder_delivered_customer_date    2965\norder_estimated_delivery_date       0\ndtype: int64"
     },
     "execution_count": 9,
     "metadata": {},
     "output_type": "execute_result"
    }
   ],
   "source": [
    "orders.isna().sum()"
   ]
  },
  {
   "cell_type": "code",
   "execution_count": 10,
   "outputs": [
    {
     "data": {
      "text/plain": "Index(['order_id', 'customer_id', 'order_status', 'order_purchase_timestamp',\n       'order_approved_at', 'order_delivered_carrier_date',\n       'order_delivered_customer_date', 'order_estimated_delivery_date'],\n      dtype='object')"
     },
     "execution_count": 10,
     "metadata": {},
     "output_type": "execute_result"
    }
   ],
   "source": [
    "orders.columns"
   ],
   "metadata": {
    "collapsed": false,
    "pycharm": {
     "name": "#%%\n"
    }
   }
  },
  {
   "cell_type": "code",
   "execution_count": 11,
   "metadata": {
    "pycharm": {
     "name": "#%%\n"
    }
   },
   "outputs": [],
   "source": [
    "# Transforma a datetime\n",
    "\n",
    "from olist.preprocess import transformar_columnas_datetime\n",
    "transformar_columnas_datetime(orders)"
   ]
  },
  {
   "cell_type": "code",
   "execution_count": 12,
   "outputs": [
    {
     "data": {
      "text/plain": "order_id                                 object\ncustomer_id                              object\norder_status                             object\norder_purchase_timestamp         datetime64[ns]\norder_approved_at                datetime64[ns]\norder_delivered_carrier_date     datetime64[ns]\norder_delivered_customer_date    datetime64[ns]\norder_estimated_delivery_date    datetime64[ns]\ndtype: object"
     },
     "execution_count": 12,
     "metadata": {},
     "output_type": "execute_result"
    }
   ],
   "source": [
    "orders.dtypes"
   ],
   "metadata": {
    "collapsed": false,
    "pycharm": {
     "name": "#%%\n"
    }
   }
  },
  {
   "cell_type": "code",
   "execution_count": 13,
   "outputs": [
    {
     "name": "stdout",
     "output_type": "stream",
     "text": [
      "The autoreload extension is already loaded. To reload it, use:\n",
      "  %reload_ext autoreload\n"
     ]
    }
   ],
   "source": [
    "%load_ext autoreload"
   ],
   "metadata": {
    "collapsed": false,
    "pycharm": {
     "name": "#%%\n"
    }
   }
  },
  {
   "cell_type": "code",
   "execution_count": 14,
   "metadata": {
    "pycharm": {
     "name": "#%%\n"
    }
   },
   "outputs": [],
   "source": [
    "# calcula el time delta entre compra y venta"
   ]
  },
  {
   "cell_type": "code",
   "execution_count": 15,
   "outputs": [],
   "source": [
    "from olist.preprocess import *\n",
    "calcular_diferencia_de_timestamps(orders, 'delivered_purhcased_delta','order_delivered_customer_date','order_purchase_timestamp')"
   ],
   "metadata": {
    "collapsed": false,
    "pycharm": {
     "name": "#%%\n"
    }
   }
  },
  {
   "cell_type": "code",
   "execution_count": 16,
   "outputs": [
    {
     "data": {
      "text/plain": "0        8 days 10:28:40\n1       13 days 18:46:08\n2        9 days 09:27:40\n3       13 days 05:00:36\n4        2 days 20:58:23\n              ...       \n99436    8 days 05:13:56\n99437   22 days 04:38:58\n99438   24 days 20:37:34\n99439   17 days 02:04:27\n99440    7 days 16:11:00\nName: delivered_purhcased_delta, Length: 99441, dtype: timedelta64[ns]"
     },
     "execution_count": 16,
     "metadata": {},
     "output_type": "execute_result"
    }
   ],
   "source": [
    "orders.delivered_purhcased_delta"
   ],
   "metadata": {
    "collapsed": false,
    "pycharm": {
     "name": "#%%\n"
    }
   }
  },
  {
   "cell_type": "markdown",
   "source": [
    "### Crear una columna\n",
    "Es lo mismo utilizar .loc para asignar una columna nueva, que utilizar .assign o simplemente df['columna'] = operación"
   ],
   "metadata": {
    "collapsed": false,
    "pycharm": {
     "name": "#%% md\n"
    }
   }
  },
  {
   "cell_type": "code",
   "execution_count": 17,
   "metadata": {
    "pycharm": {
     "name": "#%%\n"
    }
   },
   "outputs": [],
   "source": [
    "# Compute just the number of days in each time_delta \n",
    "import datetime\n",
    "one_day_delta = datetime.timedelta(days=1) # lleva el time delta a un día\n",
    "one_day_delta = np.timedelta64(24, 'h') # también se puede hacer de esta manera\n",
    "\n",
    "# \\ se puede usar para ahorrar espacio\n",
    "orders.loc[:,'tiempo_de_espera'] = \\\n",
    "    (orders['order_delivered_customer_date'] - orders['order_purchase_timestamp']) / one_day_delta\n",
    "\n"
   ]
  },
  {
   "cell_type": "code",
   "execution_count": 18,
   "metadata": {
    "pycharm": {
     "name": "#%%\n"
    }
   },
   "outputs": [
    {
     "data": {
      "text/plain": "0         8.0\n1        13.0\n2         9.0\n3        13.0\n4         2.0\n         ... \n99436     8.0\n99437    22.0\n99438    24.0\n99439    17.0\n99440     7.0\nLength: 99441, dtype: float64"
     },
     "execution_count": 18,
     "metadata": {},
     "output_type": "execute_result"
    }
   ],
   "source": [
    "(orders['order_delivered_customer_date'] - orders['order_purchase_timestamp']).dt.days"
   ]
  },
  {
   "cell_type": "code",
   "execution_count": 60,
   "outputs": [
    {
     "name": "stdout",
     "output_type": "stream",
     "text": [
      "The autoreload extension is already loaded. To reload it, use:\n",
      "  %reload_ext autoreload\n"
     ]
    }
   ],
   "source": [
    "%load_ext autoreload"
   ],
   "metadata": {
    "collapsed": false,
    "pycharm": {
     "name": "#%%\n"
    }
   }
  },
  {
   "cell_type": "code",
   "execution_count": 25,
   "outputs": [
    {
     "data": {
      "text/plain": "                               order_id                       customer_id  \\\n88711  447bd8e2281ef147772c942e18c2229c  516183bb499f5c0a1c467cad231e5cfc   \n9929   6448006dfb006e20493015dc6358de41  04f257b05acbafc20d4886c8b12d0244   \n48512  50f565fbb2600be9ece2189e2e88af7d  04bd48b39172643799a1dc84ebb98deb   \n69062  515ad53b1bdf1d9da25e0c1079a1b242  47f2b4375b6c1aee9a4f95cbe493e064   \n92453  7e129ab6f658f6b2eccebeba30d16f86  b31b698d14f51b2226b2f5057f7dac85   \n47127  ef246b56510668886f05b8f818e7bfc9  79f1c4e66471c5f6e5c5fe4e45d1273c   \n44890  252ef1beb7783414b687c8191cb6bc02  f3e5a5817e1a67ff1a883606d5321b01   \n18319  d43ec367e36ab5844465e6127f159862  aca5529c3c611cc45b4907b4046e4bd1   \n94518  3e13370769d925ef48e37780ca13c86e  b3ed5f9564ada032bd8880b15ec5f8e7   \n10158  1e98e92bd0537e1655291d3361217a87  43c25909e5bc84761daf594a893254dd   \n\n      order_status order_purchase_timestamp   order_approved_at  \\\n88711    delivered      2018-05-18 22:11:22 2018-05-21 17:56:38   \n9929     delivered      2017-06-05 02:27:32 2017-06-05 02:35:09   \n48512    delivered      2018-03-19 13:11:24 2018-03-19 13:56:10   \n69062    delivered      2018-05-17 00:18:46 2018-05-17 00:34:12   \n92453    delivered      2017-12-08 19:09:48 2017-12-08 19:16:30   \n47127    delivered      2018-06-15 11:43:23 2018-06-15 11:59:34   \n44890    delivered      2018-07-12 21:03:28 2018-07-12 21:15:14   \n18319    delivered      2017-07-01 20:25:32 2017-07-04 04:44:38   \n94518    delivered      2017-10-09 06:31:21 2017-10-09 07:41:05   \n10158    delivered      2018-03-13 21:29:15 2018-03-13 21:48:04   \n\n      order_delivered_carrier_date order_delivered_customer_date  \\\n88711          2018-05-22 09:40:00           2018-05-23 15:25:07   \n9929           2017-06-07 05:39:59           2017-06-22 16:25:03   \n48512          2018-03-21 17:48:54           2018-03-23 22:44:31   \n69062          2018-05-21 14:29:00           2018-06-06 22:08:32   \n92453          2017-12-11 19:10:44           2017-12-20 11:39:11   \n47127          2018-06-20 12:52:00           2018-06-26 19:28:48   \n44890          2018-07-18 13:36:00           2018-07-26 16:46:31   \n18319          2017-07-06 06:23:45           2017-07-14 18:53:45   \n94518          2017-10-13 23:17:48           2017-10-17 19:18:44   \n10158          2018-03-16 17:42:16           2018-03-20 00:18:43   \n\n      order_estimated_delivery_date delivered_purhcased_delta  \\\n88711                    2018-05-28           4 days 17:13:45   \n9929                     2017-07-04          17 days 13:57:31   \n48512                    2018-04-10           4 days 09:33:07   \n69062                    2018-06-13          20 days 21:49:46   \n92453                    2018-01-04          11 days 16:29:23   \n47127                    2018-07-17          11 days 07:45:25   \n44890                    2018-08-06          13 days 19:43:03   \n18319                    2017-08-02          12 days 22:28:13   \n94518                    2017-11-07           8 days 12:47:23   \n10158                    2018-03-29           6 days 02:49:28   \n\n       tiempo_de_espera dias_de_espera  \n88711          4.717882            4.0  \n9929          17.581609           17.0  \n48512          4.397998            4.0  \n69062         20.909560           20.0  \n92453         11.687072           11.0  \n47127         11.323206           11.0  \n44890         13.821563           13.0  \n18319         12.936262           12.0  \n94518          8.532905            8.0  \n10158          6.117685            6.0  ",
      "text/html": "<div>\n<style scoped>\n    .dataframe tbody tr th:only-of-type {\n        vertical-align: middle;\n    }\n\n    .dataframe tbody tr th {\n        vertical-align: top;\n    }\n\n    .dataframe thead th {\n        text-align: right;\n    }\n</style>\n<table border=\"1\" class=\"dataframe\">\n  <thead>\n    <tr style=\"text-align: right;\">\n      <th></th>\n      <th>order_id</th>\n      <th>customer_id</th>\n      <th>order_status</th>\n      <th>order_purchase_timestamp</th>\n      <th>order_approved_at</th>\n      <th>order_delivered_carrier_date</th>\n      <th>order_delivered_customer_date</th>\n      <th>order_estimated_delivery_date</th>\n      <th>delivered_purhcased_delta</th>\n      <th>tiempo_de_espera</th>\n      <th>dias_de_espera</th>\n    </tr>\n  </thead>\n  <tbody>\n    <tr>\n      <th>88711</th>\n      <td>447bd8e2281ef147772c942e18c2229c</td>\n      <td>516183bb499f5c0a1c467cad231e5cfc</td>\n      <td>delivered</td>\n      <td>2018-05-18 22:11:22</td>\n      <td>2018-05-21 17:56:38</td>\n      <td>2018-05-22 09:40:00</td>\n      <td>2018-05-23 15:25:07</td>\n      <td>2018-05-28</td>\n      <td>4 days 17:13:45</td>\n      <td>4.717882</td>\n      <td>4.0</td>\n    </tr>\n    <tr>\n      <th>9929</th>\n      <td>6448006dfb006e20493015dc6358de41</td>\n      <td>04f257b05acbafc20d4886c8b12d0244</td>\n      <td>delivered</td>\n      <td>2017-06-05 02:27:32</td>\n      <td>2017-06-05 02:35:09</td>\n      <td>2017-06-07 05:39:59</td>\n      <td>2017-06-22 16:25:03</td>\n      <td>2017-07-04</td>\n      <td>17 days 13:57:31</td>\n      <td>17.581609</td>\n      <td>17.0</td>\n    </tr>\n    <tr>\n      <th>48512</th>\n      <td>50f565fbb2600be9ece2189e2e88af7d</td>\n      <td>04bd48b39172643799a1dc84ebb98deb</td>\n      <td>delivered</td>\n      <td>2018-03-19 13:11:24</td>\n      <td>2018-03-19 13:56:10</td>\n      <td>2018-03-21 17:48:54</td>\n      <td>2018-03-23 22:44:31</td>\n      <td>2018-04-10</td>\n      <td>4 days 09:33:07</td>\n      <td>4.397998</td>\n      <td>4.0</td>\n    </tr>\n    <tr>\n      <th>69062</th>\n      <td>515ad53b1bdf1d9da25e0c1079a1b242</td>\n      <td>47f2b4375b6c1aee9a4f95cbe493e064</td>\n      <td>delivered</td>\n      <td>2018-05-17 00:18:46</td>\n      <td>2018-05-17 00:34:12</td>\n      <td>2018-05-21 14:29:00</td>\n      <td>2018-06-06 22:08:32</td>\n      <td>2018-06-13</td>\n      <td>20 days 21:49:46</td>\n      <td>20.909560</td>\n      <td>20.0</td>\n    </tr>\n    <tr>\n      <th>92453</th>\n      <td>7e129ab6f658f6b2eccebeba30d16f86</td>\n      <td>b31b698d14f51b2226b2f5057f7dac85</td>\n      <td>delivered</td>\n      <td>2017-12-08 19:09:48</td>\n      <td>2017-12-08 19:16:30</td>\n      <td>2017-12-11 19:10:44</td>\n      <td>2017-12-20 11:39:11</td>\n      <td>2018-01-04</td>\n      <td>11 days 16:29:23</td>\n      <td>11.687072</td>\n      <td>11.0</td>\n    </tr>\n    <tr>\n      <th>47127</th>\n      <td>ef246b56510668886f05b8f818e7bfc9</td>\n      <td>79f1c4e66471c5f6e5c5fe4e45d1273c</td>\n      <td>delivered</td>\n      <td>2018-06-15 11:43:23</td>\n      <td>2018-06-15 11:59:34</td>\n      <td>2018-06-20 12:52:00</td>\n      <td>2018-06-26 19:28:48</td>\n      <td>2018-07-17</td>\n      <td>11 days 07:45:25</td>\n      <td>11.323206</td>\n      <td>11.0</td>\n    </tr>\n    <tr>\n      <th>44890</th>\n      <td>252ef1beb7783414b687c8191cb6bc02</td>\n      <td>f3e5a5817e1a67ff1a883606d5321b01</td>\n      <td>delivered</td>\n      <td>2018-07-12 21:03:28</td>\n      <td>2018-07-12 21:15:14</td>\n      <td>2018-07-18 13:36:00</td>\n      <td>2018-07-26 16:46:31</td>\n      <td>2018-08-06</td>\n      <td>13 days 19:43:03</td>\n      <td>13.821563</td>\n      <td>13.0</td>\n    </tr>\n    <tr>\n      <th>18319</th>\n      <td>d43ec367e36ab5844465e6127f159862</td>\n      <td>aca5529c3c611cc45b4907b4046e4bd1</td>\n      <td>delivered</td>\n      <td>2017-07-01 20:25:32</td>\n      <td>2017-07-04 04:44:38</td>\n      <td>2017-07-06 06:23:45</td>\n      <td>2017-07-14 18:53:45</td>\n      <td>2017-08-02</td>\n      <td>12 days 22:28:13</td>\n      <td>12.936262</td>\n      <td>12.0</td>\n    </tr>\n    <tr>\n      <th>94518</th>\n      <td>3e13370769d925ef48e37780ca13c86e</td>\n      <td>b3ed5f9564ada032bd8880b15ec5f8e7</td>\n      <td>delivered</td>\n      <td>2017-10-09 06:31:21</td>\n      <td>2017-10-09 07:41:05</td>\n      <td>2017-10-13 23:17:48</td>\n      <td>2017-10-17 19:18:44</td>\n      <td>2017-11-07</td>\n      <td>8 days 12:47:23</td>\n      <td>8.532905</td>\n      <td>8.0</td>\n    </tr>\n    <tr>\n      <th>10158</th>\n      <td>1e98e92bd0537e1655291d3361217a87</td>\n      <td>43c25909e5bc84761daf594a893254dd</td>\n      <td>delivered</td>\n      <td>2018-03-13 21:29:15</td>\n      <td>2018-03-13 21:48:04</td>\n      <td>2018-03-16 17:42:16</td>\n      <td>2018-03-20 00:18:43</td>\n      <td>2018-03-29</td>\n      <td>6 days 02:49:28</td>\n      <td>6.117685</td>\n      <td>6.0</td>\n    </tr>\n  </tbody>\n</table>\n</div>"
     },
     "execution_count": 25,
     "metadata": {},
     "output_type": "execute_result"
    }
   ],
   "source": [
    "#pasarlo a modulo\n",
    "from olist.preprocess import tiempo_de_espera\n",
    "tiempo_de_espera(dataframe=orders, is_delivered=True)\n",
    "orders.sample(10)"
   ],
   "metadata": {
    "collapsed": false,
    "pycharm": {
     "name": "#%%\n"
    }
   }
  },
  {
   "cell_type": "code",
   "execution_count": 61,
   "outputs": [
    {
     "data": {
      "text/plain": "                               order_id                       customer_id  \\\n0      e481f51cbdc54678b7cc49136f2d6af7  9ef432eb6251297304e76186b10a928d   \n1      53cdb2fc8bc7dce0b6741e2150273451  b0830fb4747a6c6d20dea0b8c802d7ef   \n2      47770eb9100c2d0c44946d9cf07ec65d  41ce2a54c0b03bf3443c3d931a367089   \n3      949d5b44dbf5de918fe9c16f97b45f8a  f88197465ea7920adcdbec7375364d82   \n4      ad21c59c0840e6cb83a9ceb5573f8159  8ab97904e6daea8866dbdbc4fb7aad2c   \n...                                 ...                               ...   \n99436  9c5dedf39a927c1b2549525ed64a053c  39bd1228ee8140590ac3aca26f2dfe00   \n99437  63943bddc261676b46f01ca7ac2f7bd8  1fca14ff2861355f6e5f14306ff977a7   \n99438  83c1379a015df1e13d02aae0204711ab  1aa71eb042121263aafbe80c1b562c9c   \n99439  11c177c8e97725db2631073c19f07b62  b331b74b18dc79bcdf6532d51e1637c1   \n99440  66dea50a8b16d9b4dee7af250b4be1a5  edb027a75a1449115f6b43211ae02a24   \n\n      order_status order_purchase_timestamp   order_approved_at  \\\n0        delivered      2017-10-02 10:56:33 2017-10-02 11:07:15   \n1        delivered      2018-07-24 20:41:37 2018-07-26 03:24:27   \n2        delivered      2018-08-08 08:38:49 2018-08-08 08:55:23   \n3        delivered      2017-11-18 19:28:06 2017-11-18 19:45:59   \n4        delivered      2018-02-13 21:18:39 2018-02-13 22:20:29   \n...            ...                      ...                 ...   \n99436    delivered      2017-03-09 09:54:05 2017-03-09 09:54:05   \n99437    delivered      2018-02-06 12:58:58 2018-02-06 13:10:37   \n99438    delivered      2017-08-27 14:46:43 2017-08-27 15:04:16   \n99439    delivered      2018-01-08 21:28:27 2018-01-08 21:36:21   \n99440    delivered      2018-03-08 20:57:30 2018-03-09 11:20:28   \n\n      order_delivered_carrier_date order_delivered_customer_date  \\\n0              2017-10-04 19:55:00           2017-10-10 21:25:13   \n1              2018-07-26 14:31:00           2018-08-07 15:27:45   \n2              2018-08-08 13:50:00           2018-08-17 18:06:29   \n3              2017-11-22 13:39:59           2017-12-02 00:28:42   \n4              2018-02-14 19:46:34           2018-02-16 18:17:02   \n...                            ...                           ...   \n99436          2017-03-10 11:18:03           2017-03-17 15:08:01   \n99437          2018-02-07 23:22:42           2018-02-28 17:37:56   \n99438          2017-08-28 20:52:26           2017-09-21 11:24:17   \n99439          2018-01-12 15:35:03           2018-01-25 23:32:54   \n99440          2018-03-09 22:11:59           2018-03-16 13:08:30   \n\n      order_estimated_delivery_date delivered_purhcased_delta  \\\n0                        2017-10-18           8 days 10:28:40   \n1                        2018-08-13          13 days 18:46:08   \n2                        2018-09-04           9 days 09:27:40   \n3                        2017-12-15          13 days 05:00:36   \n4                        2018-02-26           2 days 20:58:23   \n...                             ...                       ...   \n99436                    2017-03-28           8 days 05:13:56   \n99437                    2018-03-02          22 days 04:38:58   \n99438                    2017-09-27          24 days 20:37:34   \n99439                    2018-02-15          17 days 02:04:27   \n99440                    2018-04-03           7 days 16:11:00   \n\n       tiempo_de_espera dias_de_espera real_vs_esperado  \n0              8.436574            8.0         7.107488  \n1             13.782037           13.0         5.355729  \n2              9.394213            9.0        17.245498  \n3             13.208750           13.0        12.980069  \n4              2.873877            2.0         9.238171  \n...                 ...            ...              ...  \n99436          8.218009            8.0        10.369433  \n99437         22.193727           22.0         1.265324  \n99438         24.859421           24.0         5.524803  \n99439         17.086424           17.0        20.018819  \n99440          7.674306            7.0        17.452431  \n\n[99441 rows x 12 columns]",
      "text/html": "<div>\n<style scoped>\n    .dataframe tbody tr th:only-of-type {\n        vertical-align: middle;\n    }\n\n    .dataframe tbody tr th {\n        vertical-align: top;\n    }\n\n    .dataframe thead th {\n        text-align: right;\n    }\n</style>\n<table border=\"1\" class=\"dataframe\">\n  <thead>\n    <tr style=\"text-align: right;\">\n      <th></th>\n      <th>order_id</th>\n      <th>customer_id</th>\n      <th>order_status</th>\n      <th>order_purchase_timestamp</th>\n      <th>order_approved_at</th>\n      <th>order_delivered_carrier_date</th>\n      <th>order_delivered_customer_date</th>\n      <th>order_estimated_delivery_date</th>\n      <th>delivered_purhcased_delta</th>\n      <th>tiempo_de_espera</th>\n      <th>dias_de_espera</th>\n      <th>real_vs_esperado</th>\n    </tr>\n  </thead>\n  <tbody>\n    <tr>\n      <th>0</th>\n      <td>e481f51cbdc54678b7cc49136f2d6af7</td>\n      <td>9ef432eb6251297304e76186b10a928d</td>\n      <td>delivered</td>\n      <td>2017-10-02 10:56:33</td>\n      <td>2017-10-02 11:07:15</td>\n      <td>2017-10-04 19:55:00</td>\n      <td>2017-10-10 21:25:13</td>\n      <td>2017-10-18</td>\n      <td>8 days 10:28:40</td>\n      <td>8.436574</td>\n      <td>8.0</td>\n      <td>7.107488</td>\n    </tr>\n    <tr>\n      <th>1</th>\n      <td>53cdb2fc8bc7dce0b6741e2150273451</td>\n      <td>b0830fb4747a6c6d20dea0b8c802d7ef</td>\n      <td>delivered</td>\n      <td>2018-07-24 20:41:37</td>\n      <td>2018-07-26 03:24:27</td>\n      <td>2018-07-26 14:31:00</td>\n      <td>2018-08-07 15:27:45</td>\n      <td>2018-08-13</td>\n      <td>13 days 18:46:08</td>\n      <td>13.782037</td>\n      <td>13.0</td>\n      <td>5.355729</td>\n    </tr>\n    <tr>\n      <th>2</th>\n      <td>47770eb9100c2d0c44946d9cf07ec65d</td>\n      <td>41ce2a54c0b03bf3443c3d931a367089</td>\n      <td>delivered</td>\n      <td>2018-08-08 08:38:49</td>\n      <td>2018-08-08 08:55:23</td>\n      <td>2018-08-08 13:50:00</td>\n      <td>2018-08-17 18:06:29</td>\n      <td>2018-09-04</td>\n      <td>9 days 09:27:40</td>\n      <td>9.394213</td>\n      <td>9.0</td>\n      <td>17.245498</td>\n    </tr>\n    <tr>\n      <th>3</th>\n      <td>949d5b44dbf5de918fe9c16f97b45f8a</td>\n      <td>f88197465ea7920adcdbec7375364d82</td>\n      <td>delivered</td>\n      <td>2017-11-18 19:28:06</td>\n      <td>2017-11-18 19:45:59</td>\n      <td>2017-11-22 13:39:59</td>\n      <td>2017-12-02 00:28:42</td>\n      <td>2017-12-15</td>\n      <td>13 days 05:00:36</td>\n      <td>13.208750</td>\n      <td>13.0</td>\n      <td>12.980069</td>\n    </tr>\n    <tr>\n      <th>4</th>\n      <td>ad21c59c0840e6cb83a9ceb5573f8159</td>\n      <td>8ab97904e6daea8866dbdbc4fb7aad2c</td>\n      <td>delivered</td>\n      <td>2018-02-13 21:18:39</td>\n      <td>2018-02-13 22:20:29</td>\n      <td>2018-02-14 19:46:34</td>\n      <td>2018-02-16 18:17:02</td>\n      <td>2018-02-26</td>\n      <td>2 days 20:58:23</td>\n      <td>2.873877</td>\n      <td>2.0</td>\n      <td>9.238171</td>\n    </tr>\n    <tr>\n      <th>...</th>\n      <td>...</td>\n      <td>...</td>\n      <td>...</td>\n      <td>...</td>\n      <td>...</td>\n      <td>...</td>\n      <td>...</td>\n      <td>...</td>\n      <td>...</td>\n      <td>...</td>\n      <td>...</td>\n      <td>...</td>\n    </tr>\n    <tr>\n      <th>99436</th>\n      <td>9c5dedf39a927c1b2549525ed64a053c</td>\n      <td>39bd1228ee8140590ac3aca26f2dfe00</td>\n      <td>delivered</td>\n      <td>2017-03-09 09:54:05</td>\n      <td>2017-03-09 09:54:05</td>\n      <td>2017-03-10 11:18:03</td>\n      <td>2017-03-17 15:08:01</td>\n      <td>2017-03-28</td>\n      <td>8 days 05:13:56</td>\n      <td>8.218009</td>\n      <td>8.0</td>\n      <td>10.369433</td>\n    </tr>\n    <tr>\n      <th>99437</th>\n      <td>63943bddc261676b46f01ca7ac2f7bd8</td>\n      <td>1fca14ff2861355f6e5f14306ff977a7</td>\n      <td>delivered</td>\n      <td>2018-02-06 12:58:58</td>\n      <td>2018-02-06 13:10:37</td>\n      <td>2018-02-07 23:22:42</td>\n      <td>2018-02-28 17:37:56</td>\n      <td>2018-03-02</td>\n      <td>22 days 04:38:58</td>\n      <td>22.193727</td>\n      <td>22.0</td>\n      <td>1.265324</td>\n    </tr>\n    <tr>\n      <th>99438</th>\n      <td>83c1379a015df1e13d02aae0204711ab</td>\n      <td>1aa71eb042121263aafbe80c1b562c9c</td>\n      <td>delivered</td>\n      <td>2017-08-27 14:46:43</td>\n      <td>2017-08-27 15:04:16</td>\n      <td>2017-08-28 20:52:26</td>\n      <td>2017-09-21 11:24:17</td>\n      <td>2017-09-27</td>\n      <td>24 days 20:37:34</td>\n      <td>24.859421</td>\n      <td>24.0</td>\n      <td>5.524803</td>\n    </tr>\n    <tr>\n      <th>99439</th>\n      <td>11c177c8e97725db2631073c19f07b62</td>\n      <td>b331b74b18dc79bcdf6532d51e1637c1</td>\n      <td>delivered</td>\n      <td>2018-01-08 21:28:27</td>\n      <td>2018-01-08 21:36:21</td>\n      <td>2018-01-12 15:35:03</td>\n      <td>2018-01-25 23:32:54</td>\n      <td>2018-02-15</td>\n      <td>17 days 02:04:27</td>\n      <td>17.086424</td>\n      <td>17.0</td>\n      <td>20.018819</td>\n    </tr>\n    <tr>\n      <th>99440</th>\n      <td>66dea50a8b16d9b4dee7af250b4be1a5</td>\n      <td>edb027a75a1449115f6b43211ae02a24</td>\n      <td>delivered</td>\n      <td>2018-03-08 20:57:30</td>\n      <td>2018-03-09 11:20:28</td>\n      <td>2018-03-09 22:11:59</td>\n      <td>2018-03-16 13:08:30</td>\n      <td>2018-04-03</td>\n      <td>7 days 16:11:00</td>\n      <td>7.674306</td>\n      <td>7.0</td>\n      <td>17.452431</td>\n    </tr>\n  </tbody>\n</table>\n<p>99441 rows × 12 columns</p>\n</div>"
     },
     "execution_count": 61,
     "metadata": {},
     "output_type": "execute_result"
    }
   ],
   "source": [
    "#crear real vs esperado\n",
    "# ver que columnas hay\n",
    "# igual que en NPS si algun numero en real_vs_esperado es negativo reemplazarlo por 0\n",
    "from olist.preprocess import real_vs_esperado, real_vs_esperado_positivo\n",
    "real_vs_esperado(orders,is_delivered=True)\n",
    "real_vs_esperado_positivo(orders)\n",
    "orders"
   ],
   "metadata": {
    "collapsed": false,
    "pycharm": {
     "name": "#%%\n"
    }
   }
  },
  {
   "cell_type": "code",
   "execution_count": 62,
   "metadata": {
    "tags": [
     "delete_end"
    ],
    "pycharm": {
     "name": "#%%\n"
    }
   },
   "outputs": [
    {
     "data": {
      "text/plain": "<seaborn.axisgrid.FacetGrid at 0x1941bf1f130>"
     },
     "execution_count": 62,
     "metadata": {},
     "output_type": "execute_result"
    },
    {
     "data": {
      "text/plain": "<Figure size 500x500 with 1 Axes>",
      "image/png": "[encoded data removed]"
     },
     "metadata": {},
     "output_type": "display_data"
    }
   ],
   "source": [
    "sns.displot(orders['real_vs_esperado'])"
   ]
  },
  {
   "cell_type": "markdown",
   "metadata": {
    "pycharm": {
     "name": "#%% md\n"
    }
   },
   "source": []
  },
  {
   "cell_type": "markdown",
   "metadata": {
    "pycharm": {
     "name": "#%% md\n"
    }
   },
   "source": [
    "### b) `puntaje_de_compra`\n",
    "     retorna un dataframe con\n",
    "        order_id, es_cinco_estrellas, es_una_estrella, review_score\n",
    "\n",
    "recordar del examen `DataFrame.apply()` o tmb se puede usar`Series.map()`\n"
   ]
  },
  {
   "cell_type": "markdown",
   "metadata": {
    "pycharm": {
     "name": "#%% md\n"
    }
   },
   "source": [
    "\n",
    "👉 We load the `reviews` for you"
   ]
  },
  {
   "cell_type": "code",
   "execution_count": 63,
   "metadata": {
    "pycharm": {
     "name": "#%%\n"
    }
   },
   "outputs": [
    {
     "data": {
      "text/plain": "                          review_id                          order_id  \\\n0  7bc2406110b926393aa56f80a40eba40  73fc7af87114b39712e6da79b0a377eb   \n1  80e641a11e56f04c1ad469d5645fdfde  a548910a1c6147796b98fdf73dbeba33   \n2  228ce5500dc1d8e020d8d1322874b6f0  f9e4b658b201a9f2ecdecbb34bed034b   \n3  e64fb393e7b32834bb789ff8bb30750e  658677c97b385a9be170737859d3511b   \n4  f7c4243c7fe1938f181bec41a392bdeb  8e6bfb81e283fa7e4f11123a3fb894f1   \n\n   review_score review_comment_title  \\\n0             4                  NaN   \n1             5                  NaN   \n2             5                  NaN   \n3             5                  NaN   \n4             5                  NaN   \n\n                              review_comment_message review_creation_date  \\\n0                                                NaN  2018-01-18 00:00:00   \n1                                                NaN  2018-03-10 00:00:00   \n2                                                NaN  2018-02-17 00:00:00   \n3              Recebi bem antes do prazo estipulado.  2017-04-21 00:00:00   \n4  Parabéns lojas lannister adorei comprar pela I...  2018-03-01 00:00:00   \n\n  review_answer_timestamp  \n0     2018-01-18 21:46:59  \n1     2018-03-11 03:05:13  \n2     2018-02-18 14:36:24  \n3     2017-04-21 22:02:06  \n4     2018-03-02 10:26:53  ",
      "text/html": "<div>\n<style scoped>\n    .dataframe tbody tr th:only-of-type {\n        vertical-align: middle;\n    }\n\n    .dataframe tbody tr th {\n        vertical-align: top;\n    }\n\n    .dataframe thead th {\n        text-align: right;\n    }\n</style>\n<table border=\"1\" class=\"dataframe\">\n  <thead>\n    <tr style=\"text-align: right;\">\n      <th></th>\n      <th>review_id</th>\n      <th>order_id</th>\n      <th>review_score</th>\n      <th>review_comment_title</th>\n      <th>review_comment_message</th>\n      <th>review_creation_date</th>\n      <th>review_answer_timestamp</th>\n    </tr>\n  </thead>\n  <tbody>\n    <tr>\n      <th>0</th>\n      <td>7bc2406110b926393aa56f80a40eba40</td>\n      <td>73fc7af87114b39712e6da79b0a377eb</td>\n      <td>4</td>\n      <td>NaN</td>\n      <td>NaN</td>\n      <td>2018-01-18 00:00:00</td>\n      <td>2018-01-18 21:46:59</td>\n    </tr>\n    <tr>\n      <th>1</th>\n      <td>80e641a11e56f04c1ad469d5645fdfde</td>\n      <td>a548910a1c6147796b98fdf73dbeba33</td>\n      <td>5</td>\n      <td>NaN</td>\n      <td>NaN</td>\n      <td>2018-03-10 00:00:00</td>\n      <td>2018-03-11 03:05:13</td>\n    </tr>\n    <tr>\n      <th>2</th>\n      <td>228ce5500dc1d8e020d8d1322874b6f0</td>\n      <td>f9e4b658b201a9f2ecdecbb34bed034b</td>\n      <td>5</td>\n      <td>NaN</td>\n      <td>NaN</td>\n      <td>2018-02-17 00:00:00</td>\n      <td>2018-02-18 14:36:24</td>\n    </tr>\n    <tr>\n      <th>3</th>\n      <td>e64fb393e7b32834bb789ff8bb30750e</td>\n      <td>658677c97b385a9be170737859d3511b</td>\n      <td>5</td>\n      <td>NaN</td>\n      <td>Recebi bem antes do prazo estipulado.</td>\n      <td>2017-04-21 00:00:00</td>\n      <td>2017-04-21 22:02:06</td>\n    </tr>\n    <tr>\n      <th>4</th>\n      <td>f7c4243c7fe1938f181bec41a392bdeb</td>\n      <td>8e6bfb81e283fa7e4f11123a3fb894f1</td>\n      <td>5</td>\n      <td>NaN</td>\n      <td>Parabéns lojas lannister adorei comprar pela I...</td>\n      <td>2018-03-01 00:00:00</td>\n      <td>2018-03-02 10:26:53</td>\n    </tr>\n  </tbody>\n</table>\n</div>"
     },
     "execution_count": 63,
     "metadata": {},
     "output_type": "execute_result"
    }
   ],
   "source": [
    "# order_reviews es un dataset dentro del diccionario data\n",
    "reviews = data['order_reviews'].copy()\n",
    "\n",
    "reviews.head()"
   ]
  },
  {
   "cell_type": "code",
   "execution_count": 81,
   "outputs": [
    {
     "name": "stdout",
     "output_type": "stream",
     "text": [
      "The autoreload extension is already loaded. To reload it, use:\n",
      "  %reload_ext autoreload\n"
     ]
    }
   ],
   "source": [
    "%load_ext autoreload\n"
   ],
   "metadata": {
    "collapsed": false,
    "pycharm": {
     "name": "#%%\n"
    }
   }
  },
  {
   "cell_type": "code",
   "execution_count": 82,
   "outputs": [
    {
     "data": {
      "text/plain": "                               order_id  estrellas_5  estrellas_1  \\\n0      73fc7af87114b39712e6da79b0a377eb            0            0   \n1      a548910a1c6147796b98fdf73dbeba33            1            0   \n2      f9e4b658b201a9f2ecdecbb34bed034b            1            0   \n3      658677c97b385a9be170737859d3511b            1            0   \n4      8e6bfb81e283fa7e4f11123a3fb894f1            1            0   \n...                                 ...          ...          ...   \n99219  2a8c23fee101d4d5662fa670396eb8da            1            0   \n99220  22ec9f0669f784db00fa86d035cf8602            1            0   \n99221  55d4004744368f5571d1f590031933e4            1            0   \n99222  7725825d039fc1f0ceb7635e3f7d9206            0            0   \n99223  90531360ecb1eec2a1fbb265a0db0508            0            1   \n\n       review_score  \n0                 4  \n1                 5  \n2                 5  \n3                 5  \n4                 5  \n...             ...  \n99219             5  \n99220             5  \n99221             5  \n99222             4  \n99223             1  \n\n[99224 rows x 4 columns]",
      "text/html": "<div>\n<style scoped>\n    .dataframe tbody tr th:only-of-type {\n        vertical-align: middle;\n    }\n\n    .dataframe tbody tr th {\n        vertical-align: top;\n    }\n\n    .dataframe thead th {\n        text-align: right;\n    }\n</style>\n<table border=\"1\" class=\"dataframe\">\n  <thead>\n    <tr style=\"text-align: right;\">\n      <th></th>\n      <th>order_id</th>\n      <th>estrellas_5</th>\n      <th>estrellas_1</th>\n      <th>review_score</th>\n    </tr>\n  </thead>\n  <tbody>\n    <tr>\n      <th>0</th>\n      <td>73fc7af87114b39712e6da79b0a377eb</td>\n      <td>0</td>\n      <td>0</td>\n      <td>4</td>\n    </tr>\n    <tr>\n      <th>1</th>\n      <td>a548910a1c6147796b98fdf73dbeba33</td>\n      <td>1</td>\n      <td>0</td>\n      <td>5</td>\n    </tr>\n    <tr>\n      <th>2</th>\n      <td>f9e4b658b201a9f2ecdecbb34bed034b</td>\n      <td>1</td>\n      <td>0</td>\n      <td>5</td>\n    </tr>\n    <tr>\n      <th>3</th>\n      <td>658677c97b385a9be170737859d3511b</td>\n      <td>1</td>\n      <td>0</td>\n      <td>5</td>\n    </tr>\n    <tr>\n      <th>4</th>\n      <td>8e6bfb81e283fa7e4f11123a3fb894f1</td>\n      <td>1</td>\n      <td>0</td>\n      <td>5</td>\n    </tr>\n    <tr>\n      <th>...</th>\n      <td>...</td>\n      <td>...</td>\n      <td>...</td>\n      <td>...</td>\n    </tr>\n    <tr>\n      <th>99219</th>\n      <td>2a8c23fee101d4d5662fa670396eb8da</td>\n      <td>1</td>\n      <td>0</td>\n      <td>5</td>\n    </tr>\n    <tr>\n      <th>99220</th>\n      <td>22ec9f0669f784db00fa86d035cf8602</td>\n      <td>1</td>\n      <td>0</td>\n      <td>5</td>\n    </tr>\n    <tr>\n      <th>99221</th>\n      <td>55d4004744368f5571d1f590031933e4</td>\n      <td>1</td>\n      <td>0</td>\n      <td>5</td>\n    </tr>\n    <tr>\n      <th>99222</th>\n      <td>7725825d039fc1f0ceb7635e3f7d9206</td>\n      <td>0</td>\n      <td>0</td>\n      <td>4</td>\n    </tr>\n    <tr>\n      <th>99223</th>\n      <td>90531360ecb1eec2a1fbb265a0db0508</td>\n      <td>0</td>\n      <td>1</td>\n      <td>1</td>\n    </tr>\n  </tbody>\n</table>\n<p>99224 rows × 4 columns</p>\n</div>"
     },
     "execution_count": 82,
     "metadata": {},
     "output_type": "execute_result"
    }
   ],
   "source": [
    "from olist.preprocess import puntaje_de_compra\n",
    "puntaje_de_compra(reviews)\n"
   ],
   "metadata": {
    "collapsed": false,
    "pycharm": {
     "name": "#%%\n"
    }
   }
  },
  {
   "cell_type": "code",
   "execution_count": 16,
   "metadata": {
    "tags": [
     "challengify"
    ],
    "pycharm": {
     "name": "#%%\n"
    }
   },
   "outputs": [
    {
     "data": {
      "text/plain": "                           order_id  es_cinco_estrellas  es_una_estrella  \\\n0  73fc7af87114b39712e6da79b0a377eb                   0                0   \n1  a548910a1c6147796b98fdf73dbeba33                   1                0   \n2  f9e4b658b201a9f2ecdecbb34bed034b                   1                0   \n3  658677c97b385a9be170737859d3511b                   1                0   \n4  8e6bfb81e283fa7e4f11123a3fb894f1                   1                0   \n\n   review_score  \n0             4  \n1             5  \n2             5  \n3             5  \n4             5  ",
      "text/html": "<div>\n<style scoped>\n    .dataframe tbody tr th:only-of-type {\n        vertical-align: middle;\n    }\n\n    .dataframe tbody tr th {\n        vertical-align: top;\n    }\n\n    .dataframe thead th {\n        text-align: right;\n    }\n</style>\n<table border=\"1\" class=\"dataframe\">\n  <thead>\n    <tr style=\"text-align: right;\">\n      <th></th>\n      <th>order_id</th>\n      <th>es_cinco_estrellas</th>\n      <th>es_una_estrella</th>\n      <th>review_score</th>\n    </tr>\n  </thead>\n  <tbody>\n    <tr>\n      <th>0</th>\n      <td>73fc7af87114b39712e6da79b0a377eb</td>\n      <td>0</td>\n      <td>0</td>\n      <td>4</td>\n    </tr>\n    <tr>\n      <th>1</th>\n      <td>a548910a1c6147796b98fdf73dbeba33</td>\n      <td>1</td>\n      <td>0</td>\n      <td>5</td>\n    </tr>\n    <tr>\n      <th>2</th>\n      <td>f9e4b658b201a9f2ecdecbb34bed034b</td>\n      <td>1</td>\n      <td>0</td>\n      <td>5</td>\n    </tr>\n    <tr>\n      <th>3</th>\n      <td>658677c97b385a9be170737859d3511b</td>\n      <td>1</td>\n      <td>0</td>\n      <td>5</td>\n    </tr>\n    <tr>\n      <th>4</th>\n      <td>8e6bfb81e283fa7e4f11123a3fb894f1</td>\n      <td>1</td>\n      <td>0</td>\n      <td>5</td>\n    </tr>\n  </tbody>\n</table>\n</div>"
     },
     "execution_count": 16,
     "metadata": {},
     "output_type": "execute_result"
    }
   ],
   "source": [
    "from olist.preprocess import puntaje_de_compra\n",
    "puntaje_de_compra(reviews)\n",
    "reviews.head()"
   ]
  },
  {
   "cell_type": "markdown",
   "metadata": {
    "pycharm": {
     "name": "#%% md\n"
    }
   },
   "source": [
    "### c) `numero_de_productos`:\n",
    "     retorna un dataframe con\n",
    "        order_id, numero_de_productos (numero_de_productos_por_orden)"
   ]
  },
  {
   "cell_type": "code",
   "execution_count": 85,
   "outputs": [
    {
     "data": {
      "text/plain": "                               order_id                       customer_id  \\\n0      e481f51cbdc54678b7cc49136f2d6af7  9ef432eb6251297304e76186b10a928d   \n1      53cdb2fc8bc7dce0b6741e2150273451  b0830fb4747a6c6d20dea0b8c802d7ef   \n2      47770eb9100c2d0c44946d9cf07ec65d  41ce2a54c0b03bf3443c3d931a367089   \n3      949d5b44dbf5de918fe9c16f97b45f8a  f88197465ea7920adcdbec7375364d82   \n4      ad21c59c0840e6cb83a9ceb5573f8159  8ab97904e6daea8866dbdbc4fb7aad2c   \n...                                 ...                               ...   \n99436  9c5dedf39a927c1b2549525ed64a053c  39bd1228ee8140590ac3aca26f2dfe00   \n99437  63943bddc261676b46f01ca7ac2f7bd8  1fca14ff2861355f6e5f14306ff977a7   \n99438  83c1379a015df1e13d02aae0204711ab  1aa71eb042121263aafbe80c1b562c9c   \n99439  11c177c8e97725db2631073c19f07b62  b331b74b18dc79bcdf6532d51e1637c1   \n99440  66dea50a8b16d9b4dee7af250b4be1a5  edb027a75a1449115f6b43211ae02a24   \n\n      order_status order_purchase_timestamp   order_approved_at  \\\n0        delivered      2017-10-02 10:56:33 2017-10-02 11:07:15   \n1        delivered      2018-07-24 20:41:37 2018-07-26 03:24:27   \n2        delivered      2018-08-08 08:38:49 2018-08-08 08:55:23   \n3        delivered      2017-11-18 19:28:06 2017-11-18 19:45:59   \n4        delivered      2018-02-13 21:18:39 2018-02-13 22:20:29   \n...            ...                      ...                 ...   \n99436    delivered      2017-03-09 09:54:05 2017-03-09 09:54:05   \n99437    delivered      2018-02-06 12:58:58 2018-02-06 13:10:37   \n99438    delivered      2017-08-27 14:46:43 2017-08-27 15:04:16   \n99439    delivered      2018-01-08 21:28:27 2018-01-08 21:36:21   \n99440    delivered      2018-03-08 20:57:30 2018-03-09 11:20:28   \n\n      order_delivered_carrier_date order_delivered_customer_date  \\\n0              2017-10-04 19:55:00           2017-10-10 21:25:13   \n1              2018-07-26 14:31:00           2018-08-07 15:27:45   \n2              2018-08-08 13:50:00           2018-08-17 18:06:29   \n3              2017-11-22 13:39:59           2017-12-02 00:28:42   \n4              2018-02-14 19:46:34           2018-02-16 18:17:02   \n...                            ...                           ...   \n99436          2017-03-10 11:18:03           2017-03-17 15:08:01   \n99437          2018-02-07 23:22:42           2018-02-28 17:37:56   \n99438          2017-08-28 20:52:26           2017-09-21 11:24:17   \n99439          2018-01-12 15:35:03           2018-01-25 23:32:54   \n99440          2018-03-09 22:11:59           2018-03-16 13:08:30   \n\n      order_estimated_delivery_date delivered_purhcased_delta  \\\n0                        2017-10-18           8 days 10:28:40   \n1                        2018-08-13          13 days 18:46:08   \n2                        2018-09-04           9 days 09:27:40   \n3                        2017-12-15          13 days 05:00:36   \n4                        2018-02-26           2 days 20:58:23   \n...                             ...                       ...   \n99436                    2017-03-28           8 days 05:13:56   \n99437                    2018-03-02          22 days 04:38:58   \n99438                    2017-09-27          24 days 20:37:34   \n99439                    2018-02-15          17 days 02:04:27   \n99440                    2018-04-03           7 days 16:11:00   \n\n       tiempo_de_espera dias_de_espera real_vs_esperado  \n0              8.436574            8.0         7.107488  \n1             13.782037           13.0         5.355729  \n2              9.394213            9.0        17.245498  \n3             13.208750           13.0        12.980069  \n4              2.873877            2.0         9.238171  \n...                 ...            ...              ...  \n99436          8.218009            8.0        10.369433  \n99437         22.193727           22.0         1.265324  \n99438         24.859421           24.0         5.524803  \n99439         17.086424           17.0        20.018819  \n99440          7.674306            7.0        17.452431  \n\n[99441 rows x 12 columns]",
      "text/html": "<div>\n<style scoped>\n    .dataframe tbody tr th:only-of-type {\n        vertical-align: middle;\n    }\n\n    .dataframe tbody tr th {\n        vertical-align: top;\n    }\n\n    .dataframe thead th {\n        text-align: right;\n    }\n</style>\n<table border=\"1\" class=\"dataframe\">\n  <thead>\n    <tr style=\"text-align: right;\">\n      <th></th>\n      <th>order_id</th>\n      <th>customer_id</th>\n      <th>order_status</th>\n      <th>order_purchase_timestamp</th>\n      <th>order_approved_at</th>\n      <th>order_delivered_carrier_date</th>\n      <th>order_delivered_customer_date</th>\n      <th>order_estimated_delivery_date</th>\n      <th>delivered_purhcased_delta</th>\n      <th>tiempo_de_espera</th>\n      <th>dias_de_espera</th>\n      <th>real_vs_esperado</th>\n    </tr>\n  </thead>\n  <tbody>\n    <tr>\n      <th>0</th>\n      <td>e481f51cbdc54678b7cc49136f2d6af7</td>\n      <td>9ef432eb6251297304e76186b10a928d</td>\n      <td>delivered</td>\n      <td>2017-10-02 10:56:33</td>\n      <td>2017-10-02 11:07:15</td>\n      <td>2017-10-04 19:55:00</td>\n      <td>2017-10-10 21:25:13</td>\n      <td>2017-10-18</td>\n      <td>8 days 10:28:40</td>\n      <td>8.436574</td>\n      <td>8.0</td>\n      <td>7.107488</td>\n    </tr>\n    <tr>\n      <th>1</th>\n      <td>53cdb2fc8bc7dce0b6741e2150273451</td>\n      <td>b0830fb4747a6c6d20dea0b8c802d7ef</td>\n      <td>delivered</td>\n      <td>2018-07-24 20:41:37</td>\n      <td>2018-07-26 03:24:27</td>\n      <td>2018-07-26 14:31:00</td>\n      <td>2018-08-07 15:27:45</td>\n      <td>2018-08-13</td>\n      <td>13 days 18:46:08</td>\n      <td>13.782037</td>\n      <td>13.0</td>\n      <td>5.355729</td>\n    </tr>\n    <tr>\n      <th>2</th>\n      <td>47770eb9100c2d0c44946d9cf07ec65d</td>\n      <td>41ce2a54c0b03bf3443c3d931a367089</td>\n      <td>delivered</td>\n      <td>2018-08-08 08:38:49</td>\n      <td>2018-08-08 08:55:23</td>\n      <td>2018-08-08 13:50:00</td>\n      <td>2018-08-17 18:06:29</td>\n      <td>2018-09-04</td>\n      <td>9 days 09:27:40</td>\n      <td>9.394213</td>\n      <td>9.0</td>\n      <td>17.245498</td>\n    </tr>\n    <tr>\n      <th>3</th>\n      <td>949d5b44dbf5de918fe9c16f97b45f8a</td>\n      <td>f88197465ea7920adcdbec7375364d82</td>\n      <td>delivered</td>\n      <td>2017-11-18 19:28:06</td>\n      <td>2017-11-18 19:45:59</td>\n      <td>2017-11-22 13:39:59</td>\n      <td>2017-12-02 00:28:42</td>\n      <td>2017-12-15</td>\n      <td>13 days 05:00:36</td>\n      <td>13.208750</td>\n      <td>13.0</td>\n      <td>12.980069</td>\n    </tr>\n    <tr>\n      <th>4</th>\n      <td>ad21c59c0840e6cb83a9ceb5573f8159</td>\n      <td>8ab97904e6daea8866dbdbc4fb7aad2c</td>\n      <td>delivered</td>\n      <td>2018-02-13 21:18:39</td>\n      <td>2018-02-13 22:20:29</td>\n      <td>2018-02-14 19:46:34</td>\n      <td>2018-02-16 18:17:02</td>\n      <td>2018-02-26</td>\n      <td>2 days 20:58:23</td>\n      <td>2.873877</td>\n      <td>2.0</td>\n      <td>9.238171</td>\n    </tr>\n    <tr>\n      <th>...</th>\n      <td>...</td>\n      <td>...</td>\n      <td>...</td>\n      <td>...</td>\n      <td>...</td>\n      <td>...</td>\n      <td>...</td>\n      <td>...</td>\n      <td>...</td>\n      <td>...</td>\n      <td>...</td>\n      <td>...</td>\n    </tr>\n    <tr>\n      <th>99436</th>\n      <td>9c5dedf39a927c1b2549525ed64a053c</td>\n      <td>39bd1228ee8140590ac3aca26f2dfe00</td>\n      <td>delivered</td>\n      <td>2017-03-09 09:54:05</td>\n      <td>2017-03-09 09:54:05</td>\n      <td>2017-03-10 11:18:03</td>\n      <td>2017-03-17 15:08:01</td>\n      <td>2017-03-28</td>\n      <td>8 days 05:13:56</td>\n      <td>8.218009</td>\n      <td>8.0</td>\n      <td>10.369433</td>\n    </tr>\n    <tr>\n      <th>99437</th>\n      <td>63943bddc261676b46f01ca7ac2f7bd8</td>\n      <td>1fca14ff2861355f6e5f14306ff977a7</td>\n      <td>delivered</td>\n      <td>2018-02-06 12:58:58</td>\n      <td>2018-02-06 13:10:37</td>\n      <td>2018-02-07 23:22:42</td>\n      <td>2018-02-28 17:37:56</td>\n      <td>2018-03-02</td>\n      <td>22 days 04:38:58</td>\n      <td>22.193727</td>\n      <td>22.0</td>\n      <td>1.265324</td>\n    </tr>\n    <tr>\n      <th>99438</th>\n      <td>83c1379a015df1e13d02aae0204711ab</td>\n      <td>1aa71eb042121263aafbe80c1b562c9c</td>\n      <td>delivered</td>\n      <td>2017-08-27 14:46:43</td>\n      <td>2017-08-27 15:04:16</td>\n      <td>2017-08-28 20:52:26</td>\n      <td>2017-09-21 11:24:17</td>\n      <td>2017-09-27</td>\n      <td>24 days 20:37:34</td>\n      <td>24.859421</td>\n      <td>24.0</td>\n      <td>5.524803</td>\n    </tr>\n    <tr>\n      <th>99439</th>\n      <td>11c177c8e97725db2631073c19f07b62</td>\n      <td>b331b74b18dc79bcdf6532d51e1637c1</td>\n      <td>delivered</td>\n      <td>2018-01-08 21:28:27</td>\n      <td>2018-01-08 21:36:21</td>\n      <td>2018-01-12 15:35:03</td>\n      <td>2018-01-25 23:32:54</td>\n      <td>2018-02-15</td>\n      <td>17 days 02:04:27</td>\n      <td>17.086424</td>\n      <td>17.0</td>\n      <td>20.018819</td>\n    </tr>\n    <tr>\n      <th>99440</th>\n      <td>66dea50a8b16d9b4dee7af250b4be1a5</td>\n      <td>edb027a75a1449115f6b43211ae02a24</td>\n      <td>delivered</td>\n      <td>2018-03-08 20:57:30</td>\n      <td>2018-03-09 11:20:28</td>\n      <td>2018-03-09 22:11:59</td>\n      <td>2018-03-16 13:08:30</td>\n      <td>2018-04-03</td>\n      <td>7 days 16:11:00</td>\n      <td>7.674306</td>\n      <td>7.0</td>\n      <td>17.452431</td>\n    </tr>\n  </tbody>\n</table>\n<p>99441 rows × 12 columns</p>\n</div>"
     },
     "execution_count": 85,
     "metadata": {},
     "output_type": "execute_result"
    }
   ],
   "source": [
    "orders"
   ],
   "metadata": {
    "collapsed": false,
    "pycharm": {
     "name": "#%%\n"
    }
   }
  },
  {
   "cell_type": "code",
   "execution_count": 87,
   "outputs": [
    {
     "data": {
      "text/plain": "                                order_id  order_item_id  \\\n0       00010242fe8c5a6d1ba2dd792cb16214              1   \n1       00018f77f2f0320c557190d7a144bdd3              1   \n2       000229ec398224ef6ca0657da4fc703e              1   \n3       00024acbcdf0a6daa1e931b038114c75              1   \n4       00042b26cf59d7ce69dfabb4e55b4fd9              1   \n...                                  ...            ...   \n112645  fffc94f6ce00a00581880bf54a75a037              1   \n112646  fffcd46ef2263f404302a634eb57f7eb              1   \n112647  fffce4705a9662cd70adb13d4a31832d              1   \n112648  fffe18544ffabc95dfada21779c9644f              1   \n112649  fffe41c64501cc87c801fd61db3f6244              1   \n\n                              product_id                         seller_id  \\\n0       4244733e06e7ecb4970a6e2683c13e61  48436dade18ac8b2bce089ec2a041202   \n1       e5f2d52b802189ee658865ca93d83a8f  dd7ddc04e1b6c2c614352b383efe2d36   \n2       c777355d18b72b67abbeef9df44fd0fd  5b51032eddd242adc84c38acab88f23d   \n3       7634da152a4610f1595efa32f14722fc  9d7a1d34a5052409006425275ba1c2b4   \n4       ac6c3623068f30de03045865e4e10089  df560393f3a51e74553ab94004ba5c87   \n...                                  ...                               ...   \n112645  4aa6014eceb682077f9dc4bffebc05b0  b8bc237ba3788b23da09c0f1f3a3288c   \n112646  32e07fd915822b0765e448c4dd74c828  f3c38ab652836d21de61fb8314b69182   \n112647  72a30483855e2eafc67aee5dc2560482  c3cfdc648177fdbbbb35635a37472c53   \n112648  9c422a519119dcad7575db5af1ba540e  2b3e4a2a3ea8e01938cabda2a3e5cc79   \n112649  350688d9dc1e75ff97be326363655e01  f7ccf836d21b2fb1de37564105216cc1   \n\n        shipping_limit_date   price  freight_value  \n0       2017-09-19 09:45:35   58.90          13.29  \n1       2017-05-03 11:05:13  239.90          19.93  \n2       2018-01-18 14:48:30  199.00          17.87  \n3       2018-08-15 10:10:18   12.99          12.79  \n4       2017-02-13 13:57:51  199.90          18.14  \n...                     ...     ...            ...  \n112645  2018-05-02 04:11:01  299.99          43.41  \n112646  2018-07-20 04:31:48  350.00          36.53  \n112647  2017-10-30 17:14:25   99.90          16.95  \n112648  2017-08-21 00:04:32   55.99           8.72  \n112649  2018-06-12 17:10:13   43.00          12.79  \n\n[112650 rows x 7 columns]",
      "text/html": "<div>\n<style scoped>\n    .dataframe tbody tr th:only-of-type {\n        vertical-align: middle;\n    }\n\n    .dataframe tbody tr th {\n        vertical-align: top;\n    }\n\n    .dataframe thead th {\n        text-align: right;\n    }\n</style>\n<table border=\"1\" class=\"dataframe\">\n  <thead>\n    <tr style=\"text-align: right;\">\n      <th></th>\n      <th>order_id</th>\n      <th>order_item_id</th>\n      <th>product_id</th>\n      <th>seller_id</th>\n      <th>shipping_limit_date</th>\n      <th>price</th>\n      <th>freight_value</th>\n    </tr>\n  </thead>\n  <tbody>\n    <tr>\n      <th>0</th>\n      <td>00010242fe8c5a6d1ba2dd792cb16214</td>\n      <td>1</td>\n      <td>4244733e06e7ecb4970a6e2683c13e61</td>\n      <td>48436dade18ac8b2bce089ec2a041202</td>\n      <td>2017-09-19 09:45:35</td>\n      <td>58.90</td>\n      <td>13.29</td>\n    </tr>\n    <tr>\n      <th>1</th>\n      <td>00018f77f2f0320c557190d7a144bdd3</td>\n      <td>1</td>\n      <td>e5f2d52b802189ee658865ca93d83a8f</td>\n      <td>dd7ddc04e1b6c2c614352b383efe2d36</td>\n      <td>2017-05-03 11:05:13</td>\n      <td>239.90</td>\n      <td>19.93</td>\n    </tr>\n    <tr>\n      <th>2</th>\n      <td>000229ec398224ef6ca0657da4fc703e</td>\n      <td>1</td>\n      <td>c777355d18b72b67abbeef9df44fd0fd</td>\n      <td>5b51032eddd242adc84c38acab88f23d</td>\n      <td>2018-01-18 14:48:30</td>\n      <td>199.00</td>\n      <td>17.87</td>\n    </tr>\n    <tr>\n      <th>3</th>\n      <td>00024acbcdf0a6daa1e931b038114c75</td>\n      <td>1</td>\n      <td>7634da152a4610f1595efa32f14722fc</td>\n      <td>9d7a1d34a5052409006425275ba1c2b4</td>\n      <td>2018-08-15 10:10:18</td>\n      <td>12.99</td>\n      <td>12.79</td>\n    </tr>\n    <tr>\n      <th>4</th>\n      <td>00042b26cf59d7ce69dfabb4e55b4fd9</td>\n      <td>1</td>\n      <td>ac6c3623068f30de03045865e4e10089</td>\n      <td>df560393f3a51e74553ab94004ba5c87</td>\n      <td>2017-02-13 13:57:51</td>\n      <td>199.90</td>\n      <td>18.14</td>\n    </tr>\n    <tr>\n      <th>...</th>\n      <td>...</td>\n      <td>...</td>\n      <td>...</td>\n      <td>...</td>\n      <td>...</td>\n      <td>...</td>\n      <td>...</td>\n    </tr>\n    <tr>\n      <th>112645</th>\n      <td>fffc94f6ce00a00581880bf54a75a037</td>\n      <td>1</td>\n      <td>4aa6014eceb682077f9dc4bffebc05b0</td>\n      <td>b8bc237ba3788b23da09c0f1f3a3288c</td>\n      <td>2018-05-02 04:11:01</td>\n      <td>299.99</td>\n      <td>43.41</td>\n    </tr>\n    <tr>\n      <th>112646</th>\n      <td>fffcd46ef2263f404302a634eb57f7eb</td>\n      <td>1</td>\n      <td>32e07fd915822b0765e448c4dd74c828</td>\n      <td>f3c38ab652836d21de61fb8314b69182</td>\n      <td>2018-07-20 04:31:48</td>\n      <td>350.00</td>\n      <td>36.53</td>\n    </tr>\n    <tr>\n      <th>112647</th>\n      <td>fffce4705a9662cd70adb13d4a31832d</td>\n      <td>1</td>\n      <td>72a30483855e2eafc67aee5dc2560482</td>\n      <td>c3cfdc648177fdbbbb35635a37472c53</td>\n      <td>2017-10-30 17:14:25</td>\n      <td>99.90</td>\n      <td>16.95</td>\n    </tr>\n    <tr>\n      <th>112648</th>\n      <td>fffe18544ffabc95dfada21779c9644f</td>\n      <td>1</td>\n      <td>9c422a519119dcad7575db5af1ba540e</td>\n      <td>2b3e4a2a3ea8e01938cabda2a3e5cc79</td>\n      <td>2017-08-21 00:04:32</td>\n      <td>55.99</td>\n      <td>8.72</td>\n    </tr>\n    <tr>\n      <th>112649</th>\n      <td>fffe41c64501cc87c801fd61db3f6244</td>\n      <td>1</td>\n      <td>350688d9dc1e75ff97be326363655e01</td>\n      <td>f7ccf836d21b2fb1de37564105216cc1</td>\n      <td>2018-06-12 17:10:13</td>\n      <td>43.00</td>\n      <td>12.79</td>\n    </tr>\n  </tbody>\n</table>\n<p>112650 rows × 7 columns</p>\n</div>"
     },
     "execution_count": 87,
     "metadata": {},
     "output_type": "execute_result"
    }
   ],
   "source": [
    "items = data['order_items'].copy()\n",
    "items"
   ],
   "metadata": {
    "collapsed": false,
    "pycharm": {
     "name": "#%%\n"
    }
   }
  },
  {
   "cell_type": "code",
   "execution_count": 88,
   "outputs": [
    {
     "data": {
      "text/plain": "8272b63d03f5f79c56e9e4120aec44ef    21\n1b15974a0141d54e36626dca3fdc731a    20\nab14fdcfbe524636d65ee38360e22ce8    20\n9ef13efd6949e4573a18964dd1bbe7f5    15\n428a2f660dc84138d969ccd69a0ab6d5    15\n                                    ..\n5a0911d70c1f85d3bed0df1bf693a6dd     1\n5a082b558a3798d3e36d93bfa8ca1eae     1\n5a07264682e0b8fbb3f166edbbffc6e8     1\n5a071192a28951b76774e5a760c8c9b7     1\nfffe41c64501cc87c801fd61db3f6244     1\nName: order_id, Length: 98666, dtype: int64"
     },
     "execution_count": 88,
     "metadata": {},
     "output_type": "execute_result"
    }
   ],
   "source": [
    "items.order_id.value_counts()"
   ],
   "metadata": {
    "collapsed": false,
    "pycharm": {
     "name": "#%%\n"
    }
   }
  },
  {
   "cell_type": "code",
   "execution_count": 84,
   "outputs": [
    {
     "data": {
      "text/plain": "                             product_id              product_category_name  \\\n0      1e9e8ef04dbcff4541ed26657ea517e5                         perfumaria   \n1      3aa071139cb16b67ca9e5dea641aaa2f                              artes   \n2      96bd76ec8810374ed1b65e291975717f                      esporte_lazer   \n3      cef67bcfe19066a932b7673e239eb23d                              bebes   \n4      9dc1a7de274444849c219cff195d0b71              utilidades_domesticas   \n...                                 ...                                ...   \n32946  a0b7d5a992ccda646f2d34e418fff5a0                   moveis_decoracao   \n32947  bf4538d88321d0fd4412a93c974510e6  construcao_ferramentas_iluminacao   \n32948  9a7c6041fa9592d9d9ef6cfe62a71f8c                    cama_mesa_banho   \n32949  83808703fc0706a22e264b9d75f04a2e             informatica_acessorios   \n32950  106392145fca363410d287a815be6de4                    cama_mesa_banho   \n\n       product_name_lenght  product_description_lenght  product_photos_qty  \\\n0                     40.0                       287.0                 1.0   \n1                     44.0                       276.0                 1.0   \n2                     46.0                       250.0                 1.0   \n3                     27.0                       261.0                 1.0   \n4                     37.0                       402.0                 4.0   \n...                    ...                         ...                 ...   \n32946                 45.0                        67.0                 2.0   \n32947                 41.0                       971.0                 1.0   \n32948                 50.0                       799.0                 1.0   \n32949                 60.0                       156.0                 2.0   \n32950                 58.0                       309.0                 1.0   \n\n       product_weight_g  product_length_cm  product_height_cm  \\\n0                 225.0               16.0               10.0   \n1                1000.0               30.0               18.0   \n2                 154.0               18.0                9.0   \n3                 371.0               26.0                4.0   \n4                 625.0               20.0               17.0   \n...                 ...                ...                ...   \n32946           12300.0               40.0               40.0   \n32947            1700.0               16.0               19.0   \n32948            1400.0               27.0                7.0   \n32949             700.0               31.0               13.0   \n32950            2083.0               12.0                2.0   \n\n       product_width_cm  \n0                  14.0  \n1                  20.0  \n2                  15.0  \n3                  26.0  \n4                  13.0  \n...                 ...  \n32946              40.0  \n32947              16.0  \n32948              27.0  \n32949              20.0  \n32950               7.0  \n\n[32951 rows x 9 columns]",
      "text/html": "<div>\n<style scoped>\n    .dataframe tbody tr th:only-of-type {\n        vertical-align: middle;\n    }\n\n    .dataframe tbody tr th {\n        vertical-align: top;\n    }\n\n    .dataframe thead th {\n        text-align: right;\n    }\n</style>\n<table border=\"1\" class=\"dataframe\">\n  <thead>\n    <tr style=\"text-align: right;\">\n      <th></th>\n      <th>product_id</th>\n      <th>product_category_name</th>\n      <th>product_name_lenght</th>\n      <th>product_description_lenght</th>\n      <th>product_photos_qty</th>\n      <th>product_weight_g</th>\n      <th>product_length_cm</th>\n      <th>product_height_cm</th>\n      <th>product_width_cm</th>\n    </tr>\n  </thead>\n  <tbody>\n    <tr>\n      <th>0</th>\n      <td>1e9e8ef04dbcff4541ed26657ea517e5</td>\n      <td>perfumaria</td>\n      <td>40.0</td>\n      <td>287.0</td>\n      <td>1.0</td>\n      <td>225.0</td>\n      <td>16.0</td>\n      <td>10.0</td>\n      <td>14.0</td>\n    </tr>\n    <tr>\n      <th>1</th>\n      <td>3aa071139cb16b67ca9e5dea641aaa2f</td>\n      <td>artes</td>\n      <td>44.0</td>\n      <td>276.0</td>\n      <td>1.0</td>\n      <td>1000.0</td>\n      <td>30.0</td>\n      <td>18.0</td>\n      <td>20.0</td>\n    </tr>\n    <tr>\n      <th>2</th>\n      <td>96bd76ec8810374ed1b65e291975717f</td>\n      <td>esporte_lazer</td>\n      <td>46.0</td>\n      <td>250.0</td>\n      <td>1.0</td>\n      <td>154.0</td>\n      <td>18.0</td>\n      <td>9.0</td>\n      <td>15.0</td>\n    </tr>\n    <tr>\n      <th>3</th>\n      <td>cef67bcfe19066a932b7673e239eb23d</td>\n      <td>bebes</td>\n      <td>27.0</td>\n      <td>261.0</td>\n      <td>1.0</td>\n      <td>371.0</td>\n      <td>26.0</td>\n      <td>4.0</td>\n      <td>26.0</td>\n    </tr>\n    <tr>\n      <th>4</th>\n      <td>9dc1a7de274444849c219cff195d0b71</td>\n      <td>utilidades_domesticas</td>\n      <td>37.0</td>\n      <td>402.0</td>\n      <td>4.0</td>\n      <td>625.0</td>\n      <td>20.0</td>\n      <td>17.0</td>\n      <td>13.0</td>\n    </tr>\n    <tr>\n      <th>...</th>\n      <td>...</td>\n      <td>...</td>\n      <td>...</td>\n      <td>...</td>\n      <td>...</td>\n      <td>...</td>\n      <td>...</td>\n      <td>...</td>\n      <td>...</td>\n    </tr>\n    <tr>\n      <th>32946</th>\n      <td>a0b7d5a992ccda646f2d34e418fff5a0</td>\n      <td>moveis_decoracao</td>\n      <td>45.0</td>\n      <td>67.0</td>\n      <td>2.0</td>\n      <td>12300.0</td>\n      <td>40.0</td>\n      <td>40.0</td>\n      <td>40.0</td>\n    </tr>\n    <tr>\n      <th>32947</th>\n      <td>bf4538d88321d0fd4412a93c974510e6</td>\n      <td>construcao_ferramentas_iluminacao</td>\n      <td>41.0</td>\n      <td>971.0</td>\n      <td>1.0</td>\n      <td>1700.0</td>\n      <td>16.0</td>\n      <td>19.0</td>\n      <td>16.0</td>\n    </tr>\n    <tr>\n      <th>32948</th>\n      <td>9a7c6041fa9592d9d9ef6cfe62a71f8c</td>\n      <td>cama_mesa_banho</td>\n      <td>50.0</td>\n      <td>799.0</td>\n      <td>1.0</td>\n      <td>1400.0</td>\n      <td>27.0</td>\n      <td>7.0</td>\n      <td>27.0</td>\n    </tr>\n    <tr>\n      <th>32949</th>\n      <td>83808703fc0706a22e264b9d75f04a2e</td>\n      <td>informatica_acessorios</td>\n      <td>60.0</td>\n      <td>156.0</td>\n      <td>2.0</td>\n      <td>700.0</td>\n      <td>31.0</td>\n      <td>13.0</td>\n      <td>20.0</td>\n    </tr>\n    <tr>\n      <th>32950</th>\n      <td>106392145fca363410d287a815be6de4</td>\n      <td>cama_mesa_banho</td>\n      <td>58.0</td>\n      <td>309.0</td>\n      <td>1.0</td>\n      <td>2083.0</td>\n      <td>12.0</td>\n      <td>2.0</td>\n      <td>7.0</td>\n    </tr>\n  </tbody>\n</table>\n<p>32951 rows × 9 columns</p>\n</div>"
     },
     "execution_count": 84,
     "metadata": {},
     "output_type": "execute_result"
    }
   ],
   "source": [
    "products = data['products'].copy()\n",
    "products\n"
   ],
   "metadata": {
    "collapsed": false,
    "pycharm": {
     "name": "#%%\n"
    }
   }
  },
  {
   "cell_type": "code",
   "execution_count": 93,
   "outputs": [
    {
     "data": {
      "text/plain": "                                  number_of_products\norder_id                                            \n00010242fe8c5a6d1ba2dd792cb16214                   1\n00018f77f2f0320c557190d7a144bdd3                   1\n000229ec398224ef6ca0657da4fc703e                   1\n00024acbcdf0a6daa1e931b038114c75                   1\n00042b26cf59d7ce69dfabb4e55b4fd9                   1\n...                                              ...\nfffc94f6ce00a00581880bf54a75a037                   1\nfffcd46ef2263f404302a634eb57f7eb                   1\nfffce4705a9662cd70adb13d4a31832d                   1\nfffe18544ffabc95dfada21779c9644f                   1\nfffe41c64501cc87c801fd61db3f6244                   1\n\n[98666 rows x 1 columns]",
      "text/html": "<div>\n<style scoped>\n    .dataframe tbody tr th:only-of-type {\n        vertical-align: middle;\n    }\n\n    .dataframe tbody tr th {\n        vertical-align: top;\n    }\n\n    .dataframe thead th {\n        text-align: right;\n    }\n</style>\n<table border=\"1\" class=\"dataframe\">\n  <thead>\n    <tr style=\"text-align: right;\">\n      <th></th>\n      <th>number_of_products</th>\n    </tr>\n    <tr>\n      <th>order_id</th>\n      <th></th>\n    </tr>\n  </thead>\n  <tbody>\n    <tr>\n      <th>00010242fe8c5a6d1ba2dd792cb16214</th>\n      <td>1</td>\n    </tr>\n    <tr>\n      <th>00018f77f2f0320c557190d7a144bdd3</th>\n      <td>1</td>\n    </tr>\n    <tr>\n      <th>000229ec398224ef6ca0657da4fc703e</th>\n      <td>1</td>\n    </tr>\n    <tr>\n      <th>00024acbcdf0a6daa1e931b038114c75</th>\n      <td>1</td>\n    </tr>\n    <tr>\n      <th>00042b26cf59d7ce69dfabb4e55b4fd9</th>\n      <td>1</td>\n    </tr>\n    <tr>\n      <th>...</th>\n      <td>...</td>\n    </tr>\n    <tr>\n      <th>fffc94f6ce00a00581880bf54a75a037</th>\n      <td>1</td>\n    </tr>\n    <tr>\n      <th>fffcd46ef2263f404302a634eb57f7eb</th>\n      <td>1</td>\n    </tr>\n    <tr>\n      <th>fffce4705a9662cd70adb13d4a31832d</th>\n      <td>1</td>\n    </tr>\n    <tr>\n      <th>fffe18544ffabc95dfada21779c9644f</th>\n      <td>1</td>\n    </tr>\n    <tr>\n      <th>fffe41c64501cc87c801fd61db3f6244</th>\n      <td>1</td>\n    </tr>\n  </tbody>\n</table>\n<p>98666 rows × 1 columns</p>\n</div>"
     },
     "execution_count": 93,
     "metadata": {},
     "output_type": "execute_result"
    }
   ],
   "source": [
    "items.groupby('order_id').agg('count')['product_id'].to_frame('number_of_products')"
   ],
   "metadata": {
    "collapsed": false,
    "pycharm": {
     "name": "#%%\n"
    }
   }
  },
  {
   "cell_type": "code",
   "execution_count": 17,
   "outputs": [
    {
     "data": {
      "text/plain": "                               order_id  number_of_products\n0      00010242fe8c5a6d1ba2dd792cb16214                   1\n1      00018f77f2f0320c557190d7a144bdd3                   1\n2      000229ec398224ef6ca0657da4fc703e                   1\n3      00024acbcdf0a6daa1e931b038114c75                   1\n4      00042b26cf59d7ce69dfabb4e55b4fd9                   1\n...                                 ...                 ...\n98661  fffc94f6ce00a00581880bf54a75a037                   1\n98662  fffcd46ef2263f404302a634eb57f7eb                   1\n98663  fffce4705a9662cd70adb13d4a31832d                   1\n98664  fffe18544ffabc95dfada21779c9644f                   1\n98665  fffe41c64501cc87c801fd61db3f6244                   1\n\n[98666 rows x 2 columns]",
      "text/html": "<div>\n<style scoped>\n    .dataframe tbody tr th:only-of-type {\n        vertical-align: middle;\n    }\n\n    .dataframe tbody tr th {\n        vertical-align: top;\n    }\n\n    .dataframe thead th {\n        text-align: right;\n    }\n</style>\n<table border=\"1\" class=\"dataframe\">\n  <thead>\n    <tr style=\"text-align: right;\">\n      <th></th>\n      <th>order_id</th>\n      <th>number_of_products</th>\n    </tr>\n  </thead>\n  <tbody>\n    <tr>\n      <th>0</th>\n      <td>00010242fe8c5a6d1ba2dd792cb16214</td>\n      <td>1</td>\n    </tr>\n    <tr>\n      <th>1</th>\n      <td>00018f77f2f0320c557190d7a144bdd3</td>\n      <td>1</td>\n    </tr>\n    <tr>\n      <th>2</th>\n      <td>000229ec398224ef6ca0657da4fc703e</td>\n      <td>1</td>\n    </tr>\n    <tr>\n      <th>3</th>\n      <td>00024acbcdf0a6daa1e931b038114c75</td>\n      <td>1</td>\n    </tr>\n    <tr>\n      <th>4</th>\n      <td>00042b26cf59d7ce69dfabb4e55b4fd9</td>\n      <td>1</td>\n    </tr>\n    <tr>\n      <th>...</th>\n      <td>...</td>\n      <td>...</td>\n    </tr>\n    <tr>\n      <th>98661</th>\n      <td>fffc94f6ce00a00581880bf54a75a037</td>\n      <td>1</td>\n    </tr>\n    <tr>\n      <th>98662</th>\n      <td>fffcd46ef2263f404302a634eb57f7eb</td>\n      <td>1</td>\n    </tr>\n    <tr>\n      <th>98663</th>\n      <td>fffce4705a9662cd70adb13d4a31832d</td>\n      <td>1</td>\n    </tr>\n    <tr>\n      <th>98664</th>\n      <td>fffe18544ffabc95dfada21779c9644f</td>\n      <td>1</td>\n    </tr>\n    <tr>\n      <th>98665</th>\n      <td>fffe41c64501cc87c801fd61db3f6244</td>\n      <td>1</td>\n    </tr>\n  </tbody>\n</table>\n<p>98666 rows × 2 columns</p>\n</div>"
     },
     "execution_count": 17,
     "metadata": {},
     "output_type": "execute_result"
    }
   ],
   "source": [
    "from olist.preprocess import calcular_numero_productos\n",
    "#fijarse que no uso solo un dataframe\n",
    "productos = calcular_numero_productos(data)\n",
    "productos"
   ],
   "metadata": {
    "collapsed": false,
    "pycharm": {
     "name": "#%%\n"
    }
   }
  },
  {
   "cell_type": "markdown",
   "metadata": {
    "pycharm": {
     "name": "#%% md\n"
    }
   },
   "source": [
    "### d) `numero_de_vendedores`:\n",
    "     Retorna un dataframe con\n",
    "        order_id, numero_de_vendedores (total de vendedores UNICOS !!! )\n",
    "\n",
    "HINT!:\n",
    "`pd.Series.nunique()`\n"
   ]
  },
  {
   "cell_type": "code",
   "execution_count": 18,
   "metadata": {
    "tags": [
     "challengify"
    ],
    "pycharm": {
     "name": "#%%\n"
    }
   },
   "outputs": [
    {
     "data": {
      "text/plain": "                               order_id  vendedores_unicos\n0      00010242fe8c5a6d1ba2dd792cb16214                  1\n1      00018f77f2f0320c557190d7a144bdd3                  1\n2      000229ec398224ef6ca0657da4fc703e                  1\n3      00024acbcdf0a6daa1e931b038114c75                  1\n4      00042b26cf59d7ce69dfabb4e55b4fd9                  1\n...                                 ...                ...\n98661  fffc94f6ce00a00581880bf54a75a037                  1\n98662  fffcd46ef2263f404302a634eb57f7eb                  1\n98663  fffce4705a9662cd70adb13d4a31832d                  1\n98664  fffe18544ffabc95dfada21779c9644f                  1\n98665  fffe41c64501cc87c801fd61db3f6244                  1\n\n[98666 rows x 2 columns]",
      "text/html": "<div>\n<style scoped>\n    .dataframe tbody tr th:only-of-type {\n        vertical-align: middle;\n    }\n\n    .dataframe tbody tr th {\n        vertical-align: top;\n    }\n\n    .dataframe thead th {\n        text-align: right;\n    }\n</style>\n<table border=\"1\" class=\"dataframe\">\n  <thead>\n    <tr style=\"text-align: right;\">\n      <th></th>\n      <th>order_id</th>\n      <th>vendedores_unicos</th>\n    </tr>\n  </thead>\n  <tbody>\n    <tr>\n      <th>0</th>\n      <td>00010242fe8c5a6d1ba2dd792cb16214</td>\n      <td>1</td>\n    </tr>\n    <tr>\n      <th>1</th>\n      <td>00018f77f2f0320c557190d7a144bdd3</td>\n      <td>1</td>\n    </tr>\n    <tr>\n      <th>2</th>\n      <td>000229ec398224ef6ca0657da4fc703e</td>\n      <td>1</td>\n    </tr>\n    <tr>\n      <th>3</th>\n      <td>00024acbcdf0a6daa1e931b038114c75</td>\n      <td>1</td>\n    </tr>\n    <tr>\n      <th>4</th>\n      <td>00042b26cf59d7ce69dfabb4e55b4fd9</td>\n      <td>1</td>\n    </tr>\n    <tr>\n      <th>...</th>\n      <td>...</td>\n      <td>...</td>\n    </tr>\n    <tr>\n      <th>98661</th>\n      <td>fffc94f6ce00a00581880bf54a75a037</td>\n      <td>1</td>\n    </tr>\n    <tr>\n      <th>98662</th>\n      <td>fffcd46ef2263f404302a634eb57f7eb</td>\n      <td>1</td>\n    </tr>\n    <tr>\n      <th>98663</th>\n      <td>fffce4705a9662cd70adb13d4a31832d</td>\n      <td>1</td>\n    </tr>\n    <tr>\n      <th>98664</th>\n      <td>fffe18544ffabc95dfada21779c9644f</td>\n      <td>1</td>\n    </tr>\n    <tr>\n      <th>98665</th>\n      <td>fffe41c64501cc87c801fd61db3f6244</td>\n      <td>1</td>\n    </tr>\n  </tbody>\n</table>\n<p>98666 rows × 2 columns</p>\n</div>"
     },
     "execution_count": 18,
     "metadata": {},
     "output_type": "execute_result"
    }
   ],
   "source": [
    "from olist.preprocess import vendedores_unicos\n",
    "vendedores = vendedores_unicos(data)\n",
    "vendedores"
   ]
  },
  {
   "cell_type": "markdown",
   "metadata": {
    "pycharm": {
     "name": "#%% md\n"
    }
   },
   "source": [
    "### e) `calcular_precio_y_transporte`\n",
    "     Returns a DataFrame with:\n",
    "        order_id, precio, valor_transporte\n",
    "\n",
    "recordar el agg en el groupby"
   ]
  },
  {
   "cell_type": "code",
   "execution_count": 19,
   "metadata": {
    "tags": [
     "challengify"
    ],
    "pycharm": {
     "name": "#%%\n"
    }
   },
   "outputs": [
    {
     "data": {
      "text/plain": "                               order_id  precio  transporte\n0      00010242fe8c5a6d1ba2dd792cb16214   58.90       13.29\n1      00018f77f2f0320c557190d7a144bdd3  239.90       19.93\n2      000229ec398224ef6ca0657da4fc703e  199.00       17.87\n3      00024acbcdf0a6daa1e931b038114c75   12.99       12.79\n4      00042b26cf59d7ce69dfabb4e55b4fd9  199.90       18.14\n...                                 ...     ...         ...\n98661  fffc94f6ce00a00581880bf54a75a037  299.99       43.41\n98662  fffcd46ef2263f404302a634eb57f7eb  350.00       36.53\n98663  fffce4705a9662cd70adb13d4a31832d   99.90       16.95\n98664  fffe18544ffabc95dfada21779c9644f   55.99        8.72\n98665  fffe41c64501cc87c801fd61db3f6244   43.00       12.79\n\n[98666 rows x 3 columns]",
      "text/html": "<div>\n<style scoped>\n    .dataframe tbody tr th:only-of-type {\n        vertical-align: middle;\n    }\n\n    .dataframe tbody tr th {\n        vertical-align: top;\n    }\n\n    .dataframe thead th {\n        text-align: right;\n    }\n</style>\n<table border=\"1\" class=\"dataframe\">\n  <thead>\n    <tr style=\"text-align: right;\">\n      <th></th>\n      <th>order_id</th>\n      <th>precio</th>\n      <th>transporte</th>\n    </tr>\n  </thead>\n  <tbody>\n    <tr>\n      <th>0</th>\n      <td>00010242fe8c5a6d1ba2dd792cb16214</td>\n      <td>58.90</td>\n      <td>13.29</td>\n    </tr>\n    <tr>\n      <th>1</th>\n      <td>00018f77f2f0320c557190d7a144bdd3</td>\n      <td>239.90</td>\n      <td>19.93</td>\n    </tr>\n    <tr>\n      <th>2</th>\n      <td>000229ec398224ef6ca0657da4fc703e</td>\n      <td>199.00</td>\n      <td>17.87</td>\n    </tr>\n    <tr>\n      <th>3</th>\n      <td>00024acbcdf0a6daa1e931b038114c75</td>\n      <td>12.99</td>\n      <td>12.79</td>\n    </tr>\n    <tr>\n      <th>4</th>\n      <td>00042b26cf59d7ce69dfabb4e55b4fd9</td>\n      <td>199.90</td>\n      <td>18.14</td>\n    </tr>\n    <tr>\n      <th>...</th>\n      <td>...</td>\n      <td>...</td>\n      <td>...</td>\n    </tr>\n    <tr>\n      <th>98661</th>\n      <td>fffc94f6ce00a00581880bf54a75a037</td>\n      <td>299.99</td>\n      <td>43.41</td>\n    </tr>\n    <tr>\n      <th>98662</th>\n      <td>fffcd46ef2263f404302a634eb57f7eb</td>\n      <td>350.00</td>\n      <td>36.53</td>\n    </tr>\n    <tr>\n      <th>98663</th>\n      <td>fffce4705a9662cd70adb13d4a31832d</td>\n      <td>99.90</td>\n      <td>16.95</td>\n    </tr>\n    <tr>\n      <th>98664</th>\n      <td>fffe18544ffabc95dfada21779c9644f</td>\n      <td>55.99</td>\n      <td>8.72</td>\n    </tr>\n    <tr>\n      <th>98665</th>\n      <td>fffe41c64501cc87c801fd61db3f6244</td>\n      <td>43.00</td>\n      <td>12.79</td>\n    </tr>\n  </tbody>\n</table>\n<p>98666 rows × 3 columns</p>\n</div>"
     },
     "execution_count": 19,
     "metadata": {},
     "output_type": "execute_result"
    }
   ],
   "source": [
    "from olist.preprocess import calcular_precio_y_transporte\n",
    "precio_y_transporte = calcular_precio_y_transporte(data)\n",
    "precio_y_transporte"
   ]
  },
  {
   "cell_type": "markdown",
   "metadata": {
    "tags": [],
    "pycharm": {
     "name": "#%% md\n"
    }
   },
   "source": [
    "### e) `distancia_al_cliente`\n",
    "\n",
    "    Retorna un dataframe con\n",
    "        order_id, distancia_al_cliente (distancia en kilometros)\n",
    "\n",
    "usar`haversine_distance`"
   ]
  },
  {
   "cell_type": "code",
   "execution_count": 20,
   "metadata": {
    "pycharm": {
     "name": "#%%\n"
    }
   },
   "outputs": [],
   "source": [
    "from math import radians, sin, cos, asin, sqrt\n",
    "\n",
    "def haversine_distance(lon1, lat1, lon2, lat2):\n",
    "    \"\"\"\n",
    "    Computa distancia entre dos pares (lat, lng)\n",
    "    Ver - (https://en.wikipedia.org/wiki/Haversine_formula)\n",
    "    \"\"\"\n",
    "    lon1, lat1, lon2, lat2 = map(radians, [lon1, lat1, lon2, lat2])\n",
    "    dlon = lon2 - lon1\n",
    "    dlat = lat2 - lat1\n",
    "    a = sin(dlat / 2) ** 2 + cos(lat1) * cos(lat2) * sin(dlon / 2) ** 2\n",
    "    return 2 * 6371 * asin(sqrt(a))\n"
   ]
  },
  {
   "cell_type": "code",
   "execution_count": 21,
   "outputs": [],
   "source": [
    "#Tip 1:\n",
    "# usar los datasets\n",
    "\n",
    "# data['order_items']\n",
    "# data['sellers']\n",
    "# data['customers']\n"
   ],
   "metadata": {
    "collapsed": false,
    "pycharm": {
     "name": "#%%\n"
    }
   }
  },
  {
   "cell_type": "code",
   "execution_count": 22,
   "metadata": {
    "tags": [
     "delete_begin"
    ],
    "pycharm": {
     "name": "#%%\n"
    }
   },
   "outputs": [],
   "source": [
    "#tipo 2\n",
    "#usar el dataset de geolocalizacion\n",
    "# Un zip code puede tener varias lat y lon. groupby puede ser usado con el metodo .first() para quedarte con el primero\n",
    "#agroupa data['geolocation'] con ese metodo y crea un datset llamado geo\n",
    "\n",
    "# Solo usar columnas 'seller_id', 'seller_zip_code_prefix', 'geolocation_lat', 'geolocation_lng'\n",
    "\n"
   ]
  },
  {
   "cell_type": "code",
   "execution_count": 23,
   "outputs": [],
   "source": [
    "\n",
    "# mergear sellers con geolocalizacion\n",
    "# Mergear con buyers, usar solo de ese dataset ['customer_id', 'customer_zip_code_prefix', 'geolocation_lat', 'geolocation_lng']\n",
    "\n",
    "# Mergear en otra tabla compradores y vendedores\n",
    "\n",
    "\n",
    "# Mergear ese resultado con geolocalizacion de compradores\n",
    "\n",
    "# Remover  na()\n",
    "\n",
    "# Una orden puede tener muchos compradores retorna el promedio\n"
   ],
   "metadata": {
    "collapsed": false,
    "pycharm": {
     "name": "#%%\n"
    }
   }
  },
  {
   "cell_type": "code",
   "execution_count": 24,
   "outputs": [],
   "source": [
    "from olist.preprocess import calcular_distancia_vendedor_comprador\n",
    "distancia_a_la_orden = calcular_distancia_vendedor_comprador(data)"
   ],
   "metadata": {
    "collapsed": false,
    "pycharm": {
     "name": "#%%\n"
    }
   }
  },
  {
   "cell_type": "code",
   "execution_count": 25,
   "outputs": [
    {
     "data": {
      "text/plain": "                               order_id  distance_seller_customer\n0      00010242fe8c5a6d1ba2dd792cb16214                301.005664\n1      00018f77f2f0320c557190d7a144bdd3                589.274140\n2      000229ec398224ef6ca0657da4fc703e                312.495046\n3      00024acbcdf0a6daa1e931b038114c75                301.951753\n4      00042b26cf59d7ce69dfabb4e55b4fd9                646.221788\n...                                 ...                       ...\n98172  fffc94f6ce00a00581880bf54a75a037               2755.314485\n98173  fffcd46ef2263f404302a634eb57f7eb                354.848852\n98174  fffce4705a9662cd70adb13d4a31832d                338.827218\n98175  fffe18544ffabc95dfada21779c9644f                 72.870476\n98176  fffe41c64501cc87c801fd61db3f6244                133.230980\n\n[98177 rows x 2 columns]",
      "text/html": "<div>\n<style scoped>\n    .dataframe tbody tr th:only-of-type {\n        vertical-align: middle;\n    }\n\n    .dataframe tbody tr th {\n        vertical-align: top;\n    }\n\n    .dataframe thead th {\n        text-align: right;\n    }\n</style>\n<table border=\"1\" class=\"dataframe\">\n  <thead>\n    <tr style=\"text-align: right;\">\n      <th></th>\n      <th>order_id</th>\n      <th>distance_seller_customer</th>\n    </tr>\n  </thead>\n  <tbody>\n    <tr>\n      <th>0</th>\n      <td>00010242fe8c5a6d1ba2dd792cb16214</td>\n      <td>301.005664</td>\n    </tr>\n    <tr>\n      <th>1</th>\n      <td>00018f77f2f0320c557190d7a144bdd3</td>\n      <td>589.274140</td>\n    </tr>\n    <tr>\n      <th>2</th>\n      <td>000229ec398224ef6ca0657da4fc703e</td>\n      <td>312.495046</td>\n    </tr>\n    <tr>\n      <th>3</th>\n      <td>00024acbcdf0a6daa1e931b038114c75</td>\n      <td>301.951753</td>\n    </tr>\n    <tr>\n      <th>4</th>\n      <td>00042b26cf59d7ce69dfabb4e55b4fd9</td>\n      <td>646.221788</td>\n    </tr>\n    <tr>\n      <th>...</th>\n      <td>...</td>\n      <td>...</td>\n    </tr>\n    <tr>\n      <th>98172</th>\n      <td>fffc94f6ce00a00581880bf54a75a037</td>\n      <td>2755.314485</td>\n    </tr>\n    <tr>\n      <th>98173</th>\n      <td>fffcd46ef2263f404302a634eb57f7eb</td>\n      <td>354.848852</td>\n    </tr>\n    <tr>\n      <th>98174</th>\n      <td>fffce4705a9662cd70adb13d4a31832d</td>\n      <td>338.827218</td>\n    </tr>\n    <tr>\n      <th>98175</th>\n      <td>fffe18544ffabc95dfada21779c9644f</td>\n      <td>72.870476</td>\n    </tr>\n    <tr>\n      <th>98176</th>\n      <td>fffe41c64501cc87c801fd61db3f6244</td>\n      <td>133.230980</td>\n    </tr>\n  </tbody>\n</table>\n<p>98177 rows × 2 columns</p>\n</div>"
     },
     "execution_count": 25,
     "metadata": {},
     "output_type": "execute_result"
    }
   ],
   "source": [
    "distancia_a_la_orden"
   ],
   "metadata": {
    "collapsed": false,
    "pycharm": {
     "name": "#%%\n"
    }
   }
  },
  {
   "cell_type": "code",
   "execution_count": 26,
   "metadata": {
    "tags": [
     "challengify"
    ],
    "pycharm": {
     "name": "#%%\n"
    }
   },
   "outputs": [
    {
     "data": {
      "text/plain": "                               order_id  distance_seller_customer\n0      00010242fe8c5a6d1ba2dd792cb16214                301.005664\n1      00018f77f2f0320c557190d7a144bdd3                589.274140\n2      000229ec398224ef6ca0657da4fc703e                312.495046\n3      00024acbcdf0a6daa1e931b038114c75                301.951753\n4      00042b26cf59d7ce69dfabb4e55b4fd9                646.221788\n...                                 ...                       ...\n98172  fffc94f6ce00a00581880bf54a75a037               2755.314485\n98173  fffcd46ef2263f404302a634eb57f7eb                354.848852\n98174  fffce4705a9662cd70adb13d4a31832d                338.827218\n98175  fffe18544ffabc95dfada21779c9644f                 72.870476\n98176  fffe41c64501cc87c801fd61db3f6244                133.230980\n\n[98177 rows x 2 columns]",
      "text/html": "<div>\n<style scoped>\n    .dataframe tbody tr th:only-of-type {\n        vertical-align: middle;\n    }\n\n    .dataframe tbody tr th {\n        vertical-align: top;\n    }\n\n    .dataframe thead th {\n        text-align: right;\n    }\n</style>\n<table border=\"1\" class=\"dataframe\">\n  <thead>\n    <tr style=\"text-align: right;\">\n      <th></th>\n      <th>order_id</th>\n      <th>distance_seller_customer</th>\n    </tr>\n  </thead>\n  <tbody>\n    <tr>\n      <th>0</th>\n      <td>00010242fe8c5a6d1ba2dd792cb16214</td>\n      <td>301.005664</td>\n    </tr>\n    <tr>\n      <th>1</th>\n      <td>00018f77f2f0320c557190d7a144bdd3</td>\n      <td>589.274140</td>\n    </tr>\n    <tr>\n      <th>2</th>\n      <td>000229ec398224ef6ca0657da4fc703e</td>\n      <td>312.495046</td>\n    </tr>\n    <tr>\n      <th>3</th>\n      <td>00024acbcdf0a6daa1e931b038114c75</td>\n      <td>301.951753</td>\n    </tr>\n    <tr>\n      <th>4</th>\n      <td>00042b26cf59d7ce69dfabb4e55b4fd9</td>\n      <td>646.221788</td>\n    </tr>\n    <tr>\n      <th>...</th>\n      <td>...</td>\n      <td>...</td>\n    </tr>\n    <tr>\n      <th>98172</th>\n      <td>fffc94f6ce00a00581880bf54a75a037</td>\n      <td>2755.314485</td>\n    </tr>\n    <tr>\n      <th>98173</th>\n      <td>fffcd46ef2263f404302a634eb57f7eb</td>\n      <td>354.848852</td>\n    </tr>\n    <tr>\n      <th>98174</th>\n      <td>fffce4705a9662cd70adb13d4a31832d</td>\n      <td>338.827218</td>\n    </tr>\n    <tr>\n      <th>98175</th>\n      <td>fffe18544ffabc95dfada21779c9644f</td>\n      <td>72.870476</td>\n    </tr>\n    <tr>\n      <th>98176</th>\n      <td>fffe41c64501cc87c801fd61db3f6244</td>\n      <td>133.230980</td>\n    </tr>\n  </tbody>\n</table>\n<p>98177 rows × 2 columns</p>\n</div>"
     },
     "execution_count": 26,
     "metadata": {},
     "output_type": "execute_result"
    }
   ],
   "source": [
    "distancia_a_la_orden"
   ]
  },
  {
   "cell_type": "markdown",
   "metadata": {
    "pycharm": {
     "name": "#%% md\n"
    }
   },
   "source": [
    "cual es la mediana de la distancia"
   ]
  },
  {
   "cell_type": "code",
   "execution_count": 27,
   "metadata": {
    "pycharm": {
     "name": "#%%\n"
    }
   },
   "outputs": [
    {
     "data": {
      "text/plain": "count    98177.000000\nmean       601.961534\nstd        596.877838\nmin          0.000000\n25%        186.380313\n50%        433.698770\n75%        798.435455\nmax       8736.947618\nName: distance_seller_customer, dtype: float64"
     },
     "execution_count": 27,
     "metadata": {},
     "output_type": "execute_result"
    }
   ],
   "source": [
    "distancia_a_la_orden['distance_seller_customer'].describe()"
   ]
  },
  {
   "cell_type": "markdown",
   "source": [
    "# Merger todos los datasets excepto el de distancia"
   ],
   "metadata": {
    "collapsed": false,
    "pycharm": {
     "name": "#%% md\n"
    }
   },
   "execution_count": 27
  },
  {
   "cell_type": "code",
   "execution_count": 28,
   "outputs": [
    {
     "data": {
      "text/plain": "                               order_id                       customer_id  \\\n0      e481f51cbdc54678b7cc49136f2d6af7  9ef432eb6251297304e76186b10a928d   \n1      53cdb2fc8bc7dce0b6741e2150273451  b0830fb4747a6c6d20dea0b8c802d7ef   \n2      47770eb9100c2d0c44946d9cf07ec65d  41ce2a54c0b03bf3443c3d931a367089   \n3      949d5b44dbf5de918fe9c16f97b45f8a  f88197465ea7920adcdbec7375364d82   \n4      ad21c59c0840e6cb83a9ceb5573f8159  8ab97904e6daea8866dbdbc4fb7aad2c   \n...                                 ...                               ...   \n96356  9c5dedf39a927c1b2549525ed64a053c  39bd1228ee8140590ac3aca26f2dfe00   \n96357  63943bddc261676b46f01ca7ac2f7bd8  1fca14ff2861355f6e5f14306ff977a7   \n96358  83c1379a015df1e13d02aae0204711ab  1aa71eb042121263aafbe80c1b562c9c   \n96359  11c177c8e97725db2631073c19f07b62  b331b74b18dc79bcdf6532d51e1637c1   \n96360  66dea50a8b16d9b4dee7af250b4be1a5  edb027a75a1449115f6b43211ae02a24   \n\n      order_status order_purchase_timestamp    order_approved_at  \\\n0        delivered      2017-10-02 10:56:33  2017-10-02 11:07:15   \n1        delivered      2018-07-24 20:41:37  2018-07-26 03:24:27   \n2        delivered      2018-08-08 08:38:49  2018-08-08 08:55:23   \n3        delivered      2017-11-18 19:28:06  2017-11-18 19:45:59   \n4        delivered      2018-02-13 21:18:39  2018-02-13 22:20:29   \n...            ...                      ...                  ...   \n96356    delivered      2017-03-09 09:54:05  2017-03-09 09:54:05   \n96357    delivered      2018-02-06 12:58:58  2018-02-06 13:10:37   \n96358    delivered      2017-08-27 14:46:43  2017-08-27 15:04:16   \n96359    delivered      2018-01-08 21:28:27  2018-01-08 21:36:21   \n96360    delivered      2018-03-08 20:57:30  2018-03-09 11:20:28   \n\n      order_delivered_carrier_date order_delivered_customer_date  \\\n0              2017-10-04 19:55:00           2017-10-10 21:25:13   \n1              2018-07-26 14:31:00           2018-08-07 15:27:45   \n2              2018-08-08 13:50:00           2018-08-17 18:06:29   \n3              2017-11-22 13:39:59           2017-12-02 00:28:42   \n4              2018-02-14 19:46:34           2018-02-16 18:17:02   \n...                            ...                           ...   \n96356          2017-03-10 11:18:03           2017-03-17 15:08:01   \n96357          2018-02-07 23:22:42           2018-02-28 17:37:56   \n96358          2017-08-28 20:52:26           2017-09-21 11:24:17   \n96359          2018-01-12 15:35:03           2018-01-25 23:32:54   \n96360          2018-03-09 22:11:59           2018-03-16 13:08:30   \n\n      order_estimated_delivery_date  tiempo_de_espera  wait_time  \\\n0                        2017-10-18          8.436574   8.436574   \n1                        2018-08-13         13.782037  13.782037   \n2                        2018-09-04          9.394213   9.394213   \n3                        2017-12-15         13.208750  13.208750   \n4                        2018-02-26          2.873877   2.873877   \n...                             ...               ...        ...   \n96356                    2017-03-28          8.218009   8.218009   \n96357                    2018-03-02         22.193727  22.193727   \n96358                    2017-09-27         24.859421  24.859421   \n96359                    2018-02-15         17.086424  17.086424   \n96360                    2018-04-03          7.674306   7.674306   \n\n       real_vs_esperado  es_cinco_estrellas  es_una_estrella  review_score  \\\n0                   0.0                   0                0             4   \n1                   0.0                   0                0             4   \n2                   0.0                   1                0             5   \n3                   0.0                   1                0             5   \n4                   0.0                   1                0             5   \n...                 ...                 ...              ...           ...   \n96356               0.0                   1                0             5   \n96357               0.0                   0                0             4   \n96358               0.0                   1                0             5   \n96359               0.0                   0                0             2   \n96360               0.0                   1                0             5   \n\n       number_of_products  vendedores_unicos  precio  transporte  \n0                       1                  1   29.99        8.72  \n1                       1                  1  118.70       22.76  \n2                       1                  1  159.90       19.22  \n3                       1                  1   45.00       27.20  \n4                       1                  1   19.90        8.72  \n...                   ...                ...     ...         ...  \n96356                   1                  1   72.00       13.08  \n96357                   1                  1  174.90       20.10  \n96358                   1                  1  205.99       65.02  \n96359                   2                  1  359.98       81.18  \n96360                   1                  1   68.50       18.36  \n\n[96361 rows x 18 columns]",
      "text/html": "<div>\n<style scoped>\n    .dataframe tbody tr th:only-of-type {\n        vertical-align: middle;\n    }\n\n    .dataframe tbody tr th {\n        vertical-align: top;\n    }\n\n    .dataframe thead th {\n        text-align: right;\n    }\n</style>\n<table border=\"1\" class=\"dataframe\">\n  <thead>\n    <tr style=\"text-align: right;\">\n      <th></th>\n      <th>order_id</th>\n      <th>customer_id</th>\n      <th>order_status</th>\n      <th>order_purchase_timestamp</th>\n      <th>order_approved_at</th>\n      <th>order_delivered_carrier_date</th>\n      <th>order_delivered_customer_date</th>\n      <th>order_estimated_delivery_date</th>\n      <th>tiempo_de_espera</th>\n      <th>wait_time</th>\n      <th>real_vs_esperado</th>\n      <th>es_cinco_estrellas</th>\n      <th>es_una_estrella</th>\n      <th>review_score</th>\n      <th>number_of_products</th>\n      <th>vendedores_unicos</th>\n      <th>precio</th>\n      <th>transporte</th>\n    </tr>\n  </thead>\n  <tbody>\n    <tr>\n      <th>0</th>\n      <td>e481f51cbdc54678b7cc49136f2d6af7</td>\n      <td>9ef432eb6251297304e76186b10a928d</td>\n      <td>delivered</td>\n      <td>2017-10-02 10:56:33</td>\n      <td>2017-10-02 11:07:15</td>\n      <td>2017-10-04 19:55:00</td>\n      <td>2017-10-10 21:25:13</td>\n      <td>2017-10-18</td>\n      <td>8.436574</td>\n      <td>8.436574</td>\n      <td>0.0</td>\n      <td>0</td>\n      <td>0</td>\n      <td>4</td>\n      <td>1</td>\n      <td>1</td>\n      <td>29.99</td>\n      <td>8.72</td>\n    </tr>\n    <tr>\n      <th>1</th>\n      <td>53cdb2fc8bc7dce0b6741e2150273451</td>\n      <td>b0830fb4747a6c6d20dea0b8c802d7ef</td>\n      <td>delivered</td>\n      <td>2018-07-24 20:41:37</td>\n      <td>2018-07-26 03:24:27</td>\n      <td>2018-07-26 14:31:00</td>\n      <td>2018-08-07 15:27:45</td>\n      <td>2018-08-13</td>\n      <td>13.782037</td>\n      <td>13.782037</td>\n      <td>0.0</td>\n      <td>0</td>\n      <td>0</td>\n      <td>4</td>\n      <td>1</td>\n      <td>1</td>\n      <td>118.70</td>\n      <td>22.76</td>\n    </tr>\n    <tr>\n      <th>2</th>\n      <td>47770eb9100c2d0c44946d9cf07ec65d</td>\n      <td>41ce2a54c0b03bf3443c3d931a367089</td>\n      <td>delivered</td>\n      <td>2018-08-08 08:38:49</td>\n      <td>2018-08-08 08:55:23</td>\n      <td>2018-08-08 13:50:00</td>\n      <td>2018-08-17 18:06:29</td>\n      <td>2018-09-04</td>\n      <td>9.394213</td>\n      <td>9.394213</td>\n      <td>0.0</td>\n      <td>1</td>\n      <td>0</td>\n      <td>5</td>\n      <td>1</td>\n      <td>1</td>\n      <td>159.90</td>\n      <td>19.22</td>\n    </tr>\n    <tr>\n      <th>3</th>\n      <td>949d5b44dbf5de918fe9c16f97b45f8a</td>\n      <td>f88197465ea7920adcdbec7375364d82</td>\n      <td>delivered</td>\n      <td>2017-11-18 19:28:06</td>\n      <td>2017-11-18 19:45:59</td>\n      <td>2017-11-22 13:39:59</td>\n      <td>2017-12-02 00:28:42</td>\n      <td>2017-12-15</td>\n      <td>13.208750</td>\n      <td>13.208750</td>\n      <td>0.0</td>\n      <td>1</td>\n      <td>0</td>\n      <td>5</td>\n      <td>1</td>\n      <td>1</td>\n      <td>45.00</td>\n      <td>27.20</td>\n    </tr>\n    <tr>\n      <th>4</th>\n      <td>ad21c59c0840e6cb83a9ceb5573f8159</td>\n      <td>8ab97904e6daea8866dbdbc4fb7aad2c</td>\n      <td>delivered</td>\n      <td>2018-02-13 21:18:39</td>\n      <td>2018-02-13 22:20:29</td>\n      <td>2018-02-14 19:46:34</td>\n      <td>2018-02-16 18:17:02</td>\n      <td>2018-02-26</td>\n      <td>2.873877</td>\n      <td>2.873877</td>\n      <td>0.0</td>\n      <td>1</td>\n      <td>0</td>\n      <td>5</td>\n      <td>1</td>\n      <td>1</td>\n      <td>19.90</td>\n      <td>8.72</td>\n    </tr>\n    <tr>\n      <th>...</th>\n      <td>...</td>\n      <td>...</td>\n      <td>...</td>\n      <td>...</td>\n      <td>...</td>\n      <td>...</td>\n      <td>...</td>\n      <td>...</td>\n      <td>...</td>\n      <td>...</td>\n      <td>...</td>\n      <td>...</td>\n      <td>...</td>\n      <td>...</td>\n      <td>...</td>\n      <td>...</td>\n      <td>...</td>\n      <td>...</td>\n    </tr>\n    <tr>\n      <th>96356</th>\n      <td>9c5dedf39a927c1b2549525ed64a053c</td>\n      <td>39bd1228ee8140590ac3aca26f2dfe00</td>\n      <td>delivered</td>\n      <td>2017-03-09 09:54:05</td>\n      <td>2017-03-09 09:54:05</td>\n      <td>2017-03-10 11:18:03</td>\n      <td>2017-03-17 15:08:01</td>\n      <td>2017-03-28</td>\n      <td>8.218009</td>\n      <td>8.218009</td>\n      <td>0.0</td>\n      <td>1</td>\n      <td>0</td>\n      <td>5</td>\n      <td>1</td>\n      <td>1</td>\n      <td>72.00</td>\n      <td>13.08</td>\n    </tr>\n    <tr>\n      <th>96357</th>\n      <td>63943bddc261676b46f01ca7ac2f7bd8</td>\n      <td>1fca14ff2861355f6e5f14306ff977a7</td>\n      <td>delivered</td>\n      <td>2018-02-06 12:58:58</td>\n      <td>2018-02-06 13:10:37</td>\n      <td>2018-02-07 23:22:42</td>\n      <td>2018-02-28 17:37:56</td>\n      <td>2018-03-02</td>\n      <td>22.193727</td>\n      <td>22.193727</td>\n      <td>0.0</td>\n      <td>0</td>\n      <td>0</td>\n      <td>4</td>\n      <td>1</td>\n      <td>1</td>\n      <td>174.90</td>\n      <td>20.10</td>\n    </tr>\n    <tr>\n      <th>96358</th>\n      <td>83c1379a015df1e13d02aae0204711ab</td>\n      <td>1aa71eb042121263aafbe80c1b562c9c</td>\n      <td>delivered</td>\n      <td>2017-08-27 14:46:43</td>\n      <td>2017-08-27 15:04:16</td>\n      <td>2017-08-28 20:52:26</td>\n      <td>2017-09-21 11:24:17</td>\n      <td>2017-09-27</td>\n      <td>24.859421</td>\n      <td>24.859421</td>\n      <td>0.0</td>\n      <td>1</td>\n      <td>0</td>\n      <td>5</td>\n      <td>1</td>\n      <td>1</td>\n      <td>205.99</td>\n      <td>65.02</td>\n    </tr>\n    <tr>\n      <th>96359</th>\n      <td>11c177c8e97725db2631073c19f07b62</td>\n      <td>b331b74b18dc79bcdf6532d51e1637c1</td>\n      <td>delivered</td>\n      <td>2018-01-08 21:28:27</td>\n      <td>2018-01-08 21:36:21</td>\n      <td>2018-01-12 15:35:03</td>\n      <td>2018-01-25 23:32:54</td>\n      <td>2018-02-15</td>\n      <td>17.086424</td>\n      <td>17.086424</td>\n      <td>0.0</td>\n      <td>0</td>\n      <td>0</td>\n      <td>2</td>\n      <td>2</td>\n      <td>1</td>\n      <td>359.98</td>\n      <td>81.18</td>\n    </tr>\n    <tr>\n      <th>96360</th>\n      <td>66dea50a8b16d9b4dee7af250b4be1a5</td>\n      <td>edb027a75a1449115f6b43211ae02a24</td>\n      <td>delivered</td>\n      <td>2018-03-08 20:57:30</td>\n      <td>2018-03-09 11:20:28</td>\n      <td>2018-03-09 22:11:59</td>\n      <td>2018-03-16 13:08:30</td>\n      <td>2018-04-03</td>\n      <td>7.674306</td>\n      <td>7.674306</td>\n      <td>0.0</td>\n      <td>1</td>\n      <td>0</td>\n      <td>5</td>\n      <td>1</td>\n      <td>1</td>\n      <td>68.50</td>\n      <td>18.36</td>\n    </tr>\n  </tbody>\n</table>\n<p>96361 rows × 18 columns</p>\n</div>"
     },
     "execution_count": 28,
     "metadata": {},
     "output_type": "execute_result"
    }
   ],
   "source": [
    "tablon_primario = orders.merge(reviews, on='order_id') \\\n",
    "    .merge(productos, on='order_id') \\\n",
    "    .merge(vendedores, on='order_id') \\\n",
    "    .merge(precio_y_transporte, on='order_id')\n",
    "tablon_primario"
   ],
   "metadata": {
    "collapsed": false,
    "pycharm": {
     "name": "#%%\n"
    }
   }
  },
  {
   "cell_type": "code",
   "execution_count": 28,
   "outputs": [],
   "source": [],
   "metadata": {
    "collapsed": false,
    "pycharm": {
     "name": "#%%\n"
    }
   }
  }
 ],
 "metadata": {
  "kernelspec": {
   "display_name": "Python 3",
   "language": "python",
   "name": "python3"
  }
 },
 "nbformat": 4,
 "nbformat_minor": 4
}