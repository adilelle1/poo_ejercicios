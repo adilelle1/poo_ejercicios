{
 "cells": [
  {
   "cell_type": "code",
   "execution_count": 3,
   "metadata": {
    "collapsed": true,
    "pycharm": {
     "name": "#%%\n"
    }
   },
   "outputs": [
    {
     "name": "stdout",
     "output_type": "stream",
     "text": [
      " Volume in drive C has no label.\n",
      " Volume Serial Number is 1C32-C6DB\n",
      "\n",
      " Directory of C:\\Users\\alejo\\UCEMA\\poo_teorica\\poo_ejercicios\\03-pandas\n",
      "\n",
      "25/08/2022  09:41    <DIR>          .\n",
      "25/08/2022  08:57    <DIR>          ..\n",
      "25/08/2022  09:40           146.194 03_00_0_teoria.ipynb\n",
      "25/08/2022  08:36           111.977 03_00_API.ipynb\n",
      "25/08/2022  08:36         5.074.180 03_00_csv.ipynb\n",
      "25/08/2022  08:36            48.035 03_01_Introducing_Pandas_Objects.ipynb\n",
      "25/08/2022  08:36            54.446 03_02_Data_Indexing_and_Selection.ipynb\n",
      "25/08/2022  08:36            35.899 03_03_Operations_in_Pandas.ipynb\n",
      "25/08/2022  09:40    <DIR>          data\n",
      "25/08/2022  09:41             1.996 prueba.ipynb\n",
      "               7 File(s)      5.472.727 bytes\n",
      "               3 Dir(s)  879.839.059.968 bytes free\n"
     ]
    }
   ],
   "source": [
    "%ls"
   ]
  },
  {
   "cell_type": "code",
   "execution_count": 4,
   "outputs": [],
   "source": [
    "import pandas as pd"
   ],
   "metadata": {
    "collapsed": false,
    "pycharm": {
     "name": "#%%\n"
    }
   }
  },
  {
   "cell_type": "code",
   "execution_count": 11,
   "outputs": [
    {
     "data": {
      "text/plain": "        pais   region  dolar\n0  argentina  america    300\n1     brasil  america      4",
      "text/html": "<div>\n<style scoped>\n    .dataframe tbody tr th:only-of-type {\n        vertical-align: middle;\n    }\n\n    .dataframe tbody tr th {\n        vertical-align: top;\n    }\n\n    .dataframe thead th {\n        text-align: right;\n    }\n</style>\n<table border=\"1\" class=\"dataframe\">\n  <thead>\n    <tr style=\"text-align: right;\">\n      <th></th>\n      <th>pais</th>\n      <th>region</th>\n      <th>dolar</th>\n    </tr>\n  </thead>\n  <tbody>\n    <tr>\n      <th>0</th>\n      <td>argentina</td>\n      <td>america</td>\n      <td>300</td>\n    </tr>\n    <tr>\n      <th>1</th>\n      <td>brasil</td>\n      <td>america</td>\n      <td>4</td>\n    </tr>\n  </tbody>\n</table>\n</div>"
     },
     "execution_count": 11,
     "metadata": {},
     "output_type": "execute_result"
    }
   ],
   "source": [
    "file = pd.read_csv('data/data1.csv')\n",
    "file"
   ],
   "metadata": {
    "collapsed": false,
    "pycharm": {
     "name": "#%%\n"
    }
   }
  },
  {
   "cell_type": "code",
   "execution_count": 12,
   "outputs": [
    {
     "data": {
      "text/plain": "             Country                               Region  Population  \\\n0       Afghanistan         ASIA (EX. NEAR EAST)             31056997   \n1           Albania   EASTERN EUROPE                          3581655   \n2           Algeria   NORTHERN AFRICA                        32930091   \n3    American Samoa   OCEANIA                                   57794   \n4           Andorra   WESTERN EUROPE                            71201   \n..               ...                                  ...         ...   \n222       West Bank   NEAR EAST                               2460492   \n223  Western Sahara   NORTHERN AFRICA                          273008   \n224           Yemen   NEAR EAST                              21456188   \n225          Zambia   SUB-SAHARAN AFRICA                     11502010   \n226        Zimbabwe   SUB-SAHARAN AFRICA                     12236805   \n\n     Area (sq. mi.) Pop. Density (per sq. mi.) Coastline (coast/area ratio)  \\\n0            647500                       48,0                         0,00   \n1             28748                      124,6                         1,26   \n2           2381740                       13,8                         0,04   \n3               199                      290,4                        58,29   \n4               468                      152,1                         0,00   \n..              ...                        ...                          ...   \n222            5860                      419,9                         0,00   \n223          266000                        1,0                         0,42   \n224          527970                       40,6                         0,36   \n225          752614                       15,3                         0,00   \n226          390580                       31,3                         0,00   \n\n    Net migration Infant mortality (per 1000 births)  GDP ($ per capita)  \\\n0           23,06                             163,07               700.0   \n1           -4,93                              21,52              4500.0   \n2           -0,39                                 31              6000.0   \n3          -20,71                               9,27              8000.0   \n4             6,6                               4,05             19000.0   \n..            ...                                ...                 ...   \n222          2,98                              19,62               800.0   \n223           NaN                                NaN                 NaN   \n224             0                               61,5               800.0   \n225             0                              88,29               800.0   \n226             0                              67,69              1900.0   \n\n    Literacy (%) Phones (per 1000) Arable (%) Crops (%) Other (%) Climate  \\\n0           36,0               3,2      12,13      0,22     87,65       1   \n1           86,5              71,2      21,09      4,42     74,49       3   \n2           70,0              78,1       3,22      0,25     96,53       1   \n3           97,0             259,5         10        15        75       2   \n4          100,0             497,2       2,22         0     97,78       3   \n..           ...               ...        ...       ...       ...     ...   \n222          NaN             145,2       16,9     18,97     64,13       3   \n223          NaN               NaN       0,02         0     99,98       1   \n224         50,2              37,2       2,78      0,24     96,98       1   \n225         80,6               8,2       7,08      0,03      92,9       2   \n226         90,7              26,8       8,32      0,34     91,34       2   \n\n    Birthrate Deathrate Agriculture Industry Service  \n0        46,6     20,34        0,38     0,24    0,38  \n1       15,11      5,22       0,232    0,188   0,579  \n2       17,14      4,61       0,101      0,6   0,298  \n3       22,46      3,27         NaN      NaN     NaN  \n4        8,71      6,25         NaN      NaN     NaN  \n..        ...       ...         ...      ...     ...  \n222     31,67      3,92        0,09     0,28    0,63  \n223       NaN       NaN         NaN      NaN     0,4  \n224     42,89       8,3       0,135    0,472   0,393  \n225        41     19,93        0,22     0,29   0,489  \n226     28,01     21,84       0,179    0,243   0,579  \n\n[227 rows x 20 columns]",
      "text/html": "<div>\n<style scoped>\n    .dataframe tbody tr th:only-of-type {\n        vertical-align: middle;\n    }\n\n    .dataframe tbody tr th {\n        vertical-align: top;\n    }\n\n    .dataframe thead th {\n        text-align: right;\n    }\n</style>\n<table border=\"1\" class=\"dataframe\">\n  <thead>\n    <tr style=\"text-align: right;\">\n      <th></th>\n      <th>Country</th>\n      <th>Region</th>\n      <th>Population</th>\n      <th>Area (sq. mi.)</th>\n      <th>Pop. Density (per sq. mi.)</th>\n      <th>Coastline (coast/area ratio)</th>\n      <th>Net migration</th>\n      <th>Infant mortality (per 1000 births)</th>\n      <th>GDP ($ per capita)</th>\n      <th>Literacy (%)</th>\n      <th>Phones (per 1000)</th>\n      <th>Arable (%)</th>\n      <th>Crops (%)</th>\n      <th>Other (%)</th>\n      <th>Climate</th>\n      <th>Birthrate</th>\n      <th>Deathrate</th>\n      <th>Agriculture</th>\n      <th>Industry</th>\n      <th>Service</th>\n    </tr>\n  </thead>\n  <tbody>\n    <tr>\n      <th>0</th>\n      <td>Afghanistan</td>\n      <td>ASIA (EX. NEAR EAST)</td>\n      <td>31056997</td>\n      <td>647500</td>\n      <td>48,0</td>\n      <td>0,00</td>\n      <td>23,06</td>\n      <td>163,07</td>\n      <td>700.0</td>\n      <td>36,0</td>\n      <td>3,2</td>\n      <td>12,13</td>\n      <td>0,22</td>\n      <td>87,65</td>\n      <td>1</td>\n      <td>46,6</td>\n      <td>20,34</td>\n      <td>0,38</td>\n      <td>0,24</td>\n      <td>0,38</td>\n    </tr>\n    <tr>\n      <th>1</th>\n      <td>Albania</td>\n      <td>EASTERN EUROPE</td>\n      <td>3581655</td>\n      <td>28748</td>\n      <td>124,6</td>\n      <td>1,26</td>\n      <td>-4,93</td>\n      <td>21,52</td>\n      <td>4500.0</td>\n      <td>86,5</td>\n      <td>71,2</td>\n      <td>21,09</td>\n      <td>4,42</td>\n      <td>74,49</td>\n      <td>3</td>\n      <td>15,11</td>\n      <td>5,22</td>\n      <td>0,232</td>\n      <td>0,188</td>\n      <td>0,579</td>\n    </tr>\n    <tr>\n      <th>2</th>\n      <td>Algeria</td>\n      <td>NORTHERN AFRICA</td>\n      <td>32930091</td>\n      <td>2381740</td>\n      <td>13,8</td>\n      <td>0,04</td>\n      <td>-0,39</td>\n      <td>31</td>\n      <td>6000.0</td>\n      <td>70,0</td>\n      <td>78,1</td>\n      <td>3,22</td>\n      <td>0,25</td>\n      <td>96,53</td>\n      <td>1</td>\n      <td>17,14</td>\n      <td>4,61</td>\n      <td>0,101</td>\n      <td>0,6</td>\n      <td>0,298</td>\n    </tr>\n    <tr>\n      <th>3</th>\n      <td>American Samoa</td>\n      <td>OCEANIA</td>\n      <td>57794</td>\n      <td>199</td>\n      <td>290,4</td>\n      <td>58,29</td>\n      <td>-20,71</td>\n      <td>9,27</td>\n      <td>8000.0</td>\n      <td>97,0</td>\n      <td>259,5</td>\n      <td>10</td>\n      <td>15</td>\n      <td>75</td>\n      <td>2</td>\n      <td>22,46</td>\n      <td>3,27</td>\n      <td>NaN</td>\n      <td>NaN</td>\n      <td>NaN</td>\n    </tr>\n    <tr>\n      <th>4</th>\n      <td>Andorra</td>\n      <td>WESTERN EUROPE</td>\n      <td>71201</td>\n      <td>468</td>\n      <td>152,1</td>\n      <td>0,00</td>\n      <td>6,6</td>\n      <td>4,05</td>\n      <td>19000.0</td>\n      <td>100,0</td>\n      <td>497,2</td>\n      <td>2,22</td>\n      <td>0</td>\n      <td>97,78</td>\n      <td>3</td>\n      <td>8,71</td>\n      <td>6,25</td>\n      <td>NaN</td>\n      <td>NaN</td>\n      <td>NaN</td>\n    </tr>\n    <tr>\n      <th>...</th>\n      <td>...</td>\n      <td>...</td>\n      <td>...</td>\n      <td>...</td>\n      <td>...</td>\n      <td>...</td>\n      <td>...</td>\n      <td>...</td>\n      <td>...</td>\n      <td>...</td>\n      <td>...</td>\n      <td>...</td>\n      <td>...</td>\n      <td>...</td>\n      <td>...</td>\n      <td>...</td>\n      <td>...</td>\n      <td>...</td>\n      <td>...</td>\n      <td>...</td>\n    </tr>\n    <tr>\n      <th>222</th>\n      <td>West Bank</td>\n      <td>NEAR EAST</td>\n      <td>2460492</td>\n      <td>5860</td>\n      <td>419,9</td>\n      <td>0,00</td>\n      <td>2,98</td>\n      <td>19,62</td>\n      <td>800.0</td>\n      <td>NaN</td>\n      <td>145,2</td>\n      <td>16,9</td>\n      <td>18,97</td>\n      <td>64,13</td>\n      <td>3</td>\n      <td>31,67</td>\n      <td>3,92</td>\n      <td>0,09</td>\n      <td>0,28</td>\n      <td>0,63</td>\n    </tr>\n    <tr>\n      <th>223</th>\n      <td>Western Sahara</td>\n      <td>NORTHERN AFRICA</td>\n      <td>273008</td>\n      <td>266000</td>\n      <td>1,0</td>\n      <td>0,42</td>\n      <td>NaN</td>\n      <td>NaN</td>\n      <td>NaN</td>\n      <td>NaN</td>\n      <td>NaN</td>\n      <td>0,02</td>\n      <td>0</td>\n      <td>99,98</td>\n      <td>1</td>\n      <td>NaN</td>\n      <td>NaN</td>\n      <td>NaN</td>\n      <td>NaN</td>\n      <td>0,4</td>\n    </tr>\n    <tr>\n      <th>224</th>\n      <td>Yemen</td>\n      <td>NEAR EAST</td>\n      <td>21456188</td>\n      <td>527970</td>\n      <td>40,6</td>\n      <td>0,36</td>\n      <td>0</td>\n      <td>61,5</td>\n      <td>800.0</td>\n      <td>50,2</td>\n      <td>37,2</td>\n      <td>2,78</td>\n      <td>0,24</td>\n      <td>96,98</td>\n      <td>1</td>\n      <td>42,89</td>\n      <td>8,3</td>\n      <td>0,135</td>\n      <td>0,472</td>\n      <td>0,393</td>\n    </tr>\n    <tr>\n      <th>225</th>\n      <td>Zambia</td>\n      <td>SUB-SAHARAN AFRICA</td>\n      <td>11502010</td>\n      <td>752614</td>\n      <td>15,3</td>\n      <td>0,00</td>\n      <td>0</td>\n      <td>88,29</td>\n      <td>800.0</td>\n      <td>80,6</td>\n      <td>8,2</td>\n      <td>7,08</td>\n      <td>0,03</td>\n      <td>92,9</td>\n      <td>2</td>\n      <td>41</td>\n      <td>19,93</td>\n      <td>0,22</td>\n      <td>0,29</td>\n      <td>0,489</td>\n    </tr>\n    <tr>\n      <th>226</th>\n      <td>Zimbabwe</td>\n      <td>SUB-SAHARAN AFRICA</td>\n      <td>12236805</td>\n      <td>390580</td>\n      <td>31,3</td>\n      <td>0,00</td>\n      <td>0</td>\n      <td>67,69</td>\n      <td>1900.0</td>\n      <td>90,7</td>\n      <td>26,8</td>\n      <td>8,32</td>\n      <td>0,34</td>\n      <td>91,34</td>\n      <td>2</td>\n      <td>28,01</td>\n      <td>21,84</td>\n      <td>0,179</td>\n      <td>0,243</td>\n      <td>0,579</td>\n    </tr>\n  </tbody>\n</table>\n<p>227 rows × 20 columns</p>\n</div>"
     },
     "execution_count": 12,
     "metadata": {},
     "output_type": "execute_result"
    }
   ],
   "source": [
    "data = pd.read_csv('data/countries.csv')\n",
    "data"
   ],
   "metadata": {
    "collapsed": false,
    "pycharm": {
     "name": "#%%\n"
    }
   }
  },
  {
   "cell_type": "code",
   "execution_count": 13,
   "outputs": [
    {
     "data": {
      "text/plain": "             Country                               Region  Population  \\\n222       West Bank   NEAR EAST                               2460492   \n223  Western Sahara   NORTHERN AFRICA                          273008   \n224           Yemen   NEAR EAST                              21456188   \n225          Zambia   SUB-SAHARAN AFRICA                     11502010   \n226        Zimbabwe   SUB-SAHARAN AFRICA                     12236805   \n\n     Area (sq. mi.) Pop. Density (per sq. mi.) Coastline (coast/area ratio)  \\\n222            5860                      419,9                         0,00   \n223          266000                        1,0                         0,42   \n224          527970                       40,6                         0,36   \n225          752614                       15,3                         0,00   \n226          390580                       31,3                         0,00   \n\n    Net migration Infant mortality (per 1000 births)  GDP ($ per capita)  \\\n222          2,98                              19,62               800.0   \n223           NaN                                NaN                 NaN   \n224             0                               61,5               800.0   \n225             0                              88,29               800.0   \n226             0                              67,69              1900.0   \n\n    Literacy (%) Phones (per 1000) Arable (%) Crops (%) Other (%) Climate  \\\n222          NaN             145,2       16,9     18,97     64,13       3   \n223          NaN               NaN       0,02         0     99,98       1   \n224         50,2              37,2       2,78      0,24     96,98       1   \n225         80,6               8,2       7,08      0,03      92,9       2   \n226         90,7              26,8       8,32      0,34     91,34       2   \n\n    Birthrate Deathrate Agriculture Industry Service  \n222     31,67      3,92        0,09     0,28    0,63  \n223       NaN       NaN         NaN      NaN     0,4  \n224     42,89       8,3       0,135    0,472   0,393  \n225        41     19,93        0,22     0,29   0,489  \n226     28,01     21,84       0,179    0,243   0,579  ",
      "text/html": "<div>\n<style scoped>\n    .dataframe tbody tr th:only-of-type {\n        vertical-align: middle;\n    }\n\n    .dataframe tbody tr th {\n        vertical-align: top;\n    }\n\n    .dataframe thead th {\n        text-align: right;\n    }\n</style>\n<table border=\"1\" class=\"dataframe\">\n  <thead>\n    <tr style=\"text-align: right;\">\n      <th></th>\n      <th>Country</th>\n      <th>Region</th>\n      <th>Population</th>\n      <th>Area (sq. mi.)</th>\n      <th>Pop. Density (per sq. mi.)</th>\n      <th>Coastline (coast/area ratio)</th>\n      <th>Net migration</th>\n      <th>Infant mortality (per 1000 births)</th>\n      <th>GDP ($ per capita)</th>\n      <th>Literacy (%)</th>\n      <th>Phones (per 1000)</th>\n      <th>Arable (%)</th>\n      <th>Crops (%)</th>\n      <th>Other (%)</th>\n      <th>Climate</th>\n      <th>Birthrate</th>\n      <th>Deathrate</th>\n      <th>Agriculture</th>\n      <th>Industry</th>\n      <th>Service</th>\n    </tr>\n  </thead>\n  <tbody>\n    <tr>\n      <th>222</th>\n      <td>West Bank</td>\n      <td>NEAR EAST</td>\n      <td>2460492</td>\n      <td>5860</td>\n      <td>419,9</td>\n      <td>0,00</td>\n      <td>2,98</td>\n      <td>19,62</td>\n      <td>800.0</td>\n      <td>NaN</td>\n      <td>145,2</td>\n      <td>16,9</td>\n      <td>18,97</td>\n      <td>64,13</td>\n      <td>3</td>\n      <td>31,67</td>\n      <td>3,92</td>\n      <td>0,09</td>\n      <td>0,28</td>\n      <td>0,63</td>\n    </tr>\n    <tr>\n      <th>223</th>\n      <td>Western Sahara</td>\n      <td>NORTHERN AFRICA</td>\n      <td>273008</td>\n      <td>266000</td>\n      <td>1,0</td>\n      <td>0,42</td>\n      <td>NaN</td>\n      <td>NaN</td>\n      <td>NaN</td>\n      <td>NaN</td>\n      <td>NaN</td>\n      <td>0,02</td>\n      <td>0</td>\n      <td>99,98</td>\n      <td>1</td>\n      <td>NaN</td>\n      <td>NaN</td>\n      <td>NaN</td>\n      <td>NaN</td>\n      <td>0,4</td>\n    </tr>\n    <tr>\n      <th>224</th>\n      <td>Yemen</td>\n      <td>NEAR EAST</td>\n      <td>21456188</td>\n      <td>527970</td>\n      <td>40,6</td>\n      <td>0,36</td>\n      <td>0</td>\n      <td>61,5</td>\n      <td>800.0</td>\n      <td>50,2</td>\n      <td>37,2</td>\n      <td>2,78</td>\n      <td>0,24</td>\n      <td>96,98</td>\n      <td>1</td>\n      <td>42,89</td>\n      <td>8,3</td>\n      <td>0,135</td>\n      <td>0,472</td>\n      <td>0,393</td>\n    </tr>\n    <tr>\n      <th>225</th>\n      <td>Zambia</td>\n      <td>SUB-SAHARAN AFRICA</td>\n      <td>11502010</td>\n      <td>752614</td>\n      <td>15,3</td>\n      <td>0,00</td>\n      <td>0</td>\n      <td>88,29</td>\n      <td>800.0</td>\n      <td>80,6</td>\n      <td>8,2</td>\n      <td>7,08</td>\n      <td>0,03</td>\n      <td>92,9</td>\n      <td>2</td>\n      <td>41</td>\n      <td>19,93</td>\n      <td>0,22</td>\n      <td>0,29</td>\n      <td>0,489</td>\n    </tr>\n    <tr>\n      <th>226</th>\n      <td>Zimbabwe</td>\n      <td>SUB-SAHARAN AFRICA</td>\n      <td>12236805</td>\n      <td>390580</td>\n      <td>31,3</td>\n      <td>0,00</td>\n      <td>0</td>\n      <td>67,69</td>\n      <td>1900.0</td>\n      <td>90,7</td>\n      <td>26,8</td>\n      <td>8,32</td>\n      <td>0,34</td>\n      <td>91,34</td>\n      <td>2</td>\n      <td>28,01</td>\n      <td>21,84</td>\n      <td>0,179</td>\n      <td>0,243</td>\n      <td>0,579</td>\n    </tr>\n  </tbody>\n</table>\n</div>"
     },
     "execution_count": 13,
     "metadata": {},
     "output_type": "execute_result"
    }
   ],
   "source": [
    "data.tail()"
   ],
   "metadata": {
    "collapsed": false,
    "pycharm": {
     "name": "#%%\n"
    }
   }
  },
  {
   "cell_type": "code",
   "execution_count": 14,
   "outputs": [
    {
     "data": {
      "text/plain": "           Country                               Region  Population  \\\n0     Afghanistan         ASIA (EX. NEAR EAST)             31056997   \n1         Albania   EASTERN EUROPE                          3581655   \n2         Algeria   NORTHERN AFRICA                        32930091   \n3  American Samoa   OCEANIA                                   57794   \n4         Andorra   WESTERN EUROPE                            71201   \n\n   Area (sq. mi.) Pop. Density (per sq. mi.) Coastline (coast/area ratio)  \\\n0          647500                       48,0                         0,00   \n1           28748                      124,6                         1,26   \n2         2381740                       13,8                         0,04   \n3             199                      290,4                        58,29   \n4             468                      152,1                         0,00   \n\n  Net migration Infant mortality (per 1000 births)  GDP ($ per capita)  \\\n0         23,06                             163,07               700.0   \n1         -4,93                              21,52              4500.0   \n2         -0,39                                 31              6000.0   \n3        -20,71                               9,27              8000.0   \n4           6,6                               4,05             19000.0   \n\n  Literacy (%) Phones (per 1000) Arable (%) Crops (%) Other (%) Climate  \\\n0         36,0               3,2      12,13      0,22     87,65       1   \n1         86,5              71,2      21,09      4,42     74,49       3   \n2         70,0              78,1       3,22      0,25     96,53       1   \n3         97,0             259,5         10        15        75       2   \n4        100,0             497,2       2,22         0     97,78       3   \n\n  Birthrate Deathrate Agriculture Industry Service  \n0      46,6     20,34        0,38     0,24    0,38  \n1     15,11      5,22       0,232    0,188   0,579  \n2     17,14      4,61       0,101      0,6   0,298  \n3     22,46      3,27         NaN      NaN     NaN  \n4      8,71      6,25         NaN      NaN     NaN  ",
      "text/html": "<div>\n<style scoped>\n    .dataframe tbody tr th:only-of-type {\n        vertical-align: middle;\n    }\n\n    .dataframe tbody tr th {\n        vertical-align: top;\n    }\n\n    .dataframe thead th {\n        text-align: right;\n    }\n</style>\n<table border=\"1\" class=\"dataframe\">\n  <thead>\n    <tr style=\"text-align: right;\">\n      <th></th>\n      <th>Country</th>\n      <th>Region</th>\n      <th>Population</th>\n      <th>Area (sq. mi.)</th>\n      <th>Pop. Density (per sq. mi.)</th>\n      <th>Coastline (coast/area ratio)</th>\n      <th>Net migration</th>\n      <th>Infant mortality (per 1000 births)</th>\n      <th>GDP ($ per capita)</th>\n      <th>Literacy (%)</th>\n      <th>Phones (per 1000)</th>\n      <th>Arable (%)</th>\n      <th>Crops (%)</th>\n      <th>Other (%)</th>\n      <th>Climate</th>\n      <th>Birthrate</th>\n      <th>Deathrate</th>\n      <th>Agriculture</th>\n      <th>Industry</th>\n      <th>Service</th>\n    </tr>\n  </thead>\n  <tbody>\n    <tr>\n      <th>0</th>\n      <td>Afghanistan</td>\n      <td>ASIA (EX. NEAR EAST)</td>\n      <td>31056997</td>\n      <td>647500</td>\n      <td>48,0</td>\n      <td>0,00</td>\n      <td>23,06</td>\n      <td>163,07</td>\n      <td>700.0</td>\n      <td>36,0</td>\n      <td>3,2</td>\n      <td>12,13</td>\n      <td>0,22</td>\n      <td>87,65</td>\n      <td>1</td>\n      <td>46,6</td>\n      <td>20,34</td>\n      <td>0,38</td>\n      <td>0,24</td>\n      <td>0,38</td>\n    </tr>\n    <tr>\n      <th>1</th>\n      <td>Albania</td>\n      <td>EASTERN EUROPE</td>\n      <td>3581655</td>\n      <td>28748</td>\n      <td>124,6</td>\n      <td>1,26</td>\n      <td>-4,93</td>\n      <td>21,52</td>\n      <td>4500.0</td>\n      <td>86,5</td>\n      <td>71,2</td>\n      <td>21,09</td>\n      <td>4,42</td>\n      <td>74,49</td>\n      <td>3</td>\n      <td>15,11</td>\n      <td>5,22</td>\n      <td>0,232</td>\n      <td>0,188</td>\n      <td>0,579</td>\n    </tr>\n    <tr>\n      <th>2</th>\n      <td>Algeria</td>\n      <td>NORTHERN AFRICA</td>\n      <td>32930091</td>\n      <td>2381740</td>\n      <td>13,8</td>\n      <td>0,04</td>\n      <td>-0,39</td>\n      <td>31</td>\n      <td>6000.0</td>\n      <td>70,0</td>\n      <td>78,1</td>\n      <td>3,22</td>\n      <td>0,25</td>\n      <td>96,53</td>\n      <td>1</td>\n      <td>17,14</td>\n      <td>4,61</td>\n      <td>0,101</td>\n      <td>0,6</td>\n      <td>0,298</td>\n    </tr>\n    <tr>\n      <th>3</th>\n      <td>American Samoa</td>\n      <td>OCEANIA</td>\n      <td>57794</td>\n      <td>199</td>\n      <td>290,4</td>\n      <td>58,29</td>\n      <td>-20,71</td>\n      <td>9,27</td>\n      <td>8000.0</td>\n      <td>97,0</td>\n      <td>259,5</td>\n      <td>10</td>\n      <td>15</td>\n      <td>75</td>\n      <td>2</td>\n      <td>22,46</td>\n      <td>3,27</td>\n      <td>NaN</td>\n      <td>NaN</td>\n      <td>NaN</td>\n    </tr>\n    <tr>\n      <th>4</th>\n      <td>Andorra</td>\n      <td>WESTERN EUROPE</td>\n      <td>71201</td>\n      <td>468</td>\n      <td>152,1</td>\n      <td>0,00</td>\n      <td>6,6</td>\n      <td>4,05</td>\n      <td>19000.0</td>\n      <td>100,0</td>\n      <td>497,2</td>\n      <td>2,22</td>\n      <td>0</td>\n      <td>97,78</td>\n      <td>3</td>\n      <td>8,71</td>\n      <td>6,25</td>\n      <td>NaN</td>\n      <td>NaN</td>\n      <td>NaN</td>\n    </tr>\n  </tbody>\n</table>\n</div>"
     },
     "execution_count": 14,
     "metadata": {},
     "output_type": "execute_result"
    }
   ],
   "source": [
    "data.head()"
   ],
   "metadata": {
    "collapsed": false,
    "pycharm": {
     "name": "#%%\n"
    }
   }
  },
  {
   "cell_type": "code",
   "execution_count": 21,
   "outputs": [
    {
     "data": {
      "text/plain": "         Population  Area (sq. mi.)  GDP ($ per capita)\ncount  2.270000e+02    2.270000e+02          226.000000\nmean   2.874028e+07    5.982270e+05         9689.823009\nstd    1.178913e+08    1.790282e+06        10049.138513\nmin    7.026000e+03    2.000000e+00          500.000000\n25%    4.376240e+05    4.647500e+03         1900.000000\n50%    4.786994e+06    8.660000e+04         5550.000000\n75%    1.749777e+07    4.418110e+05        15700.000000\nmax    1.313974e+09    1.707520e+07        55100.000000",
      "text/html": "<div>\n<style scoped>\n    .dataframe tbody tr th:only-of-type {\n        vertical-align: middle;\n    }\n\n    .dataframe tbody tr th {\n        vertical-align: top;\n    }\n\n    .dataframe thead th {\n        text-align: right;\n    }\n</style>\n<table border=\"1\" class=\"dataframe\">\n  <thead>\n    <tr style=\"text-align: right;\">\n      <th></th>\n      <th>Population</th>\n      <th>Area (sq. mi.)</th>\n      <th>GDP ($ per capita)</th>\n    </tr>\n  </thead>\n  <tbody>\n    <tr>\n      <th>count</th>\n      <td>2.270000e+02</td>\n      <td>2.270000e+02</td>\n      <td>226.000000</td>\n    </tr>\n    <tr>\n      <th>mean</th>\n      <td>2.874028e+07</td>\n      <td>5.982270e+05</td>\n      <td>9689.823009</td>\n    </tr>\n    <tr>\n      <th>std</th>\n      <td>1.178913e+08</td>\n      <td>1.790282e+06</td>\n      <td>10049.138513</td>\n    </tr>\n    <tr>\n      <th>min</th>\n      <td>7.026000e+03</td>\n      <td>2.000000e+00</td>\n      <td>500.000000</td>\n    </tr>\n    <tr>\n      <th>25%</th>\n      <td>4.376240e+05</td>\n      <td>4.647500e+03</td>\n      <td>1900.000000</td>\n    </tr>\n    <tr>\n      <th>50%</th>\n      <td>4.786994e+06</td>\n      <td>8.660000e+04</td>\n      <td>5550.000000</td>\n    </tr>\n    <tr>\n      <th>75%</th>\n      <td>1.749777e+07</td>\n      <td>4.418110e+05</td>\n      <td>15700.000000</td>\n    </tr>\n    <tr>\n      <th>max</th>\n      <td>1.313974e+09</td>\n      <td>1.707520e+07</td>\n      <td>55100.000000</td>\n    </tr>\n  </tbody>\n</table>\n</div>"
     },
     "execution_count": 21,
     "metadata": {},
     "output_type": "execute_result"
    }
   ],
   "source": [
    "data.describe()"
   ],
   "metadata": {
    "collapsed": false,
    "pycharm": {
     "name": "#%%\n"
    }
   }
  },
  {
   "cell_type": "code",
   "execution_count": 24,
   "outputs": [
    {
     "data": {
      "text/plain": "Country                                0\nRegion                                 0\nPopulation                             0\nArea (sq. mi.)                         0\nPop. Density (per sq. mi.)             0\nCoastline (coast/area ratio)           0\nNet migration                          3\nInfant mortality (per 1000 births)     3\nGDP ($ per capita)                     1\nLiteracy (%)                          18\nPhones (per 1000)                      4\nArable (%)                             2\nCrops (%)                              2\nOther (%)                              2\nClimate                               22\nBirthrate                              3\nDeathrate                              4\nAgriculture                           15\nIndustry                              16\nService                               15\ndtype: int64"
     },
     "execution_count": 24,
     "metadata": {},
     "output_type": "execute_result"
    }
   ],
   "source": [
    "data.isnull().sum()"
   ],
   "metadata": {
    "collapsed": false,
    "pycharm": {
     "name": "#%%\n"
    }
   }
  },
  {
   "cell_type": "code",
   "execution_count": 27,
   "outputs": [
    {
     "data": {
      "text/plain": "0         Afghanistan \n1             Albania \n2             Algeria \n3      American Samoa \n4             Andorra \n            ...       \n222         West Bank \n223    Western Sahara \n224             Yemen \n225            Zambia \n226          Zimbabwe \nName: Country, Length: 227, dtype: object"
     },
     "execution_count": 27,
     "metadata": {},
     "output_type": "execute_result"
    }
   ],
   "source": [
    "data['Country']"
   ],
   "metadata": {
    "collapsed": false,
    "pycharm": {
     "name": "#%%\n"
    }
   }
  },
  {
   "cell_type": "code",
   "execution_count": 29,
   "outputs": [
    {
     "data": {
      "text/plain": "           Country                               Region\n0     Afghanistan         ASIA (EX. NEAR EAST)         \n1         Albania   EASTERN EUROPE                     \n2         Algeria   NORTHERN AFRICA                    \n3  American Samoa   OCEANIA                            \n4         Andorra   WESTERN EUROPE                     \n5          Angola   SUB-SAHARAN AFRICA                 ",
      "text/html": "<div>\n<style scoped>\n    .dataframe tbody tr th:only-of-type {\n        vertical-align: middle;\n    }\n\n    .dataframe tbody tr th {\n        vertical-align: top;\n    }\n\n    .dataframe thead th {\n        text-align: right;\n    }\n</style>\n<table border=\"1\" class=\"dataframe\">\n  <thead>\n    <tr style=\"text-align: right;\">\n      <th></th>\n      <th>Country</th>\n      <th>Region</th>\n    </tr>\n  </thead>\n  <tbody>\n    <tr>\n      <th>0</th>\n      <td>Afghanistan</td>\n      <td>ASIA (EX. NEAR EAST)</td>\n    </tr>\n    <tr>\n      <th>1</th>\n      <td>Albania</td>\n      <td>EASTERN EUROPE</td>\n    </tr>\n    <tr>\n      <th>2</th>\n      <td>Algeria</td>\n      <td>NORTHERN AFRICA</td>\n    </tr>\n    <tr>\n      <th>3</th>\n      <td>American Samoa</td>\n      <td>OCEANIA</td>\n    </tr>\n    <tr>\n      <th>4</th>\n      <td>Andorra</td>\n      <td>WESTERN EUROPE</td>\n    </tr>\n    <tr>\n      <th>5</th>\n      <td>Angola</td>\n      <td>SUB-SAHARAN AFRICA</td>\n    </tr>\n  </tbody>\n</table>\n</div>"
     },
     "execution_count": 29,
     "metadata": {},
     "output_type": "execute_result"
    }
   ],
   "source": [
    "data.loc[0:5,[\"Country\",\"Region\"]]"
   ],
   "metadata": {
    "collapsed": false,
    "pycharm": {
     "name": "#%%\n"
    }
   }
  },
  {
   "cell_type": "code",
   "execution_count": 34,
   "outputs": [
    {
     "data": {
      "text/plain": "                   Country                               Region  Population  \\\n140            Montserrat               LATIN AMER. & CARIB            9439   \n171          Saint Helena   SUB-SAHARAN AFRICA                         7502   \n174  St Pierre & Miquelon   NORTHERN AMERICA                           7026   \n\n     Area (sq. mi.) Pop. Density (per sq. mi.) Coastline (coast/area ratio)  \\\n140             102                       92,5                        39,22   \n171             413                       18,2                        14,53   \n174             242                       29,0                        49,59   \n\n    Net migration Infant mortality (per 1000 births)  GDP ($ per capita)  \\\n140             0                               7,35              3400.0   \n171             0                                 19              2500.0   \n174         -4,86                               7,54              6900.0   \n\n    Literacy (%) Phones (per 1000) Arable (%) Crops (%) Other (%) Climate  \\\n140         97,0               NaN         20         0        80       2   \n171         97,0             293,3       12,9         0      87,1     NaN   \n174         99,0             683,2      13,04         0     86,96     NaN   \n\n    Birthrate Deathrate Agriculture Industry Service  \n140     17,59       7,1         NaN      NaN     NaN  \n171     12,13      6,53         NaN      NaN     NaN  \n174     13,52      6,83         NaN      NaN     NaN  ",
      "text/html": "<div>\n<style scoped>\n    .dataframe tbody tr th:only-of-type {\n        vertical-align: middle;\n    }\n\n    .dataframe tbody tr th {\n        vertical-align: top;\n    }\n\n    .dataframe thead th {\n        text-align: right;\n    }\n</style>\n<table border=\"1\" class=\"dataframe\">\n  <thead>\n    <tr style=\"text-align: right;\">\n      <th></th>\n      <th>Country</th>\n      <th>Region</th>\n      <th>Population</th>\n      <th>Area (sq. mi.)</th>\n      <th>Pop. Density (per sq. mi.)</th>\n      <th>Coastline (coast/area ratio)</th>\n      <th>Net migration</th>\n      <th>Infant mortality (per 1000 births)</th>\n      <th>GDP ($ per capita)</th>\n      <th>Literacy (%)</th>\n      <th>Phones (per 1000)</th>\n      <th>Arable (%)</th>\n      <th>Crops (%)</th>\n      <th>Other (%)</th>\n      <th>Climate</th>\n      <th>Birthrate</th>\n      <th>Deathrate</th>\n      <th>Agriculture</th>\n      <th>Industry</th>\n      <th>Service</th>\n    </tr>\n  </thead>\n  <tbody>\n    <tr>\n      <th>140</th>\n      <td>Montserrat</td>\n      <td>LATIN AMER. &amp; CARIB</td>\n      <td>9439</td>\n      <td>102</td>\n      <td>92,5</td>\n      <td>39,22</td>\n      <td>0</td>\n      <td>7,35</td>\n      <td>3400.0</td>\n      <td>97,0</td>\n      <td>NaN</td>\n      <td>20</td>\n      <td>0</td>\n      <td>80</td>\n      <td>2</td>\n      <td>17,59</td>\n      <td>7,1</td>\n      <td>NaN</td>\n      <td>NaN</td>\n      <td>NaN</td>\n    </tr>\n    <tr>\n      <th>171</th>\n      <td>Saint Helena</td>\n      <td>SUB-SAHARAN AFRICA</td>\n      <td>7502</td>\n      <td>413</td>\n      <td>18,2</td>\n      <td>14,53</td>\n      <td>0</td>\n      <td>19</td>\n      <td>2500.0</td>\n      <td>97,0</td>\n      <td>293,3</td>\n      <td>12,9</td>\n      <td>0</td>\n      <td>87,1</td>\n      <td>NaN</td>\n      <td>12,13</td>\n      <td>6,53</td>\n      <td>NaN</td>\n      <td>NaN</td>\n      <td>NaN</td>\n    </tr>\n    <tr>\n      <th>174</th>\n      <td>St Pierre &amp; Miquelon</td>\n      <td>NORTHERN AMERICA</td>\n      <td>7026</td>\n      <td>242</td>\n      <td>29,0</td>\n      <td>49,59</td>\n      <td>-4,86</td>\n      <td>7,54</td>\n      <td>6900.0</td>\n      <td>99,0</td>\n      <td>683,2</td>\n      <td>13,04</td>\n      <td>0</td>\n      <td>86,96</td>\n      <td>NaN</td>\n      <td>13,52</td>\n      <td>6,83</td>\n      <td>NaN</td>\n      <td>NaN</td>\n      <td>NaN</td>\n    </tr>\n  </tbody>\n</table>\n</div>"
     },
     "execution_count": 34,
     "metadata": {},
     "output_type": "execute_result"
    }
   ],
   "source": [
    "condicion = data.Population < 10000\n",
    "data[condicion]\n"
   ],
   "metadata": {
    "collapsed": false,
    "pycharm": {
     "name": "#%%\n"
    }
   }
  }
 ],
 "metadata": {
  "kernelspec": {
   "display_name": "Python 3",
   "language": "python",
   "name": "python3"
  },
  "language_info": {
   "codemirror_mode": {
    "name": "ipython",
    "version": 2
   },
   "file_extension": ".py",
   "mimetype": "text/x-python",
   "name": "python",
   "nbconvert_exporter": "python",
   "pygments_lexer": "ipython2",
   "version": "2.7.6"
  }
 },
 "nbformat": 4,
 "nbformat_minor": 0
}