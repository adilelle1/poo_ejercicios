{
 "cells": [
  {
   "cell_type": "code",
   "execution_count": 1,
   "metadata": {
    "collapsed": true,
    "pycharm": {
     "name": "#%%\n"
    }
   },
   "outputs": [],
   "source": [
    "import pandas as pd\n",
    "from quick_glance_f import *"
   ]
  },
  {
   "cell_type": "code",
   "execution_count": 2,
   "outputs": [
    {
     "data": {
      "text/plain": "     Rank               Title                           Website  Employees  \\\n0       1             Walmart            http://www.walmart.com    2300000   \n1       2  Berkshire Hathaway  http://www.berkshirehathaway.com     367700   \n2       3               Apple              http://www.apple.com     116000   \n3       4         Exxon Mobil         http://www.exxonmobil.com      72700   \n4       5            McKesson           http://www.mckesson.com      68000   \n..    ...                 ...                               ...        ...   \n495   496       Michaels Cos.           http://www.michaels.com      31000   \n496   497       Toll Brothers       http://www.tollbrothers.com       4200   \n497   498               Yahoo              http://www.yahoo.com       8500   \n498   499       Vistra Energy       http://www.vistraenergy.com       4431   \n499   500      ABM Industries                http://www.abm.com     110000   \n\n                         Sector                                  Industry  \\\n0                     Retailing                     General Merchandisers   \n1                    Financials  Insurance: Property and Casualty (Stock)   \n2                    Technology               Computers, Office Equipment   \n3                        Energy                        Petroleum Refining   \n4                   Wholesalers                  Wholesalers: Health Care   \n..                          ...                                       ...   \n495                   Retailing                Specialty Retailers: Other   \n496  Engineering & Construction                              Homebuilders   \n497                  Technology           Internet Services and Retailing   \n498                      Energy                                    Energy   \n499           Business Services          Diversified Outsourcing Services   \n\n            Hqlocation                  Hqaddr         Hqcity Hqstate  ...  \\\n0      Bentonville, AR     702 S.W. Eighth St.    Bentonville      AR  ...   \n1            Omaha, NE         3555 Farnam St.          Omaha      NE  ...   \n2        Cupertino, CA         1 Infinite Loop      Cupertino      CA  ...   \n3           Irving, TX  5959 Las Colinas Blvd.         Irving      TX  ...   \n4    San Francisco, CA              1 Post St.  San Francisco      CA  ...   \n..                 ...                     ...            ...     ...  ...   \n495         Irving, TX    8000 Bent Branch Dr.         Irving      TX  ...   \n496        Horsham, PA       250 Gibraltar Rd.        Horsham      PA  ...   \n497      Sunnyvale, CA          701 First Ave.      Sunnyvale      CA  ...   \n498         Dallas, TX          1601 Bryan St.         Dallas      TX  ...   \n499       New York, NY         1 Liberty Plaza       New York      NY  ...   \n\n                                         Ceo-title  \\\n0    President, Chief Executive Officer & Director   \n1               Chairman & Chief Executive Officer   \n2               Chief Executive Officer & Director   \n3               Chairman & Chief Executive Officer   \n4    Chairman, President & Chief Executive Officer   \n..                                             ...   \n495             Chairman & Chief Executive Officer   \n496             Chief Executive Officer & Director   \n497  President, Chief Executive Officer & Director   \n498  President, Chief Executive Officer & Director   \n499  President, Chief Executive Officer & Director   \n\n                                        Address Ticker  \\\n0    702 S.W. Eighth St., Bentonville, AR 72716    WMT   \n1              3555 Farnam St., Omaha, NE 68131   BRKA   \n2          1 Infinite Loop, Cupertino, CA 95014   AAPL   \n3      5959 Las Colinas Blvd., Irving, TX 75039    XOM   \n4           1 Post St., San Francisco, CA 94104    MCK   \n..                                          ...    ...   \n495      8000 Bent Branch Dr., Irving, TX 75063    MIK   \n496        250 Gibraltar Rd., Horsham, PA 19044    TOL   \n497         701 First Ave., Sunnyvale, CA 94089   YHOO   \n498            1601 Bryan St., Dallas, TX 75201    VST   \n499         1 Liberty Plaza, New York, NY 10006    ABM   \n\n                         Fullname Revenues Revchange  Profits  Prftchange  \\\n0           Wal-Mart Stores, Inc.   485873       0.8  13643.0        -7.2   \n1         Berkshire Hathaway Inc.   223604       6.1  24074.0           0   \n2                     Apple, Inc.   215639      -7.7  45687.0       -14.4   \n3         Exxon Mobil Corporation   205004     -16.7   7840.0       -51.5   \n4            McKesson Corporation   192487       6.2   2258.0          53   \n..                            ...      ...       ...      ...         ...   \n495  The Michaels Companies, Inc.     5197       5.8    378.2         4.2   \n496           Toll Brothers, Inc.     5170      23.9    382.1         5.2   \n497                   Yahoo! Inc.     5169       4.0   -214.3         5.2   \n498           Vistra Energy Corp.     5164       4.0   -214.3         5.2   \n499   ABM Industries Incorporated     5145      -2.8     57.2         -25   \n\n     Assets  Totshequity  \n0    198825      77798.0  \n1    620854     283001.0  \n2    321686     128249.0  \n3    330314     167325.0  \n4     56563       8924.0  \n..      ...          ...  \n495    2148      -1698.0  \n496    9737       4229.0  \n497   48083      31049.0  \n498   15167       6597.0  \n499    2281        974.0  \n\n[500 rows x 23 columns]",
      "text/html": "<div>\n<style scoped>\n    .dataframe tbody tr th:only-of-type {\n        vertical-align: middle;\n    }\n\n    .dataframe tbody tr th {\n        vertical-align: top;\n    }\n\n    .dataframe thead th {\n        text-align: right;\n    }\n</style>\n<table border=\"1\" class=\"dataframe\">\n  <thead>\n    <tr style=\"text-align: right;\">\n      <th></th>\n      <th>Rank</th>\n      <th>Title</th>\n      <th>Website</th>\n      <th>Employees</th>\n      <th>Sector</th>\n      <th>Industry</th>\n      <th>Hqlocation</th>\n      <th>Hqaddr</th>\n      <th>Hqcity</th>\n      <th>Hqstate</th>\n      <th>...</th>\n      <th>Ceo-title</th>\n      <th>Address</th>\n      <th>Ticker</th>\n      <th>Fullname</th>\n      <th>Revenues</th>\n      <th>Revchange</th>\n      <th>Profits</th>\n      <th>Prftchange</th>\n      <th>Assets</th>\n      <th>Totshequity</th>\n    </tr>\n  </thead>\n  <tbody>\n    <tr>\n      <th>0</th>\n      <td>1</td>\n      <td>Walmart</td>\n      <td>http://www.walmart.com</td>\n      <td>2300000</td>\n      <td>Retailing</td>\n      <td>General Merchandisers</td>\n      <td>Bentonville, AR</td>\n      <td>702 S.W. Eighth St.</td>\n      <td>Bentonville</td>\n      <td>AR</td>\n      <td>...</td>\n      <td>President, Chief Executive Officer &amp; Director</td>\n      <td>702 S.W. Eighth St., Bentonville, AR 72716</td>\n      <td>WMT</td>\n      <td>Wal-Mart Stores, Inc.</td>\n      <td>485873</td>\n      <td>0.8</td>\n      <td>13643.0</td>\n      <td>-7.2</td>\n      <td>198825</td>\n      <td>77798.0</td>\n    </tr>\n    <tr>\n      <th>1</th>\n      <td>2</td>\n      <td>Berkshire Hathaway</td>\n      <td>http://www.berkshirehathaway.com</td>\n      <td>367700</td>\n      <td>Financials</td>\n      <td>Insurance: Property and Casualty (Stock)</td>\n      <td>Omaha, NE</td>\n      <td>3555 Farnam St.</td>\n      <td>Omaha</td>\n      <td>NE</td>\n      <td>...</td>\n      <td>Chairman &amp; Chief Executive Officer</td>\n      <td>3555 Farnam St., Omaha, NE 68131</td>\n      <td>BRKA</td>\n      <td>Berkshire Hathaway Inc.</td>\n      <td>223604</td>\n      <td>6.1</td>\n      <td>24074.0</td>\n      <td>0</td>\n      <td>620854</td>\n      <td>283001.0</td>\n    </tr>\n    <tr>\n      <th>2</th>\n      <td>3</td>\n      <td>Apple</td>\n      <td>http://www.apple.com</td>\n      <td>116000</td>\n      <td>Technology</td>\n      <td>Computers, Office Equipment</td>\n      <td>Cupertino, CA</td>\n      <td>1 Infinite Loop</td>\n      <td>Cupertino</td>\n      <td>CA</td>\n      <td>...</td>\n      <td>Chief Executive Officer &amp; Director</td>\n      <td>1 Infinite Loop, Cupertino, CA 95014</td>\n      <td>AAPL</td>\n      <td>Apple, Inc.</td>\n      <td>215639</td>\n      <td>-7.7</td>\n      <td>45687.0</td>\n      <td>-14.4</td>\n      <td>321686</td>\n      <td>128249.0</td>\n    </tr>\n    <tr>\n      <th>3</th>\n      <td>4</td>\n      <td>Exxon Mobil</td>\n      <td>http://www.exxonmobil.com</td>\n      <td>72700</td>\n      <td>Energy</td>\n      <td>Petroleum Refining</td>\n      <td>Irving, TX</td>\n      <td>5959 Las Colinas Blvd.</td>\n      <td>Irving</td>\n      <td>TX</td>\n      <td>...</td>\n      <td>Chairman &amp; Chief Executive Officer</td>\n      <td>5959 Las Colinas Blvd., Irving, TX 75039</td>\n      <td>XOM</td>\n      <td>Exxon Mobil Corporation</td>\n      <td>205004</td>\n      <td>-16.7</td>\n      <td>7840.0</td>\n      <td>-51.5</td>\n      <td>330314</td>\n      <td>167325.0</td>\n    </tr>\n    <tr>\n      <th>4</th>\n      <td>5</td>\n      <td>McKesson</td>\n      <td>http://www.mckesson.com</td>\n      <td>68000</td>\n      <td>Wholesalers</td>\n      <td>Wholesalers: Health Care</td>\n      <td>San Francisco, CA</td>\n      <td>1 Post St.</td>\n      <td>San Francisco</td>\n      <td>CA</td>\n      <td>...</td>\n      <td>Chairman, President &amp; Chief Executive Officer</td>\n      <td>1 Post St., San Francisco, CA 94104</td>\n      <td>MCK</td>\n      <td>McKesson Corporation</td>\n      <td>192487</td>\n      <td>6.2</td>\n      <td>2258.0</td>\n      <td>53</td>\n      <td>56563</td>\n      <td>8924.0</td>\n    </tr>\n    <tr>\n      <th>...</th>\n      <td>...</td>\n      <td>...</td>\n      <td>...</td>\n      <td>...</td>\n      <td>...</td>\n      <td>...</td>\n      <td>...</td>\n      <td>...</td>\n      <td>...</td>\n      <td>...</td>\n      <td>...</td>\n      <td>...</td>\n      <td>...</td>\n      <td>...</td>\n      <td>...</td>\n      <td>...</td>\n      <td>...</td>\n      <td>...</td>\n      <td>...</td>\n      <td>...</td>\n      <td>...</td>\n    </tr>\n    <tr>\n      <th>495</th>\n      <td>496</td>\n      <td>Michaels Cos.</td>\n      <td>http://www.michaels.com</td>\n      <td>31000</td>\n      <td>Retailing</td>\n      <td>Specialty Retailers: Other</td>\n      <td>Irving, TX</td>\n      <td>8000 Bent Branch Dr.</td>\n      <td>Irving</td>\n      <td>TX</td>\n      <td>...</td>\n      <td>Chairman &amp; Chief Executive Officer</td>\n      <td>8000 Bent Branch Dr., Irving, TX 75063</td>\n      <td>MIK</td>\n      <td>The Michaels Companies, Inc.</td>\n      <td>5197</td>\n      <td>5.8</td>\n      <td>378.2</td>\n      <td>4.2</td>\n      <td>2148</td>\n      <td>-1698.0</td>\n    </tr>\n    <tr>\n      <th>496</th>\n      <td>497</td>\n      <td>Toll Brothers</td>\n      <td>http://www.tollbrothers.com</td>\n      <td>4200</td>\n      <td>Engineering &amp; Construction</td>\n      <td>Homebuilders</td>\n      <td>Horsham, PA</td>\n      <td>250 Gibraltar Rd.</td>\n      <td>Horsham</td>\n      <td>PA</td>\n      <td>...</td>\n      <td>Chief Executive Officer &amp; Director</td>\n      <td>250 Gibraltar Rd., Horsham, PA 19044</td>\n      <td>TOL</td>\n      <td>Toll Brothers, Inc.</td>\n      <td>5170</td>\n      <td>23.9</td>\n      <td>382.1</td>\n      <td>5.2</td>\n      <td>9737</td>\n      <td>4229.0</td>\n    </tr>\n    <tr>\n      <th>497</th>\n      <td>498</td>\n      <td>Yahoo</td>\n      <td>http://www.yahoo.com</td>\n      <td>8500</td>\n      <td>Technology</td>\n      <td>Internet Services and Retailing</td>\n      <td>Sunnyvale, CA</td>\n      <td>701 First Ave.</td>\n      <td>Sunnyvale</td>\n      <td>CA</td>\n      <td>...</td>\n      <td>President, Chief Executive Officer &amp; Director</td>\n      <td>701 First Ave., Sunnyvale, CA 94089</td>\n      <td>YHOO</td>\n      <td>Yahoo! Inc.</td>\n      <td>5169</td>\n      <td>4.0</td>\n      <td>-214.3</td>\n      <td>5.2</td>\n      <td>48083</td>\n      <td>31049.0</td>\n    </tr>\n    <tr>\n      <th>498</th>\n      <td>499</td>\n      <td>Vistra Energy</td>\n      <td>http://www.vistraenergy.com</td>\n      <td>4431</td>\n      <td>Energy</td>\n      <td>Energy</td>\n      <td>Dallas, TX</td>\n      <td>1601 Bryan St.</td>\n      <td>Dallas</td>\n      <td>TX</td>\n      <td>...</td>\n      <td>President, Chief Executive Officer &amp; Director</td>\n      <td>1601 Bryan St., Dallas, TX 75201</td>\n      <td>VST</td>\n      <td>Vistra Energy Corp.</td>\n      <td>5164</td>\n      <td>4.0</td>\n      <td>-214.3</td>\n      <td>5.2</td>\n      <td>15167</td>\n      <td>6597.0</td>\n    </tr>\n    <tr>\n      <th>499</th>\n      <td>500</td>\n      <td>ABM Industries</td>\n      <td>http://www.abm.com</td>\n      <td>110000</td>\n      <td>Business Services</td>\n      <td>Diversified Outsourcing Services</td>\n      <td>New York, NY</td>\n      <td>1 Liberty Plaza</td>\n      <td>New York</td>\n      <td>NY</td>\n      <td>...</td>\n      <td>President, Chief Executive Officer &amp; Director</td>\n      <td>1 Liberty Plaza, New York, NY 10006</td>\n      <td>ABM</td>\n      <td>ABM Industries Incorporated</td>\n      <td>5145</td>\n      <td>-2.8</td>\n      <td>57.2</td>\n      <td>-25</td>\n      <td>2281</td>\n      <td>974.0</td>\n    </tr>\n  </tbody>\n</table>\n<p>500 rows × 23 columns</p>\n</div>"
     },
     "execution_count": 2,
     "metadata": {},
     "output_type": "execute_result"
    }
   ],
   "source": [
    "df = pd.read_csv('../data/tarea_del_nene.csv')\n",
    "df"
   ],
   "metadata": {
    "collapsed": false,
    "pycharm": {
     "name": "#%%\n"
    }
   }
  },
  {
   "cell_type": "code",
   "execution_count": 3,
   "outputs": [
    {
     "name": "stdout",
     "output_type": "stream",
     "text": [
      "SHAPE:\n",
      "\n",
      "(500, 23)\n",
      "------------------\n",
      "\n",
      "COLUMNS:\n",
      "\n",
      "Index(['Rank', 'Title', 'Website', 'Employees', 'Sector', 'Industry',\n",
      "       'Hqlocation', 'Hqaddr', 'Hqcity', 'Hqstate', 'Hqzip', 'Hqtel', 'Ceo',\n",
      "       'Ceo-title', 'Address', 'Ticker', 'Fullname', 'Revenues', 'Revchange',\n",
      "       'Profits', 'Prftchange', 'Assets', 'Totshequity'],\n",
      "      dtype='object')\n",
      "------------------\n",
      "\n",
      "COLUMNS DATA TYPE:\n",
      "\n",
      "Rank             int64\n",
      "Title           object\n",
      "Website         object\n",
      "Employees        int64\n",
      "Sector          object\n",
      "Industry        object\n",
      "Hqlocation      object\n",
      "Hqaddr          object\n",
      "Hqcity          object\n",
      "Hqstate         object\n",
      "Hqzip            int64\n",
      "Hqtel           object\n",
      "Ceo             object\n",
      "Ceo-title       object\n",
      "Address         object\n",
      "Ticker          object\n",
      "Fullname        object\n",
      "Revenues         int64\n",
      "Revchange      float64\n",
      "Profits        float64\n",
      "Prftchange      object\n",
      "Assets           int64\n",
      "Totshequity    float64\n",
      "dtype: object\n",
      "------------------\n",
      "\n",
      "DESCRIBE:\n",
      "\n",
      "         Rank   Employees     Hqzip   Revenues  Revchange   Profits  \\\n",
      "count  500.00      500.00    500.00     500.00     500.00    500.00   \n",
      "mean   250.49    56350.13  46791.71   24111.75       3.76   1779.48   \n",
      "std    144.48   123452.03  30160.38   38337.35      19.97   3937.56   \n",
      "min      1.00       83.00   1104.00    5145.00     -57.50  -6177.00   \n",
      "25%    125.75    11900.00  19099.00    7245.00      -3.82    235.72   \n",
      "50%    250.50    25000.00  46244.50   11384.00       1.90    683.60   \n",
      "75%    375.25    56825.25  75045.00   22605.25       7.32   1770.78   \n",
      "max    500.00  2300000.00  98188.00  485873.00     197.30  45687.00   \n",
      "\n",
      "           Assets  Totshequity  \n",
      "count      500.00       500.00  \n",
      "mean     80389.34     13640.15  \n",
      "std     270425.70     30523.15  \n",
      "min        437.00    -12688.00  \n",
      "25%       8436.50      1997.50  \n",
      "50%      19324.50      4981.00  \n",
      "75%      48126.00     12467.75  \n",
      "max    3287968.00    283001.00  \n",
      "------------------\n",
      "\n",
      "COUNT:\n",
      "\n",
      "Rank           500\n",
      "Title          500\n",
      "Website        500\n",
      "Employees      500\n",
      "Sector         500\n",
      "Industry       500\n",
      "Hqlocation     500\n",
      "Hqaddr         500\n",
      "Hqcity         500\n",
      "Hqstate        500\n",
      "Hqzip          500\n",
      "Hqtel          500\n",
      "Ceo            500\n",
      "Ceo-title      500\n",
      "Address        500\n",
      "Ticker         500\n",
      "Fullname       500\n",
      "Revenues       500\n",
      "Revchange      500\n",
      "Profits        500\n",
      "Prftchange     500\n",
      "Assets         500\n",
      "Totshequity    500\n",
      "dtype: int64\n",
      "------------------\n",
      "\n",
      "2 ROW SAMPLE:\n",
      "\n",
      "     Rank                        Title                  Website  Employees  \\\n",
      "231   232                  D.R. Horton  http://www.drhorton.com       6976   \n",
      "292   293  Fidelity National Financial       http://www.fnf.com      55219   \n",
      "\n",
      "                         Sector                                  Industry  \\\n",
      "231  Engineering & Construction                              Homebuilders   \n",
      "292                  Financials  Insurance: Property and Casualty (Stock)   \n",
      "\n",
      "           Hqlocation              Hqaddr        Hqcity Hqstate  ...  \\\n",
      "231    Fort Worth, TX    301 Commerce St.    Fort Worth      TX  ...   \n",
      "292  Jacksonville, FL  601 Riverside Ave.  Jacksonville      FL  ...   \n",
      "\n",
      "                                         Ceo-title  \\\n",
      "231  President, Chief Executive Officer & Director   \n",
      "292             Chief Executive Officer & Director   \n",
      "\n",
      "                                        Address Ticker  \\\n",
      "231      301 Commerce St., Fort Worth, TX 76102    DHI   \n",
      "292  601 Riverside Ave., Jacksonville, FL 32204    FNF   \n",
      "\n",
      "                              Fullname Revenues Revchange Profits  Prftchange  \\\n",
      "231                  D.R. Horton, Inc.    12157      12.3   886.3        18.1   \n",
      "292  Fidelity National Financial, Inc.     9554       4.6   650.0        23.3   \n",
      "\n",
      "     Assets  Totshequity  \n",
      "231   11559       6793.0  \n",
      "292   14463       5996.0  \n",
      "\n",
      "[2 rows x 23 columns]\n",
      "------------------\n",
      "\n"
     ]
    }
   ],
   "source": [
    "file_quick_glance(df)"
   ],
   "metadata": {
    "collapsed": false,
    "pycharm": {
     "name": "#%%\n"
    }
   }
  },
  {
   "cell_type": "code",
   "execution_count": 13,
   "outputs": [
    {
     "data": {
      "text/plain": "                Title  Rank\n0             Walmart     1\n1  Berkshire Hathaway     2\n2               Apple     3\n3         Exxon Mobil     4\n4            McKesson     5",
      "text/html": "<div>\n<style scoped>\n    .dataframe tbody tr th:only-of-type {\n        vertical-align: middle;\n    }\n\n    .dataframe tbody tr th {\n        vertical-align: top;\n    }\n\n    .dataframe thead th {\n        text-align: right;\n    }\n</style>\n<table border=\"1\" class=\"dataframe\">\n  <thead>\n    <tr style=\"text-align: right;\">\n      <th></th>\n      <th>Title</th>\n      <th>Rank</th>\n    </tr>\n  </thead>\n  <tbody>\n    <tr>\n      <th>0</th>\n      <td>Walmart</td>\n      <td>1</td>\n    </tr>\n    <tr>\n      <th>1</th>\n      <td>Berkshire Hathaway</td>\n      <td>2</td>\n    </tr>\n    <tr>\n      <th>2</th>\n      <td>Apple</td>\n      <td>3</td>\n    </tr>\n    <tr>\n      <th>3</th>\n      <td>Exxon Mobil</td>\n      <td>4</td>\n    </tr>\n    <tr>\n      <th>4</th>\n      <td>McKesson</td>\n      <td>5</td>\n    </tr>\n  </tbody>\n</table>\n</div>"
     },
     "execution_count": 13,
     "metadata": {},
     "output_type": "execute_result"
    }
   ],
   "source": [
    "df.nsmallest(n=5,columns='Rank')[['Title','Rank']]\n",
    "\n"
   ],
   "metadata": {
    "collapsed": false,
    "pycharm": {
     "name": "#%%\n"
    }
   }
  },
  {
   "cell_type": "code",
   "execution_count": 14,
   "outputs": [
    {
     "data": {
      "text/plain": "Financials                       84\nEnergy                           57\nRetailing                        47\nTechnology                       43\nHealth Care                      38\nWholesalers                      29\nFood, Beverages & Tobacco        24\nBusiness Services                20\nMaterials                        19\nIndustrials                      19\nTransportation                   17\nChemicals                        14\nEngineering & Construction       13\nHousehold Products               12\nAerospace & Defense              12\nMedia                            11\nHotels, Restaurants & Leisure    10\nTelecommunications               10\nMotor Vehicles & Parts            9\nFood & Drug Stores                7\nApparel                           5\nName: Sector, dtype: int64"
     },
     "execution_count": 14,
     "metadata": {},
     "output_type": "execute_result"
    }
   ],
   "source": [
    "df.Sector.value_counts()"
   ],
   "metadata": {
    "collapsed": false,
    "pycharm": {
     "name": "#%%\n"
    }
   }
  }
 ],
 "metadata": {
  "kernelspec": {
   "display_name": "Python 3",
   "language": "python",
   "name": "python3"
  },
  "language_info": {
   "codemirror_mode": {
    "name": "ipython",
    "version": 2
   },
   "file_extension": ".py",
   "mimetype": "text/x-python",
   "name": "python",
   "nbconvert_exporter": "python",
   "pygments_lexer": "ipython2",
   "version": "2.7.6"
  }
 },
 "nbformat": 4,
 "nbformat_minor": 0
}