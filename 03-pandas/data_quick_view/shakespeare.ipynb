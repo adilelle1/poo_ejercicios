{
 "cells": [
  {
   "cell_type": "code",
   "execution_count": 18,
   "metadata": {
    "collapsed": true,
    "pycharm": {
     "name": "#%%\n"
    }
   },
   "outputs": [],
   "source": [
    "import pandas as pd\n",
    "import glob\n",
    "import os\n",
    "import quick_glance_f"
   ]
  },
  {
   "cell_type": "code",
   "execution_count": 2,
   "outputs": [
    {
     "data": {
      "text/plain": "'C:\\\\Users\\\\alejo\\\\UCEMA\\\\poo_teorica\\\\poo_ejercicios\\\\03-pandas\\\\data_quick_view'"
     },
     "execution_count": 2,
     "metadata": {},
     "output_type": "execute_result"
    }
   ],
   "source": [
    "%pwd"
   ],
   "metadata": {
    "collapsed": false,
    "pycharm": {
     "name": "#%%\n"
    }
   }
  },
  {
   "cell_type": "code",
   "execution_count": 8,
   "outputs": [],
   "source": [
    "os.chdir(r'C:\\Users\\alejo\\UCEMA\\poo_teorica\\poo_ejercicios\\03-pandas\\data\\ventas_comercial')\n"
   ],
   "metadata": {
    "collapsed": false,
    "pycharm": {
     "name": "#%%\n"
    }
   }
  },
  {
   "cell_type": "code",
   "execution_count": 9,
   "outputs": [
    {
     "name": "stdout",
     "output_type": "stream",
     "text": [
      " Volume in drive C has no label.\n",
      " Volume Serial Number is 1C32-C6DB\n",
      "\n",
      " Directory of C:\\Users\\alejo\\UCEMA\\poo_teorica\\poo_ejercicios\\03-pandas\\data\\ventas_comercial\n",
      "\n",
      "25/08/2022  11:11    <DIR>          .\n",
      "25/08/2022  11:11    <DIR>          ..\n",
      "04/10/2020  14:19           195.946 A Comedy of Errors.csv\n",
      "04/10/2020  14:19           223.757 A Midsummer nights dream.csv\n",
      "04/10/2020  14:19           315.453 A Winters Tale.csv\n",
      "04/10/2020  14:19           303.273 Alls well that ends well.csv\n",
      "04/10/2020  14:19           362.170 Antony and Cleopatra.csv\n",
      "04/10/2020  14:19           253.082 As you like it.csv\n",
      "04/10/2020  14:19           336.632 Coriolanus.csv\n",
      "04/10/2020  14:19           331.538 Cymbeline.csv\n",
      "04/10/2020  14:19           346.941 Hamlet.csv\n",
      "04/10/2020  14:19           270.374 Henry IV.csv\n",
      "04/10/2020  14:19           291.068 Henry V.csv\n",
      "04/10/2020  14:19           267.902 Henry VI Part 1.csv\n",
      "04/10/2020  14:19           302.856 Henry VI Part 2.csv\n",
      "04/10/2020  14:19           296.793 Henry VI Part 3.csv\n",
      "04/10/2020  14:19           302.873 Henry VIII.csv\n",
      "04/10/2020  14:19           238.815 Julius Caesar.csv\n",
      "04/10/2020  14:19           239.454 King John.csv\n",
      "04/10/2020  14:19           307.525 King Lear.csv\n",
      "04/10/2020  14:19           278.987 Loves Labours Lost.csv\n",
      "04/10/2020  14:19           202.796 macbeth.csv\n",
      "04/10/2020  14:19           285.351 Measure for measure.csv\n",
      "04/10/2020  14:19           261.002 Merchant of Venice.csv\n",
      "04/10/2020  14:19           283.511 Merry Wives of Windsor.csv\n",
      "04/10/2020  14:19           267.277 Much Ado about nothing.csv\n",
      "04/10/2020  14:19           298.738 Othello.csv\n",
      "04/10/2020  14:19           215.210 Pericles.csv\n",
      "04/10/2020  14:19           272.518 Richard II.csv\n",
      "04/10/2020  14:19           357.681 Richard III.csv\n",
      "04/10/2020  14:19           301.134 Romeo and Juliet.csv\n",
      "04/10/2020  14:19           265.143 Taming of the Shrew.csv\n",
      "04/10/2020  14:19           202.228 The Tempest.csv\n",
      "04/10/2020  14:19           236.123 Timon of Athens.csv\n",
      "04/10/2020  14:19           261.890 Titus Andronicus.csv\n",
      "04/10/2020  14:19           354.099 Troilus and Cressida.csv\n",
      "04/10/2020  14:19           239.113 Twelfth Night.csv\n",
      "04/10/2020  14:19           230.951 Two Gentlemen of Verona.csv\n",
      "              36 File(s)     10.000.204 bytes\n",
      "               2 Dir(s)  878.860.169.216 bytes free\n"
     ]
    }
   ],
   "source": [
    "%ls"
   ],
   "metadata": {
    "collapsed": false,
    "pycharm": {
     "name": "#%%\n"
    }
   }
  },
  {
   "cell_type": "code",
   "execution_count": 11,
   "outputs": [],
   "source": [
    "file_extension= '.csv'"
   ],
   "metadata": {
    "collapsed": false,
    "pycharm": {
     "name": "#%%\n"
    }
   }
  },
  {
   "cell_type": "code",
   "execution_count": 12,
   "outputs": [],
   "source": [
    "all_files = [i for i in glob.glob(f'*{file_extension}')]"
   ],
   "metadata": {
    "collapsed": false,
    "pycharm": {
     "name": "#%%\n"
    }
   }
  },
  {
   "cell_type": "code",
   "execution_count": 23,
   "outputs": [
    {
     "data": {
      "text/plain": "      Unnamed: 0  Dataline                     Play  PlayerLinenumber  \\\n0          22427     22428       A Comedy of Errors             132.0   \n1          22428     22429       A Comedy of Errors             132.0   \n2          22429     22430       A Comedy of Errors             132.0   \n3          22430     22431       A Comedy of Errors               1.0   \n4          22431     22432       A Comedy of Errors               1.0   \n...          ...       ...                      ...               ...   \n2352      107902    107903  Two Gentlemen of Verona              52.0   \n2353      107903    107904  Two Gentlemen of Verona              52.0   \n2354      107904    107905  Two Gentlemen of Verona              52.0   \n2355      107905    107906  Two Gentlemen of Verona              52.0   \n2356      107906    107907  Two Gentlemen of Verona              52.0   \n\n     ActSceneLine           Player  \\\n0             NaN  OCTAVIUS CAESAR   \n1             NaN  OCTAVIUS CAESAR   \n2             NaN  OCTAVIUS CAESAR   \n3           1.1.1           AEGEON   \n4           1.1.2           AEGEON   \n...           ...              ...   \n2352      5.4.177        VALENTINE   \n2353      5.4.178        VALENTINE   \n2354      5.4.179        VALENTINE   \n2355      5.4.180        VALENTINE   \n2356          NaN        VALENTINE   \n\n                                             PlayerLine  \n0                                                 ACT I  \n1             SCENE I. A hall in DUKE SOLINUS'S palace.  \n2     Enter DUKE SOLINUS, AEGEON, Gaoler, Officers, ...  \n3                  Proceed, Solinus, to procure my fall  \n4            And by the doom of death end woes and all.  \n...                                                 ...  \n2352       Come, Proteus, 'tis your penance but to hear  \n2353                The story of your loves discovered:  \n2354     That done, our day of marriage shall be yours,  \n2355        One feast, one house, one mutual happiness.  \n2356                                             Exeunt  \n\n[111396 rows x 7 columns]",
      "text/html": "<div>\n<style scoped>\n    .dataframe tbody tr th:only-of-type {\n        vertical-align: middle;\n    }\n\n    .dataframe tbody tr th {\n        vertical-align: top;\n    }\n\n    .dataframe thead th {\n        text-align: right;\n    }\n</style>\n<table border=\"1\" class=\"dataframe\">\n  <thead>\n    <tr style=\"text-align: right;\">\n      <th></th>\n      <th>Unnamed: 0</th>\n      <th>Dataline</th>\n      <th>Play</th>\n      <th>PlayerLinenumber</th>\n      <th>ActSceneLine</th>\n      <th>Player</th>\n      <th>PlayerLine</th>\n    </tr>\n  </thead>\n  <tbody>\n    <tr>\n      <th>0</th>\n      <td>22427</td>\n      <td>22428</td>\n      <td>A Comedy of Errors</td>\n      <td>132.0</td>\n      <td>NaN</td>\n      <td>OCTAVIUS CAESAR</td>\n      <td>ACT I</td>\n    </tr>\n    <tr>\n      <th>1</th>\n      <td>22428</td>\n      <td>22429</td>\n      <td>A Comedy of Errors</td>\n      <td>132.0</td>\n      <td>NaN</td>\n      <td>OCTAVIUS CAESAR</td>\n      <td>SCENE I. A hall in DUKE SOLINUS'S palace.</td>\n    </tr>\n    <tr>\n      <th>2</th>\n      <td>22429</td>\n      <td>22430</td>\n      <td>A Comedy of Errors</td>\n      <td>132.0</td>\n      <td>NaN</td>\n      <td>OCTAVIUS CAESAR</td>\n      <td>Enter DUKE SOLINUS, AEGEON, Gaoler, Officers, ...</td>\n    </tr>\n    <tr>\n      <th>3</th>\n      <td>22430</td>\n      <td>22431</td>\n      <td>A Comedy of Errors</td>\n      <td>1.0</td>\n      <td>1.1.1</td>\n      <td>AEGEON</td>\n      <td>Proceed, Solinus, to procure my fall</td>\n    </tr>\n    <tr>\n      <th>4</th>\n      <td>22431</td>\n      <td>22432</td>\n      <td>A Comedy of Errors</td>\n      <td>1.0</td>\n      <td>1.1.2</td>\n      <td>AEGEON</td>\n      <td>And by the doom of death end woes and all.</td>\n    </tr>\n    <tr>\n      <th>...</th>\n      <td>...</td>\n      <td>...</td>\n      <td>...</td>\n      <td>...</td>\n      <td>...</td>\n      <td>...</td>\n      <td>...</td>\n    </tr>\n    <tr>\n      <th>2352</th>\n      <td>107902</td>\n      <td>107903</td>\n      <td>Two Gentlemen of Verona</td>\n      <td>52.0</td>\n      <td>5.4.177</td>\n      <td>VALENTINE</td>\n      <td>Come, Proteus, 'tis your penance but to hear</td>\n    </tr>\n    <tr>\n      <th>2353</th>\n      <td>107903</td>\n      <td>107904</td>\n      <td>Two Gentlemen of Verona</td>\n      <td>52.0</td>\n      <td>5.4.178</td>\n      <td>VALENTINE</td>\n      <td>The story of your loves discovered:</td>\n    </tr>\n    <tr>\n      <th>2354</th>\n      <td>107904</td>\n      <td>107905</td>\n      <td>Two Gentlemen of Verona</td>\n      <td>52.0</td>\n      <td>5.4.179</td>\n      <td>VALENTINE</td>\n      <td>That done, our day of marriage shall be yours,</td>\n    </tr>\n    <tr>\n      <th>2355</th>\n      <td>107905</td>\n      <td>107906</td>\n      <td>Two Gentlemen of Verona</td>\n      <td>52.0</td>\n      <td>5.4.180</td>\n      <td>VALENTINE</td>\n      <td>One feast, one house, one mutual happiness.</td>\n    </tr>\n    <tr>\n      <th>2356</th>\n      <td>107906</td>\n      <td>107907</td>\n      <td>Two Gentlemen of Verona</td>\n      <td>52.0</td>\n      <td>NaN</td>\n      <td>VALENTINE</td>\n      <td>Exeunt</td>\n    </tr>\n  </tbody>\n</table>\n<p>111396 rows × 7 columns</p>\n</div>"
     },
     "execution_count": 23,
     "metadata": {},
     "output_type": "execute_result"
    }
   ],
   "source": [
    "df = pd.concat(pd.read_csv(file) for file in all_files)\n",
    "df"
   ],
   "metadata": {
    "collapsed": false,
    "pycharm": {
     "name": "#%%\n"
    }
   }
  },
  {
   "cell_type": "code",
   "execution_count": 22,
   "outputs": [
    {
     "name": "stdout",
     "output_type": "stream",
     "text": [
      "SHAPE:\n",
      "\n",
      "(111396, 7)\n",
      "------------------\n",
      "\n",
      "COLUMNS:\n",
      "\n",
      "Index(['Unnamed: 0', 'Dataline', 'Play', 'PlayerLinenumber', 'ActSceneLine',\n",
      "       'Player', 'PlayerLine'],\n",
      "      dtype='object')\n",
      "------------------\n",
      "\n",
      "COLUMNS DATA TYPE:\n",
      "\n",
      "Unnamed: 0            int64\n",
      "Dataline              int64\n",
      "Play                 object\n",
      "PlayerLinenumber    float64\n",
      "ActSceneLine         object\n",
      "Player               object\n",
      "PlayerLine           object\n",
      "dtype: object\n",
      "------------------\n",
      "\n",
      "DESCRIBE:\n",
      "\n",
      "          Unnamed: 0       Dataline  PlayerLinenumber\n",
      "count  111396.000000  111396.000000     111393.000000\n",
      "mean    55697.500000   55698.500000         36.885334\n",
      "std     32157.399631   32157.399631         39.985840\n",
      "min         0.000000       1.000000          1.000000\n",
      "25%     27848.750000   27849.750000         10.000000\n",
      "50%     55697.500000   55698.500000         25.000000\n",
      "75%     83546.250000   83547.250000         50.000000\n",
      "max    111395.000000  111396.000000        405.000000\n",
      "------------------\n",
      "\n",
      "COUNT:\n",
      "\n",
      "Unnamed: 0          111396\n",
      "Dataline            111396\n",
      "Play                111396\n",
      "PlayerLinenumber    111393\n",
      "ActSceneLine        105153\n",
      "Player              111389\n",
      "PlayerLine          111396\n",
      "dtype: int64\n",
      "------------------\n",
      "\n",
      "2 ROW SAMPLE:\n",
      "\n",
      "      Unnamed: 0  Dataline                  Play  PlayerLinenumber  \\\n",
      "668        23095     23096    A Comedy of Errors               1.0   \n",
      "2003      101194    101195  Troilus and Cressida              29.0   \n",
      "\n",
      "     ActSceneLine      Player                                  PlayerLine  \n",
      "668         3.1.3  OF EPHESUS  My wife is shrewish when I keep not hours:  \n",
      "2003      3.3.122     ULYSSES    Till he communicate his parts to others:  \n",
      "------------------\n",
      "\n"
     ]
    }
   ],
   "source": [
    "quick_glance_f.file_quick_glance(df)"
   ],
   "metadata": {
    "collapsed": false,
    "pycharm": {
     "name": "#%%\n"
    }
   }
  },
  {
   "cell_type": "code",
   "execution_count": 24,
   "outputs": [
    {
     "data": {
      "text/plain": "GLOUCESTER          1920\nHAMLET              1582\nIAGO                1161\nFALSTAFF            1117\nKING HENRY V        1086\n                    ... \nMusician               1\nHERBERT                1\nSecond Attendant       1\nANOTHER                1\nOutlaws                1\nName: Player, Length: 934, dtype: int64"
     },
     "execution_count": 24,
     "metadata": {},
     "output_type": "execute_result"
    }
   ],
   "source": [
    "df['Player'].value_counts()"
   ],
   "metadata": {
    "collapsed": false,
    "pycharm": {
     "name": "#%%\n"
    }
   }
  },
  {
   "cell_type": "code",
   "execution_count": 25,
   "outputs": [
    {
     "data": {
      "text/plain": "Hamlet                      4244\nCoriolanus                  3992\nCymbeline                   3958\nRichard III                 3941\nAntony and Cleopatra        3862\nKing Lear                   3766\nOthello                     3762\nTroilus and Cressida        3711\nA Winters Tale              3489\nHenry VIII                  3419\nHenry V                     3395\nHenry VI Part 2             3334\nRomeo and Juliet            3313\nHenry IV                    3205\nHenry VI Part 3             3138\nAlls well that ends well    3083\nMeasure for measure         2998\nLoves Labours Lost          2986\nHenry VI Part 1             2983\nRichard II                  2937\nMerry Wives of Windsor      2831\nAs you like it              2822\nTaming of the Shrew         2806\nMerchant of Venice          2802\nJulius Caesar               2771\nKing John                   2766\nTitus Andronicus            2726\nMuch Ado about nothing      2704\nTimon of Athens             2662\nTwelfth Night               2648\nPericles                    2641\nmacbeth                     2586\nThe Tempest                 2403\nTwo Gentlemen of Verona     2357\nA Midsummer nights dream    2300\nA Comedy of Errors          2055\nName: Play, dtype: int64"
     },
     "execution_count": 25,
     "metadata": {},
     "output_type": "execute_result"
    }
   ],
   "source": [
    "df['Play'].value_counts()"
   ],
   "metadata": {
    "collapsed": false,
    "pycharm": {
     "name": "#%%\n"
    }
   }
  }
 ],
 "metadata": {
  "kernelspec": {
   "display_name": "Python 3",
   "language": "python",
   "name": "python3"
  },
  "language_info": {
   "codemirror_mode": {
    "name": "ipython",
    "version": 2
   },
   "file_extension": ".py",
   "mimetype": "text/x-python",
   "name": "python",
   "nbconvert_exporter": "python",
   "pygments_lexer": "ipython2",
   "version": "2.7.6"
  }
 },
 "nbformat": 4,
 "nbformat_minor": 0
}