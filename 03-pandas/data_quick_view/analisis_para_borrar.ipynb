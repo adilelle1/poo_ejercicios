{
 "cells": [
  {
   "cell_type": "code",
   "execution_count": 1,
   "metadata": {
    "collapsed": true,
    "pycharm": {
     "name": "#%%\n"
    }
   },
   "outputs": [],
   "source": [
    "import pandas as pd\n",
    "import quick_glance_f"
   ]
  },
  {
   "cell_type": "code",
   "execution_count": 2,
   "outputs": [
    {
     "data": {
      "text/plain": "      Fecha de respuesta     id Edad  Customer Value  \\\n0          6/30/19 23:09      1   43             1.0   \n1          6/30/19 22:56      2   75             1.0   \n2          6/30/19 22:52      3   23             1.0   \n3          6/30/19 22:33      4   71             2.0   \n4          6/30/19 22:25      5   64             2.0   \n...                  ...    ...  ...             ...   \n35821        1/1/19 8:48  32233   63             2.0   \n35822        1/1/19 3:40  32234   35             2.0   \n35823        1/1/19 2:04  32235   41             2.0   \n35824        1/1/19 1:07  32236   66             1.0   \n35825        1/1/19 0:47  32237   54             1.0   \n\n       Probabilidad de Recomendación  \\\n0                               10.0   \n1                               10.0   \n2                               10.0   \n3                               10.0   \n4                                9.0   \n...                              ...   \n35821                           10.0   \n35822                            4.0   \n35823                           10.0   \n35824                           10.0   \n35825                            7.0   \n\n                                               ¿Por que?  \\\n0                         buen servicio y buena atención   \n1                        Eficiencia, amabilidad, rapidez   \n2                                         Todo excelente   \n3      Vienen enseguida y siempre me solucionan el pr...   \n4      Cumplió de acuerdo a mis expectativas, horario...   \n...                                                  ...   \n35821                                      buen servicio   \n35822  La falta de compromiso de parte del seguro por...   \n35823      Buena atención y rápida solución de problemas   \n35824     Persona muy eficiente,responsable y educado. ,   \n35825                            Es correcto el servicio   \n\n      Date of 1st Feedback Call Resultado del Primer contacto  \\\n0                           NaN                           NaN   \n1                           NaN                           NaN   \n2                           NaN                           NaN   \n3                           NaN                           NaN   \n4                           NaN                           NaN   \n...                         ...                           ...   \n35821                       NaN                           NaN   \n35822                02/01/2018                 No contactado   \n35823                       NaN                           NaN   \n35824                       NaN                           NaN   \n35825                       NaN                           NaN   \n\n                      Descripción detallada del contacto  \\\n0                                                    NaN   \n1                                                    NaN   \n2                                                    NaN   \n3                                                    NaN   \n4                                                    NaN   \n...                                                  ...   \n35821                                                NaN   \n35822  no es posible establecer contacto con la titul...   \n35823                                                NaN   \n35824                                                NaN   \n35825                                                NaN   \n\n      Fuiste capaz de resolver el inconveniente?  \\\n0                                            NaN   \n1                                            NaN   \n2                                            NaN   \n3                                            NaN   \n4                                            NaN   \n...                                          ...   \n35821                                        NaN   \n35822                                         No   \n35823                                        NaN   \n35824                                        NaN   \n35825                                        NaN   \n\n      El cliente se encontró satisfecho con el resultado?  \n0                                                    NaN   \n1                                                    NaN   \n2                                                    NaN   \n3                                                    NaN   \n4                                                    NaN   \n...                                                  ...   \n35821                                                NaN   \n35822                                                 No   \n35823                                                NaN   \n35824                                                NaN   \n35825                                                NaN   \n\n[35826 rows x 11 columns]",
      "text/html": "<div>\n<style scoped>\n    .dataframe tbody tr th:only-of-type {\n        vertical-align: middle;\n    }\n\n    .dataframe tbody tr th {\n        vertical-align: top;\n    }\n\n    .dataframe thead th {\n        text-align: right;\n    }\n</style>\n<table border=\"1\" class=\"dataframe\">\n  <thead>\n    <tr style=\"text-align: right;\">\n      <th></th>\n      <th>Fecha de respuesta</th>\n      <th>id</th>\n      <th>Edad</th>\n      <th>Customer Value</th>\n      <th>Probabilidad de Recomendación</th>\n      <th>¿Por que?</th>\n      <th>Date of 1st Feedback Call</th>\n      <th>Resultado del Primer contacto</th>\n      <th>Descripción detallada del contacto</th>\n      <th>Fuiste capaz de resolver el inconveniente?</th>\n      <th>El cliente se encontró satisfecho con el resultado?</th>\n    </tr>\n  </thead>\n  <tbody>\n    <tr>\n      <th>0</th>\n      <td>6/30/19 23:09</td>\n      <td>1</td>\n      <td>43</td>\n      <td>1.0</td>\n      <td>10.0</td>\n      <td>buen servicio y buena atención</td>\n      <td>NaN</td>\n      <td>NaN</td>\n      <td>NaN</td>\n      <td>NaN</td>\n      <td>NaN</td>\n    </tr>\n    <tr>\n      <th>1</th>\n      <td>6/30/19 22:56</td>\n      <td>2</td>\n      <td>75</td>\n      <td>1.0</td>\n      <td>10.0</td>\n      <td>Eficiencia, amabilidad, rapidez</td>\n      <td>NaN</td>\n      <td>NaN</td>\n      <td>NaN</td>\n      <td>NaN</td>\n      <td>NaN</td>\n    </tr>\n    <tr>\n      <th>2</th>\n      <td>6/30/19 22:52</td>\n      <td>3</td>\n      <td>23</td>\n      <td>1.0</td>\n      <td>10.0</td>\n      <td>Todo excelente</td>\n      <td>NaN</td>\n      <td>NaN</td>\n      <td>NaN</td>\n      <td>NaN</td>\n      <td>NaN</td>\n    </tr>\n    <tr>\n      <th>3</th>\n      <td>6/30/19 22:33</td>\n      <td>4</td>\n      <td>71</td>\n      <td>2.0</td>\n      <td>10.0</td>\n      <td>Vienen enseguida y siempre me solucionan el pr...</td>\n      <td>NaN</td>\n      <td>NaN</td>\n      <td>NaN</td>\n      <td>NaN</td>\n      <td>NaN</td>\n    </tr>\n    <tr>\n      <th>4</th>\n      <td>6/30/19 22:25</td>\n      <td>5</td>\n      <td>64</td>\n      <td>2.0</td>\n      <td>9.0</td>\n      <td>Cumplió de acuerdo a mis expectativas, horario...</td>\n      <td>NaN</td>\n      <td>NaN</td>\n      <td>NaN</td>\n      <td>NaN</td>\n      <td>NaN</td>\n    </tr>\n    <tr>\n      <th>...</th>\n      <td>...</td>\n      <td>...</td>\n      <td>...</td>\n      <td>...</td>\n      <td>...</td>\n      <td>...</td>\n      <td>...</td>\n      <td>...</td>\n      <td>...</td>\n      <td>...</td>\n      <td>...</td>\n    </tr>\n    <tr>\n      <th>35821</th>\n      <td>1/1/19 8:48</td>\n      <td>32233</td>\n      <td>63</td>\n      <td>2.0</td>\n      <td>10.0</td>\n      <td>buen servicio</td>\n      <td>NaN</td>\n      <td>NaN</td>\n      <td>NaN</td>\n      <td>NaN</td>\n      <td>NaN</td>\n    </tr>\n    <tr>\n      <th>35822</th>\n      <td>1/1/19 3:40</td>\n      <td>32234</td>\n      <td>35</td>\n      <td>2.0</td>\n      <td>4.0</td>\n      <td>La falta de compromiso de parte del seguro por...</td>\n      <td>02/01/2018</td>\n      <td>No contactado</td>\n      <td>no es posible establecer contacto con la titul...</td>\n      <td>No</td>\n      <td>No</td>\n    </tr>\n    <tr>\n      <th>35823</th>\n      <td>1/1/19 2:04</td>\n      <td>32235</td>\n      <td>41</td>\n      <td>2.0</td>\n      <td>10.0</td>\n      <td>Buena atención y rápida solución de problemas</td>\n      <td>NaN</td>\n      <td>NaN</td>\n      <td>NaN</td>\n      <td>NaN</td>\n      <td>NaN</td>\n    </tr>\n    <tr>\n      <th>35824</th>\n      <td>1/1/19 1:07</td>\n      <td>32236</td>\n      <td>66</td>\n      <td>1.0</td>\n      <td>10.0</td>\n      <td>Persona muy eficiente,responsable y educado. ,</td>\n      <td>NaN</td>\n      <td>NaN</td>\n      <td>NaN</td>\n      <td>NaN</td>\n      <td>NaN</td>\n    </tr>\n    <tr>\n      <th>35825</th>\n      <td>1/1/19 0:47</td>\n      <td>32237</td>\n      <td>54</td>\n      <td>1.0</td>\n      <td>7.0</td>\n      <td>Es correcto el servicio</td>\n      <td>NaN</td>\n      <td>NaN</td>\n      <td>NaN</td>\n      <td>NaN</td>\n      <td>NaN</td>\n    </tr>\n  </tbody>\n</table>\n<p>35826 rows × 11 columns</p>\n</div>"
     },
     "execution_count": 2,
     "metadata": {},
     "output_type": "execute_result"
    }
   ],
   "source": [
    "df = pd.read_csv('../data/para_borrar.tsv',sep='\\t')\n",
    "df"
   ],
   "metadata": {
    "collapsed": false,
    "pycharm": {
     "name": "#%%\n"
    }
   }
  },
  {
   "cell_type": "code",
   "execution_count": 3,
   "outputs": [
    {
     "name": "stdout",
     "output_type": "stream",
     "text": [
      "SHAPE:\n",
      "\n",
      "(35826, 11)\n",
      "------------------\n",
      "\n",
      "COLUMNS:\n",
      "\n",
      "Index(['Fecha de respuesta', 'id', 'Edad', 'Customer Value',\n",
      "       'Probabilidad de Recomendación', '¿Por que?',\n",
      "       'Date of 1st Feedback Call', 'Resultado del Primer contacto',\n",
      "       'Descripción detallada del contacto',\n",
      "       'Fuiste capaz de resolver el inconveniente?',\n",
      "       'El cliente se encontró satisfecho con el resultado?'],\n",
      "      dtype='object')\n",
      "------------------\n",
      "\n",
      "COLUMNS DATA TYPE:\n",
      "\n",
      "Fecha de respuesta                                      object\n",
      "id                                                      object\n",
      "Edad                                                    object\n",
      "Customer Value                                         float64\n",
      "Probabilidad de Recomendación                          float64\n",
      "¿Por que?                                               object\n",
      "Date of 1st Feedback Call                               object\n",
      "Resultado del Primer contacto                           object\n",
      "Descripción detallada del contacto                      object\n",
      "Fuiste capaz de resolver el inconveniente?              object\n",
      "El cliente se encontró satisfecho con el resultado?     object\n",
      "dtype: object\n",
      "------------------\n",
      "\n",
      "DESCRIBE:\n",
      "\n",
      "       Customer Value  Probabilidad de Recomendación\n",
      "count    34572.000000                   34572.000000\n",
      "mean         1.669154                       8.343168\n",
      "std          0.500839                       2.476786\n",
      "min          1.000000                       0.000000\n",
      "25%          1.000000                       8.000000\n",
      "50%          2.000000                       9.000000\n",
      "75%          2.000000                      10.000000\n",
      "max          3.000000                      10.000000\n",
      "------------------\n",
      "\n",
      "COUNT:\n",
      "\n",
      "Fecha de respuesta                                     35693\n",
      "id                                                     35213\n",
      "Edad                                                   35015\n",
      "Customer Value                                         34572\n",
      "Probabilidad de Recomendación                          34572\n",
      "¿Por que?                                              34572\n",
      "Date of 1st Feedback Call                               4333\n",
      "Resultado del Primer contacto                           4367\n",
      "Descripción detallada del contacto                      3208\n",
      "Fuiste capaz de resolver el inconveniente?              2517\n",
      "El cliente se encontró satisfecho con el resultado?     2503\n",
      "dtype: int64\n",
      "------------------\n",
      "\n",
      "2 ROW SAMPLE:\n",
      "\n",
      "      Fecha de respuesta     id Edad  Customer Value  \\\n",
      "26907       2/7/19 19:02  24604   40             2.0   \n",
      "11891       5/1/19 20:57  11244   40             2.0   \n",
      "\n",
      "       Probabilidad de Recomendación  \\\n",
      "26907                           10.0   \n",
      "11891                            8.0   \n",
      "\n",
      "                                           ¿Por que?  \\\n",
      "26907  El compromiso y la responsabilidad de la caja   \n",
      "11891                             Muy buena atención   \n",
      "\n",
      "      Date of 1st Feedback Call Resultado del Primer contacto  \\\n",
      "26907                       NaN                           NaN   \n",
      "11891                       NaN                           NaN   \n",
      "\n",
      "      Descripción detallada del contacto  \\\n",
      "26907                                NaN   \n",
      "11891                                NaN   \n",
      "\n",
      "      Fuiste capaz de resolver el inconveniente?  \\\n",
      "26907                                        NaN   \n",
      "11891                                        NaN   \n",
      "\n",
      "      El cliente se encontró satisfecho con el resultado?  \n",
      "26907                                                NaN   \n",
      "11891                                                NaN   \n",
      "------------------\n",
      "\n"
     ]
    }
   ],
   "source": [
    "quick_glance_f.file_quick_glance(df)"
   ],
   "metadata": {
    "collapsed": false,
    "pycharm": {
     "name": "#%%\n"
    }
   }
  },
  {
   "cell_type": "code",
   "execution_count": 4,
   "outputs": [
    {
     "data": {
      "text/plain": "Fecha de respuesta                                     35693\nid                                                     35213\nEdad                                                   35015\nCustomer Value                                         34572\nProbabilidad de Recomendación                          34572\n¿Por que?                                              34572\nDate of 1st Feedback Call                               4333\nResultado del Primer contacto                           4367\nDescripción detallada del contacto                      3208\nFuiste capaz de resolver el inconveniente?              2517\nEl cliente se encontró satisfecho con el resultado?     2503\ndtype: int64"
     },
     "execution_count": 4,
     "metadata": {},
     "output_type": "execute_result"
    }
   ],
   "source": [
    "df.count()"
   ],
   "metadata": {
    "collapsed": false,
    "pycharm": {
     "name": "#%%\n"
    }
   }
  },
  {
   "cell_type": "code",
   "execution_count": 20,
   "outputs": [
    {
     "data": {
      "text/plain": "Contacto exitoso                               2131\nContestador automático - no se dejo mensaje    1089\nNo contactado                                   650\nSin respuesta                                   238\nEl cliente desea reagendar el contacto          164\nEl cliente no desea ser contactado               39\nNúmero de teléfono equivocado                    28\nOtros                                            24\nSin número de teléfono                            4\nName: Resultado del Primer contacto, dtype: int64"
     },
     "execution_count": 20,
     "metadata": {},
     "output_type": "execute_result"
    }
   ],
   "source": [
    "df['Resultado del Primer contacto'].value_counts()"
   ],
   "metadata": {
    "collapsed": false,
    "pycharm": {
     "name": "#%%\n"
    }
   }
  },
  {
   "cell_type": "code",
   "execution_count": 21,
   "outputs": [
    {
     "data": {
      "text/plain": "Sí    1860\nNo     657\nName: Fuiste capaz de resolver el inconveniente?, dtype: int64"
     },
     "execution_count": 21,
     "metadata": {},
     "output_type": "execute_result"
    }
   ],
   "source": [
    "df['Fuiste capaz de resolver el inconveniente?'].value_counts()"
   ],
   "metadata": {
    "collapsed": false,
    "pycharm": {
     "name": "#%%\n"
    }
   }
  },
  {
   "cell_type": "code",
   "execution_count": 22,
   "outputs": [
    {
     "data": {
      "text/plain": "Sí    1892\nNo     611\nName: El cliente se encontró satisfecho con el resultado?, dtype: int64"
     },
     "execution_count": 22,
     "metadata": {},
     "output_type": "execute_result"
    }
   ],
   "source": [
    "df['El cliente se encontró satisfecho con el resultado?'].value_counts()"
   ],
   "metadata": {
    "collapsed": false,
    "pycharm": {
     "name": "#%%\n"
    }
   }
  }
 ],
 "metadata": {
  "kernelspec": {
   "display_name": "Python 3",
   "language": "python",
   "name": "python3"
  },
  "language_info": {
   "codemirror_mode": {
    "name": "ipython",
    "version": 2
   },
   "file_extension": ".py",
   "mimetype": "text/x-python",
   "name": "python",
   "nbconvert_exporter": "python",
   "pygments_lexer": "ipython2",
   "version": "2.7.6"
  }
 },
 "nbformat": 4,
 "nbformat_minor": 0
}